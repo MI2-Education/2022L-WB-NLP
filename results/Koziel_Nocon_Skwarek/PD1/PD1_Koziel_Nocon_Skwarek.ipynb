{
  "nbformat": 4,
  "nbformat_minor": 0,
  "metadata": {
    "colab": {
      "name": "PD1_Koziel_Nocon_Skwarek.ipynb",
      "provenance": [],
      "collapsed_sections": []
    },
    "kernelspec": {
      "name": "python3",
      "display_name": "Python 3"
    },
    "language_info": {
      "name": "python"
    }
  },
  "cells": [
    {
      "cell_type": "markdown",
      "source": [
        "# Praca domowa 1 - warsztaty badawcze"
      ],
      "metadata": {
        "id": "xR6vAxPNSNGT"
      }
    },
    {
      "cell_type": "markdown",
      "source": [
        "## Autorzy: Jakub Kozieł, Jan Skwarek, Tomasz Nocoń"
      ],
      "metadata": {
        "id": "0M1ZzjLuSgMN"
      }
    },
    {
      "cell_type": "markdown",
      "source": [
        "# Wstęp"
      ],
      "metadata": {
        "id": "8aTNPEAvpGiB"
      }
    },
    {
      "cell_type": "code",
      "execution_count": null,
      "metadata": {
        "id": "cow3Ab7DobPB"
      },
      "outputs": [],
      "source": [
        "! pip install swifter\n",
        "! pip install pandas\n",
        "! pip install textacy\n",
        "! pip install spacy"
      ]
    },
    {
      "cell_type": "code",
      "source": [
        "! python -m spacy download en_core_web_sm"
      ],
      "metadata": {
        "id": "gG9v2xSapDvI"
      },
      "execution_count": null,
      "outputs": []
    },
    {
      "cell_type": "code",
      "source": [
        "import spacy\n",
        "import pandas as pd\n",
        "from tqdm.auto import tqdm \n",
        "import swifter\n",
        "import plotly.express as px\n",
        "from wordcloud import WordCloud\n",
        "from matplotlib import pyplot as plt\n",
        "import textacy\n",
        "from collections import Counter\n",
        "import random\n",
        "\n",
        "pd.options.plotting.backend = \"plotly\"\n",
        "random.seed(123)"
      ],
      "metadata": {
        "id": "NN0nCU78pMG0"
      },
      "execution_count": null,
      "outputs": []
    },
    {
      "cell_type": "markdown",
      "source": [
        "# Preprocessing"
      ],
      "metadata": {
        "id": "mkbS3LhWp4m4"
      }
    },
    {
      "cell_type": "markdown",
      "source": [
        "As previously we work on data from https://dataverse.harvard.edu/dataset.xhtml?persistentId=doi:10.7910/DVN/6MZN76"
      ],
      "metadata": {
        "id": "matCOH2NqDtH"
      }
    },
    {
      "cell_type": "code",
      "source": [
        "!wget -O data.tar.gz https://dataverse.harvard.edu/api/access/datafile/:persistentId?persistentId=doi:10.7910/DVN/6MZN76/CRUNF0"
      ],
      "metadata": {
        "id": "HBM2IgmjqZq3"
      },
      "execution_count": null,
      "outputs": []
    },
    {
      "cell_type": "code",
      "source": [
        "!tar -xf data.tar.gz"
      ],
      "metadata": {
        "id": "c2Un2gJHqaPw"
      },
      "execution_count": null,
      "outputs": []
    },
    {
      "cell_type": "code",
      "source": [
        "en = spacy.load(\"en_core_web_sm\") #so far we keep on execution time\n"
      ],
      "metadata": {
        "id": "y1E9UF3bqc4b"
      },
      "execution_count": null,
      "outputs": []
    },
    {
      "cell_type": "code",
      "source": [
        "df = pd.read_table('Dail_debates_1919-2013.tab')"
      ],
      "metadata": {
        "id": "5yj3_AJuucQz"
      },
      "execution_count": null,
      "outputs": []
    },
    {
      "cell_type": "code",
      "source": [
        "df.date = pd.to_datetime(df.date)"
      ],
      "metadata": {
        "id": "Q4sfXsyZqlbX"
      },
      "execution_count": null,
      "outputs": []
    },
    {
      "cell_type": "markdown",
      "source": [
        "Filtrujemy ramkę danych tak, żeby pokazywała lata 2007-2010. Wtedy na świecie trwał kryzys ekonomiczny. Być może znajdziemy jakieś ciekawe dane pod tym kątem."
      ],
      "metadata": {
        "id": "PR6MYKO_R1se"
      }
    },
    {
      "cell_type": "code",
      "source": [
        "#we are going to use subsample from 2007 to 2010, being interested in the years before and after economical crisis\n",
        "df = df[(df.date.dt.year>=2007)&(df.date.dt.year<=2010)]"
      ],
      "metadata": {
        "id": "8Eb2L49Dq2Yt"
      },
      "execution_count": null,
      "outputs": []
    },
    {
      "cell_type": "code",
      "source": [
        "df.info()"
      ],
      "metadata": {
        "id": "UHf04RUjrczA"
      },
      "execution_count": null,
      "outputs": []
    },
    {
      "cell_type": "markdown",
      "source": [
        "431 tys. wierszy to jednak nadal zbyt dużo. Wybierzemy z tego podzbiór, zachowując podobną ilość obserwacji z każdego roku"
      ],
      "metadata": {
        "id": "O1nfT6h_rfmr"
      }
    },
    {
      "cell_type": "code",
      "source": [
        "df[\"year\"] = df.date.dt.year\n",
        "\n",
        "df = df.groupby('year', group_keys=False).apply(lambda x: x.sample(3500, random_state=123))\n",
        "\n",
        "df.drop(\"year\", axis = 1)"
      ],
      "metadata": {
        "id": "ZO0PZsz6sVtA"
      },
      "execution_count": null,
      "outputs": []
    },
    {
      "cell_type": "code",
      "source": [
        "df.columns"
      ],
      "metadata": {
        "id": "aAKx0UwZtazm"
      },
      "execution_count": null,
      "outputs": []
    },
    {
      "cell_type": "code",
      "source": [
        "df[\"speech_en\"] = df['speech'].swifter.apply(en)"
      ],
      "metadata": {
        "id": "g3ZjkQUKtbn1"
      },
      "execution_count": null,
      "outputs": []
    },
    {
      "cell_type": "markdown",
      "source": [
        "Czas na powyższą operację <7min"
      ],
      "metadata": {
        "id": "sOQG9UrfxUSS"
      }
    },
    {
      "cell_type": "markdown",
      "source": [
        "# Zależności"
      ],
      "metadata": {
        "id": "hC6iU47LwNBR"
      }
    },
    {
      "cell_type": "code",
      "source": [
        "df.party_name.unique()"
      ],
      "metadata": {
        "id": "A-GqhiN8wasL"
      },
      "execution_count": null,
      "outputs": []
    },
    {
      "cell_type": "code",
      "source": [
        "df.nunique()"
      ],
      "metadata": {
        "id": "GDRs5n1KLI2_"
      },
      "execution_count": null,
      "outputs": []
    },
    {
      "cell_type": "markdown",
      "source": [
        "W analizowanych przez nas latach kolicję tworzyły partie FF-Green-PD"
      ],
      "metadata": {
        "id": "s8DN_sibwbCx"
      }
    },
    {
      "cell_type": "markdown",
      "source": [
        "Naszym pomysłem na ten zbiór było zbadanie czy kryzys światowy z roku 2008 miał wpył na temtyke wypowiedzi w rządzie. W tym celu wzieliśmy okres 2007-2010, żeby zobaczyć czy faktycznie kryzys mial w latach 2008-2009 mial wpływ na to co było mówione"
      ],
      "metadata": {
        "id": "XnDJJECswbMW"
      }
    },
    {
      "cell_type": "markdown",
      "source": [
        "Skupiliśmy sie na charakterze wypowiedzi wewnątrz partii."
      ],
      "metadata": {
        "id": "u-cXIe8AwbWR"
      }
    },
    {
      "cell_type": "code",
      "source": [
        "df.party_name.unique()"
      ],
      "metadata": {
        "id": "rVzpSBo5GFEd"
      },
      "execution_count": null,
      "outputs": []
    },
    {
      "cell_type": "code",
      "source": [
        "year = 2009\n",
        "df_year = df[df.date.dt.year == year]\n",
        "parties = df_year['party_name'].unique()\n",
        "for party in parties:\n",
        "    temp = df_year[df_year['party_name'] == party]\n",
        "    lemmas = temp.speech_en.apply(lambda doc: [token.lemma_ for token in doc if not token.is_stop if not token.is_punct])\n",
        "    word_counts = dict(Counter(lemmas.sum()).most_common(30))\n",
        "    wc = WordCloud(width=800, height=400)\n",
        "    wc.generate_from_frequencies(frequencies=word_counts)\n",
        "    plt.figure(figsize=(10,8))\n",
        "    plt.title(party+str(year))\n",
        "    plt.imshow(wc)"
      ],
      "metadata": {
        "id": "jGdAI6J0GFIx"
      },
      "execution_count": null,
      "outputs": []
    },
    {
      "cell_type": "markdown",
      "source": [
        "To co tutaj zrobiliśmy to podzieliliśmy wypowiedzi na osoby z partii. Dodotkowo manipulowalismy sobie latami po to, żeby zobaczyć czy faktycznie okres kryzysu spowoduje jakieś zmiany w kluczowych temtatch. Z przeprowadzonych eksperymentow wynika, że pojawia się wzmianki na ten temat, np lata 2008 czy 2009 sa cześciej pojawiaja się niż te pozstałe, jednak nie ma jakis oczywistych wniosków. To co możemy powiedziec, ze słowo Minister jest jednym z bardziej popularych słów, nie jest jednak to prawda dla partii socjalnych, np: Workers Party gdzie używaja oni irlandziekgo określenia na to stanowisko. To co mozemy powiedzieć, to ze mimo wszytko jednak teamty skupiaja sie na sprawch ważnych dla pogladów (zieloni mówiąo energi) partii czy dzijacych sie w kraju ( healt care czy school). Ciekawe może być to, ze np w 2009 bardzo częstym słowem w wypowiedziach partii Progressive Democtrats było Art czy np wybieganie w przysłość do roku 2012."
      ],
      "metadata": {
        "id": "42pgIL13GFME"
      }
    },
    {
      "cell_type": "markdown",
      "source": [
        "Teraz podobna analiza tylko z wywołaniem funckji noun_chunks, czyli chcemy zobaczyć jakie grupy słów czesto się ze sobą pojawiały"
      ],
      "metadata": {
        "id": "9X8msYZoGR92"
      }
    },
    {
      "cell_type": "code",
      "source": [
        "year = 2008\n",
        "df_year = df[df.date.dt.year == year]\n",
        "parties = df_year['party_name'].unique()\n",
        "for party in parties:\n",
        "    temp = df_year[df_year['party_name'] == party]\n",
        "    lemmas = temp.speech_en.apply(lambda doc: list(doc.noun_chunks))\n",
        "    lemmas = lemmas.apply(lambda x: [''.join(str(el)) for el in x if len(el) > 2])\n",
        "    word_counts = dict(Counter(lemmas.sum()).most_common(30))\n",
        "    wc = WordCloud(width=800, height=400)\n",
        "    wc.generate_from_frequencies(frequencies=word_counts)\n",
        "    plt.figure(figsize=(10,8))\n",
        "    plt.title(party+str(year))\n",
        "    plt.imshow(wc)"
      ],
      "metadata": {
        "id": "QwDtkfm1GUAG"
      },
      "execution_count": null,
      "outputs": []
    },
    {
      "cell_type": "markdown",
      "source": [
        "Faktycznie zestawienie ze sobą większej grupy słów daje ciekwsze rezulataty. Co wiecej lepiej się rozumie kontekst tych fraz oraz jest łatwiejsza ich interpretowalonść. (Przyczyny występowania danych słów ze sobą)"
      ],
      "metadata": {
        "id": "12pEfc-EGWQA"
      }
    },
    {
      "cell_type": "markdown",
      "source": [
        "# Praca z Dail_debates_1937-2011_ministers.tab"
      ],
      "metadata": {
        "id": "N0iE9irhwb7m"
      }
    },
    {
      "cell_type": "markdown",
      "source": [
        "## Wstępne informacje"
      ],
      "metadata": {
        "id": "SW5m94-xICaR"
      }
    },
    {
      "cell_type": "code",
      "source": [
        "df_ministers = pd.read_table('Dail_debates_1937-2011_ministers.tab')"
      ],
      "metadata": {
        "id": "EFLPmsb0wpma"
      },
      "execution_count": null,
      "outputs": []
    },
    {
      "cell_type": "code",
      "source": [
        "df_ministers.head()"
      ],
      "metadata": {
        "id": "cWWrUD6cwqCC"
      },
      "execution_count": null,
      "outputs": []
    },
    {
      "cell_type": "markdown",
      "source": [
        "Widać, że będą w tej ramce ministrowie pełniący wiele funkcji, w różnych departamentach i z różnymi długościami kadencji. Trzeba o tym będzie pamiętać i uwzględniać to w analizie."
      ],
      "metadata": {
        "id": "oi1rh0nMwqI3"
      }
    },
    {
      "cell_type": "code",
      "source": [
        "df_ministers.info()"
      ],
      "metadata": {
        "id": "84HvwWxiwqOe"
      },
      "execution_count": null,
      "outputs": []
    },
    {
      "cell_type": "markdown",
      "source": [
        "Widać, że w ramce będą potencjalne nulle, głównie w dacie zkończenia kadencji, co mogło nie nastąpić przed rokiem 2011. Ograniczmy się do naszych lat i sprawdźmy, to ponownie."
      ],
      "metadata": {
        "id": "oKS3nzxDwqXI"
      }
    },
    {
      "cell_type": "code",
      "source": [
        "df_ministers.start_date = pd.to_datetime(df_ministers.start_date)\n",
        "df_ministers.end_date = pd.to_datetime(df_ministers.end_date)"
      ],
      "metadata": {
        "id": "_UK2UKpzzOe8"
      },
      "execution_count": null,
      "outputs": []
    },
    {
      "cell_type": "code",
      "source": [
        "df_ministers = df_ministers[( (df_ministers.start_date.dt.year<=2010) & (df_ministers.start_date.dt.year>=2007) )|( (df_ministers.end_date.dt.year<=2010) & (df_ministers.end_date.dt.year>=2007) )]"
      ],
      "metadata": {
        "id": "zFXXo66YzO8i"
      },
      "execution_count": null,
      "outputs": []
    },
    {
      "cell_type": "code",
      "source": [
        "df_ministers.info()"
      ],
      "metadata": {
        "id": "I7G5_C5-zPBN"
      },
      "execution_count": null,
      "outputs": []
    },
    {
      "cell_type": "markdown",
      "source": [
        "Jak się okazuje problem z nullami znika sam. Pozbądźmy się jeszcze kilku kolumn dla nas zbytecznych."
      ],
      "metadata": {
        "id": "pkqdTWjt08Zh"
      }
    },
    {
      "cell_type": "code",
      "source": [
        "df_ministers = df_ministers.drop([\"start_day\", \"start_month\", \"start_year\", \"end_day\", \"end_month\", \"end_year\", \"name\"], axis = 1)"
      ],
      "metadata": {
        "id": "GjjtfBsG0Z0I"
      },
      "execution_count": null,
      "outputs": []
    },
    {
      "cell_type": "code",
      "source": [
        "df_ministers.head()"
      ],
      "metadata": {
        "id": "Jjkjo2lY3X5p"
      },
      "execution_count": null,
      "outputs": []
    },
    {
      "cell_type": "markdown",
      "source": [
        "Utwórzmy kilka przydatnych zbiorków. Set z indeksami ministrów w interesujących nas latach oraz 2 słowniki, które będą wiązać pozycje lub departament z danym member ID."
      ],
      "metadata": {
        "id": "rMBM7ywp3X-y"
      }
    },
    {
      "cell_type": "code",
      "source": [
        "ministers_ids = set(df_ministers.memberID.values)\n",
        "#ministers_ids"
      ],
      "metadata": {
        "id": "gxJ4t_Dw3YD5"
      },
      "execution_count": null,
      "outputs": []
    },
    {
      "cell_type": "code",
      "source": [
        "dict_pos = df_ministers.groupby('position')['memberID'].apply(set).to_dict()\n",
        "#dict_pos"
      ],
      "metadata": {
        "id": "p1Viol6_3YH-"
      },
      "execution_count": null,
      "outputs": []
    },
    {
      "cell_type": "code",
      "source": [
        "dict_depart = df_ministers.groupby('department')['memberID'].apply(set).to_dict()\n",
        "#dict_depart"
      ],
      "metadata": {
        "id": "d1wt2-1H3YRM"
      },
      "execution_count": null,
      "outputs": []
    },
    {
      "cell_type": "code",
      "source": [
        "len(ministers_ids)"
      ],
      "metadata": {
        "id": "1I2wHcYG6vnz"
      },
      "execution_count": null,
      "outputs": []
    },
    {
      "cell_type": "markdown",
      "source": [
        "Zatem w tym okresie było 52 osobnych ministrów róznego typu, w tym premierzy."
      ],
      "metadata": {
        "id": "cV37VyQL6w5i"
      }
    },
    {
      "cell_type": "code",
      "source": [
        "print(dict_depart.keys())\n",
        "print(len(dict_depart.keys()))"
      ],
      "metadata": {
        "id": "CjOE3Wc_7BOD"
      },
      "execution_count": null,
      "outputs": []
    },
    {
      "cell_type": "markdown",
      "source": [
        "Powyżej nazwy 27 resortów, zawsze można sobie wypritnować ten słownik, aby dodatkowo zyskać intuicję co do potencjalnej ilości ministrów w danym obszarze w latach 2007-2010 włącznie."
      ],
      "metadata": {
        "id": "lGdCA7qt6w-u"
      }
    },
    {
      "cell_type": "code",
      "source": [
        "print(dict_pos.keys())\n",
        "print(len(dict_pos.keys()))"
      ],
      "metadata": {
        "id": "oU40-7Af6xDh"
      },
      "execution_count": null,
      "outputs": []
    },
    {
      "cell_type": "markdown",
      "source": [
        "Budzić zainteresowanie mogą 2 obco brzmiące nazwy. Taoiseach to osoba premiera w Irlandzkim rządzie. W jego zakresie jest m.in. mianowanie osoby na urząd Tánaiste, czyli wicepremiera."
      ],
      "metadata": {
        "id": "AL0KlQys6xH9"
      }
    },
    {
      "cell_type": "code",
      "source": [
        "print(\"Liczba premierów:\", len(dict_pos[\"Taoiseach\"]), \"Liczba wicepremierów:\", len(dict_pos[\"Tánaiste\"]))"
      ],
      "metadata": {
        "id": "BN3qdWce6xMm"
      },
      "execution_count": null,
      "outputs": []
    },
    {
      "cell_type": "markdown",
      "source": [
        "Większa liczba wicepremirów mówi, że jeden z nich został odwołany lub zrezygnował z pełnienia funkcji. Dokonując analizy osobno dla tych, tak mało licznych grup, trzeba pamiętać, że na charakter wypowiedzi wpływ będzie mieć zarówno pełniona funkcja, ale co ważne, sposób wypowiadania się danej jednostki. (Dłuższe/krótsze wypowiedzi mogą nie być powiązane z funkcją premiera, a jedynie sposobem wygłaszania przemówień i prowadzenia polityki tego z obecnej kadencji.)"
      ],
      "metadata": {
        "id": "9tC1b15n6xRD"
      }
    },
    {
      "cell_type": "code",
      "source": [
        "df_ministers.nunique()"
      ],
      "metadata": {
        "id": "qnVZgjjM9yKx"
      },
      "execution_count": null,
      "outputs": []
    },
    {
      "cell_type": "markdown",
      "source": [
        "Luźna myśl: w 2008 roku było także referendum na temat retyfikacji traktatu lizbońskiego, pytanie czy mogło być to w jakikolwiek sposób odzwierciedlone w naszym zbiorku?? Ostatecznie ludzie opowiedzieli się przeciwko, co stoi w opozycji do wczesnych sądaży."
      ],
      "metadata": {
        "id": "P6W1aorM3YVQ"
      }
    },
    {
      "cell_type": "markdown",
      "source": [
        "Zastanawiać może, skąd taka liczba urzędów, 3 przypadające na okres 2007-2010. Spodziewalibyśmy się 2: jeden przed wyborami w 2007 roku, drugi po nich. To może również tłumaczyć 3 wicepremirów wcześniej i przeczyć wnioskowi, że któryś został odwołany. Odpowiedzi dostarcza wikipedia. \"There were two Governments of the 30th Dáil, which was elected at the 2007 general election on 24 May 2007. The 27th Government of Ireland (14 June 2007 – 7 May 2008) was led by Bertie Ahern as Taoiseach, and the 28th Government of Ireland (7 May 2008 – 9 March 2011) was led by Brian Cowen as Taoiseach.\" W obrędbie tej samej koalicji 2 partii nastąpiła wymiana rządu. Premierem nowego stał się Brian Cowen, uprzednio będący na funkcji wicepremiera. (Fakt wystąpowania tylko 2 premierów tłumaczy fakt, że Bertie Ahern pełnił tę funkcję także przed rokiem 2007, bo od 1997)."
      ],
      "metadata": {
        "id": "EXhdLwf9--ai"
      }
    },
    {
      "cell_type": "markdown",
      "source": [
        "## Długość tekstów ministrowie vs. nieministrowie"
      ],
      "metadata": {
        "id": "bNGY9IIq--lx"
      }
    },
    {
      "cell_type": "code",
      "source": [
        "#non-ministers\n",
        "doc_lens_nm = df.loc[~df['memberID'].isin(ministers_ids)].speech_en.str.len()\n",
        "doc_lens_nm.hist(title = \"Nieministrowie\",log_y=True)"
      ],
      "metadata": {
        "id": "OTs8P09t--8C"
      },
      "execution_count": null,
      "outputs": []
    },
    {
      "cell_type": "code",
      "source": [
        "#ministers\n",
        "\n",
        "doc_lens_m = df.loc[df['memberID'].isin(ministers_ids)].speech_en.str.len()\n",
        "doc_lens_m.hist(title = \"Ministrowie\", log_y=True)"
      ],
      "metadata": {
        "id": "O34XtgJ8IkX7"
      },
      "execution_count": null,
      "outputs": []
    },
    {
      "cell_type": "markdown",
      "source": [
        "Można wyciągnąć wstępne wnioski co do długości speechy i rozkładów w poszczególnych grupach. Zastanawiający jest potencjalny brak dużej różnicy w ogólnej liczbie wystąpień. Sprawdźmy zatem ile jest nieministrów w kontrze do 52 ministrów."
      ],
      "metadata": {
        "id": "mIL-sjW_Ike_"
      }
    },
    {
      "cell_type": "code",
      "source": [
        "print(\"Liczba speechy nieministrów:\", len(df.loc[~df['memberID'].isin(ministers_ids)]), \"liczba speechy ministrów:\", len(df.loc[df['memberID'].isin(ministers_ids)]))"
      ],
      "metadata": {
        "id": "GzqiXOs-Ikm_"
      },
      "execution_count": null,
      "outputs": []
    },
    {
      "cell_type": "code",
      "source": [
        "print(\"Liczba wypowiadających się nieministrów:\", len(set(df.loc[~df['memberID'].isin(ministers_ids)]['memberID'])))"
      ],
      "metadata": {
        "id": "4MisF8MKIktD"
      },
      "execution_count": null,
      "outputs": []
    },
    {
      "cell_type": "markdown",
      "source": [
        "Dosyć zaskakująca dysproporcja, wielu wypowiadających się pełniło wcześniej lub poźniej funkcję ministra. Można to jednak uzasadniaż aż 3 rządami oraz faktem, że większość ze 160 miejsc będzie mieć rządząca koalicja. \n",
        "Istotniejsze jest, że można by rozważyć pomysł dokonywania analiz ze względu także czy dana wypowiedź padła z okresu pełnienia funkcji ministra."
      ],
      "metadata": {
        "id": "AnrQI26kLXSI"
      }
    },
    {
      "cell_type": "code",
      "source": [
        "data = [doc_lens_m, doc_lens_nm]\n",
        "\n",
        "# Multiple box plots on one Axes\n",
        "fig, ax = plt.subplots(figsize=(19, 13))\n",
        "#fig = plt.figure(figsize=(19, 3))\n",
        "ax.boxplot(data)\n",
        "#ax.set_xticklabels[\"Ministers\", \"Non-ministers\"]\n",
        "plt.xticks([1, 2], [\"Ministers\", \"Non-ministers\"])\n",
        "ax.set_yscale('log')\n",
        "plt.show()"
      ],
      "metadata": {
        "id": "8VJ7ZTgOIkyu"
      },
      "execution_count": null,
      "outputs": []
    },
    {
      "cell_type": "markdown",
      "source": [
        "Ministrowie mają średnio dłuższe przemówienia, przesunięte są także odpowiednie kwantyle w kierunku większych wartości. Różnica mogłaby być jeszcze większa biorąc np. długość wypowiedzi tylko z okresu pełnienia funkcji."
      ],
      "metadata": {
        "id": "8gFrkIgpOJz_"
      }
    },
    {
      "cell_type": "markdown",
      "source": [
        "## Word clouds ministrowie vs. nieministrowie"
      ],
      "metadata": {
        "id": "GOwTr2UhOJ7M"
      }
    },
    {
      "cell_type": "code",
      "source": [
        "def cloud_from_lemmas(lemmas):\n",
        "  word_counts = Counter(lemmas.sum())\n",
        "\n",
        "  wc = WordCloud(width=800, height=400)\n",
        "  wc.generate_from_frequencies(frequencies=word_counts)\n",
        "  plt.figure(figsize=(10,8))\n",
        "  plt.imshow(wc)"
      ],
      "metadata": {
        "id": "CNqpltooPAua"
      },
      "execution_count": null,
      "outputs": []
    },
    {
      "cell_type": "markdown",
      "source": [
        "Słowa dla nieministrów."
      ],
      "metadata": {
        "id": "FsB1g4WxQSNF"
      }
    },
    {
      "cell_type": "code",
      "source": [
        "lemmas_nm = df.loc[~df['memberID'].isin(ministers_ids)].speech_en.apply(lambda doc: [token.lemma_ for token in doc if not token.is_stop if not token.is_punct])\n",
        "\n",
        "cloud_from_lemmas(lemmas_nm)"
      ],
      "metadata": {
        "id": "SAPKpIBeOKCa"
      },
      "execution_count": null,
      "outputs": []
    },
    {
      "cell_type": "markdown",
      "source": [
        "Słowa dla ministrów:"
      ],
      "metadata": {
        "id": "XcRrMPPXOKIR"
      }
    },
    {
      "cell_type": "code",
      "source": [
        "lemmas_m = df.loc[~df['memberID'].isin(ministers_ids)].speech_en.apply(lambda doc: [token.lemma_ for token in doc if not token.is_stop if not token.is_punct])\n",
        "\n",
        "cloud_from_lemmas(lemmas_m)"
      ],
      "metadata": {
        "id": "T6iigc3UQ2vy"
      },
      "execution_count": null,
      "outputs": []
    },
    {
      "cell_type": "markdown",
      "source": [
        "Mimo faktu, że duże przecięcie będzie wynikać z faktu występowania słów charakterystycznych dla polityki, zacznijmy rozważać speeche ministrów jedynie za ich kadencji. "
      ],
      "metadata": {
        "id": "4lzhWfPqQ23N"
      }
    },
    {
      "cell_type": "markdown",
      "source": [
        "Odnotujmy już teraz fakt, że analizując słowa minstrów z tych lat, analizujemy jednocześnie słowa członków koalicji rządzącej FF-Green-PD. Słowa powiązane z wartościami partii, a nie tylko pozycją."
      ],
      "metadata": {
        "id": "QmRp9tiFQ29A"
      }
    },
    {
      "cell_type": "code",
      "source": [
        "min_years_start = df_ministers.groupby('memberID')['start_date'].apply(list).to_dict()#już pomijamy fakt ewentualnej przerwy w kadencji w wyliczeniach\n",
        "for k in min_years_start.keys():\n",
        "  min_years_start[k] = min(min_years_start[k])\n",
        "\n",
        "min_years_end = df_ministers.groupby('memberID')['end_date'].apply(list).to_dict()#już pomijamy fakt ewentualnej przerwy w kadencji w wyliczeniach\n",
        "for k in min_years_end.keys():\n",
        "  min_years_end[k] = max(min_years_end[k])\n",
        "\n",
        "min_years_end"
      ],
      "metadata": {
        "id": "3F8rqZsAbHRb"
      },
      "execution_count": null,
      "outputs": []
    },
    {
      "cell_type": "code",
      "source": [
        "df_only_curr_minister = df.loc[(df['memberID'].isin(ministers_ids)) & (df['date'] < df['memberID'].apply(lambda x: min_years_end.get(x))) & (df['date'] > df['memberID'].apply(lambda x: min_years_start.get(x)))] #& (df['date'].dt> min_years_end[df['memberID']])"
      ],
      "metadata": {
        "id": "cWzhxpGrabvD"
      },
      "execution_count": null,
      "outputs": []
    },
    {
      "cell_type": "code",
      "source": [
        "lemmas_curr_min = df_only_curr_minister.speech_en.apply(lambda doc: [token.lemma_ for token in doc if not token.is_stop if not token.is_punct])\n",
        "\n",
        "cloud_from_lemmas(lemmas_curr_min)"
      ],
      "metadata": {
        "id": "z9pmERgtacLJ"
      },
      "execution_count": null,
      "outputs": []
    },
    {
      "cell_type": "markdown",
      "source": [
        "Taka analiza pozwala zauważyć, że słowa typowe dla polityki zmieniają się wraz z pozycją. Także używane zwroty grzecznościowe (z pewnością rozpoczynające część z wystąpień). Prócz słów typowych można doszukiwać się także innych, przykładowo symbol euro sugerujący podnoszenie kwestii wydatków lub planowania budżetu."
      ],
      "metadata": {
        "id": "HQDi0bCFgwdl"
      }
    },
    {
      "cell_type": "markdown",
      "source": [
        "Teraz spróbujmy odflitrować niektóre słowa i powtórzyć tę samą chmurę."
      ],
      "metadata": {
        "id": "ANxv8rUOgwho"
      }
    },
    {
      "cell_type": "code",
      "source": [
        "not_interesting = set([\"department\", \"deputy\", \"provide\", \"service\", \"include\", \"project\", \"issue\", \"minister\", \"matter\", \"government\", \"statement\", \"year\", \"person\", \"people\", \"ask\", \"number\", \"detail\", \"supply\"])\n"
      ],
      "metadata": {
        "id": "BlV36ytQmx31"
      },
      "execution_count": null,
      "outputs": []
    },
    {
      "cell_type": "code",
      "source": [
        "lemmas_specific = df_only_curr_minister.speech_en.apply(lambda doc: [token.lemma_ for token in doc if not token.is_stop if not token.is_punct if not token.lemma_.lower() in not_interesting])\n",
        "\n",
        "cloud_from_lemmas(lemmas_specific)"
      ],
      "metadata": {
        "id": "XoLoACYqlWo7"
      },
      "execution_count": null,
      "outputs": []
    },
    {
      "cell_type": "markdown",
      "source": [
        "Teraz na lupę zbiór komplementarny do tego, czyli nieministrowie w trakcie wygłaszanie przemówień."
      ],
      "metadata": {
        "id": "VsRGYwbFkBbW"
      }
    },
    {
      "cell_type": "code",
      "source": [
        "lemmas_specific = df.loc[~df[\"speechID\"].isin(set(df_only_curr_minister[\"speechID\"]))].speech_en.apply(lambda doc: [token.lemma_ for token in doc if not token.is_stop if not token.is_punct if not token.lemma_.lower() in not_interesting])\n",
        "\n",
        "cloud_from_lemmas(lemmas_specific)"
      ],
      "metadata": {
        "id": "vhgAHQTJkBfe"
      },
      "execution_count": null,
      "outputs": []
    },
    {
      "cell_type": "markdown",
      "source": [
        "Można zauważyć różnice w danych tematach. W pierwszym wypadku istotne wydają się np. work, school, Ireland, euro, drugi to np. time, County, child, Health, Bill."
      ],
      "metadata": {
        "id": "T6QBAkCfkBik"
      }
    },
    {
      "cell_type": "markdown",
      "source": [
        "## Barploty ministrowie vs. nieministrowie"
      ],
      "metadata": {
        "id": "4ihA-s2eov54"
      }
    },
    {
      "cell_type": "code",
      "source": [
        "def plot_counts(counts):\n",
        "  fig = px.bar(counts,orientation='h', y='word', x='count')\n",
        "\n",
        "  fig['layout']['yaxis']['autorange'] = \"reversed\"\n",
        "  fig.update_layout(bargap=0.30, font={'size':10})\n",
        "  return fig"
      ],
      "metadata": {
        "id": "4wCabUiXov91"
      },
      "execution_count": null,
      "outputs": []
    },
    {
      "cell_type": "code",
      "source": [
        "#word count for certain group\n",
        "lemmas_only_ministers = df_only_curr_minister.speech_en.apply(lambda doc: [token.lemma_ for token in doc if not token.is_stop if not token.is_punct])\n",
        "word_counts_only_ministers = Counter(lemmas_only_ministers.sum())\n",
        "\n",
        "lemmas_only_non_ministers = df.loc[~df[\"speechID\"].isin(set(df_only_curr_minister[\"speechID\"]))].speech_en.apply(lambda doc: [token.lemma_ for token in doc if not token.is_stop if not token.is_punct])\n",
        "word_counts_only_non_ministers = Counter(lemmas_only_non_ministers.sum())\n",
        "\n"
      ],
      "metadata": {
        "id": "CTTubVP2owB-"
      },
      "execution_count": null,
      "outputs": []
    },
    {
      "cell_type": "markdown",
      "source": [
        "Sporządzimy wykres, gdzie będą znajdować się słowa najcześciej wypowiedziane przez daną grupę, nie występujące ani raz w drugiej grupie. Najpierw dla ministrów"
      ],
      "metadata": {
        "id": "wIB1WnS_yVbc"
      }
    },
    {
      "cell_type": "markdown",
      "source": [
        "Ministrowie:"
      ],
      "metadata": {
        "id": "ScvCGUJZyrQg"
      }
    },
    {
      "cell_type": "code",
      "source": [
        "counts = pd.DataFrame(Counter({k: v for k, v in word_counts_only_ministers.items() if k not in word_counts_only_non_ministers.keys()}).most_common(30), columns=['word', 'count'])\n",
        "plot_counts(counts)"
      ],
      "metadata": {
        "id": "EJojcH0oowFc"
      },
      "execution_count": null,
      "outputs": []
    },
    {
      "cell_type": "code",
      "source": [
        "counts = pd.DataFrame(Counter({k: v for k, v in word_counts_only_non_ministers.items() if k not in word_counts_only_ministers.keys()}).most_common(30), columns=['word', 'count'])\n",
        "\n",
        "plot_counts(counts)"
      ],
      "metadata": {
        "id": "rBC2tBtwowIw"
      },
      "execution_count": null,
      "outputs": []
    },
    {
      "cell_type": "markdown",
      "source": [
        "Bardziej interesujący wydaje się wykres numer 2. Zestaw słow jak disgrace, scandal, shame, guillotine, outragous, coalition, jail, comfort, hang, fool, syndrome, savage. Są to słowa silnie nacechowane. Po pierwsze widzimy, że ministrowie mogą być o wiele bardziej zachowawczy w doborze słów. Po drugie takie słowa mogą służyć do formułowania zarzutów wobec rządzącej obecnie koalicji."
      ],
      "metadata": {
        "id": "b1CP7J2T0Chn"
      }
    },
    {
      "cell_type": "code",
      "source": [
        "non_min_speeches = df.loc[~df[\"speechID\"].isin(set(df_only_curr_minister[\"speechID\"]))]"
      ],
      "metadata": {
        "id": "OudZMBoeE9hY"
      },
      "execution_count": null,
      "outputs": []
    },
    {
      "cell_type": "code",
      "source": [
        "non_min_speeches.loc[list(lemmas_only_non_ministers.apply(lambda x: \"jail\" in x))][\"speech\"]"
      ],
      "metadata": {
        "id": "-nGO3DZM1vJp"
      },
      "execution_count": null,
      "outputs": []
    },
    {
      "cell_type": "code",
      "source": [
        "non_min_speeches.loc[list(lemmas_only_non_ministers.apply(lambda x: \"jail\" in x))][\"speech\"][3743888]"
      ],
      "metadata": {
        "id": "PtlM88ES1vRp"
      },
      "execution_count": null,
      "outputs": []
    },
    {
      "cell_type": "markdown",
      "source": [
        "Można sobie poczytać kilka wybranych. Pierwsze nie zawierają gróźb więzenia dla \"niekompetentnych rządzących\", jednak i tak dosyć łatwo znaleźć zarzuty wobec rządu. Minister for Justice and Law Reform często jest wspominany w tych przemówieniach"
      ],
      "metadata": {
        "id": "mEh3OxcW5FgZ"
      }
    },
    {
      "cell_type": "code",
      "source": [
        "non_min_speeches.loc[list(lemmas_only_non_ministers.apply(lambda x: \"guillotine\" in x))][\"speech\"]"
      ],
      "metadata": {
        "id": "Kh8yEBjS1vW2"
      },
      "execution_count": null,
      "outputs": []
    },
    {
      "cell_type": "code",
      "source": [
        "non_min_speeches.loc[list(lemmas_only_non_ministers.apply(lambda x: \"guillotine\" in x))][\"speech\"][3763831]"
      ],
      "metadata": {
        "id": "2tOoXxvw3LlA"
      },
      "execution_count": null,
      "outputs": []
    },
    {
      "cell_type": "code",
      "source": [
        "non_min_speeches.loc[list(lemmas_only_non_ministers.apply(lambda x: \"guillotine\" in x))][\"speech\"][3750224]"
      ],
      "metadata": {
        "id": "IjTdGM_27XaG"
      },
      "execution_count": null,
      "outputs": []
    },
    {
      "cell_type": "markdown",
      "source": [
        "Allocation of time or 'guillotine' motions have been used by governments to limit the amount of time that MPs can spend debating a particular stage of a Bill in the House of Commons.\n",
        "\n",
        "Wyrażanie niezadowolenia wobec rządu.\n",
        "\n",
        "Teraz już ostatnie shame. Do analizy pozostałych zachęcamy samodzielnie."
      ],
      "metadata": {
        "id": "1HgqECKp3LpH"
      }
    },
    {
      "cell_type": "code",
      "source": [
        "non_min_speeches.loc[list(lemmas_only_non_ministers.apply(lambda x: \"scandal\" in x))][\"speech\"]"
      ],
      "metadata": {
        "id": "wBLShlXu7NsN"
      },
      "execution_count": null,
      "outputs": []
    },
    {
      "cell_type": "code",
      "source": [
        "non_min_speeches.loc[list(lemmas_only_non_ministers.apply(lambda x: \"scandal\" in x))][\"speech\"][3783355    ]"
      ],
      "metadata": {
        "id": "_VBBdE5h8Ps6"
      },
      "execution_count": null,
      "outputs": []
    },
    {
      "cell_type": "markdown",
      "source": [
        "Pierwsze zdanie z powyższego outputu."
      ],
      "metadata": {
        "id": "ishuGZxj8P1x"
      }
    },
    {
      "cell_type": "markdown",
      "source": [
        "## TF-IDF"
      ],
      "metadata": {
        "id": "w26zakNN8P4r"
      }
    },
    {
      "cell_type": "code",
      "source": [
        "# !pip install scikit-learn"
      ],
      "metadata": {
        "id": "rYrdkn5C7Nwf"
      },
      "execution_count": null,
      "outputs": []
    },
    {
      "cell_type": "code",
      "source": [
        "# from sklearn.feature_extraction.text import TfidfVectorizer"
      ],
      "metadata": {
        "id": "iDxTuJqC-ytq"
      },
      "execution_count": null,
      "outputs": []
    },
    {
      "cell_type": "code",
      "source": [
        "# lemmas_common = df.speech_en.apply(lambda doc: [token.lemma_ for token in doc if not token.is_stop if not token.is_punct])\n",
        "\n",
        "# vectorizer = TfidfVectorizer()\n",
        "# X = vectorizer.fit_transform(lemmas_common.apply(lambda x: \" \".join(x)))\n",
        "# vectorizer.get_feature_names_out()\n",
        "\n",
        "# tfidf_df = pd.DataFrame(X.toarray(), index = lemmas_common.keys(),columns=vectorizer.get_feature_names())\n",
        "\n",
        "# tfidf_df = tfidf_df.stack().reset_index()\n",
        "\n",
        "# tfidf_df = tfidf_df.rename(columns={0:'tfidf','level_1': 'term', 'level_0': 'speech_id'})\n",
        "# to_cos = tfidf_df.sort_values(by=['speech_id','tfidf'], ascending=[True,False]).groupby(['speech_id'])\n",
        "# Counter(to_cos[\"term\"]).most_common(30)"
      ],
      "metadata": {
        "id": "YK31KJ3n-1MZ"
      },
      "execution_count": null,
      "outputs": []
    },
    {
      "cell_type": "markdown",
      "source": [
        "W końcu nie używamy go, był prototyp do wyciągnięcia np. 5 słow z najwyższym indexem z każdego speecha i potem grupowanie ich np. dla konkretnej partii i wyciąganie most common."
      ],
      "metadata": {
        "id": "1BRwp_BI_eg_"
      }
    },
    {
      "cell_type": "markdown",
      "source": [
        "## Względem departamnetów"
      ],
      "metadata": {
        "id": "t50-1rbh_elj"
      }
    },
    {
      "cell_type": "markdown",
      "source": [
        "Ten notebook i tak jest długi prezentujemy tylko resort finansów, można tak zrobić pozostałe i powyciągać wnioski zminiając nazwę departamentu."
      ],
      "metadata": {
        "id": "U1uJXMi5D5Ze"
      }
    },
    {
      "cell_type": "code",
      "source": [
        "lemmas_fin = df.loc[df['memberID'].isin(dict_depart[\"Finance\"])].speech_en.apply(lambda doc: [token.lemma_ for token in doc if not token.is_stop if not token.is_punct if not token.lemma_.lower() in not_interesting])\n",
        "word_counts_fin = Counter(lemmas_fin.sum())\n",
        "counts_fin = pd.DataFrame(word_counts_fin.most_common(30), columns=['word', 'count'])\n",
        "plot_counts(counts_fin)"
      ],
      "metadata": {
        "id": "NfrDQhV7DLy3"
      },
      "execution_count": null,
      "outputs": []
    },
    {
      "cell_type": "markdown",
      "source": [
        "Nie powinna dziwić np. popularność słowa tax czy euro w przemowach ministra finansów"
      ],
      "metadata": {
        "id": "8p_MrF7m_eqC"
      }
    },
    {
      "cell_type": "markdown",
      "source": [
        "# Institutional Grammar tagging algorithm"
      ],
      "metadata": {
        "id": "i6qthBwXwqdi"
      }
    },
    {
      "cell_type": "code",
      "source": [
        "\"\"\"\n",
        "Program to implement and demonstrate institutional grammar tagging algorithm. Due to some problems with neuralcoref\n",
        "library, coreference resolution does not work.\n",
        "\"\"\"\n",
        "\n",
        "\n",
        "# Library for coreference resolution\n",
        "# !pip install neuralcoref\n",
        "\n",
        "# Neuralcoref is not compatible with spaCy v3.0\n",
        "# import neuralcoref\n",
        "\n",
        "# neuralcoref.add_to_pipe(en)\n",
        "from typing import Tuple, Union, List, Any, Optional\n",
        "\n",
        "import spacy as spacy\n",
        "\n",
        "\n",
        "def institutional_grammar_tagging_algorithm(sentence: spacy.tokens.Span) -> \\\n",
        "        Tuple[Union[List[Any], Any], Union[List[Any], Any], List[Optional[Any]]]:\n",
        "    \"\"\"\n",
        "    Implementation of institutional grammar tagging algorithm.\n",
        "    :param sentence: deontic sentence\n",
        "    :return: attributes, objects and verbs of the given deontic sentence\n",
        "    \"\"\"\n",
        "    attributes = []\n",
        "    objects = []\n",
        "    verbs = []\n",
        "    verb = sentence.root\n",
        "\n",
        "    while verb is not None:\n",
        "        attr = verb\n",
        "        verb = None\n",
        "        verbs.append(attr)\n",
        "\n",
        "        newSubj = [c for c in attr.children if c.dep_ == \"nsubj\"]\n",
        "        newPassiveSubj = [c for c in attr.children if c.dep_ == \"nsubjpass\"]\n",
        "\n",
        "        if len(newSubj) == 0 and len(newPassiveSubj) == 0:\n",
        "            attributes = [clausal for c in attr.children for clausal in c.children if c.dep_ == \"csubj\"]\n",
        "\n",
        "        attributes = attributes + newSubj\n",
        "        objects = objects + newPassiveSubj + [c for c in attr.children if c.dep_ == \"dobj\"]\n",
        "\n",
        "        if attr.dep_ == \"conj\" and attr.pos_ == \"VERB\":\n",
        "            verb = attr.head\n",
        "\n",
        "    for subject in attributes:\n",
        "        for attr in attributes:\n",
        "            if attr.dep_ == \"conj\":\n",
        "                attributes.append(subject)\n",
        "\n",
        "            attributes = attributes + [s for s in subject.children if s.dep_ == \"conj\"]\n",
        "\n",
        "            if subject.pos_ == \"PRONOUN\":\n",
        "                # coreference resolution does not work\n",
        "                pass\n",
        "\n",
        "    for objectx in objects:\n",
        "        objects = objects + [s for s in objectx.children if s.dep_ == \"conj\"]\n",
        "\n",
        "    return attributes, objects, verbs\n"
      ],
      "metadata": {
        "id": "biheLmswwtne"
      },
      "execution_count": null,
      "outputs": []
    },
    {
      "cell_type": "code",
      "source": [
        "testcase1 = en(\"Designers, builders, and manufacturers should submit details and documentation to the assesment body. Any decisions made by a machine must be logged and retained.\")\n",
        "for sent in testcase1.sents:\n",
        "  print(institutional_grammar_tagging_algorithm(sent))\n",
        "print(\"\\n\")\n",
        "for sent in testcase1.sents:\n",
        "  print(sent.root)"
      ],
      "metadata": {
        "id": "vRgRNXr-wtw2"
      },
      "execution_count": null,
      "outputs": []
    },
    {
      "cell_type": "code",
      "source": [
        "from spacy import displacy\n",
        "for sent in testcase1.sents:\n",
        "  displacy.render(sent, jupyter=True)"
      ],
      "metadata": {
        "id": "2hkFJDSXG1wW"
      },
      "execution_count": null,
      "outputs": []
    },
    {
      "cell_type": "code",
      "source": [
        "spacy.explain(\"appos\")"
      ],
      "metadata": {
        "id": "fV2qbA2OG3p4"
      },
      "execution_count": null,
      "outputs": []
    },
    {
      "cell_type": "code",
      "source": [
        ""
      ],
      "metadata": {
        "id": "H_VHbsJIG54c"
      },
      "execution_count": null,
      "outputs": []
    }
  ]
}