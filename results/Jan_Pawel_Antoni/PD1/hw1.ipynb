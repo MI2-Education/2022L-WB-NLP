{
 "cells": [
  {
   "cell_type": "code",
   "execution_count": null,
   "metadata": {
    "id": "X8jdwliKndBe"
   },
   "outputs": [],
   "source": [
    "!pip install textacy==0.8.0\n",
    "!pip install neuralcoref --no-binary neuralcoref\n",
    "!pip install swifter\n",
    "!pip install spacy==2.1.0\n",
    "\n",
    "!wget https://www.dropbox.com/s/v8xi3wopz0865jp/30_term.spacy\n",
    "!wget https://www.dropbox.com/s/6d0645x9fx1wbdi/term30.csv"
   ]
  },
  {
   "cell_type": "code",
   "execution_count": null,
   "metadata": {
    "id": "oQiBwhyevU1b"
   },
   "outputs": [],
   "source": [
    "!python -m spacy download en_core_web_sm"
   ]
  },
  {
   "cell_type": "code",
   "execution_count": null,
   "metadata": {
    "colab": {
     "base_uri": "https://localhost:8080/"
    },
    "id": "mqfwOU1QniRo",
    "outputId": "275eef38-2652-461e-d6af-9770d5862fff"
   },
   "outputs": [],
   "source": [
    "import spacy\n",
    "import swifter\n",
    "import pandas as pd\n",
    "import numpy as np\n",
    "import neuralcoref\n",
    "import textacy\n",
    "\n",
    "import matplotlib.pyplot as plt\n",
    "import matplotlib\n",
    "import plotly.express as px\n",
    "import networkx as nx\n",
    "import seaborn as sns\n",
    "import nltk.sentiment\n",
    "import random\n",
    "\n",
    "from datetime import datetime\n",
    "from tqdm.auto import tqdm \n",
    "from wordcloud import WordCloud\n",
    "from collections import Counter\n",
    "\n",
    "%matplotlib inline\n",
    "pd.options.mode.chained_assignment = None  # default='warn'\n",
    "sns.set_theme(style=\"whitegrid\")\n",
    "pd.options.plotting.backend = \"plotly\""
   ]
  },
  {
   "cell_type": "markdown",
   "metadata": {
    "id": "L23j8gK_rad2"
   },
   "source": [
    "## Read data"
   ]
  },
  {
   "cell_type": "code",
   "execution_count": null,
   "metadata": {
    "id": "Jw2jI4lH3wzb"
   },
   "outputs": [],
   "source": [
    "df = pd.read_csv('term30.csv')"
   ]
  },
  {
   "cell_type": "code",
   "execution_count": null,
   "metadata": {
    "id": "y8BF3ZYV61CB"
   },
   "outputs": [],
   "source": [
    "df = df.assign(\n",
    "    year = pd.DatetimeIndex(df['date']).year,\n",
    "    month = pd.DatetimeIndex(df['date']).month\n",
    ").groupby(['year', 'month']). \\\n",
    "  apply(lambda group: group.sample(frac=.3, random_state=42)). \\\n",
    "  reset_index(drop=True). \\\n",
    "  drop(columns=['year', 'month'])"
   ]
  },
  {
   "cell_type": "code",
   "execution_count": null,
   "metadata": {
    "id": "z6SfYYZVn3rL"
   },
   "outputs": [],
   "source": [
    "en = spacy.load('en_core_web_sm')\n",
    "coref = neuralcoref.NeuralCoref(en.vocab)\n",
    "en.add_pipe(coref, name='neuralcoref')"
   ]
  },
  {
   "cell_type": "code",
   "execution_count": null,
   "metadata": {
    "colab": {
     "base_uri": "https://localhost:8080/",
     "height": 49,
     "referenced_widgets": [
      "78982639261842e380f31e3f13ebc2b0",
      "ac9c6b317a3a4c3e9091c2555340a0ad",
      "ed06e8cd37c540ea80d40c810b3fea72",
      "9120f713c97d4d3d92776298fa3df705",
      "5c753c221f5048648731d14cdb4e30b1",
      "e6a4addbc39548509c6d1218d6358c96",
      "a47c8788b8584b51b083ce03479f6ece",
      "310b6a83755d4acbaaeb969448edcbca",
      "13534a5b1924433698c5cd411636e683",
      "2c5c45765dc9419b9caab0895f640c38",
      "066fea89ccba47d4b345ee369d7caa98"
     ]
    },
    "id": "QUia5RBB1IIF",
    "outputId": "e2209175-bd9c-45ad-cc80-0f352bddd327"
   },
   "outputs": [],
   "source": [
    "df['speech'] = df['speech'].swifter.apply(en)"
   ]
  },
  {
   "cell_type": "markdown",
   "metadata": {
    "id": "BDjP6uPbrgS0"
   },
   "source": [
    "## Wordcloud"
   ]
  },
  {
   "cell_type": "code",
   "execution_count": null,
   "metadata": {
    "id": "5PO2TFsDl8lT"
   },
   "outputs": [],
   "source": [
    "words = [token.lemma_ for doc in df['speech'] for token in doc \n",
    "         if not token.is_stop and not token.is_punct]\n",
    "word_counts = Counter(words)"
   ]
  },
  {
   "cell_type": "code",
   "execution_count": null,
   "metadata": {
    "colab": {
     "base_uri": "https://localhost:8080/",
     "height": 348
    },
    "id": "l50nBW6Orp1g",
    "outputId": "1234108b-5606-46f8-cd53-031b0f6e8a18"
   },
   "outputs": [],
   "source": [
    "wc = WordCloud(width=2400, height=1200)\n",
    "wc.generate_from_frequencies(frequencies=word_counts)\n",
    "plt.figure(figsize=(10, 8))\n",
    "plt.imshow(wc)"
   ]
  },
  {
   "cell_type": "markdown",
   "metadata": {
    "id": "gUQAjiaJs13-"
   },
   "source": [
    "Najczęstsze słowa to te typowe dla polityki: `'Department'`, `'Minister'` itd. Chociaż pojawiają się słowa mniej oczywiste takie jak `'school'`, `'health'`"
   ]
  },
  {
   "cell_type": "markdown",
   "metadata": {
    "id": "ymtIdVD1ubDq"
   },
   "source": [
    "## Wordcloud from keywords"
   ]
  },
  {
   "cell_type": "code",
   "execution_count": null,
   "metadata": {
    "id": "uYmis5zGud05"
   },
   "outputs": [],
   "source": [
    "words = [token.lemma_ for doc in df['speech'] for token in doc.ents]\n",
    "word_counts = Counter(words)"
   ]
  },
  {
   "cell_type": "code",
   "execution_count": null,
   "metadata": {
    "colab": {
     "base_uri": "https://localhost:8080/",
     "height": 348
    },
    "id": "zDVu7_S-ud06",
    "outputId": "3a69d2ee-7826-4017-c51a-8209b75fda4c"
   },
   "outputs": [],
   "source": [
    "wc = WordCloud(width=2400, height=1200)\n",
    "wc.generate_from_frequencies(frequencies=word_counts)\n",
    "plt.figure(figsize=(10, 8))\n",
    "plt.imshow(wc)"
   ]
  },
  {
   "cell_type": "markdown",
   "metadata": {
    "id": "A_ObRwaiqOpK"
   },
   "source": [
    "### Most freqeuent bigram over time"
   ]
  },
  {
   "cell_type": "code",
   "execution_count": null,
   "metadata": {
    "id": "SACoICGzsh8X"
   },
   "outputs": [],
   "source": [
    "df = df.assign(\n",
    "    year = pd.DatetimeIndex(df['date']).year,\n",
    "    quarter = (pd.DatetimeIndex(df['date']).month - 1)//3 + 1\n",
    ")"
   ]
  },
  {
   "cell_type": "code",
   "execution_count": null,
   "metadata": {
    "id": "dGfuzAmYqp8B"
   },
   "outputs": [],
   "source": [
    "def most_frequent_bigram(group):\n",
    "  docs = group['speech']\n",
    "  bigrams = [token.lemma_ for doc in docs for token in textacy.extract.ngrams(doc, 2, min_freq=2)]\n",
    "  return Counter(bigrams).most_common(1)[0][0]"
   ]
  },
  {
   "cell_type": "code",
   "execution_count": null,
   "metadata": {
    "id": "SYCye2_UsZid"
   },
   "outputs": [],
   "source": [
    "most_frequent_bigrams = df. \\\n",
    "  groupby(['year', 'quarter']). \\\n",
    "  apply(most_frequent_bigram). \\\n",
    "  reset_index(drop=False). \\\n",
    "  rename(columns={0: 'most_frequent_bigram'})"
   ]
  },
  {
   "cell_type": "code",
   "execution_count": null,
   "metadata": {
    "colab": {
     "base_uri": "https://localhost:8080/",
     "height": 551
    },
    "id": "hAG4QG_rtZRW",
    "outputId": "7dc86486-1476-41ff-bde4-4c9b4c89b1c3"
   },
   "outputs": [],
   "source": [
    "most_frequent_bigrams"
   ]
  },
  {
   "cell_type": "markdown",
   "metadata": {
    "id": "mwn2rDqOw21P"
   },
   "source": [
    "Bigramy z przemów to przede wszyskim `'local authority'` i `'person concern'`. Jednakże widać pewne znaczące zdarzenia:\n",
    "* Wypowiedź pewnego polityka o złym stanie szkół podstawowych w 2007\n",
    "* Zamieszanie odnośnie kart medycznych w 2008"
   ]
  },
  {
   "cell_type": "markdown",
   "metadata": {
    "id": "PtghR0Xv0jzF"
   },
   "source": [
    "### Mentioning of some important keywords by parties"
   ]
  },
  {
   "cell_type": "code",
   "execution_count": null,
   "metadata": {
    "id": "RjG1OMQh0pym"
   },
   "outputs": [],
   "source": [
    "important_keywords = ['health', 'education', 'defence', 'social', 'gun', 'capitalism', 'socialism', 'judge']\n",
    "speeches_of_parties_count = df.groupby('party_name').size()\n",
    "def get_most_frequent_party(keyword):\n",
    "  speeches_with_keywords = df.loc[\n",
    "      df['speech'].apply(lambda doc: keyword in [token.lemma_ for token in doc])\n",
    "  ]\n",
    "  speeches_counts = \\\n",
    "    speeches_with_keywords.groupby('party_name').size()/speeches_of_parties_count\n",
    "  return speeches_counts.idxmax()"
   ]
  },
  {
   "cell_type": "code",
   "execution_count": null,
   "metadata": {
    "id": "ualKQUuo1v8D"
   },
   "outputs": [],
   "source": [
    "parties = list(map(get_most_frequent_party, important_keywords))"
   ]
  },
  {
   "cell_type": "code",
   "execution_count": null,
   "metadata": {
    "colab": {
     "base_uri": "https://localhost:8080/",
     "height": 300
    },
    "id": "s9kjmorc259R",
    "outputId": "bffdcb65-af9f-45b7-bb6e-7db3072cf733"
   },
   "outputs": [],
   "source": [
    "pd.DataFrame({'Keyword': important_keywords, 'Party': parties})"
   ]
  },
  {
   "cell_type": "markdown",
   "metadata": {
    "id": "y423UDYi5aID"
   },
   "source": [
    "### Which regions mention each other"
   ]
  },
  {
   "cell_type": "code",
   "execution_count": null,
   "metadata": {
    "colab": {
     "base_uri": "https://localhost:8080/"
    },
    "id": "FZZQazgh5dMq",
    "outputId": "ebe29ad8-5612-4c46-c77d-4db9bfeae988"
   },
   "outputs": [],
   "source": [
    "regions = np.unique(df['const_name'])\n",
    "regions"
   ]
  },
  {
   "cell_type": "code",
   "execution_count": null,
   "metadata": {
    "id": "_W_GRQep5ogh"
   },
   "outputs": [],
   "source": [
    "regions_ids = dict(zip(regions, range(len(regions))))"
   ]
  },
  {
   "cell_type": "code",
   "execution_count": null,
   "metadata": {
    "id": "FlVnciuj6Hpi"
   },
   "outputs": [],
   "source": [
    "def mentions_of_region(region_name):\n",
    "  speeches_with_mentions = df.loc[\n",
    "    df['speech'].apply(lambda doc: region_name in [token.lemma_ for token in doc.ents])\n",
    "  ]\n",
    "  return speeches_with_mentions.groupby('const_name').size()"
   ]
  },
  {
   "cell_type": "code",
   "execution_count": null,
   "metadata": {
    "id": "4VvdfT7_8lx7"
   },
   "outputs": [],
   "source": [
    "mentions_of_regions = list(zip(parties, map(mentions_of_region, parties)))"
   ]
  },
  {
   "cell_type": "code",
   "execution_count": null,
   "metadata": {
    "id": "BjIbCBVQ8390"
   },
   "outputs": [],
   "source": [
    "adj_matrix = np.zeros((len(parties), len(parties)))\n",
    "for party, mentions in mentions_of_regions:\n",
    "    for mention in mentions.items():\n",
    "        adj_matrix[regions_ids[mention[0]], regions_ids[party]] = mention[1]\n",
    "for i in range(adj_matrix.shape[0]):\n",
    "  adj_matrix[i][i] = 0"
   ]
  },
  {
   "cell_type": "code",
   "execution_count": null,
   "metadata": {
    "colab": {
     "base_uri": "https://localhost:8080/",
     "height": 541
    },
    "id": "NeustJgb-aZe",
    "outputId": "0f487b62-a93d-44a0-b4d1-45396da69596"
   },
   "outputs": [],
   "source": [
    "graph = nx.from_numpy_matrix(adj_matrix, create_using=nx.DiGraph)\n",
    "plt.figure(figsize=(24, 10))\n",
    "nx.draw_circular(graph, \n",
    "                 labels=dict(zip(regions_ids.values(),regions_ids.keys())),\n",
    "                 node_color='#00000000',\n",
    "                 edge_color='gray')"
   ]
  },
  {
   "cell_type": "markdown",
   "metadata": {
    "id": "GqBdkjKjY8tt"
   },
   "source": [
    "Najczęściej wspominane okręgi wyborcze:\n",
    "* Mayo and related\n",
    "* Louth\n",
    "* Dun Laoghaire\n",
    "* Kildare\n",
    "* ..."
   ]
  },
  {
   "cell_type": "markdown",
   "metadata": {},
   "source": [
    "## Create tables with external data"
   ]
  },
  {
   "cell_type": "markdown",
   "metadata": {},
   "source": [
    "Dzielimy przemawiających na 3 grupy: \n",
    "* other/ordinary -  ci którzy nie zajmują w momencie przemawiania żadnego stanowiska, jest ich 134\n",
    "* minsters -  ministrowie, ministrowie stanu (minister of state), wicepremierzy, jest ich 37\n",
    "* taoiseach - premierzy. W rozpatrywanej kadencji było dwóch"
   ]
  },
  {
   "cell_type": "code",
   "execution_count": null,
   "metadata": {},
   "outputs": [],
   "source": [
    "docs = df['speech']"
   ]
  },
  {
   "cell_type": "code",
   "execution_count": null,
   "metadata": {},
   "outputs": [],
   "source": [
    "df_ministers=pd.read_table(\"Dail_debates_1937-2011_ministers.tab\")"
   ]
  },
  {
   "cell_type": "code",
   "execution_count": null,
   "metadata": {},
   "outputs": [],
   "source": [
    "df_big=pd.merge(df,df_ministers,on='memberID',how='left')\n",
    "df_mins=df_big.loc[~(df_big[\"start_day\"].isna())]\n",
    "df_mins[\"end_date\"] = df_mins[\"end_date\"].fillna(\"2012-01-01\")"
   ]
  },
  {
   "cell_type": "code",
   "execution_count": null,
   "metadata": {},
   "outputs": [],
   "source": [
    "df_mins[\"end_date\"]= pd.to_datetime(df_mins[\"end_date\"], format=\"%Y-%m-%d\")\n",
    "df_mins[\"start_date\"]= pd.to_datetime(df_mins[\"start_date\"], format=\"%Y-%m-%d\")\n",
    "df_mins[\"date\"]= pd.to_datetime(df_mins[\"date\"], format=\"%Y-%m-%d\")"
   ]
  },
  {
   "cell_type": "code",
   "execution_count": null,
   "metadata": {},
   "outputs": [],
   "source": [
    "df_mins=df_mins.loc[df_mins[\"date\"]<df_mins[\"end_date\"]]\n",
    "df_mins=df_mins.loc[df_mins[\"start_date\"]<df_mins[\"date\"]]"
   ]
  },
  {
   "cell_type": "code",
   "execution_count": null,
   "metadata": {},
   "outputs": [],
   "source": [
    "df_other=df[~df[\"speechID\"].isin(df_mins[\"speechID\"])]"
   ]
  },
  {
   "cell_type": "code",
   "execution_count": null,
   "metadata": {},
   "outputs": [],
   "source": [
    "df_other_sm=df_other.sample(frac=0.25)"
   ]
  },
  {
   "cell_type": "code",
   "execution_count": null,
   "metadata": {},
   "outputs": [],
   "source": [
    "df_taos=df_mins.loc[df_mins[\"position\"]=='Taoiseach']"
   ]
  },
  {
   "cell_type": "code",
   "execution_count": null,
   "metadata": {},
   "outputs": [],
   "source": [
    "df_mins=df_mins[df_mins.position!=\"Taoiseach\"]"
   ]
  },
  {
   "cell_type": "code",
   "execution_count": null,
   "metadata": {
    "scrolled": true
   },
   "outputs": [],
   "source": [
    "df_mins=df_mins.drop_duplicates([\"speechID\"])"
   ]
  },
  {
   "cell_type": "code",
   "execution_count": null,
   "metadata": {
    "scrolled": true
   },
   "outputs": [],
   "source": [
    "df['copy_index'] = df.index\n",
    "df_mins=df.merge(df_mins, on=\"speechID\", how=\"right\")"
   ]
  },
  {
   "cell_type": "code",
   "execution_count": null,
   "metadata": {},
   "outputs": [],
   "source": [
    "df_taos=df.merge(df_taos, on=\"speechID\", how=\"right\")"
   ]
  },
  {
   "cell_type": "markdown",
   "metadata": {},
   "source": [
    "## Create subdocs\n",
    "Dla każdej grupy tworzymy osobne liste docs ze spacy "
   ]
  },
  {
   "cell_type": "code",
   "execution_count": null,
   "metadata": {},
   "outputs": [],
   "source": [
    "docs_other=[]\n",
    "for i in df_other.index.tolist():\n",
    "    docs_other.append(docs[i])"
   ]
  },
  {
   "cell_type": "code",
   "execution_count": null,
   "metadata": {},
   "outputs": [],
   "source": [
    "docs_mins=[]\n",
    "for i in df_mins.copy_index:\n",
    "    docs_mins.append(docs[i])"
   ]
  },
  {
   "cell_type": "code",
   "execution_count": null,
   "metadata": {},
   "outputs": [],
   "source": [
    "docs_taos=[]\n",
    "for i in df_taos.copy_index:\n",
    "    docs_taos.append(docs[i])"
   ]
  },
  {
   "cell_type": "markdown",
   "metadata": {},
   "source": [
    "## Average length of a speech"
   ]
  },
  {
   "cell_type": "code",
   "execution_count": null,
   "metadata": {},
   "outputs": [],
   "source": [
    "lens_other=[len(i) for i in docs_other]\n",
    "lens_mins=[len(i) for i in docs_mins]\n",
    "lens_taos=[len(i) for i in docs_taos]"
   ]
  },
  {
   "cell_type": "code",
   "execution_count": null,
   "metadata": {},
   "outputs": [],
   "source": [
    "length_other = sum(lens_other)/len(lens_other)\n",
    "length_mins = sum(lens_mins)/len(lens_mins)\n",
    "length_taos = sum(lens_taos)/len(lens_taos)"
   ]
  },
  {
   "cell_type": "code",
   "execution_count": null,
   "metadata": {},
   "outputs": [],
   "source": [
    "plt.figure(figsize=(6,6))\n",
    "ax = sns.barplot(y=[length_other, length_mins, length_taos], x=[\"Ordinary\", \"Ministers\", \"Taoiseach\"], \n",
    "                 palette=[\"blue\", \"orange\", \"green\"], orient=\"v\")\n"
   ]
  },
  {
   "cell_type": "markdown",
   "metadata": {},
   "source": [
    "Co ciekawe, przemówienia premiera są znaczenie krótsze od przemówień mistrów. "
   ]
  },
  {
   "cell_type": "code",
   "execution_count": null,
   "metadata": {},
   "outputs": [],
   "source": [
    "plt.figure(figsize=(15,10))\n",
    "sns.histplot(lens_other, log_scale=True, color=\"blue\")\n",
    "sns.histplot(lens_mins, log_scale=True, color=\"orange\")\n",
    "sns.histplot(lens_taos, log_scale=True, color=\"green\")\n"
   ]
  },
  {
   "cell_type": "markdown",
   "metadata": {},
   "source": [
    "Widać dwa peaki w rozkładzie czasu przemówień zwykłych deputowanych - może to kwestia trybu przemawiania, np zadawania pytań/komentarza/odpowiedzi?"
   ]
  },
  {
   "cell_type": "markdown",
   "metadata": {},
   "source": [
    "## Wordclouds"
   ]
  },
  {
   "cell_type": "code",
   "execution_count": null,
   "metadata": {},
   "outputs": [],
   "source": [
    "lemmas_other=[]\n",
    "for i in range(len(docs_other)):\n",
    "    for t in [token.lemma_ for token in docs_other[i] if not token.is_stop if not token.is_punct]:\n",
    "        lemmas_other.append(t)\n",
    "lemmas_mins=[]\n",
    "for i in range(len(docs_mins)):\n",
    "    for t in [token.lemma_ for token in docs_mins[i] if not token.is_stop if not token.is_punct]:\n",
    "        lemmas_mins.append(t)\n",
    "lemmas_taos=[]\n",
    "for i in range(len(docs_taos)):\n",
    "    for t in [token.lemma_ for token in docs_taos[i] if not token.is_stop if not token.is_punct]:\n",
    "        lemmas_taos.append(t)\n",
    "        \n",
    "        "
   ]
  },
  {
   "cell_type": "code",
   "execution_count": null,
   "metadata": {},
   "outputs": [],
   "source": [
    "from collections import Counter\n",
    "word_counts_other = Counter(lemmas_other)\n",
    "word_counts_mins = Counter(lemmas_mins)\n",
    "word_counts_taos = Counter(lemmas_taos)"
   ]
  },
  {
   "cell_type": "code",
   "execution_count": null,
   "metadata": {},
   "outputs": [],
   "source": [
    "wc = WordCloud(width=800, height=400)\n",
    "wc.generate_from_frequencies(frequencies=word_counts_other)\n",
    "plt.figure(figsize=(10,8))\n",
    "plt.axis(\"off\")\n",
    "plt.imshow(wc)"
   ]
  },
  {
   "cell_type": "code",
   "execution_count": null,
   "metadata": {},
   "outputs": [],
   "source": [
    "wc = WordCloud(width=800, height=400)\n",
    "wc.generate_from_frequencies(frequencies=word_counts_mins)\n",
    "plt.figure(figsize=(10,8))\n",
    "plt.axis(\"off\")\n",
    "plt.imshow(wc)"
   ]
  },
  {
   "cell_type": "code",
   "execution_count": null,
   "metadata": {},
   "outputs": [],
   "source": [
    "wc = WordCloud(width=800, height=400)\n",
    "wc.generate_from_frequencies(frequencies=word_counts_taos)\n",
    "plt.figure(figsize=(10,8))\n",
    "plt.axis(\"off\")\n",
    "plt.imshow(wc)"
   ]
  },
  {
   "cell_type": "markdown",
   "metadata": {},
   "source": [
    "Widać, kto jest adresatem czyjej wypowiedzi. Premier najczęściej zwraca się do deputowanych, a zwykli deputowani - do ministrów. Ministrowie najczęściej mówią o ministerstwach - może podczas składania sprawozdań z pracy ich departamentu? Szeregowi posłowie też najczęściej zadają pytania w swoich wypowiedziach - niektóre krótkie pytania są zapisane w danych w mowie zależnej, stąd słowo \"ask\" częste wśród wypowiedzi. "
   ]
  },
  {
   "cell_type": "markdown",
   "metadata": {},
   "source": [
    "## basic Sentiment Analysis"
   ]
  },
  {
   "cell_type": "code",
   "execution_count": null,
   "metadata": {},
   "outputs": [],
   "source": [
    "from nltk.sentiment import SentimentIntensityAnalyzer\n",
    "\n",
    "def get_scores(docs_sample):\n",
    "    \n",
    "    score={\"neg\":0, \"neu\":0, \"pos\":0, \"compound\":0}\n",
    "    for i in range(len(docs_sample)):\n",
    "        sia = SentimentIntensityAnalyzer()\n",
    "        ss=sia.polarity_scores(str(docs_sample[i]))\n",
    "        for k in score.keys():\n",
    "            score[k]+=ss[k]\n",
    "    for k in score.keys():\n",
    "            score[k]=score[k]/len(docs_sample)\n",
    "    return score"
   ]
  },
  {
   "cell_type": "code",
   "execution_count": null,
   "metadata": {},
   "outputs": [],
   "source": [
    "docs_other_sample=random.sample(docs_other, 1000)\n",
    "docs_mins_sample=random.sample(docs_mins, 1000)\n",
    "docs_taos_sample=random.sample(docs_taos, 1000)\n",
    "score_other=get_scores(docs_other_sample)\n",
    "score_mins=get_scores(docs_mins_sample)\n",
    "score_taos=get_scores(docs_taos_sample)\n"
   ]
  },
  {
   "cell_type": "code",
   "execution_count": null,
   "metadata": {},
   "outputs": [],
   "source": [
    "dics=[score_other, score_mins, score_taos]\n",
    "tempo={\"group\":0, \"neg\":0,  \"pos\":0, \"compound\":0}\n",
    "for i in dics:\n",
    "    for k in i.keys():\n",
    "        tempo[k]=i[k]\n",
    "        "
   ]
  },
  {
   "cell_type": "code",
   "execution_count": null,
   "metadata": {},
   "outputs": [],
   "source": [
    "fig, ax = plt.subplots(3, figsize=(15,12))\n",
    "sns.barplot(x=list(score_other.keys()), y=list(score_other.values()), ax=ax[0]).set_title(\"Ordinary\")\n",
    "sns.barplot(x=list(score_mins.keys()), y=list(score_mins.values()), ax=ax[1]).set_title(\"Ministers\")\n",
    "sns.barplot(x=list(score_taos.keys()), y=list(score_taos.values()), ax=ax[2]).set_title(\"Taoiseach\")"
   ]
  },
  {
   "cell_type": "markdown",
   "metadata": {},
   "source": [
    "Generalnie wszystkie wypowiedzi są klasyfikowane raczej jako neutralne. Wielkość \"compound\" jest zdecydowanie najniższa u zwykłych posłów - jest to wielkość mówiaca o ogólnym wydźwięku wypowiedzi, nie do końca bezpośrednio zależna od pozostałych wielkości. Jest ona jednak dalej dodatnia - compund przyjmuje wartości na przedziale (-1, 1).  "
   ]
  },
  {
   "cell_type": "markdown",
   "metadata": {},
   "source": [
    "## Name mentions"
   ]
  },
  {
   "cell_type": "code",
   "execution_count": null,
   "metadata": {},
   "outputs": [],
   "source": [
    "df_mins = df_mins.loc[:,~df_mins.columns.duplicated()]\n",
    "df_taos = df_taos.loc[:,~df_taos.columns.duplicated()]"
   ]
  },
  {
   "cell_type": "code",
   "execution_count": null,
   "metadata": {},
   "outputs": [],
   "source": [
    "names_other=list(set([i.split()[-1] for i in df_other.member_name]))[2:]\n",
    "names_mins=list(set([i.split()[-1] for i in df_mins.member_name_x]))[2:]\n",
    "names_taos=list(set([i.split()[-1] for i in df_taos.member_name_x]))"
   ]
  },
  {
   "cell_type": "code",
   "execution_count": null,
   "metadata": {},
   "outputs": [],
   "source": [
    "sample_texts=random.sample(docs, 10000)"
   ]
  },
  {
   "cell_type": "code",
   "execution_count": null,
   "metadata": {},
   "outputs": [],
   "source": [
    "dic_names_other={}\n",
    "for i in names_other:\n",
    "    dic_names_other[i]=0\n",
    "dic_names_mins={}\n",
    "for i in names_mins:\n",
    "    dic_names_mins[i]=0\n",
    "dic_names_taos={}\n",
    "for i in names_taos:\n",
    "    dic_names_taos[i]=0"
   ]
  },
  {
   "cell_type": "code",
   "execution_count": null,
   "metadata": {},
   "outputs": [],
   "source": [
    "for i in sample_texts:\n",
    "    words=str(i).split()\n",
    "    for w in words:\n",
    "        if w in dic_names_taos.keys():\n",
    "            dic_names_taos[w]+=1\n",
    "        if w in dic_names_mins.keys():\n",
    "            dic_names_mins[w]+=1\n",
    "        if w in dic_names_other.keys():\n",
    "            dic_names_other[w]+=1\n",
    "dic_names_mins.pop(\"White\")\n",
    "dic_names_other.pop(\"White\")"
   ]
  },
  {
   "cell_type": "markdown",
   "metadata": {},
   "source": [
    "Usuwamy panią White  z naszych nazwisk - może ona co prawda być często wspominana, bo w 2010 objęła stanowisko w ministerstwie stanu, ale jej nazwisko może też pojawiać się w innch konktekstach."
   ]
  },
  {
   "cell_type": "markdown",
   "metadata": {},
   "source": [
    "#### Average number of name mentions per group"
   ]
  },
  {
   "cell_type": "code",
   "execution_count": null,
   "metadata": {},
   "outputs": [],
   "source": [
    "print(\"Ordinary: \", sum(dic_names_other.values())/len(dic_names_other.keys()))\n",
    "print(\"Ministers: \", sum(dic_names_mins.values())/len(dic_names_mins.keys()))\n",
    "print(\"Taoiseach: \", sum(dic_names_taos.values())/len(dic_names_taos.keys()))"
   ]
  },
  {
   "cell_type": "markdown",
   "metadata": {},
   "source": [
    "#### Most mentioned"
   ]
  },
  {
   "cell_type": "code",
   "execution_count": null,
   "metadata": {},
   "outputs": [],
   "source": [
    "t=max(dic_names_taos, key=dic_names_taos.get)\n",
    "m=max(dic_names_mins, key=dic_names_mins.get)\n",
    "o=max(dic_names_other, key=dic_names_other.get)"
   ]
  },
  {
   "cell_type": "markdown",
   "metadata": {},
   "source": [
    "#### Most menionen non minister:\n",
    "Joan Burton. Przewodnicząca Partii Pracy. Ciekawe o tyle, że w następnej kadencji już została ministrem.\n"
   ]
  },
  {
   "cell_type": "markdown",
   "metadata": {},
   "source": [
    "#### Most mentioned minister:\n",
    "Micheal Martin, minister zatrudnienia a potem mister spraw zewnętrznych."
   ]
  },
  {
   "cell_type": "markdown",
   "metadata": {},
   "source": [
    "#### Most mentioned Taoiseach:\n",
    "Co ciekawe, Brian Cohen był wspominany dużo rzadziej niż Bertie Ahern, mimo że to on przez większość kadencji zajmował stanowisko premiera."
   ]
  },
  {
   "cell_type": "markdown",
   "metadata": {
    "id": "EgN-Vv4qQLkB",
    "tags": []
   },
   "source": [
    "## IG tagging"
   ]
  },
  {
   "cell_type": "code",
   "execution_count": null,
   "metadata": {
    "id": "A0HmVP2WpQu6"
   },
   "outputs": [],
   "source": [
    "# load NeuralCoref and add it to the pipe of SpaCy's model\n",
    "import neuralcoref\n",
    "coref = neuralcoref.NeuralCoref(en.vocab)\n",
    "en.add_pipe(coref, name='neuralcoref')"
   ]
  },
  {
   "cell_type": "code",
   "execution_count": null,
   "metadata": {
    "id": "Ki1cajiijaZq"
   },
   "outputs": [],
   "source": [
    "def find_deontic(sent):\n",
    "    deontic_verbs = ['can', 'may', 'must', 'shall', 'could', 'might', 'should']\n",
    "    deontic = None\n",
    "    for token in sent:\n",
    "        if token.lemma_ in deontic_verbs:\n",
    "            deontic = token\n",
    "    return deontic\n",
    "\n",
    "\n",
    "def get_children_with_dep(token, dep: str):\n",
    "    return [c for c in token.children if c.dep_ == dep]\n",
    "\n",
    "\n",
    "def get_clausual_subject(token):\n",
    "    csubjs = get_children_with_dep(token, 'csubj')\n",
    "    out = list()\n",
    "    for c in csubjs:\n",
    "        out = out + get_children_with_dep(c, 'nsubj')\n",
    "    return out\n",
    "\n",
    "\n",
    "def get_coref(token):\n",
    "    corefs = token._.corefs\n",
    "    if len(corefs) == 0 or token.pos_ != \"PRON\":\n",
    "        return None\n",
    "    return corefs[0]\n",
    "\n",
    "\n",
    "def tag_ig(doc):\n",
    "    sents = list(doc.sents)\n",
    "    ig_deontics = list()\n",
    "    ig_attributes = list()\n",
    "    ig_objects = list()\n",
    "    ig_aims = list()\n",
    "    for sent in sents:\n",
    "        d = find_deontic(sent)\n",
    "        if d is None:\n",
    "            return pd.Series([None, None, None, None], index=['ig_deontic', 'ig_attributes', 'ig_objects', 'ig_aims'])\n",
    "        attributes = list()\n",
    "        objects = list()\n",
    "        verbs = list()\n",
    "        verb = d.head\n",
    "        while verb is not None:\n",
    "            attr = verb\n",
    "            verb = None\n",
    "            verbs.append(attr)\n",
    "            newSubj = get_children_with_dep(attr, 'nsubj')\n",
    "            newPassiveSubj = get_children_with_dep(attr, 'nsubjpass')\n",
    "            if len(newSubj) == 0 and len(newPassiveSubj) == 0:\n",
    "                attributes = get_clausual_subject(attr)\n",
    "            attributes = attributes + newSubj\n",
    "            objects = objects + newPassiveSubj + get_children_with_dep(attr, 'dobj')\n",
    "            if attr.dep_ == 'conj' and attr.pos_ == 'VERB':\n",
    "                verb = attr.head\n",
    "        for subject in attributes:\n",
    "            if subject.dep_ == 'conj':\n",
    "                attributes.append(subject)\n",
    "            attributes = attributes + get_children_with_dep(subject, 'conj')\n",
    "            if subject.pos_ == \"PRON\":\n",
    "                subject = get_coref(subject)\n",
    "        for object_ in objects:\n",
    "            objects = objects + get_children_with_dep(object_, 'conj')\n",
    "\n",
    "        ig_deontics.extend([d.lemma_])\n",
    "        ig_attributes.extend(attributes)\n",
    "        ig_objects.extend(objects)\n",
    "        ig_aims.extend(verbs)\n",
    "\n",
    "    return pd.Series([ig_deontics, ig_attributes, ig_objects, ig_aims],\n",
    "                     index=['ig_deontic', 'ig_attributes', 'ig_objects', 'ig_aims'])\n"
   ]
  },
  {
   "cell_type": "markdown",
   "metadata": {
    "id": "x4Q1W-vqn3Qy"
   },
   "source": [
    "Pobieranie tekstów zawierających modal verbs."
   ]
  },
  {
   "cell_type": "code",
   "execution_count": null,
   "metadata": {
    "id": "1-L3ZhccQMo7"
   },
   "outputs": [],
   "source": [
    "!wget -O deontic_df.csv https://f003.backblazeb2.com/b2api/v1/b2_download_file_by_id?fileId=4_z9294ca46a0cd794a72fe0e1b_f106f2d4591b52b03_d20220324_m140808_c003_v0312006_t0005_u01648130888270\n",
    "df = pd.read_csv('deontic_df.csv')\n",
    "df = df.sample(n=3000, random_state=42)\n",
    "df['speech_spacy'] = df['speech'].swifter.apply(en)"
   ]
  },
  {
   "cell_type": "code",
   "execution_count": null,
   "metadata": {
    "id": "584sOtu-Q-fb"
   },
   "outputs": [],
   "source": [
    "df[['ig_deontic', 'ig_attributes', 'ig_objects', 'ig_aims']]= df['speech_spacy'].apply(tag_ig)\n",
    "df = df[~df.ig_deontic.isnull()]\n",
    "df = df.explode('ig_deontic').explode('ig_attributes').explode('ig_objects').explode('ig_aims')"
   ]
  },
  {
   "cell_type": "code",
   "execution_count": null,
   "metadata": {
    "id": "CNerq1OtkZPV"
   },
   "outputs": [],
   "source": [
    "# dodanie atrybutu, czy mówca jest z partii rządzącej\n",
    "df['ruling_party'] = df['partyID'].map(lambda x: 1 if x in [8,10,21] else 0)"
   ]
  },
  {
   "cell_type": "code",
   "execution_count": null,
   "metadata": {
    "colab": {
     "base_uri": "https://localhost:8080/",
     "height": 206
    },
    "id": "-3wLk29lb0N_",
    "outputId": "3d8f63ae-2336-4445-d5fd-5630135ef9c8"
   },
   "outputs": [],
   "source": [
    "df[['ruling_party','ig_deontic', 'ig_attributes', 'ig_objects', 'ig_aims']].head()"
   ]
  },
  {
   "cell_type": "markdown",
   "metadata": {
    "id": "_KOvBCfXoM_m"
   },
   "source": [
    "Wykres poniżej przedstawia liczbę zwrotów z *modal verbs* z podziałem na partie rządzące oraz opozycyjne. Największe dysproporcje widać przy czasowniku *should* (częściej wypowiadane przez partie rządzące) oraz *must* (częściej wypowiadane przez partie opozycyjne)."
   ]
  },
  {
   "cell_type": "code",
   "execution_count": null,
   "metadata": {
    "colab": {
     "base_uri": "https://localhost:8080/",
     "height": 303
    },
    "id": "OmnCzpHlh60e",
    "outputId": "4836d8c7-fe5a-4f0b-eeeb-c5b8f54802e7"
   },
   "outputs": [],
   "source": [
    "import matplotlib.pyplot as plt\n",
    "pd.options.plotting.backend = 'matplotlib'\n",
    "df.groupby(['ig_deontic', 'ruling_party'])['ig_deontic'].count().to_frame().unstack().plot(kind='bar')\n",
    "plt.legend(['Partie rządzące', 'Partie opozycyjne'])\n",
    "plt.show()"
   ]
  }
 ],
 "metadata": {
  "accelerator": "GPU",
  "colab": {
   "collapsed_sections": [],
   "name": "EDA.ipynb",
   "provenance": []
  },
  "kernelspec": {
   "display_name": "Python 3 (ipykernel)",
   "language": "python",
   "name": "python3"
  },
  "language_info": {
   "codemirror_mode": {
    "name": "ipython",
    "version": 3
   },
   "file_extension": ".py",
   "mimetype": "text/x-python",
   "name": "python",
   "nbconvert_exporter": "python",
   "pygments_lexer": "ipython3",
   "version": "3.8.10"
  },
  "widgets": {
   "application/vnd.jupyter.widget-state+json": {
    "066fea89ccba47d4b345ee369d7caa98": {
     "model_module": "@jupyter-widgets/controls",
     "model_module_version": "1.5.0",
     "model_name": "DescriptionStyleModel",
     "state": {
      "_model_module": "@jupyter-widgets/controls",
      "_model_module_version": "1.5.0",
      "_model_name": "DescriptionStyleModel",
      "_view_count": null,
      "_view_module": "@jupyter-widgets/base",
      "_view_module_version": "1.2.0",
      "_view_name": "StyleView",
      "description_width": ""
     }
    },
    "13534a5b1924433698c5cd411636e683": {
     "model_module": "@jupyter-widgets/controls",
     "model_module_version": "1.5.0",
     "model_name": "ProgressStyleModel",
     "state": {
      "_model_module": "@jupyter-widgets/controls",
      "_model_module_version": "1.5.0",
      "_model_name": "ProgressStyleModel",
      "_view_count": null,
      "_view_module": "@jupyter-widgets/base",
      "_view_module_version": "1.2.0",
      "_view_name": "StyleView",
      "bar_color": null,
      "description_width": ""
     }
    },
    "2c5c45765dc9419b9caab0895f640c38": {
     "model_module": "@jupyter-widgets/base",
     "model_module_version": "1.2.0",
     "model_name": "LayoutModel",
     "state": {
      "_model_module": "@jupyter-widgets/base",
      "_model_module_version": "1.2.0",
      "_model_name": "LayoutModel",
      "_view_count": null,
      "_view_module": "@jupyter-widgets/base",
      "_view_module_version": "1.2.0",
      "_view_name": "LayoutView",
      "align_content": null,
      "align_items": null,
      "align_self": null,
      "border": null,
      "bottom": null,
      "display": null,
      "flex": null,
      "flex_flow": null,
      "grid_area": null,
      "grid_auto_columns": null,
      "grid_auto_flow": null,
      "grid_auto_rows": null,
      "grid_column": null,
      "grid_gap": null,
      "grid_row": null,
      "grid_template_areas": null,
      "grid_template_columns": null,
      "grid_template_rows": null,
      "height": null,
      "justify_content": null,
      "justify_items": null,
      "left": null,
      "margin": null,
      "max_height": null,
      "max_width": null,
      "min_height": null,
      "min_width": null,
      "object_fit": null,
      "object_position": null,
      "order": null,
      "overflow": null,
      "overflow_x": null,
      "overflow_y": null,
      "padding": null,
      "right": null,
      "top": null,
      "visibility": null,
      "width": null
     }
    },
    "310b6a83755d4acbaaeb969448edcbca": {
     "model_module": "@jupyter-widgets/base",
     "model_module_version": "1.2.0",
     "model_name": "LayoutModel",
     "state": {
      "_model_module": "@jupyter-widgets/base",
      "_model_module_version": "1.2.0",
      "_model_name": "LayoutModel",
      "_view_count": null,
      "_view_module": "@jupyter-widgets/base",
      "_view_module_version": "1.2.0",
      "_view_name": "LayoutView",
      "align_content": null,
      "align_items": null,
      "align_self": null,
      "border": null,
      "bottom": null,
      "display": null,
      "flex": null,
      "flex_flow": null,
      "grid_area": null,
      "grid_auto_columns": null,
      "grid_auto_flow": null,
      "grid_auto_rows": null,
      "grid_column": null,
      "grid_gap": null,
      "grid_row": null,
      "grid_template_areas": null,
      "grid_template_columns": null,
      "grid_template_rows": null,
      "height": null,
      "justify_content": null,
      "justify_items": null,
      "left": null,
      "margin": null,
      "max_height": null,
      "max_width": null,
      "min_height": null,
      "min_width": null,
      "object_fit": null,
      "object_position": null,
      "order": null,
      "overflow": null,
      "overflow_x": null,
      "overflow_y": null,
      "padding": null,
      "right": null,
      "top": null,
      "visibility": null,
      "width": null
     }
    },
    "5c753c221f5048648731d14cdb4e30b1": {
     "model_module": "@jupyter-widgets/base",
     "model_module_version": "1.2.0",
     "model_name": "LayoutModel",
     "state": {
      "_model_module": "@jupyter-widgets/base",
      "_model_module_version": "1.2.0",
      "_model_name": "LayoutModel",
      "_view_count": null,
      "_view_module": "@jupyter-widgets/base",
      "_view_module_version": "1.2.0",
      "_view_name": "LayoutView",
      "align_content": null,
      "align_items": null,
      "align_self": null,
      "border": null,
      "bottom": null,
      "display": null,
      "flex": null,
      "flex_flow": null,
      "grid_area": null,
      "grid_auto_columns": null,
      "grid_auto_flow": null,
      "grid_auto_rows": null,
      "grid_column": null,
      "grid_gap": null,
      "grid_row": null,
      "grid_template_areas": null,
      "grid_template_columns": null,
      "grid_template_rows": null,
      "height": null,
      "justify_content": null,
      "justify_items": null,
      "left": null,
      "margin": null,
      "max_height": null,
      "max_width": null,
      "min_height": null,
      "min_width": null,
      "object_fit": null,
      "object_position": null,
      "order": null,
      "overflow": null,
      "overflow_x": null,
      "overflow_y": null,
      "padding": null,
      "right": null,
      "top": null,
      "visibility": null,
      "width": null
     }
    },
    "78982639261842e380f31e3f13ebc2b0": {
     "model_module": "@jupyter-widgets/controls",
     "model_module_version": "1.5.0",
     "model_name": "HBoxModel",
     "state": {
      "_dom_classes": [],
      "_model_module": "@jupyter-widgets/controls",
      "_model_module_version": "1.5.0",
      "_model_name": "HBoxModel",
      "_view_count": null,
      "_view_module": "@jupyter-widgets/controls",
      "_view_module_version": "1.5.0",
      "_view_name": "HBoxView",
      "box_style": "",
      "children": [
       "IPY_MODEL_ac9c6b317a3a4c3e9091c2555340a0ad",
       "IPY_MODEL_ed06e8cd37c540ea80d40c810b3fea72",
       "IPY_MODEL_9120f713c97d4d3d92776298fa3df705"
      ],
      "layout": "IPY_MODEL_5c753c221f5048648731d14cdb4e30b1"
     }
    },
    "9120f713c97d4d3d92776298fa3df705": {
     "model_module": "@jupyter-widgets/controls",
     "model_module_version": "1.5.0",
     "model_name": "HTMLModel",
     "state": {
      "_dom_classes": [],
      "_model_module": "@jupyter-widgets/controls",
      "_model_module_version": "1.5.0",
      "_model_name": "HTMLModel",
      "_view_count": null,
      "_view_module": "@jupyter-widgets/controls",
      "_view_module_version": "1.5.0",
      "_view_name": "HTMLView",
      "description": "",
      "description_tooltip": null,
      "layout": "IPY_MODEL_2c5c45765dc9419b9caab0895f640c38",
      "placeholder": "​",
      "style": "IPY_MODEL_066fea89ccba47d4b345ee369d7caa98",
      "value": " 35936/35936 [1:27:57&lt;00:00,  5.76it/s]"
     }
    },
    "a47c8788b8584b51b083ce03479f6ece": {
     "model_module": "@jupyter-widgets/controls",
     "model_module_version": "1.5.0",
     "model_name": "DescriptionStyleModel",
     "state": {
      "_model_module": "@jupyter-widgets/controls",
      "_model_module_version": "1.5.0",
      "_model_name": "DescriptionStyleModel",
      "_view_count": null,
      "_view_module": "@jupyter-widgets/base",
      "_view_module_version": "1.2.0",
      "_view_name": "StyleView",
      "description_width": ""
     }
    },
    "ac9c6b317a3a4c3e9091c2555340a0ad": {
     "model_module": "@jupyter-widgets/controls",
     "model_module_version": "1.5.0",
     "model_name": "HTMLModel",
     "state": {
      "_dom_classes": [],
      "_model_module": "@jupyter-widgets/controls",
      "_model_module_version": "1.5.0",
      "_model_name": "HTMLModel",
      "_view_count": null,
      "_view_module": "@jupyter-widgets/controls",
      "_view_module_version": "1.5.0",
      "_view_name": "HTMLView",
      "description": "",
      "description_tooltip": null,
      "layout": "IPY_MODEL_e6a4addbc39548509c6d1218d6358c96",
      "placeholder": "​",
      "style": "IPY_MODEL_a47c8788b8584b51b083ce03479f6ece",
      "value": "Pandas Apply: 100%"
     }
    },
    "e6a4addbc39548509c6d1218d6358c96": {
     "model_module": "@jupyter-widgets/base",
     "model_module_version": "1.2.0",
     "model_name": "LayoutModel",
     "state": {
      "_model_module": "@jupyter-widgets/base",
      "_model_module_version": "1.2.0",
      "_model_name": "LayoutModel",
      "_view_count": null,
      "_view_module": "@jupyter-widgets/base",
      "_view_module_version": "1.2.0",
      "_view_name": "LayoutView",
      "align_content": null,
      "align_items": null,
      "align_self": null,
      "border": null,
      "bottom": null,
      "display": null,
      "flex": null,
      "flex_flow": null,
      "grid_area": null,
      "grid_auto_columns": null,
      "grid_auto_flow": null,
      "grid_auto_rows": null,
      "grid_column": null,
      "grid_gap": null,
      "grid_row": null,
      "grid_template_areas": null,
      "grid_template_columns": null,
      "grid_template_rows": null,
      "height": null,
      "justify_content": null,
      "justify_items": null,
      "left": null,
      "margin": null,
      "max_height": null,
      "max_width": null,
      "min_height": null,
      "min_width": null,
      "object_fit": null,
      "object_position": null,
      "order": null,
      "overflow": null,
      "overflow_x": null,
      "overflow_y": null,
      "padding": null,
      "right": null,
      "top": null,
      "visibility": null,
      "width": null
     }
    },
    "ed06e8cd37c540ea80d40c810b3fea72": {
     "model_module": "@jupyter-widgets/controls",
     "model_module_version": "1.5.0",
     "model_name": "FloatProgressModel",
     "state": {
      "_dom_classes": [],
      "_model_module": "@jupyter-widgets/controls",
      "_model_module_version": "1.5.0",
      "_model_name": "FloatProgressModel",
      "_view_count": null,
      "_view_module": "@jupyter-widgets/controls",
      "_view_module_version": "1.5.0",
      "_view_name": "ProgressView",
      "bar_style": "success",
      "description": "",
      "description_tooltip": null,
      "layout": "IPY_MODEL_310b6a83755d4acbaaeb969448edcbca",
      "max": 35936,
      "min": 0,
      "orientation": "horizontal",
      "style": "IPY_MODEL_13534a5b1924433698c5cd411636e683",
      "value": 35936
     }
    }
   }
  }
 },
 "nbformat": 4,
 "nbformat_minor": 4
}
