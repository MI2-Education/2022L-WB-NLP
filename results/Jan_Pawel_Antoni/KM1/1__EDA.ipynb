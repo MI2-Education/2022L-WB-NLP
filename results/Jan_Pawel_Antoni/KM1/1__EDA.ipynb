{
 "cells": [
  {
   "cell_type": "code",
   "execution_count": null,
   "metadata": {
    "cell_id": "856eb72e-5f42-4a79-9d23-262a858093fd",
    "deepnote_cell_height": 74,
    "deepnote_cell_type": "code",
    "deepnote_to_be_reexecuted": false,
    "execution_millis": 25099,
    "execution_start": 1649967109791,
    "is_code_hidden": true,
    "source_hash": "dac09d64",
    "tags": []
   },
   "outputs": [],
   "source": [
    "import pandas as pd\n",
    "import numpy as np\n",
    "import re\n",
    "import seaborn as sns\n",
    "from matplotlib import pyplot as plt\n",
    "import warnings\n",
    "import spacy\n",
    "import swifter\n",
    "from tqdm import tqdm\n",
    "import spacy"
   ]
  },
  {
   "cell_type": "markdown",
   "metadata": {
    "cell_id": "cbeb680299214c829096204197a8568a",
    "deepnote_app_coordinates": {
     "h": 10,
     "w": 12,
     "x": 0,
     "y": 6
    },
    "deepnote_cell_height": 629,
    "deepnote_cell_type": "markdown",
    "tags": []
   },
   "source": [
    "# Cytowania artykułów naukowych z dziedziny AI w dokumentach legislacyjnych - EDA\n",
    "\n",
    "\n",
    "### Zbiór danych\n",
    "\n",
    ">**S2ORC** is a general-purpose corpus for NLP and text mining research over scientific papers. We've curated a unified resource that combines aspects of **citation graphs** (i.e. rich paper metadata, abstracts, citation edges) [...]. Corpus covers 136M+ paper nodes with 12.7M+ full text papers and connected by 467M+ citation edges by unifying data from many different sources covering many different academic disciplines and identifying open-access papers using services.\n",
    "*https://github.com/allenai/s2orc/*\n",
    "\n",
    "\n",
    "<img src=\"img/Altmetric_logo.png\" width=\"200\">\n",
    "<img src=\"img/openalex-logo.png\" width=\"200\">"
   ]
  },
  {
   "cell_type": "code",
   "execution_count": null,
   "metadata": {
    "cell_id": "d089b4c9f6fd4b1eacc2ed2440398cf9",
    "deepnote_app_coordinates": {
     "h": 24,
     "w": 12,
     "x": 0,
     "y": 17
    },
    "deepnote_cell_height": 633,
    "deepnote_cell_type": "code",
    "deepnote_to_be_reexecuted": false,
    "execution_millis": 1595,
    "execution_start": 1649967224881,
    "source_hash": "23c7f2b9",
    "tags": []
   },
   "outputs": [],
   "source": [
    "df=pd.read_csv('data/df_all.csv')\n",
    "df"
   ]
  },
  {
   "cell_type": "code",
   "execution_count": null,
   "metadata": {
    "cell_id": "49de6dc274cf48aab84667841609b1b5",
    "deepnote_app_coordinates": {
     "h": 14,
     "w": 12,
     "x": 0,
     "y": 42
    },
    "deepnote_cell_height": 365,
    "deepnote_cell_type": "code",
    "deepnote_output_heights": [
     268
    ],
    "deepnote_to_be_reexecuted": false,
    "execution_millis": 6,
    "execution_start": 1649888015556,
    "source_hash": "25d43fa0",
    "tags": []
   },
   "outputs": [],
   "source": [
    "df.columns"
   ]
  },
  {
   "cell_type": "code",
   "execution_count": null,
   "metadata": {
    "cell_id": "d11ffc0da5894225a8d9f8a079bb4ac2",
    "deepnote_app_coordinates": {
     "h": 16,
     "w": 12,
     "x": 0,
     "y": 57
    },
    "deepnote_cell_height": 395,
    "deepnote_cell_type": "code",
    "deepnote_to_be_reexecuted": false,
    "execution_millis": 33,
    "execution_start": 1649888029736,
    "source_hash": "1e70869f",
    "tags": []
   },
   "outputs": [],
   "source": [
    "df.sort_values([\"score\"], ascending=False)[[\"title\", \"score\"]].head(5)"
   ]
  },
  {
   "cell_type": "code",
   "execution_count": null,
   "metadata": {
    "cell_id": "629097c0bc9e45279ddf12aadd30d63c",
    "deepnote_cell_height": 327,
    "deepnote_cell_type": "code",
    "deepnote_output_heights": [
     230
    ],
    "deepnote_to_be_reexecuted": false,
    "execution_millis": 2,
    "execution_start": 1649888079554,
    "source_hash": "bbd0be78",
    "tags": []
   },
   "outputs": [],
   "source": [
    "df[\"mag_field_of_study\"]"
   ]
  },
  {
   "cell_type": "code",
   "execution_count": null,
   "metadata": {
    "cell_id": "442dbd18e0254f5290238359be82dc03",
    "deepnote_cell_height": 498,
    "deepnote_cell_type": "code",
    "deepnote_to_be_reexecuted": false,
    "execution_millis": 4525,
    "execution_start": 1649888054308,
    "source_hash": "4df4142c",
    "tags": []
   },
   "outputs": [],
   "source": [
    "df[\"mag_field_of_study\"]=df[\"mag_field_of_study\"].fillna(\"NNonee\")  #xdddd\n",
    "tmp=[x[1:len(x)-1] for x in df[\"mag_field_of_study\"]]\n",
    "tmp=[x.replace(\"'\", \"\") for x in tmp]\n",
    "tmp=[x.split(\",\") for x in tmp]\n",
    "df[\"mag_field_of_study\"]=tmp\n",
    "categories=[]\n",
    "for i in df[\"mag_field_of_study\"]:\n",
    "    for j in i:\n",
    "        categories.append(j)\n",
    "\n",
    "categories=set([x.replace(\" \",\"\") for x in categories])\n",
    "categories=[re.sub(r\"(\\w)([A-Z])\", r\"\\1 \\2\", x) for x in categories]\n",
    "\n",
    "df[categories]=0\n",
    "for i in range(len(df)):\n",
    "    for k in categories:\n",
    "        if k in df[\"mag_field_of_study\"][i]:\n",
    "            df[k][i]=1"
   ]
  },
  {
   "cell_type": "markdown",
   "metadata": {
    "cell_id": "e2099aa2fce14a3e8067226f458ee745",
    "deepnote_app_coordinates": {
     "h": 3,
     "w": 12,
     "x": 0,
     "y": 74
    },
    "deepnote_cell_type": "text-cell-h3",
    "is_collapsed": false,
    "tags": []
   },
   "source": [
    "### Wstępna analiza"
   ]
  },
  {
   "cell_type": "markdown",
   "metadata": {
    "cell_id": "5b6bcccef72447afa0e070aeac88cefe",
    "deepnote_app_coordinates": {
     "h": 3,
     "w": 12,
     "x": 0,
     "y": 78
    },
    "deepnote_cell_height": 54,
    "deepnote_cell_type": "markdown",
    "tags": []
   },
   "source": [
    "##### Ilość artykułów a dziedzina"
   ]
  },
  {
   "cell_type": "code",
   "execution_count": null,
   "metadata": {
    "cell_id": "ed2237cb525143e985a2165396b63073",
    "deepnote_app_coordinates": {
     "h": 26,
     "w": 12,
     "x": 0,
     "y": 82
    },
    "deepnote_cell_height": 651,
    "deepnote_cell_type": "code",
    "deepnote_output_heights": [
     482
    ],
    "deepnote_to_be_reexecuted": false,
    "execution_millis": 498,
    "execution_start": 1649888224842,
    "source_hash": "5aa0e9bb",
    "tags": []
   },
   "outputs": [],
   "source": [
    "plt.figure(figsize=(8,6))\n",
    "sums=[sum(df[x]) for x in categories]\n",
    "ax = sns.barplot(categories, y=sums)\n",
    "plt.xticks(rotation=90);\n",
    "plt.title(\"Number of articles by field\", size=15);"
   ]
  },
  {
   "cell_type": "markdown",
   "metadata": {
    "cell_id": "be6dee512f184e96b609403125d669ac",
    "deepnote_app_coordinates": {
     "h": 3,
     "w": 12,
     "x": 0,
     "y": 126
    },
    "deepnote_cell_height": 54,
    "deepnote_cell_type": "markdown",
    "tags": []
   },
   "source": [
    "##### Procent cytowanych artykułów a dziedzina"
   ]
  },
  {
   "cell_type": "code",
   "execution_count": null,
   "metadata": {
    "cell_id": "e2cbd682623a4050b99b39044ca4c3be",
    "deepnote_app_coordinates": {
     "h": 16,
     "w": 12,
     "x": 0,
     "y": 109
    },
    "deepnote_cell_height": 399,
    "deepnote_cell_type": "code",
    "deepnote_output_heights": [
     266
    ],
    "deepnote_to_be_reexecuted": false,
    "execution_millis": 849,
    "execution_start": 1649888269688,
    "source_hash": "60b467b0",
    "tags": []
   },
   "outputs": [],
   "source": [
    "df[\"cited_by_policies_count\"].hist()\n",
    "plt.yscale('log')\n",
    "plt.title(\"cited_by_policies_count distribution\");"
   ]
  },
  {
   "cell_type": "code",
   "execution_count": null,
   "metadata": {
    "cell_id": "6366eb4831524eac8f4c271a091dc7f1",
    "deepnote_app_coordinates": {
     "h": 29,
     "w": 12,
     "x": 0,
     "y": 130
    },
    "deepnote_cell_height": 741,
    "deepnote_cell_type": "code",
    "deepnote_output_heights": [
     482
    ],
    "deepnote_to_be_reexecuted": false,
    "execution_millis": 528,
    "execution_start": 1649888283636,
    "source_hash": "88417c9a",
    "tags": []
   },
   "outputs": [],
   "source": [
    "for i in df[df[\"cited_by_policies_count\"]>15][\"title\"]:\n",
    "    print(i)\n",
    "percs=[]\n",
    "for i in range(len(categories)):\n",
    "    c=categories[i]\n",
    "    percs.append(len(df.loc[(df[\"cited_by_policies_count\"]>0) & (df[c]==1)])/sums[i])\n",
    "plt.figure(figsize=(8,6))\n",
    "ax = sns.barplot(categories, percs)\n",
    "plt.xticks(rotation=90);\n",
    "plt.title(\"Percentage of articles cited in policies by field\", size=15);"
   ]
  },
  {
   "cell_type": "markdown",
   "metadata": {
    "cell_id": "2427640370294b0b8bd92a599470d4a0",
    "deepnote_app_coordinates": {
     "h": 3,
     "w": 12,
     "x": 0,
     "y": 160
    },
    "deepnote_cell_height": 54,
    "deepnote_cell_type": "markdown",
    "tags": []
   },
   "source": [
    "#### Cytowania na Twitterze"
   ]
  },
  {
   "cell_type": "code",
   "execution_count": null,
   "metadata": {
    "cell_id": "d8265ff7924340b5839c7bd4b318f19b",
    "deepnote_app_coordinates": {
     "h": 16,
     "w": 12,
     "x": 0,
     "y": 164
    },
    "deepnote_app_is_code_hidden": false,
    "deepnote_cell_height": 399,
    "deepnote_cell_type": "code",
    "deepnote_output_heights": [
     266
    ],
    "deepnote_to_be_reexecuted": false,
    "execution_millis": 637,
    "execution_start": 1649888351186,
    "source_hash": "af2ebc60",
    "tags": []
   },
   "outputs": [],
   "source": [
    "df[\"cited_by_tweeters_count\"].hist()\n",
    "plt.yscale('log')\n",
    "plt.title(\"cited_by_tweets_count distribution\");"
   ]
  },
  {
   "cell_type": "code",
   "execution_count": null,
   "metadata": {
    "cell_id": "3f500adcf5b24328b644d9d6cf65386d",
    "deepnote_app_coordinates": {
     "h": 26,
     "w": 12,
     "x": 0,
     "y": 181
    },
    "deepnote_cell_height": 669,
    "deepnote_cell_type": "code",
    "deepnote_output_heights": [
     482
    ],
    "deepnote_to_be_reexecuted": false,
    "execution_millis": 520,
    "execution_start": 1649888383036,
    "source_hash": "7162a351",
    "tags": []
   },
   "outputs": [],
   "source": [
    "df_twt=df[df[\"cited_by_tweeters_count\"]<250]\n",
    "AverageTweets=[sum(df_twt.loc[df_twt[x]==1][\"cited_by_tweeters_count\"])/len(df_twt.loc[df_twt[x]==1]) for x in categories]\n",
    "plt.figure(figsize=(8,6))\n",
    "ax = sns.barplot(categories, AverageTweets)\n",
    "plt.xticks(rotation=90);\n",
    "plt.title(\"Average number of Tweeter citations by field\", size=15);"
   ]
  },
  {
   "cell_type": "code",
   "execution_count": null,
   "metadata": {
    "cell_id": "90dc7ebd352a41a8b8fab2565a45fab9",
    "deepnote_app_coordinates": {
     "h": 6,
     "w": 12,
     "x": 0,
     "y": 208
    },
    "deepnote_cell_height": 137,
    "deepnote_cell_type": "code",
    "deepnote_output_heights": [
     40
    ],
    "deepnote_to_be_reexecuted": false,
    "execution_millis": 6,
    "execution_start": 1649888402516,
    "source_hash": "17c8ae6c",
    "tags": []
   },
   "outputs": [],
   "source": [
    "df[df[\"Art\"]==1][\"title\"]"
   ]
  },
  {
   "cell_type": "markdown",
   "metadata": {
    "cell_id": "3e2891418c174bb585c9bef20c72ef8c",
    "deepnote_app_coordinates": {
     "h": 3,
     "w": 12,
     "x": 0,
     "y": 215
    },
    "deepnote_cell_height": 54,
    "deepnote_cell_type": "markdown",
    "tags": []
   },
   "source": [
    "#### Długość abstraktów"
   ]
  },
  {
   "cell_type": "code",
   "execution_count": null,
   "metadata": {
    "cell_id": "1b6e5603d4724bd499b041a29f5287d4",
    "deepnote_app_coordinates": {
     "h": 17,
     "w": 12,
     "x": 0,
     "y": 219
    },
    "deepnote_cell_height": 435,
    "deepnote_cell_type": "code",
    "deepnote_output_heights": [
     21,
     250
    ],
    "deepnote_to_be_reexecuted": false,
    "execution_millis": 283,
    "execution_start": 1649888434817,
    "source_hash": "4ee5d44",
    "tags": []
   },
   "outputs": [],
   "source": [
    "df_abs=df[df[\"abstract\"].notna()]\n",
    "df_abs[\"len_abstract\"]=df_abs[\"abstract\"].str.len()\n",
    "df_abs[\"len_abstract\"].hist()"
   ]
  },
  {
   "cell_type": "markdown",
   "metadata": {
    "cell_id": "d0d3025d5e014e1f8eb334d99fb0987d",
    "deepnote_cell_height": 54,
    "deepnote_cell_type": "markdown",
    "tags": []
   },
   "source": [
    "#### Macierz korelacji"
   ]
  },
  {
   "cell_type": "code",
   "execution_count": null,
   "metadata": {
    "cell_id": "f1e53f88ce114ce3901c6d408031fd6f",
    "deepnote_app_coordinates": {
     "h": 26,
     "w": 12,
     "x": 0,
     "y": 237
    },
    "deepnote_cell_height": 646,
    "deepnote_cell_type": "code",
    "deepnote_output_heights": [
     477
    ],
    "deepnote_to_be_reexecuted": false,
    "execution_millis": 779,
    "execution_start": 1649888474894,
    "source_hash": "b5463851",
    "tags": []
   },
   "outputs": [],
   "source": [
    "df_cont=df_abs[['cited_by_posts_count',\n",
    "       'cited_by_tweeters_count', 'cited_by_policies_count', 'readers_count',\n",
    "       'score', \"len_abstract\"]]\n",
    "plt.figure(figsize=(8,6))\n",
    "ax=sns.heatmap(df_cont.corr(), annot=True)"
   ]
  },
  {
   "cell_type": "markdown",
   "metadata": {
    "cell_id": "3d43cbc6d3c948499b959a5e63a9563a",
    "deepnote_app_coordinates": {
     "h": 3,
     "w": 12,
     "x": 0,
     "y": 264
    },
    "deepnote_cell_height": 54,
    "deepnote_cell_type": "markdown",
    "tags": []
   },
   "source": [
    "#### Najczęstsze nazwy własne"
   ]
  },
  {
   "cell_type": "code",
   "execution_count": null,
   "metadata": {
    "cell_id": "da2113523e53480296c024973831249a",
    "deepnote_app_coordinates": {
     "h": 9,
     "w": 12,
     "x": 0,
     "y": 268
    },
    "deepnote_cell_height": 226,
    "deepnote_cell_type": "code",
    "deepnote_to_be_reexecuted": false,
    "execution_millis": 7016,
    "execution_start": 1649888522683,
    "source_hash": "eb6b8129",
    "tags": []
   },
   "outputs": [],
   "source": [
    "from spacy.tokens import DocBin\n",
    "en = spacy.load('en_core_web_sm')\n",
    "#df['doc'] = df['abstract'].swifter.progress_bar(True).apply(en)\n",
    "doc_bin = DocBin().from_disk(\"data/df_all.spacy\")\n",
    "docs = list(doc_bin.get_docs(en.vocab))\n",
    "df['doc'] = np.array(docs)"
   ]
  },
  {
   "cell_type": "code",
   "execution_count": null,
   "metadata": {
    "cell_id": "957795e278c64b0eb73b07236682bd64",
    "deepnote_app_coordinates": {
     "h": 4,
     "w": 12,
     "x": 0,
     "y": 278
    },
    "deepnote_cell_height": 81,
    "deepnote_cell_type": "code",
    "deepnote_to_be_reexecuted": false,
    "execution_millis": 13,
    "execution_start": 1649888539952,
    "source_hash": "88ed2d50",
    "tags": []
   },
   "outputs": [],
   "source": [
    "df_cited=df[df[\"cited_by_policies_count\"]>0]"
   ]
  },
  {
   "cell_type": "code",
   "execution_count": null,
   "metadata": {
    "cell_id": "8dda8346336b4d589521b516d1172062",
    "deepnote_cell_height": 74,
    "deepnote_cell_type": "code",
    "deepnote_to_be_reexecuted": false,
    "execution_millis": 12,
    "execution_start": 1649888562057,
    "is_code_hidden": true,
    "owner_user_id": "48e4d8cd-db7b-4daf-b281-d20d2b1d5640",
    "source_hash": "7d22ead8",
    "tags": []
   },
   "outputs": [],
   "source": [
    "stop_words_ents=[\"ROC\", \"OA\", \"MODIS\", \"MR\", \"J48\", \"DR\", \"NC\", \"MD\", \n",
    "\"TF\",\"Random Forests\", \"Multilayer Perceptron\", \"F1\", \"Random\", \"Gradient Boosting\", \"Kernel\", \n",
    "\"Gabor\", \"Background\"]"
   ]
  },
  {
   "cell_type": "code",
   "execution_count": null,
   "metadata": {
    "cell_id": "68228da00fa74d1da1011e4303dd0aeb",
    "deepnote_app_coordinates": {
     "h": 13,
     "w": 12,
     "x": 0,
     "y": 283
    },
    "deepnote_cell_height": 333,
    "deepnote_cell_type": "code",
    "deepnote_to_be_reexecuted": false,
    "execution_millis": 538,
    "execution_start": 1649888575908,
    "source_hash": "ac47ad36",
    "tags": []
   },
   "outputs": [],
   "source": [
    "gpe=[]\n",
    "org=[]\n",
    "norp=[]\n",
    "person=[]\n",
    "for i in df['doc']:\n",
    "    for j in i.ents:\n",
    "        if str(j) not in stop_words_ents:\n",
    "            if j.label_==\"GPE\":\n",
    "                    gpe.append(str(j))\n",
    "            if j.label_==\"ORG\":\n",
    "                org.append(str(j))\n",
    "            if j.label_==\"NORP\":\n",
    "                norp.append(str(j))\n",
    "            if j.label_==\"PERSON\":\n",
    "                person.append(str(j))"
   ]
  },
  {
   "cell_type": "code",
   "execution_count": null,
   "metadata": {
    "cell_id": "d46ed414644044d9b61adaf62d0d612f",
    "deepnote_cell_height": 74,
    "deepnote_cell_type": "code",
    "deepnote_to_be_reexecuted": false,
    "execution_millis": 1,
    "execution_start": 1649888592515,
    "is_code_hidden": true,
    "source_hash": "8532e2ac",
    "tags": []
   },
   "outputs": [],
   "source": [
    "gpe_c=[]\n",
    "org_c=[]\n",
    "norp_c=[]\n",
    "person_c=[]\n",
    "for i in df_cited['doc']:\n",
    "    for j in i.ents:\n",
    "        if str(j) not in stop_words_ents:\n",
    "            if j.label_==\"GPE\":\n",
    "                    gpe_c.append(str(j))\n",
    "            if j.label_==\"ORG\":\n",
    "                org_c.append(str(j))\n",
    "            if j.label_==\"NORP\":\n",
    "                norp_c.append(str(j))\n",
    "            if j.label_==\"PERSON\":\n",
    "                person_c.append(str(j))"
   ]
  },
  {
   "cell_type": "code",
   "execution_count": null,
   "metadata": {
    "cell_id": "06579268f56d45b88ffe43142e2ea79c",
    "deepnote_app_coordinates": {
     "h": 8,
     "w": 12,
     "x": 0,
     "y": 297
    },
    "deepnote_cell_height": 189,
    "deepnote_cell_type": "code",
    "deepnote_to_be_reexecuted": false,
    "execution_millis": 2,
    "execution_start": 1649888626825,
    "source_hash": "567c1ecc",
    "tags": []
   },
   "outputs": [],
   "source": [
    "from collections import Counter\n",
    "com_gpe_all=Counter(list(gpe)).most_common(10)\n",
    "com_gpe_cited=Counter(list(gpe_c)).most_common(10)\n",
    "com_org_all=Counter(list(org)).most_common(10)\n",
    "com_org_cited=Counter(list(org_c)).most_common(10)\n",
    "com_per_all=Counter(list(person)).most_common(10)\n",
    "com_per_cited=Counter(list(person_c)).most_common(10)"
   ]
  },
  {
   "cell_type": "code",
   "execution_count": null,
   "metadata": {
    "cell_id": "f7fe3bc9a3e24c51968aab79ca40f309",
    "deepnote_app_coordinates": {
     "h": 24,
     "w": 12,
     "x": 0,
     "y": 306
    },
    "deepnote_cell_height": 618,
    "deepnote_cell_type": "code",
    "deepnote_to_be_reexecuted": false,
    "execution_millis": 426,
    "execution_start": 1649888628954,
    "source_hash": "b4fe25e8",
    "tags": []
   },
   "outputs": [],
   "source": [
    "pd.DataFrame({\"gpe_all\":com_gpe_all, \"gpe_cited\":com_gpe_cited, \"person_all\":com_per_all, \"person_cited\":com_per_cited,\n",
    " \"org_all\":com_org_all, \"org_cited\":com_org_cited, })"
   ]
  },
  {
   "cell_type": "markdown",
   "metadata": {
    "cell_id": "216650e94b21469fa775ef5b30ab5a28",
    "deepnote_app_coordinates": {
     "h": 3,
     "w": 12,
     "x": 0,
     "y": 331
    },
    "deepnote_cell_type": "text-cell-h3",
    "is_collapsed": false,
    "tags": []
   },
   "source": [
    "### Rozbicie danych na kategorie i ich udział w cytowanych artykułach"
   ]
  },
  {
   "cell_type": "markdown",
   "metadata": {
    "cell_id": "78a8c8e7b0014c45b46766393bcf7dbb",
    "deepnote_app_coordinates": {
     "h": 35,
     "w": 12,
     "x": 0,
     "y": 335
    },
    "deepnote_cell_height": 868,
    "deepnote_cell_type": "markdown",
    "tags": []
   },
   "source": [
    "Poniżej jest wykonana analogiczna analiza jak w artykule L. Bornmann *\"Policy documents as sources for measuring societal impact\"*[1]. Polega ona na porównaniu udziału danej kategorii względem całego zbioru oraz zbioru ograniczonego tylko do artykułów cytowanych w dokumentach legislacyjnych.\n",
    "<img src=\"img/screenshot1.png\" width=\"800\">"
   ]
  },
  {
   "cell_type": "code",
   "execution_count": null,
   "metadata": {
    "cell_id": "9ff3916e6e8a43b7b017ee0faf5e81ab",
    "deepnote_app_coordinates": {
     "h": 11,
     "w": 12,
     "x": 0,
     "y": 371
    },
    "deepnote_cell_height": 297,
    "deepnote_cell_type": "code",
    "deepnote_to_be_reexecuted": false,
    "execution_millis": 24,
    "execution_start": 1649967233959,
    "source_hash": "f63719e",
    "tags": []
   },
   "outputs": [],
   "source": [
    "def create_breakdown(df, break_column, filter_out_small_n=False):\n",
    "    df_cited = df[df['cited_by_policies_count'] >0]\n",
    "    out_df = df.groupby([break_column])['title'].count().sort_values(ascending=False).to_frame('all_n')\n",
    "    out_df['all_share'] = out_df['all_n']/out_df['all_n'].sum()\n",
    "    cited = df_cited.groupby([break_column])['title'].count().sort_values(ascending=False).to_frame('cited_n')\n",
    "    out_df = out_df.join(cited)\n",
    "    out_df = out_df.fillna(0)\n",
    "    out_df['cited_share'] = out_df['cited_n'] / out_df['cited_n'].sum()\n",
    "    out_df['share_diff_percent'] = out_df['cited_share'] - out_df['all_share']\n",
    "    out_df['share_diff_percent'] = np.round_(out_df['share_diff_percent']*100, 2)\n",
    "    if filter_out_small_n:\n",
    "        out_df = out_df[out_df['all_n'] > 10]\n",
    "    return out_df"
   ]
  },
  {
   "cell_type": "code",
   "execution_count": null,
   "metadata": {
    "cell_id": "74143a9196084774a4c786c83295cf97",
    "deepnote_app_coordinates": {
     "h": 22,
     "w": 12,
     "x": 0,
     "y": 383
    },
    "deepnote_cell_height": 559,
    "deepnote_cell_type": "code",
    "deepnote_to_be_reexecuted": false,
    "execution_millis": 146,
    "execution_start": 1649967235765,
    "source_hash": "68b6ba83",
    "tags": []
   },
   "outputs": [],
   "source": [
    "create_breakdown(df, 'type')"
   ]
  },
  {
   "cell_type": "code",
   "execution_count": null,
   "metadata": {
    "cell_id": "6418c18819f64861aa20e059a8d27f58",
    "deepnote_app_coordinates": {
     "h": 24,
     "w": 12,
     "x": 0,
     "y": 406
    },
    "deepnote_cell_height": 600,
    "deepnote_cell_type": "code",
    "deepnote_to_be_reexecuted": false,
    "execution_millis": 118,
    "execution_start": 1649967245805,
    "source_hash": "60cf5f0",
    "tags": []
   },
   "outputs": [],
   "source": [
    "create_breakdown(df, 'publisher', filter_out_small_n=True)"
   ]
  },
  {
   "cell_type": "code",
   "execution_count": null,
   "metadata": {
    "cell_id": "873057197f3c45b0873588c47fab17bc",
    "deepnote_app_coordinates": {
     "h": 26,
     "w": 12,
     "x": 0,
     "y": 431
    },
    "deepnote_cell_height": 654,
    "deepnote_cell_type": "code",
    "deepnote_to_be_reexecuted": false,
    "execution_millis": 220,
    "execution_start": 1649967261039,
    "source_hash": "abe83b44",
    "tags": []
   },
   "outputs": [],
   "source": [
    "import ast\n",
    "df.mag_field_of_study = df.mag_field_of_study.fillna(0).apply(lambda x: \"['unknown']\" if x==0 else x)\n",
    "\n",
    "create_breakdown(df.explode('mag_field_of_study'), 'mag_field_of_study', filter_out_small_n=True)"
   ]
  },
  {
   "cell_type": "code",
   "execution_count": null,
   "metadata": {
    "cell_id": "17323e3078ad4c7d94ecde27c96f2b18",
    "deepnote_app_coordinates": {
     "h": 5,
     "w": 12,
     "x": 0,
     "y": 0
    },
    "deepnote_cell_height": 618,
    "deepnote_cell_type": "code",
    "deepnote_to_be_reexecuted": false,
    "execution_millis": 489,
    "execution_start": 1649967285238,
    "source_hash": "84334ea9",
    "tags": []
   },
   "outputs": [],
   "source": [
    "df = pd.read_pickle('data/df_all.pkl')\n",
    "create_breakdown(df.explode('institutions'), 'institutions', filter_out_small_n=True)"
   ]
  },
  {
   "cell_type": "code",
   "execution_count": null,
   "metadata": {
    "cell_id": "06d3d0d6188b49cdae915dfaba97263a",
    "deepnote_app_coordinates": {
     "h": 5,
     "w": 12,
     "x": 0,
     "y": 0
    },
    "deepnote_cell_height": 144,
    "deepnote_cell_type": "code",
    "deepnote_to_be_reexecuted": false,
    "execution_millis": 873,
    "execution_start": 1649967302163,
    "source_hash": "307d09d2",
    "tags": []
   },
   "outputs": [],
   "source": [
    "create_breakdown(df.explode('institutions'), 'institutions', filter_out_small_n=True).sort_values('share_diff_percent', ascending=False)"
   ]
  },
  {
   "cell_type": "markdown",
   "metadata": {
    "cell_id": "20ca1076fe79495eb551f0acfdc5afea",
    "deepnote_app_coordinates": {
     "h": 3,
     "w": 12,
     "x": 0,
     "y": 458
    },
    "deepnote_cell_type": "text-cell-h3",
    "is_collapsed": false,
    "owner_user_id": "93a9f66f-e248-4b16-8ac2-4364cc260f29",
    "tags": []
   },
   "source": [
    "### Topic modeling"
   ]
  },
  {
   "cell_type": "markdown",
   "metadata": {
    "cell_id": "1e8cdc17da2d4a759f731b0aa69d8a3e",
    "deepnote_app_coordinates": {
     "h": 2,
     "w": 12,
     "x": 0,
     "y": 462
    },
    "deepnote_cell_height": 46,
    "deepnote_cell_type": "markdown",
    "tags": []
   },
   "source": []
  },
  {
   "cell_type": "code",
   "execution_count": null,
   "metadata": {
    "cell_id": "0e215020fae44caa9641f7374df132c8",
    "deepnote_cell_height": 104,
    "deepnote_cell_type": "code",
    "deepnote_to_be_reexecuted": false,
    "execution_millis": 8158,
    "execution_start": 1649915653751,
    "is_code_hidden": true,
    "is_output_hidden": true,
    "source_hash": "cce55f4f",
    "tags": []
   },
   "outputs": [],
   "source": [
    "import pandas as pd\n",
    "import plotly.express as px\n",
    "import swifter\n",
    "from tqdm import tqdm\n",
    "import spacy\n",
    "import joblib\n",
    "from wordcloud import WordCloud\n",
    "from gensim.corpora.dictionary import Dictionary\n",
    "from gensim.models.ldamulticore import LdaMulticore\n",
    "import matplotlib.pyplot as plt\n",
    "import pyLDAvis.gensim_models\n",
    "import numpy as np\n",
    "import warnings \n",
    "warnings.filterwarnings(\"ignore\", category=DeprecationWarning)\n",
    "\n",
    "pyLDAvis.enable_notebook()\n",
    "\n",
    "en = spacy.load('en_core_web_sm')\n",
    "\n",
    "from spacy.tokens import DocBin\n",
    "#df['doc'] = df['abstract'].swifter.progress_bar(True).apply(en)\n",
    "doc_bin = DocBin().from_disk(\"data/df_all.spacy\")\n",
    "docs = list(doc_bin.get_docs(en.vocab))\n",
    "df['doc'] = np.array(docs)\n",
    "\n"
   ]
  },
  {
   "cell_type": "code",
   "execution_count": null,
   "metadata": {
    "cell_id": "1779a7fbc758492c896fc73237af7423",
    "deepnote_cell_height": 225,
    "deepnote_cell_type": "code",
    "deepnote_to_be_reexecuted": false,
    "execution_millis": 4,
    "execution_start": 1649915669257,
    "source_hash": "518eb24b",
    "tags": []
   },
   "outputs": [],
   "source": [
    "custom_stopwords = ['result', 'feature', 'base', 'learning', 'model', 'datum',\n",
    " 'method','propose','classification', 'algorithm', 'approach', 'accuracy', 'dataset',\n",
    " 'different', 'study', 'paper', 'predict', 'high', 'learn', 'use', 'task', 'training',\n",
    " 'present', 'compare', 'large', 'technique', 'high', 'time', 'set', 'machine', 'test',\n",
    " 'problem', 'apply', 'new', 'identify', 'train', 'develop', 'good', 'level', 'image', 'prediction', 'classifier', 'performance', 'SVM', 'system',\n",
    " 'Support', 'information','Vector', 'area', 'achieve', 'demonstrate', 'show', 'Random', 'provide',\n",
    " 'Machine', 'sample', 'class', 'application', 'obtain', 'include', 'process', 'evaluate',\n",
    " 'work', 'well', 'obtain', 'non', 'analysis', 'Machine', 'sample', 'improve', 'perform',\n",
    " 'network', 'number', 'domain', 'target', 'label','find', 'novel', 'low', 'experiment', 'tool', 'value']"
   ]
  },
  {
   "cell_type": "code",
   "execution_count": null,
   "metadata": {
    "cell_id": "14182f4e5848467fb5caf92c99992122",
    "deepnote_app_coordinates": {
     "h": 9,
     "w": 12,
     "x": 0,
     "y": 465
    },
    "deepnote_cell_height": 200,
    "deepnote_cell_type": "code",
    "deepnote_to_be_reexecuted": false,
    "execution_millis": 23459,
    "execution_start": 1649915674796,
    "source_hash": "fada0d1",
    "tags": []
   },
   "outputs": [],
   "source": [
    "from collections import Counter\n",
    "df['lemmas'] = df['doc'].apply(lambda doc: [t.lemma_ for t in doc if t.is_alpha if not t.is_stop if not t.is_punct if t.ent_type==0 if t.lemma_ not in custom_stopwords])\n",
    "dictionary = Dictionary(df['lemmas'])\n",
    "encoded_docs = df['lemmas'].swifter.apply(dictionary.doc2bow)\n",
    "word_counts = Counter(df['lemmas'].sum())"
   ]
  },
  {
   "cell_type": "code",
   "execution_count": null,
   "metadata": {
    "cell_id": "430e86789d294ffe8148d9e307c3e2c0",
    "deepnote_app_coordinates": {
     "h": 21,
     "w": 12,
     "x": 0,
     "y": 475
    },
    "deepnote_cell_height": 519,
    "deepnote_cell_type": "code",
    "deepnote_output_heights": [
     21,
     316
    ],
    "deepnote_to_be_reexecuted": false,
    "execution_millis": 1372,
    "execution_start": 1649915698272,
    "source_hash": "6003650b",
    "tags": []
   },
   "outputs": [],
   "source": [
    "wc = WordCloud(width=800, height=400)\n",
    "wc.generate_from_frequencies(frequencies=word_counts)\n",
    "plt.figure(figsize=(10,8))\n",
    "plt.imshow(wc)"
   ]
  },
  {
   "cell_type": "code",
   "execution_count": null,
   "metadata": {
    "cell_id": "a8cc073862664dba80eb0bf8c59e433b",
    "deepnote_app_coordinates": {
     "h": 34,
     "w": 12,
     "x": 0,
     "y": 497
    },
    "deepnote_cell_height": 858,
    "deepnote_cell_type": "code",
    "deepnote_output_heights": [
     527
    ],
    "deepnote_to_be_reexecuted": false,
    "execution_millis": 88502,
    "execution_start": 1649915724310,
    "source_hash": "b9e67ebd",
    "tags": []
   },
   "outputs": [],
   "source": [
    "from gensim.models import CoherenceModel\n",
    "n_topics_options = range(3, 10, 2)\n",
    "models = []\n",
    "for topics_number in n_topics_options:\n",
    "    lda = LdaMulticore(encoded_docs, num_topics=topics_number)\n",
    "    models.append(lda)\n",
    "cvs = []\n",
    "for model in models:\n",
    "    cm = CoherenceModel(model,texts=df['lemmas'], dictionary=dictionary)\n",
    "    c_v = cm.get_coherence()\n",
    "    cvs.append(c_v)\n",
    "    \n",
    "\n",
    "px.line(x=n_topics_options, y=cvs)"
   ]
  },
  {
   "cell_type": "code",
   "execution_count": null,
   "metadata": {
    "cell_id": "7243f3b4d9454471a4b1c851df29b408",
    "deepnote_app_coordinates": {
     "h": 29,
     "w": 12,
     "x": 0,
     "y": 532
    },
    "deepnote_cell_height": 744,
    "deepnote_cell_type": "code",
    "deepnote_output_heights": [
     611
    ],
    "deepnote_to_be_reexecuted": false,
    "execution_millis": 144740,
    "execution_start": 1649915830186,
    "source_hash": "4b10e607",
    "tags": []
   },
   "outputs": [],
   "source": [
    "lda = LdaMulticore(encoded_docs, num_topics=7, passes=10)\n",
    "vis = pyLDAvis.gensim_models.prepare(lda, encoded_docs, dictionary=dictionary)\n",
    "vis"
   ]
  },
  {
   "cell_type": "code",
   "execution_count": null,
   "metadata": {
    "cell_id": "605514ebf1214a7e8242894f9d141a81",
    "deepnote_cell_height": 81,
    "deepnote_cell_type": "code",
    "deepnote_to_be_reexecuted": false,
    "execution_millis": 0,
    "execution_start": 1649916091446,
    "source_hash": "ff292b58",
    "tags": []
   },
   "outputs": [],
   "source": [
    "pyLDAvis.save_html(vis, 'lda.html')"
   ]
  },
  {
   "cell_type": "markdown",
   "metadata": {
    "cell_id": "e6ba27b1d7b44b3c8f22412c73be390a",
    "deepnote_app_coordinates": {
     "h": 6,
     "w": 12,
     "x": 0,
     "y": 562
    },
    "deepnote_cell_height": 122,
    "deepnote_cell_type": "markdown",
    "tags": []
   },
   "source": [
    "### Bibliografia\n",
    "\n",
    "[1]L. Bornmann, R. Haunschild, and W. Marx, ‘Policy documents as sources for measuring societal impact: how often is climate change research mentioned in policy-related documents?’, Scientometrics, vol. 109, no. 3, pp. 1477–1495, Dec. 2016, doi: 10.1007/s11192-016-2115-y."
   ]
  },
  {
   "cell_type": "markdown",
   "metadata": {
    "cell_id": "e68c3a2a966940efbc409a8fbb56b55b",
    "deepnote_cell_height": 46,
    "deepnote_cell_type": "markdown",
    "tags": []
   },
   "source": []
  },
  {
   "cell_type": "markdown",
   "metadata": {
    "created_in_deepnote_cell": true,
    "deepnote_cell_type": "markdown",
    "tags": []
   },
   "source": [
    "<a style='text-decoration:none;line-height:16px;display:flex;color:#5B5B62;padding:10px;justify-content:end;' href='https://deepnote.com?utm_source=created-in-deepnote-cell&projectId=429117f5-ba6c-4f05-a14a-fe89a5192802' target=\"_blank\">\n",
    "<img alt='Created in deepnote.com' style='display:inline;max-height:16px;margin:0px;margin-right:7.5px;' src='data:image/svg+xml;base64,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' > </img>\n",
    "Created in <span style='font-weight:600;margin-left:4px;'>Deepnote</span></a>"
   ]
  }
 ],
 "metadata": {
  "deepnote": {
   "is_reactive": false
  },
  "deepnote_app_layout": "article",
  "deepnote_execution_queue": [],
  "deepnote_notebook_id": "7530f75a-c6e0-4682-a9a5-59517bbf1667",
  "kernelspec": {
   "display_name": "Python 3 (ipykernel)",
   "language": "python",
   "name": "python3"
  },
  "language_info": {
   "codemirror_mode": {
    "name": "ipython",
    "version": 3
   },
   "file_extension": ".py",
   "mimetype": "text/x-python",
   "name": "python",
   "nbconvert_exporter": "python",
   "pygments_lexer": "ipython3",
   "version": "3.8.10"
  }
 },
 "nbformat": 4,
 "nbformat_minor": 4
}
