{
 "cells": [
  {
   "cell_type": "code",
   "execution_count": null,
   "metadata": {
    "collapsed": false,
    "jupyter": {
     "outputs_hidden": false
    },
    "pycharm": {
     "name": "#%%\n"
    }
   },
   "outputs": [],
   "source": [
    "import pandas as pd\n",
    "import pickle\n",
    "import xgboost as xgb"
   ]
  },
  {
   "cell_type": "markdown",
   "metadata": {
    "pycharm": {
     "name": "#%% md\n"
    }
   },
   "source": [
    "DMatrix (obiekt danych dla xgboost) z ramkami danych po feature selection."
   ]
  },
  {
   "cell_type": "code",
   "execution_count": null,
   "metadata": {
    "pycharm": {
     "name": "#%%\n"
    },
    "tags": []
   },
   "outputs": [],
   "source": [
    "d_train = xgb.DMatrix('../data/dtest.buff')\n",
    "d_test = xgb.DMatrix('../data/dtrain.buff')"
   ]
  },
  {
   "cell_type": "code",
   "execution_count": null,
   "metadata": {
    "pycharm": {
     "name": "#%%\n"
    },
    "tags": []
   },
   "outputs": [],
   "source": [
    "d_train.feature_names"
   ]
  },
  {
   "cell_type": "markdown",
   "metadata": {
    "pycharm": {
     "name": "#%% md\n"
    }
   },
   "source": [
    "### Trening"
   ]
  },
  {
   "cell_type": "markdown",
   "metadata": {
    "pycharm": {
     "name": "#%% md\n"
    }
   },
   "source": [
    "Dużo parametrów, które można dostosować."
   ]
  },
  {
   "cell_type": "code",
   "execution_count": null,
   "metadata": {
    "pycharm": {
     "name": "#%%\n"
    }
   },
   "outputs": [],
   "source": [
    "params = {'objective':'binary:logistic', 'eval_metric':'auc', 'verbosity':2, 'nthread':2,\n",
    "          'alpha': 0.33444991443971983,\n",
    " 'colsample_bylevel': 0.9032325336057312,\n",
    " 'colsample_bynode': 0.956089310886066,\n",
    " 'colsample_bytree': 0.9732573760585466,\n",
    " 'eta': 0.05996574700591213,\n",
    " 'gamma': 1.335882297998541,\n",
    " 'lambda': 1.1967442963491903,\n",
    " 'max_depth': 12,\n",
    " 'subsample': 0.8919065011000327\n",
    "          }\n",
    "results = {}"
   ]
  },
  {
   "cell_type": "code",
   "execution_count": null,
   "metadata": {
    "pycharm": {
     "name": "#%%\n"
    },
    "tags": []
   },
   "outputs": [],
   "source": [
    "model = xgb.train(params, d_train, 250,evals=[(d_test, 'test')], evals_result=results)"
   ]
  },
  {
   "cell_type": "markdown",
   "metadata": {
    "pycharm": {
     "name": "#%% md\n"
    }
   },
   "source": [
    "F1 score dla zbioru testowego."
   ]
  },
  {
   "cell_type": "code",
   "execution_count": null,
   "metadata": {
    "pycharm": {
     "name": "#%%\n"
    }
   },
   "outputs": [],
   "source": [
    "from sklearn.metrics import f1_score\n",
    "import numpy as np\n",
    "idx = list()\n",
    "scores = list()\n",
    "for i in np.arange(0,0.3,0.001):\n",
    "    idx.append(i)\n",
    "    y_hat = (model.predict(d_test)>i).astype('int')\n",
    "    scores.append(f1_score(d_test.get_label(), y_hat))\n",
    "pd.DataFrame({'threshold':idx, 'f1':scores}).max()   "
   ]
  },
  {
   "cell_type": "code",
   "execution_count": null,
   "metadata": {
    "pycharm": {
     "name": "#%%\n"
    }
   },
   "outputs": [],
   "source": [
    "import matplotlib.pyplot as plt\n",
    "plt.plot(results['test']['auc'])\n",
    "plt.title('Przebieg uczenia, AUC na testowym')"
   ]
  },
  {
   "cell_type": "markdown",
   "metadata": {
    "pycharm": {
     "name": "#%% md\n"
    }
   },
   "source": [
    "Feature importance, liczba splitów wg. danego ficzera."
   ]
  },
  {
   "cell_type": "code",
   "execution_count": null,
   "metadata": {
    "pycharm": {
     "name": "#%%\n"
    }
   },
   "outputs": [],
   "source": [
    "fig, ax = plt.subplots(1,1,figsize=(16, 10))\n",
    "xgb.plot_importance(model, ax= ax, max_num_features=15)"
   ]
  },
  {
   "cell_type": "markdown",
   "metadata": {
    "pycharm": {
     "name": "#%% md\n"
    }
   },
   "source": [
    "Feature importance, wg. metryki 'gain'."
   ]
  },
  {
   "cell_type": "code",
   "execution_count": null,
   "metadata": {
    "collapsed": false,
    "jupyter": {
     "outputs_hidden": false
    },
    "pycharm": {
     "name": "#%%\n"
    }
   },
   "outputs": [],
   "source": [
    "fig, ax = plt.subplots(1,1,figsize=(16, 10))\n",
    "xgb.plot_importance(model, ax= ax, max_num_features=15, importance_type='gain')"
   ]
  },
  {
   "cell_type": "markdown",
   "metadata": {
    "pycharm": {
     "name": "#%% md\n"
    }
   },
   "source": [
    "## Crosswalidacja"
   ]
  },
  {
   "cell_type": "code",
   "execution_count": null,
   "metadata": {
    "pycharm": {
     "name": "#%%\n"
    },
    "tags": []
   },
   "outputs": [],
   "source": [
    "history = xgb.cv(params=params, dtrain=d_train,num_boost_round=400,\n",
    "                            nfold=4, metrics='auc',early_stopping_rounds=100,\n",
    "                            seed=108, verbose_eval=False,show_stdv=True)"
   ]
  },
  {
   "cell_type": "code",
   "execution_count": null,
   "metadata": {
    "pycharm": {
     "name": "#%%\n"
    }
   },
   "outputs": [],
   "source": [
    "fig, ax = plt.subplots()\n",
    "ax.plot(history.index, history['train-auc-mean'], label='train-auc-mean')\n",
    "ax.fill_between(history.index,\n",
    "        history['train-auc-mean'] + history['train-auc-std'],\n",
    "        history['train-auc-mean'] - history['train-auc-std'], alpha=0.5)\n",
    "ax.plot(history.index, history['test-auc-mean'], label='test-auc-mean')\n",
    "ax.fill_between(history.index,\n",
    "        history['test-auc-mean'] + history['test-auc-std'],\n",
    "        history['test-auc-mean'] - history['test-auc-std'], alpha=0.5)\n",
    "fig.set_size_inches(12,8)\n",
    "ax.legend()\n",
    "ax.grid()"
   ]
  },
  {
   "cell_type": "code",
   "execution_count": null,
   "metadata": {
    "pycharm": {
     "name": "#%%\n"
    }
   },
   "outputs": [],
   "source": [
    "history.loc[history.shape[0]-1, 'test-auc-mean']"
   ]
  },
  {
   "cell_type": "code",
   "execution_count": null,
   "metadata": {
    "pycharm": {
     "name": "#%%\n"
    }
   },
   "outputs": [],
   "source": []
  },
  {
   "cell_type": "markdown",
   "metadata": {},
   "source": []
  }
 ],
 "metadata": {
  "kernelspec": {
   "display_name": "Python 3 (ipykernel)",
   "language": "python",
   "name": "python3"
  },
  "language_info": {
   "codemirror_mode": {
    "name": "ipython",
    "version": 3
   },
   "file_extension": ".py",
   "mimetype": "text/x-python",
   "name": "python",
   "nbconvert_exporter": "python",
   "pygments_lexer": "ipython3",
   "version": "3.8.10"
  }
 },
 "nbformat": 4,
 "nbformat_minor": 4
}
