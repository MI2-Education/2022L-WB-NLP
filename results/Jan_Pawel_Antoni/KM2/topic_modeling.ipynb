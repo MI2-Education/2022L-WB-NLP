{
 "cells": [
  {
   "cell_type": "code",
   "execution_count": null,
   "metadata": {
    "id": "cgOo0TcvfJbT"
   },
   "outputs": [],
   "source": [
    "!pip install bertopic\n",
    "!pip install sentence-transformers"
   ]
  },
  {
   "cell_type": "code",
   "execution_count": null,
   "metadata": {
    "id": "phjo1GnGcvdZ"
   },
   "outputs": [],
   "source": [
    "!pip list"
   ]
  },
  {
   "cell_type": "code",
   "execution_count": null,
   "metadata": {
    "colab": {
     "base_uri": "https://localhost:8080/"
    },
    "id": "AZ6MFUwscz86",
    "outputId": "6af5d1e6-923c-4da7-e931-4fc4357f0e00"
   },
   "outputs": [],
   "source": [
    "!python3 --version"
   ]
  },
  {
   "cell_type": "code",
   "execution_count": null,
   "metadata": {
    "id": "Vm489pachs_A"
   },
   "outputs": [],
   "source": [
    "import pandas as pd"
   ]
  },
  {
   "cell_type": "code",
   "execution_count": null,
   "metadata": {
    "id": "xYIfIIP2hvcI"
   },
   "outputs": [],
   "source": [
    "df = pd.read_csv('s2orc.csv').reset_index()"
   ]
  },
  {
   "cell_type": "code",
   "execution_count": null,
   "metadata": {
    "id": "gNKjw_syh8qU"
   },
   "outputs": [],
   "source": [
    "docs = df['abstract']"
   ]
  },
  {
   "cell_type": "code",
   "execution_count": null,
   "metadata": {
    "id": "ZLm3BflJhIjE"
   },
   "outputs": [],
   "source": [
    "from bertopic import BERTopic\n",
    "from sentence_transformers import SentenceTransformer\n",
    "sentence_model = SentenceTransformer('all-distilroberta-v1')\n",
    "#embeddings = sentence_model.encode(docs, show_progress_bar=True)\n"
   ]
  },
  {
   "cell_type": "markdown",
   "metadata": {
    "id": "aLzTjFc0iKH7"
   },
   "source": [
    "Trenowanie topic model na całym podzbiorze s2orc o AI."
   ]
  },
  {
   "cell_type": "code",
   "execution_count": null,
   "metadata": {
    "colab": {
     "base_uri": "https://localhost:8080/"
    },
    "id": "9TKGDcCohfxK",
    "outputId": "d3b3d8f9-66c9-470f-a775-09f9ff195774"
   },
   "outputs": [],
   "source": [
    "topic_model = BERTopic(verbose=True)\n",
    "topics, probs = topic_model.fit_transform(docs.apply(str), embeddings)\n"
   ]
  },
  {
   "cell_type": "code",
   "execution_count": null,
   "metadata": {
    "id": "aK9JGAHbsFOs"
   },
   "outputs": [],
   "source": [
    "import numpy as np"
   ]
  },
  {
   "cell_type": "code",
   "execution_count": null,
   "metadata": {
    "id": "9uekqaBlk3Re"
   },
   "outputs": [],
   "source": [
    "import pickle\n",
    "with open('embeddings.pkl', \"wb\") as fOut:\n",
    "    pickle.dump({'sentences': docs.apply(str), 'embeddings': embeddings, 'stanislaw_idx':np.array(docs.index)}, fOut, protocol=pickle.HIGHEST_PROTOCOL)"
   ]
  },
  {
   "cell_type": "code",
   "execution_count": null,
   "metadata": {
    "id": "BkMms6qqsUDX"
   },
   "outputs": [],
   "source": [
    "topic_model.save('topic_model', save_embedding_model=False)"
   ]
  },
  {
   "cell_type": "markdown",
   "metadata": {
    "id": "2xjD43AQwH6L"
   },
   "source": [
    "## Wczytywanie embeddingów"
   ]
  },
  {
   "cell_type": "code",
   "execution_count": null,
   "metadata": {
    "id": "pBIVsr4VscC6"
   },
   "outputs": [],
   "source": [
    "import pickle\n",
    "with open('embeddings.pkl', \"rb\") as fIn:\n",
    "    stored_data = pickle.load(fIn)\n",
    "    docs = stored_data['sentences']\n",
    "    embeddings = stored_data['embeddings']\n",
    "    indexes = stored_data['stanislaw_idx']"
   ]
  },
  {
   "cell_type": "code",
   "execution_count": null,
   "metadata": {
    "id": "RakQi8iVmpZy"
   },
   "outputs": [],
   "source": [
    "stopwords=[\n",
    "        \"a\",\n",
    "        \"about\",\n",
    "        \"above\",\n",
    "        \"across\",\n",
    "        \"after\",\n",
    "        \"afterwards\",\n",
    "        \"again\",\n",
    "        \"against\",\n",
    "        \"all\",\n",
    "        \"almost\",\n",
    "        \"alone\",\n",
    "        \"along\",\n",
    "        \"already\",\n",
    "        \"also\",\n",
    "        \"although\",\n",
    "        \"always\",\n",
    "        \"am\",\n",
    "        \"among\",\n",
    "        \"amongst\",\n",
    "        \"amoungst\",\n",
    "        \"amount\",\n",
    "        \"an\",\n",
    "        \"and\",\n",
    "        \"another\",\n",
    "        \"any\",\n",
    "        \"anyhow\",\n",
    "        \"anyone\",\n",
    "        \"anything\",\n",
    "        \"anyway\",\n",
    "        \"anywhere\",\n",
    "        \"are\",\n",
    "        \"around\",\n",
    "        \"as\",\n",
    "        \"at\",\n",
    "        \"back\",\n",
    "        \"be\",\n",
    "        \"became\",\n",
    "        \"because\",\n",
    "        \"become\",\n",
    "        \"becomes\",\n",
    "        \"becoming\",\n",
    "        \"been\",\n",
    "        \"before\",\n",
    "        \"beforehand\",\n",
    "        \"behind\",\n",
    "        \"being\",\n",
    "        \"below\",\n",
    "        \"beside\",\n",
    "        \"besides\",\n",
    "        \"between\",\n",
    "        \"beyond\",\n",
    "        \"bill\",\n",
    "        \"both\",\n",
    "        \"bottom\",\n",
    "        \"but\",\n",
    "        \"by\",\n",
    "        \"call\",\n",
    "        \"can\",\n",
    "        \"cannot\",\n",
    "        \"cant\",\n",
    "        \"co\",\n",
    "        \"con\",\n",
    "        \"could\",\n",
    "        \"couldnt\",\n",
    "        \"cry\",\n",
    "        \"de\",\n",
    "        \"describe\",\n",
    "        \"detail\",\n",
    "        \"do\",\n",
    "        \"done\",\n",
    "        \"down\",\n",
    "        \"due\",\n",
    "        \"during\",\n",
    "        \"each\",\n",
    "        \"eg\",\n",
    "        \"eight\",\n",
    "        \"either\",\n",
    "        \"eleven\",\n",
    "        \"else\",\n",
    "        \"elsewhere\",\n",
    "        \"empty\",\n",
    "        \"enough\",\n",
    "        \"etc\",\n",
    "        \"even\",\n",
    "        \"ever\",\n",
    "        \"every\",\n",
    "        \"everyone\",\n",
    "        \"everything\",\n",
    "        \"everywhere\",\n",
    "        \"except\",\n",
    "        \"few\",\n",
    "        \"fifteen\",\n",
    "        \"fifty\",\n",
    "        \"fill\",\n",
    "        \"find\",\n",
    "        \"fire\",\n",
    "        \"first\",\n",
    "        \"five\",\n",
    "        \"for\",\n",
    "        \"former\",\n",
    "        \"formerly\",\n",
    "        \"forty\",\n",
    "        \"found\",\n",
    "        \"four\",\n",
    "        \"from\",\n",
    "        \"front\",\n",
    "        \"full\",\n",
    "        \"further\",\n",
    "        \"get\",\n",
    "        \"give\",\n",
    "        \"go\",\n",
    "        \"had\",\n",
    "        \"has\",\n",
    "        \"hasnt\",\n",
    "        \"have\",\n",
    "        \"he\",\n",
    "        \"hence\",\n",
    "        \"her\",\n",
    "        \"here\",\n",
    "        \"hereafter\",\n",
    "        \"hereby\",\n",
    "        \"herein\",\n",
    "        \"hereupon\",\n",
    "        \"hers\",\n",
    "        \"herself\",\n",
    "        \"him\",\n",
    "        \"himself\",\n",
    "        \"his\",\n",
    "        \"how\",\n",
    "        \"however\",\n",
    "        \"hundred\",\n",
    "        \"i\",\n",
    "        \"ie\",\n",
    "        \"if\",\n",
    "        \"in\",\n",
    "        \"inc\",\n",
    "        \"indeed\",\n",
    "        \"interest\",\n",
    "        \"into\",\n",
    "        \"is\",\n",
    "        \"it\",\n",
    "        \"its\",\n",
    "        \"itself\",\n",
    "        \"keep\",\n",
    "        \"last\",\n",
    "        \"latter\",\n",
    "        \"latterly\",\n",
    "        \"least\",\n",
    "        \"less\",\n",
    "        \"ltd\",\n",
    "        \"made\",\n",
    "        \"many\",\n",
    "        \"may\",\n",
    "        \"me\",\n",
    "        \"meanwhile\",\n",
    "        \"might\",\n",
    "        \"mill\",\n",
    "        \"mine\",\n",
    "        \"more\",\n",
    "        \"moreover\",\n",
    "        \"most\",\n",
    "        \"mostly\",\n",
    "        \"move\",\n",
    "        \"much\",\n",
    "        \"must\",\n",
    "        \"my\",\n",
    "        \"myself\",\n",
    "        \"name\",\n",
    "        \"namely\",\n",
    "        \"neither\",\n",
    "        \"never\",\n",
    "        \"nevertheless\",\n",
    "        \"next\",\n",
    "        \"nine\",\n",
    "        \"no\",\n",
    "        \"nobody\",\n",
    "        \"none\",\n",
    "        \"noone\",\n",
    "        \"nor\",\n",
    "        \"not\",\n",
    "        \"nothing\",\n",
    "        \"now\",\n",
    "        \"nowhere\",\n",
    "        \"of\",\n",
    "        \"off\",\n",
    "        \"often\",\n",
    "        \"on\",\n",
    "        \"once\",\n",
    "        \"one\",\n",
    "        \"only\",\n",
    "        \"onto\",\n",
    "        \"or\",\n",
    "        \"other\",\n",
    "        \"others\",\n",
    "        \"otherwise\",\n",
    "        \"our\",\n",
    "        \"ours\",\n",
    "        \"ourselves\",\n",
    "        \"out\",\n",
    "        \"over\",\n",
    "        \"own\",\n",
    "        \"part\",\n",
    "        \"per\",\n",
    "        \"perhaps\",\n",
    "        \"please\",\n",
    "        \"put\",\n",
    "        \"rather\",\n",
    "        \"re\",\n",
    "        \"same\",\n",
    "        \"see\",\n",
    "        \"seem\",\n",
    "        \"seemed\",\n",
    "        \"seeming\",\n",
    "        \"seems\",\n",
    "        \"serious\",\n",
    "        \"several\",\n",
    "        \"she\",\n",
    "        \"should\",\n",
    "        \"show\",\n",
    "        \"side\",\n",
    "        \"since\",\n",
    "        \"sincere\",\n",
    "        \"six\",\n",
    "        \"sixty\",\n",
    "        \"so\",\n",
    "        \"some\",\n",
    "        \"somehow\",\n",
    "        \"someone\",\n",
    "        \"something\",\n",
    "        \"sometime\",\n",
    "        \"sometimes\",\n",
    "        \"somewhere\",\n",
    "        \"still\",\n",
    "        \"such\",\n",
    "        \"system\",\n",
    "        \"take\",\n",
    "        \"ten\",\n",
    "        \"than\",\n",
    "        \"that\",\n",
    "        \"the\",\n",
    "        \"their\",\n",
    "        \"them\",\n",
    "        \"themselves\",\n",
    "        \"then\",\n",
    "        \"thence\",\n",
    "        \"there\",\n",
    "        \"thereafter\",\n",
    "        \"thereby\",\n",
    "        \"therefore\",\n",
    "        \"therein\",\n",
    "        \"thereupon\",\n",
    "        \"these\",\n",
    "        \"they\",\n",
    "        \"thick\",\n",
    "        \"thin\",\n",
    "        \"third\",\n",
    "        \"this\",\n",
    "        \"those\",\n",
    "        \"though\",\n",
    "        \"three\",\n",
    "        \"through\",\n",
    "        \"throughout\",\n",
    "        \"thru\",\n",
    "        \"thus\",\n",
    "        \"to\",\n",
    "        \"together\",\n",
    "        \"too\",\n",
    "        \"top\",\n",
    "        \"toward\",\n",
    "        \"towards\",\n",
    "        \"twelve\",\n",
    "        \"twenty\",\n",
    "        \"two\",\n",
    "        \"un\",\n",
    "        \"under\",\n",
    "        \"until\",\n",
    "        \"up\",\n",
    "        \"upon\",\n",
    "        \"us\",\n",
    "        \"very\",\n",
    "        \"via\",\n",
    "        \"was\",\n",
    "        \"we\",\n",
    "        \"well\",\n",
    "        \"were\",\n",
    "        \"what\",\n",
    "        \"whatever\",\n",
    "        \"when\",\n",
    "        \"whence\",\n",
    "        \"whenever\",\n",
    "        \"where\",\n",
    "        \"whereafter\",\n",
    "        \"whereas\",\n",
    "        \"whereby\",\n",
    "        \"wherein\",\n",
    "        \"whereupon\",\n",
    "        \"wherever\",\n",
    "        \"whether\",\n",
    "        \"which\",\n",
    "        \"while\",\n",
    "        \"whither\",\n",
    "        \"who\",\n",
    "        \"whoever\",\n",
    "        \"whole\",\n",
    "        \"whom\",\n",
    "        \"whose\",\n",
    "        \"why\",\n",
    "        \"will\",\n",
    "        \"with\",\n",
    "        \"within\",\n",
    "        \"without\",\n",
    "        \"would\",\n",
    "        \"yet\",\n",
    "        \"you\",\n",
    "        \"your\",\n",
    "        \"yours\",\n",
    "        \"yourself\",\n",
    "        \"yourselves\",\n",
    "        'svm',\n",
    "        'features',\n",
    "        'machine',\n",
    "        'algorithm',\n",
    "        'vector',\n",
    "        'regression',\n",
    "        'classification',\n",
    "        'features',\n",
    "        'kernel',\n",
    "        'model'\n",
    "    ]"
   ]
  },
  {
   "cell_type": "code",
   "execution_count": null,
   "metadata": {
    "colab": {
     "base_uri": "https://localhost:8080/"
    },
    "id": "jVlvoSwdvKXq",
    "outputId": "cabfece9-5d6b-4d8d-bd0b-c723c60ee949"
   },
   "outputs": [],
   "source": [
    "from bertopic import BERTopic\n",
    "from sentence_transformers import SentenceTransformer\n",
    "from sklearn.feature_extraction.text import CountVectorizer\n",
    "\n",
    "vectorizer_model = CountVectorizer(stop_words=stopwords)\n",
    "\n",
    "topic_model = BERTopic(verbose=True, nr_topics=10, calculate_probabilities=True,\n",
    "                       vectorizer_model=vectorizer_model, \n",
    "                       diversity=0.3,\n",
    "                       embedding_model=sentence_model,\n",
    "                       top_n_words=8)\n",
    "topics, probs = topic_model.fit_transform(docs, embeddings)"
   ]
  },
  {
   "cell_type": "code",
   "execution_count": null,
   "metadata": {
    "id": "mPpWpK43inh3"
   },
   "outputs": [],
   "source": [
    "enc = sentence_model.encode(docs[2137])"
   ]
  },
  {
   "cell_type": "code",
   "execution_count": null,
   "metadata": {
    "id": "um2UoBwSoUZm"
   },
   "outputs": [],
   "source": [
    "topic_model.save('topic_model', save_embedding_model=False)"
   ]
  },
  {
   "cell_type": "code",
   "execution_count": null,
   "metadata": {
    "id": "cyaM3ESA9JoY"
   },
   "outputs": [],
   "source": [
    "topic_model = BERTopic.load(\"topic_model\", embedding_model=sentence_model)"
   ]
  },
  {
   "cell_type": "code",
   "execution_count": null,
   "metadata": {
    "colab": {
     "base_uri": "https://localhost:8080/",
     "height": 517
    },
    "id": "zYpayD7yhpWi",
    "outputId": "e2cd0a91-dbd3-4ca8-ea94-c3ffa540eea8"
   },
   "outputs": [],
   "source": [
    "topic_model.visualize_barchart()"
   ]
  },
  {
   "cell_type": "markdown",
   "metadata": {
    "id": "Abl7cU1p4cp8"
   },
   "source": [
    "## Feature topics dla naszego zbioru"
   ]
  },
  {
   "cell_type": "code",
   "execution_count": null,
   "metadata": {
    "colab": {
     "base_uri": "https://localhost:8080/"
    },
    "id": "yM1lYp_o4g75",
    "outputId": "d9b0207a-2671-4ed0-d897-3501cd8a4cb1"
   },
   "outputs": [],
   "source": [
    "!gdown -O train_data.pkl 1i9VGVhDOdQztHCtSLWMVBiqIQYY_Fmz-"
   ]
  },
  {
   "cell_type": "code",
   "execution_count": null,
   "metadata": {
    "colab": {
     "base_uri": "https://localhost:8080/"
    },
    "id": "YdtH1AaG6cVP",
    "outputId": "5fae8e9d-3107-46f4-f626-84a07d7fa5a2"
   },
   "outputs": [],
   "source": [
    "!gdown -O test_data.pkl 1pZjfMG_12oEJ-VSsOKHM4n_kESfkwN35"
   ]
  },
  {
   "cell_type": "code",
   "execution_count": null,
   "metadata": {
    "id": "YxeIvxuz47LZ"
   },
   "outputs": [],
   "source": [
    "import pickle\n",
    "with open('train_data.pkl', \"rb\") as fIn:\n",
    "    train_data = pickle.load(fIn)"
   ]
  },
  {
   "cell_type": "code",
   "execution_count": null,
   "metadata": {
    "id": "gszTQ82X5uoN"
   },
   "outputs": [],
   "source": [
    "train_docs = train_data[0]['abstract']"
   ]
  },
  {
   "cell_type": "code",
   "execution_count": null,
   "metadata": {
    "colab": {
     "base_uri": "https://localhost:8080/",
     "height": 49,
     "referenced_widgets": [
      "27ad982adc0c4e458dae5aed262fd995",
      "eace1a4cd60f45e3819b236b1b25ed4d",
      "cd35b130505c4e62af06c46a48c07664",
      "2c72420af8594d9cb9cd309a4c35dcd8",
      "eed72a54f5d14a488c84d50ab47416ff",
      "78b849cbc7214ab3b01b60a850ed8801",
      "572b4ac1026f480bb569eebf47116ffb",
      "c811f23f9479472296e0ecf97f7e7617",
      "25414734049644f28a2481512c217f80",
      "c6d4684d42254efd9160fc0893e5e4df",
      "66ab5c002ae1495790e749a634ca6dba"
     ]
    },
    "id": "UDZvOlW95wpj",
    "outputId": "33f6f221-9687-4187-bdd1-7b70f08e69cd"
   },
   "outputs": [],
   "source": [
    "train_emb = sentence_model.encode(train_docs, show_progress_bar=True)"
   ]
  },
  {
   "cell_type": "code",
   "execution_count": null,
   "metadata": {
    "colab": {
     "base_uri": "https://localhost:8080/"
    },
    "id": "oYbY77r-6YP4",
    "outputId": "3de3e0ed-7590-43f2-f54d-e16e8a721fbd"
   },
   "outputs": [],
   "source": [
    "t, train_probs = topic_model.transform(train_docs, train_emb)"
   ]
  },
  {
   "cell_type": "code",
   "execution_count": null,
   "metadata": {
    "id": "6aUbOZRow6SS"
   },
   "outputs": [],
   "source": [
    "def get_topic_names(topics_dict):\n",
    "  names = list()\n",
    "  for key, value in topics_dict.items(): \n",
    "    name = str(key)\n",
    "    for i in range(5):\n",
    "      name = name + '_' + value[i][0]\n",
    "    names.append(name)\n",
    "  return names"
   ]
  },
  {
   "cell_type": "code",
   "execution_count": null,
   "metadata": {
    "colab": {
     "base_uri": "https://localhost:8080/"
    },
    "id": "3EaPRosdxNoH",
    "outputId": "50ada7e9-e415-4c43-8b4d-f4e0b0a3335a"
   },
   "outputs": [],
   "source": [
    "get_topic_names(topic_model.get_topics())"
   ]
  },
  {
   "cell_type": "code",
   "execution_count": null,
   "metadata": {
    "id": "gsBB5pGHwYQP"
   },
   "outputs": [],
   "source": [
    "train_out_frame = pd.DataFrame(train_probs, columns = get_topic_names(topic_model.get_topics())[1:])"
   ]
  },
  {
   "cell_type": "code",
   "execution_count": null,
   "metadata": {
    "id": "yjCAsNQo7C6X"
   },
   "outputs": [],
   "source": [
    "with open('test_data.pkl', \"rb\") as fIn:\n",
    "    test_data = pickle.load(fIn)"
   ]
  },
  {
   "cell_type": "code",
   "execution_count": null,
   "metadata": {
    "colab": {
     "base_uri": "https://localhost:8080/",
     "height": 100,
     "referenced_widgets": [
      "d51dc6a3c73d4ddd91ff39846d29fac6",
      "9a38e06c2ae441369e642c5306bdd8a6",
      "5662c2900ca942559287097bd3e4226c",
      "14820bc674df486ca71edae7b7178dbb",
      "92429ed588bc4d8692b5a4fabc3fa198",
      "807219fea48945229ba0ae3cb50ac1da",
      "4ded0df8752344ffbb8164b04f260585",
      "83327695bc5c4a819220070888e621d9",
      "39f222f44b574e978274bb4bd86b1f73",
      "3872588afabb44af8c2fd79f0a7fbb69",
      "a237ee93c8a5483d99a663a79d9c32dd"
     ]
    },
    "id": "pBnr7IFE70IN",
    "outputId": "d35cd419-3d8b-43eb-de3e-0c82f0536baa"
   },
   "outputs": [],
   "source": [
    "test_docs = test_data[0]['abstract']\n",
    "test_emb = sentence_model.encode(test_docs, show_progress_bar=True)\n",
    "t, test_probs = topic_model.transform(test_docs, test_emb)"
   ]
  },
  {
   "cell_type": "code",
   "execution_count": null,
   "metadata": {
    "id": "WAqUXD3l0yIZ"
   },
   "outputs": [],
   "source": [
    "test_out_frame = pd.DataFrame(test_probs, columns = get_topic_names(topic_model.get_topics())[1:])"
   ]
  },
  {
   "cell_type": "code",
   "execution_count": null,
   "metadata": {
    "id": "quod01XD0Du6"
   },
   "outputs": [],
   "source": [
    "train_out_frame.to_csv('train_topic_features.csv', index=False)\n",
    "test_out_frame.to_csv('test_topic_features.csv', index=False)"
   ]
  },
  {
   "cell_type": "code",
   "execution_count": null,
   "metadata": {
    "colab": {
     "base_uri": "https://localhost:8080/"
    },
    "id": "DARE04bQ0KOD",
    "outputId": "65cae9f6-e3f4-4a4a-c946-a014e899fb02"
   },
   "outputs": [],
   "source": [
    "!du -h topic_model"
   ]
  },
  {
   "cell_type": "code",
   "execution_count": null,
   "metadata": {
    "colab": {
     "base_uri": "https://localhost:8080/"
    },
    "id": "jtBUAKVk1q3Q",
    "outputId": "2601f9db-538d-4bd3-ba23-29f0120bdbc2"
   },
   "outputs": [],
   "source": [
    "from google.colab import drive\n",
    "drive.mount('/content/drive')"
   ]
  },
  {
   "cell_type": "code",
   "execution_count": null,
   "metadata": {
    "id": "kY17IE-oAX6z"
   },
   "outputs": [],
   "source": [
    "!cp topic_model drive/MyDrive/topic_model"
   ]
  },
  {
   "cell_type": "code",
   "execution_count": null,
   "metadata": {
    "id": "I2_6rGJvBYi8"
   },
   "outputs": [],
   "source": [
    "train_data[1].to_csv('is_cited.csv')"
   ]
  },
  {
   "cell_type": "code",
   "execution_count": null,
   "metadata": {
    "id": "HLgMzk9ohL3I"
   },
   "outputs": [],
   "source": []
  }
 ],
 "metadata": {
  "accelerator": "GPU",
  "colab": {
   "collapsed_sections": [],
   "name": "topic_modeling.ipynb",
   "provenance": []
  },
  "kernelspec": {
   "display_name": "Python 3 (ipykernel)",
   "language": "python",
   "name": "python3"
  },
  "language_info": {
   "codemirror_mode": {
    "name": "ipython",
    "version": 3
   },
   "file_extension": ".py",
   "mimetype": "text/x-python",
   "name": "python",
   "nbconvert_exporter": "python",
   "pygments_lexer": "ipython3",
   "version": "3.8.10"
  },
  "widgets": {
   "application/vnd.jupyter.widget-state+json": {
    "14820bc674df486ca71edae7b7178dbb": {
     "model_module": "@jupyter-widgets/controls",
     "model_module_version": "1.5.0",
     "model_name": "HTMLModel",
     "state": {
      "_dom_classes": [],
      "_model_module": "@jupyter-widgets/controls",
      "_model_module_version": "1.5.0",
      "_model_name": "HTMLModel",
      "_view_count": null,
      "_view_module": "@jupyter-widgets/controls",
      "_view_module_version": "1.5.0",
      "_view_name": "HTMLView",
      "description": "",
      "description_tooltip": null,
      "layout": "IPY_MODEL_3872588afabb44af8c2fd79f0a7fbb69",
      "placeholder": "​",
      "style": "IPY_MODEL_a237ee93c8a5483d99a663a79d9c32dd",
      "value": " 58/58 [00:37&lt;00:00,  3.98it/s]"
     }
    },
    "25414734049644f28a2481512c217f80": {
     "model_module": "@jupyter-widgets/controls",
     "model_module_version": "1.5.0",
     "model_name": "ProgressStyleModel",
     "state": {
      "_model_module": "@jupyter-widgets/controls",
      "_model_module_version": "1.5.0",
      "_model_name": "ProgressStyleModel",
      "_view_count": null,
      "_view_module": "@jupyter-widgets/base",
      "_view_module_version": "1.2.0",
      "_view_name": "StyleView",
      "bar_color": null,
      "description_width": ""
     }
    },
    "27ad982adc0c4e458dae5aed262fd995": {
     "model_module": "@jupyter-widgets/controls",
     "model_module_version": "1.5.0",
     "model_name": "HBoxModel",
     "state": {
      "_dom_classes": [],
      "_model_module": "@jupyter-widgets/controls",
      "_model_module_version": "1.5.0",
      "_model_name": "HBoxModel",
      "_view_count": null,
      "_view_module": "@jupyter-widgets/controls",
      "_view_module_version": "1.5.0",
      "_view_name": "HBoxView",
      "box_style": "",
      "children": [
       "IPY_MODEL_eace1a4cd60f45e3819b236b1b25ed4d",
       "IPY_MODEL_cd35b130505c4e62af06c46a48c07664",
       "IPY_MODEL_2c72420af8594d9cb9cd309a4c35dcd8"
      ],
      "layout": "IPY_MODEL_eed72a54f5d14a488c84d50ab47416ff"
     }
    },
    "2c72420af8594d9cb9cd309a4c35dcd8": {
     "model_module": "@jupyter-widgets/controls",
     "model_module_version": "1.5.0",
     "model_name": "HTMLModel",
     "state": {
      "_dom_classes": [],
      "_model_module": "@jupyter-widgets/controls",
      "_model_module_version": "1.5.0",
      "_model_name": "HTMLModel",
      "_view_count": null,
      "_view_module": "@jupyter-widgets/controls",
      "_view_module_version": "1.5.0",
      "_view_name": "HTMLView",
      "description": "",
      "description_tooltip": null,
      "layout": "IPY_MODEL_c6d4684d42254efd9160fc0893e5e4df",
      "placeholder": "​",
      "style": "IPY_MODEL_66ab5c002ae1495790e749a634ca6dba",
      "value": " 135/135 [01:26&lt;00:00,  3.76it/s]"
     }
    },
    "3872588afabb44af8c2fd79f0a7fbb69": {
     "model_module": "@jupyter-widgets/base",
     "model_module_version": "1.2.0",
     "model_name": "LayoutModel",
     "state": {
      "_model_module": "@jupyter-widgets/base",
      "_model_module_version": "1.2.0",
      "_model_name": "LayoutModel",
      "_view_count": null,
      "_view_module": "@jupyter-widgets/base",
      "_view_module_version": "1.2.0",
      "_view_name": "LayoutView",
      "align_content": null,
      "align_items": null,
      "align_self": null,
      "border": null,
      "bottom": null,
      "display": null,
      "flex": null,
      "flex_flow": null,
      "grid_area": null,
      "grid_auto_columns": null,
      "grid_auto_flow": null,
      "grid_auto_rows": null,
      "grid_column": null,
      "grid_gap": null,
      "grid_row": null,
      "grid_template_areas": null,
      "grid_template_columns": null,
      "grid_template_rows": null,
      "height": null,
      "justify_content": null,
      "justify_items": null,
      "left": null,
      "margin": null,
      "max_height": null,
      "max_width": null,
      "min_height": null,
      "min_width": null,
      "object_fit": null,
      "object_position": null,
      "order": null,
      "overflow": null,
      "overflow_x": null,
      "overflow_y": null,
      "padding": null,
      "right": null,
      "top": null,
      "visibility": null,
      "width": null
     }
    },
    "39f222f44b574e978274bb4bd86b1f73": {
     "model_module": "@jupyter-widgets/controls",
     "model_module_version": "1.5.0",
     "model_name": "ProgressStyleModel",
     "state": {
      "_model_module": "@jupyter-widgets/controls",
      "_model_module_version": "1.5.0",
      "_model_name": "ProgressStyleModel",
      "_view_count": null,
      "_view_module": "@jupyter-widgets/base",
      "_view_module_version": "1.2.0",
      "_view_name": "StyleView",
      "bar_color": null,
      "description_width": ""
     }
    },
    "4ded0df8752344ffbb8164b04f260585": {
     "model_module": "@jupyter-widgets/controls",
     "model_module_version": "1.5.0",
     "model_name": "DescriptionStyleModel",
     "state": {
      "_model_module": "@jupyter-widgets/controls",
      "_model_module_version": "1.5.0",
      "_model_name": "DescriptionStyleModel",
      "_view_count": null,
      "_view_module": "@jupyter-widgets/base",
      "_view_module_version": "1.2.0",
      "_view_name": "StyleView",
      "description_width": ""
     }
    },
    "5662c2900ca942559287097bd3e4226c": {
     "model_module": "@jupyter-widgets/controls",
     "model_module_version": "1.5.0",
     "model_name": "FloatProgressModel",
     "state": {
      "_dom_classes": [],
      "_model_module": "@jupyter-widgets/controls",
      "_model_module_version": "1.5.0",
      "_model_name": "FloatProgressModel",
      "_view_count": null,
      "_view_module": "@jupyter-widgets/controls",
      "_view_module_version": "1.5.0",
      "_view_name": "ProgressView",
      "bar_style": "success",
      "description": "",
      "description_tooltip": null,
      "layout": "IPY_MODEL_83327695bc5c4a819220070888e621d9",
      "max": 58,
      "min": 0,
      "orientation": "horizontal",
      "style": "IPY_MODEL_39f222f44b574e978274bb4bd86b1f73",
      "value": 58
     }
    },
    "572b4ac1026f480bb569eebf47116ffb": {
     "model_module": "@jupyter-widgets/controls",
     "model_module_version": "1.5.0",
     "model_name": "DescriptionStyleModel",
     "state": {
      "_model_module": "@jupyter-widgets/controls",
      "_model_module_version": "1.5.0",
      "_model_name": "DescriptionStyleModel",
      "_view_count": null,
      "_view_module": "@jupyter-widgets/base",
      "_view_module_version": "1.2.0",
      "_view_name": "StyleView",
      "description_width": ""
     }
    },
    "66ab5c002ae1495790e749a634ca6dba": {
     "model_module": "@jupyter-widgets/controls",
     "model_module_version": "1.5.0",
     "model_name": "DescriptionStyleModel",
     "state": {
      "_model_module": "@jupyter-widgets/controls",
      "_model_module_version": "1.5.0",
      "_model_name": "DescriptionStyleModel",
      "_view_count": null,
      "_view_module": "@jupyter-widgets/base",
      "_view_module_version": "1.2.0",
      "_view_name": "StyleView",
      "description_width": ""
     }
    },
    "78b849cbc7214ab3b01b60a850ed8801": {
     "model_module": "@jupyter-widgets/base",
     "model_module_version": "1.2.0",
     "model_name": "LayoutModel",
     "state": {
      "_model_module": "@jupyter-widgets/base",
      "_model_module_version": "1.2.0",
      "_model_name": "LayoutModel",
      "_view_count": null,
      "_view_module": "@jupyter-widgets/base",
      "_view_module_version": "1.2.0",
      "_view_name": "LayoutView",
      "align_content": null,
      "align_items": null,
      "align_self": null,
      "border": null,
      "bottom": null,
      "display": null,
      "flex": null,
      "flex_flow": null,
      "grid_area": null,
      "grid_auto_columns": null,
      "grid_auto_flow": null,
      "grid_auto_rows": null,
      "grid_column": null,
      "grid_gap": null,
      "grid_row": null,
      "grid_template_areas": null,
      "grid_template_columns": null,
      "grid_template_rows": null,
      "height": null,
      "justify_content": null,
      "justify_items": null,
      "left": null,
      "margin": null,
      "max_height": null,
      "max_width": null,
      "min_height": null,
      "min_width": null,
      "object_fit": null,
      "object_position": null,
      "order": null,
      "overflow": null,
      "overflow_x": null,
      "overflow_y": null,
      "padding": null,
      "right": null,
      "top": null,
      "visibility": null,
      "width": null
     }
    },
    "807219fea48945229ba0ae3cb50ac1da": {
     "model_module": "@jupyter-widgets/base",
     "model_module_version": "1.2.0",
     "model_name": "LayoutModel",
     "state": {
      "_model_module": "@jupyter-widgets/base",
      "_model_module_version": "1.2.0",
      "_model_name": "LayoutModel",
      "_view_count": null,
      "_view_module": "@jupyter-widgets/base",
      "_view_module_version": "1.2.0",
      "_view_name": "LayoutView",
      "align_content": null,
      "align_items": null,
      "align_self": null,
      "border": null,
      "bottom": null,
      "display": null,
      "flex": null,
      "flex_flow": null,
      "grid_area": null,
      "grid_auto_columns": null,
      "grid_auto_flow": null,
      "grid_auto_rows": null,
      "grid_column": null,
      "grid_gap": null,
      "grid_row": null,
      "grid_template_areas": null,
      "grid_template_columns": null,
      "grid_template_rows": null,
      "height": null,
      "justify_content": null,
      "justify_items": null,
      "left": null,
      "margin": null,
      "max_height": null,
      "max_width": null,
      "min_height": null,
      "min_width": null,
      "object_fit": null,
      "object_position": null,
      "order": null,
      "overflow": null,
      "overflow_x": null,
      "overflow_y": null,
      "padding": null,
      "right": null,
      "top": null,
      "visibility": null,
      "width": null
     }
    },
    "83327695bc5c4a819220070888e621d9": {
     "model_module": "@jupyter-widgets/base",
     "model_module_version": "1.2.0",
     "model_name": "LayoutModel",
     "state": {
      "_model_module": "@jupyter-widgets/base",
      "_model_module_version": "1.2.0",
      "_model_name": "LayoutModel",
      "_view_count": null,
      "_view_module": "@jupyter-widgets/base",
      "_view_module_version": "1.2.0",
      "_view_name": "LayoutView",
      "align_content": null,
      "align_items": null,
      "align_self": null,
      "border": null,
      "bottom": null,
      "display": null,
      "flex": null,
      "flex_flow": null,
      "grid_area": null,
      "grid_auto_columns": null,
      "grid_auto_flow": null,
      "grid_auto_rows": null,
      "grid_column": null,
      "grid_gap": null,
      "grid_row": null,
      "grid_template_areas": null,
      "grid_template_columns": null,
      "grid_template_rows": null,
      "height": null,
      "justify_content": null,
      "justify_items": null,
      "left": null,
      "margin": null,
      "max_height": null,
      "max_width": null,
      "min_height": null,
      "min_width": null,
      "object_fit": null,
      "object_position": null,
      "order": null,
      "overflow": null,
      "overflow_x": null,
      "overflow_y": null,
      "padding": null,
      "right": null,
      "top": null,
      "visibility": null,
      "width": null
     }
    },
    "92429ed588bc4d8692b5a4fabc3fa198": {
     "model_module": "@jupyter-widgets/base",
     "model_module_version": "1.2.0",
     "model_name": "LayoutModel",
     "state": {
      "_model_module": "@jupyter-widgets/base",
      "_model_module_version": "1.2.0",
      "_model_name": "LayoutModel",
      "_view_count": null,
      "_view_module": "@jupyter-widgets/base",
      "_view_module_version": "1.2.0",
      "_view_name": "LayoutView",
      "align_content": null,
      "align_items": null,
      "align_self": null,
      "border": null,
      "bottom": null,
      "display": null,
      "flex": null,
      "flex_flow": null,
      "grid_area": null,
      "grid_auto_columns": null,
      "grid_auto_flow": null,
      "grid_auto_rows": null,
      "grid_column": null,
      "grid_gap": null,
      "grid_row": null,
      "grid_template_areas": null,
      "grid_template_columns": null,
      "grid_template_rows": null,
      "height": null,
      "justify_content": null,
      "justify_items": null,
      "left": null,
      "margin": null,
      "max_height": null,
      "max_width": null,
      "min_height": null,
      "min_width": null,
      "object_fit": null,
      "object_position": null,
      "order": null,
      "overflow": null,
      "overflow_x": null,
      "overflow_y": null,
      "padding": null,
      "right": null,
      "top": null,
      "visibility": null,
      "width": null
     }
    },
    "9a38e06c2ae441369e642c5306bdd8a6": {
     "model_module": "@jupyter-widgets/controls",
     "model_module_version": "1.5.0",
     "model_name": "HTMLModel",
     "state": {
      "_dom_classes": [],
      "_model_module": "@jupyter-widgets/controls",
      "_model_module_version": "1.5.0",
      "_model_name": "HTMLModel",
      "_view_count": null,
      "_view_module": "@jupyter-widgets/controls",
      "_view_module_version": "1.5.0",
      "_view_name": "HTMLView",
      "description": "",
      "description_tooltip": null,
      "layout": "IPY_MODEL_807219fea48945229ba0ae3cb50ac1da",
      "placeholder": "​",
      "style": "IPY_MODEL_4ded0df8752344ffbb8164b04f260585",
      "value": "Batches: 100%"
     }
    },
    "a237ee93c8a5483d99a663a79d9c32dd": {
     "model_module": "@jupyter-widgets/controls",
     "model_module_version": "1.5.0",
     "model_name": "DescriptionStyleModel",
     "state": {
      "_model_module": "@jupyter-widgets/controls",
      "_model_module_version": "1.5.0",
      "_model_name": "DescriptionStyleModel",
      "_view_count": null,
      "_view_module": "@jupyter-widgets/base",
      "_view_module_version": "1.2.0",
      "_view_name": "StyleView",
      "description_width": ""
     }
    },
    "c6d4684d42254efd9160fc0893e5e4df": {
     "model_module": "@jupyter-widgets/base",
     "model_module_version": "1.2.0",
     "model_name": "LayoutModel",
     "state": {
      "_model_module": "@jupyter-widgets/base",
      "_model_module_version": "1.2.0",
      "_model_name": "LayoutModel",
      "_view_count": null,
      "_view_module": "@jupyter-widgets/base",
      "_view_module_version": "1.2.0",
      "_view_name": "LayoutView",
      "align_content": null,
      "align_items": null,
      "align_self": null,
      "border": null,
      "bottom": null,
      "display": null,
      "flex": null,
      "flex_flow": null,
      "grid_area": null,
      "grid_auto_columns": null,
      "grid_auto_flow": null,
      "grid_auto_rows": null,
      "grid_column": null,
      "grid_gap": null,
      "grid_row": null,
      "grid_template_areas": null,
      "grid_template_columns": null,
      "grid_template_rows": null,
      "height": null,
      "justify_content": null,
      "justify_items": null,
      "left": null,
      "margin": null,
      "max_height": null,
      "max_width": null,
      "min_height": null,
      "min_width": null,
      "object_fit": null,
      "object_position": null,
      "order": null,
      "overflow": null,
      "overflow_x": null,
      "overflow_y": null,
      "padding": null,
      "right": null,
      "top": null,
      "visibility": null,
      "width": null
     }
    },
    "c811f23f9479472296e0ecf97f7e7617": {
     "model_module": "@jupyter-widgets/base",
     "model_module_version": "1.2.0",
     "model_name": "LayoutModel",
     "state": {
      "_model_module": "@jupyter-widgets/base",
      "_model_module_version": "1.2.0",
      "_model_name": "LayoutModel",
      "_view_count": null,
      "_view_module": "@jupyter-widgets/base",
      "_view_module_version": "1.2.0",
      "_view_name": "LayoutView",
      "align_content": null,
      "align_items": null,
      "align_self": null,
      "border": null,
      "bottom": null,
      "display": null,
      "flex": null,
      "flex_flow": null,
      "grid_area": null,
      "grid_auto_columns": null,
      "grid_auto_flow": null,
      "grid_auto_rows": null,
      "grid_column": null,
      "grid_gap": null,
      "grid_row": null,
      "grid_template_areas": null,
      "grid_template_columns": null,
      "grid_template_rows": null,
      "height": null,
      "justify_content": null,
      "justify_items": null,
      "left": null,
      "margin": null,
      "max_height": null,
      "max_width": null,
      "min_height": null,
      "min_width": null,
      "object_fit": null,
      "object_position": null,
      "order": null,
      "overflow": null,
      "overflow_x": null,
      "overflow_y": null,
      "padding": null,
      "right": null,
      "top": null,
      "visibility": null,
      "width": null
     }
    },
    "cd35b130505c4e62af06c46a48c07664": {
     "model_module": "@jupyter-widgets/controls",
     "model_module_version": "1.5.0",
     "model_name": "FloatProgressModel",
     "state": {
      "_dom_classes": [],
      "_model_module": "@jupyter-widgets/controls",
      "_model_module_version": "1.5.0",
      "_model_name": "FloatProgressModel",
      "_view_count": null,
      "_view_module": "@jupyter-widgets/controls",
      "_view_module_version": "1.5.0",
      "_view_name": "ProgressView",
      "bar_style": "success",
      "description": "",
      "description_tooltip": null,
      "layout": "IPY_MODEL_c811f23f9479472296e0ecf97f7e7617",
      "max": 135,
      "min": 0,
      "orientation": "horizontal",
      "style": "IPY_MODEL_25414734049644f28a2481512c217f80",
      "value": 135
     }
    },
    "d51dc6a3c73d4ddd91ff39846d29fac6": {
     "model_module": "@jupyter-widgets/controls",
     "model_module_version": "1.5.0",
     "model_name": "HBoxModel",
     "state": {
      "_dom_classes": [],
      "_model_module": "@jupyter-widgets/controls",
      "_model_module_version": "1.5.0",
      "_model_name": "HBoxModel",
      "_view_count": null,
      "_view_module": "@jupyter-widgets/controls",
      "_view_module_version": "1.5.0",
      "_view_name": "HBoxView",
      "box_style": "",
      "children": [
       "IPY_MODEL_9a38e06c2ae441369e642c5306bdd8a6",
       "IPY_MODEL_5662c2900ca942559287097bd3e4226c",
       "IPY_MODEL_14820bc674df486ca71edae7b7178dbb"
      ],
      "layout": "IPY_MODEL_92429ed588bc4d8692b5a4fabc3fa198"
     }
    },
    "eace1a4cd60f45e3819b236b1b25ed4d": {
     "model_module": "@jupyter-widgets/controls",
     "model_module_version": "1.5.0",
     "model_name": "HTMLModel",
     "state": {
      "_dom_classes": [],
      "_model_module": "@jupyter-widgets/controls",
      "_model_module_version": "1.5.0",
      "_model_name": "HTMLModel",
      "_view_count": null,
      "_view_module": "@jupyter-widgets/controls",
      "_view_module_version": "1.5.0",
      "_view_name": "HTMLView",
      "description": "",
      "description_tooltip": null,
      "layout": "IPY_MODEL_78b849cbc7214ab3b01b60a850ed8801",
      "placeholder": "​",
      "style": "IPY_MODEL_572b4ac1026f480bb569eebf47116ffb",
      "value": "Batches: 100%"
     }
    },
    "eed72a54f5d14a488c84d50ab47416ff": {
     "model_module": "@jupyter-widgets/base",
     "model_module_version": "1.2.0",
     "model_name": "LayoutModel",
     "state": {
      "_model_module": "@jupyter-widgets/base",
      "_model_module_version": "1.2.0",
      "_model_name": "LayoutModel",
      "_view_count": null,
      "_view_module": "@jupyter-widgets/base",
      "_view_module_version": "1.2.0",
      "_view_name": "LayoutView",
      "align_content": null,
      "align_items": null,
      "align_self": null,
      "border": null,
      "bottom": null,
      "display": null,
      "flex": null,
      "flex_flow": null,
      "grid_area": null,
      "grid_auto_columns": null,
      "grid_auto_flow": null,
      "grid_auto_rows": null,
      "grid_column": null,
      "grid_gap": null,
      "grid_row": null,
      "grid_template_areas": null,
      "grid_template_columns": null,
      "grid_template_rows": null,
      "height": null,
      "justify_content": null,
      "justify_items": null,
      "left": null,
      "margin": null,
      "max_height": null,
      "max_width": null,
      "min_height": null,
      "min_width": null,
      "object_fit": null,
      "object_position": null,
      "order": null,
      "overflow": null,
      "overflow_x": null,
      "overflow_y": null,
      "padding": null,
      "right": null,
      "top": null,
      "visibility": null,
      "width": null
     }
    }
   }
  }
 },
 "nbformat": 4,
 "nbformat_minor": 4
}
