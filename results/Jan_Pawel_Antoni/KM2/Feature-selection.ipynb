{
 "cells": [
  {
   "cell_type": "markdown",
   "id": "d5af3f1b-64db-4dc1-8b8f-cec782c1a933",
   "metadata": {
    "pycharm": {
     "name": "#%% md\n"
    }
   },
   "source": [
    "# Citations in public policies - feature selection i topic modeling\n",
    "\n",
    "\n",
    "### Topic modeling za pomocą BERTopic\n",
    "\n",
    "- Embeddingi zdań z modelu `all-distilroberta-v1`. Pozwola on na użycie tekstów do 512 tokenów.\n",
    "- Modelowanie do 10 tematów.\n",
    "- 8 słów na temat\n",
    "- Parametr `diversity=0.3` określający minimalną różnorodnośc słów pomiędzy tematami.\n",
    "- Odfiltrowane angielskich stopwords po embeddingu (co ważne)."
   ]
  },
  {
   "cell_type": "code",
   "execution_count": null,
   "id": "f917cc89-76d4-48d0-bb9f-fdc21ea02ee0",
   "metadata": {
    "cell_id": "c1e07ded60784b60b9dff0cb5be61512",
    "deepnote_cell_height": 66,
    "deepnote_cell_type": "code",
    "deepnote_to_be_reexecuted": false,
    "execution_millis": 35,
    "execution_start": 1651728977060,
    "pycharm": {
     "name": "#%%\n"
    },
    "source_hash": "d6318f34",
    "tags": []
   },
   "outputs": [],
   "source": [
    "topic_model.get_topics()"
   ]
  },
  {
   "cell_type": "markdown",
   "id": "df2b91f6-1001-4d86-ab75-dbf5fef83d2d",
   "metadata": {
    "pycharm": {
     "name": "#%% md\n"
    }
   },
   "source": [
    "*Wykresy w html...*"
   ]
  },
  {
   "cell_type": "markdown",
   "id": "fb368138-f38d-4753-baf6-e5f5995d1cb8",
   "metadata": {
    "pycharm": {
     "name": "#%% md\n"
    }
   },
   "source": [
    "# Feature selection \n",
    "## Co zrobione:\n",
    "* dorzucone 10 topiców do danych\n",
    "* wyrzucone kolumny sumujące się do 0 lub 1 (na całym X, połączonym train i test)- powinno być odfiltrowane wcześniej. Zostaje 28k\n",
    "\n",
    "Pierwsze podejście do feature selection:\n",
    "1. SelectKBest do top 5000\n",
    "2. RecursiveFeatureElimination do top 1000 ze step=10 (estimator LinearRegression)\n",
    "3. RFE do top 400 ze step=1\n",
    "\n",
    "Przebieg:\n",
    "* Aż  z 10 topiców zostało\n",
    "* Skrajny overfitting.\n",
    "* Odrzucono część bardzo rzadko występujących autorów.\n",
    "\n",
    "Drugie podejście\n",
    "1. SelectKbest do top5000\n",
    "2. RFE do top 3000 step 5\n",
    "3. RFE do top 2000 step 1\n",
    "\n",
    "Minimalnie lepiej ale wciąż źle."
   ]
  },
  {
   "cell_type": "code",
   "execution_count": null,
   "id": "172b944e",
   "metadata": {
    "pycharm": {
     "name": "#%%\n"
    },
    "scrolled": true
   },
   "outputs": [],
   "source": [
    "import gdown\n",
    "import pickle as pkl\n",
    "import pandas as pd\n",
    "import warnings\n",
    "warnings.filterwarnings('ignore')"
   ]
  },
  {
   "cell_type": "code",
   "execution_count": null,
   "id": "760b8fa7",
   "metadata": {
    "pycharm": {
     "name": "#%%\n"
    },
    "scrolled": true
   },
   "outputs": [],
   "source": [
    "#id='1i9VGVhDOdQztHCtSLWMVBiqIQYY_Fmz-'\n",
    "#output='train_data.pkl'\n",
    "#gdown.download(id=id, output=output, quiet=False)"
   ]
  },
  {
   "cell_type": "code",
   "execution_count": null,
   "id": "6386d97b",
   "metadata": {
    "pycharm": {
     "name": "#%%\n"
    }
   },
   "outputs": [],
   "source": [
    " with open(\"train_data.pkl\", \"rb\") as f:\n",
    "    object_train = pkl.load(f)\n",
    "X_train = pd.DataFrame(object_train[0]).drop(columns=[\"abstract\"])\n",
    "y_train=pd.DataFrame(object_train[1])"
   ]
  },
  {
   "cell_type": "code",
   "execution_count": null,
   "id": "dd64d2af",
   "metadata": {
    "pycharm": {
     "name": "#%%\n"
    }
   },
   "outputs": [],
   "source": [
    "#id='1pZjfMG_12oEJ-VSsOKHM4n_kESfkwN35'\n",
    "#output='test_data.pkl'\n",
    "#gdown.download(id=id, output=output, quiet=False)"
   ]
  },
  {
   "cell_type": "code",
   "execution_count": null,
   "id": "251d7b7d",
   "metadata": {
    "pycharm": {
     "name": "#%%\n"
    }
   },
   "outputs": [],
   "source": [
    "with open(\"test_data.pkl\", \"rb\") as f:\n",
    "    object_test = pkl.load(f)\n",
    "X_test = pd.DataFrame(object_test[0]).drop([\"abstract\"], axis=1)\n",
    "y_test=pd.DataFrame(object_test[1])"
   ]
  },
  {
   "cell_type": "code",
   "execution_count": null,
   "id": "ee30e01e",
   "metadata": {
    "pycharm": {
     "name": "#%%\n"
    }
   },
   "outputs": [],
   "source": [
    "train_topics=pd.read_csv(\"train_topic_features.csv\")\n",
    "test_topics=pd.read_csv(\"test_topic_features.csv\")\n",
    "X_train=pd.concat([X_train, train_topics], axis=1)\n",
    "X_test=pd.concat([X_test, test_topics], axis=1)"
   ]
  },
  {
   "cell_type": "markdown",
   "id": "cc5afbbc-bda3-43d0-9291-6a63dfaa8913",
   "metadata": {
    "pycharm": {
     "name": "#%% md\n"
    }
   },
   "source": [
    "### Wyrzucenie kolumn sumujących się do 0"
   ]
  },
  {
   "cell_type": "code",
   "execution_count": null,
   "id": "4002bc1b",
   "metadata": {
    "pycharm": {
     "name": "#%%\n"
    }
   },
   "outputs": [],
   "source": [
    "X=pd.concat([X_train, X_test], axis=0)\n",
    "X=X[X.columns[X.sum(axis=0) != 0]]\n",
    "X=X[X.columns[X.sum(axis=0) != 1]]\n",
    "X"
   ]
  },
  {
   "cell_type": "code",
   "execution_count": null,
   "id": "24910f18",
   "metadata": {
    "pycharm": {
     "name": "#%%\n"
    }
   },
   "outputs": [],
   "source": [
    "X_train=X_train[X.columns]\n",
    "X_test=X_test[X.columns]"
   ]
  },
  {
   "cell_type": "code",
   "execution_count": null,
   "id": "64cba45d",
   "metadata": {
    "pycharm": {
     "name": "#%%\n"
    }
   },
   "outputs": [],
   "source": [
    "num_authors=len([col for col in X_train if col.startswith('authors')])\n",
    "num_instit=len([col for col in X_train if col.startswith('institutions')])\n",
    "num_countries=len([col for col in X_train if col.startswith('countries')])\n",
    "num_field=len([col for col in X_train if col.startswith('mag_')])\n",
    "num_jour=len([col for col in X_train if col.startswith('jour')])\n",
    "num_type=len([col for col in X_train if col.startswith('type_')])\n",
    "num_abs=len([col for col in X_train if col.startswith('abstract_')])\n",
    "num_topic=10"
   ]
  },
  {
   "cell_type": "code",
   "execution_count": null,
   "id": "2e1bbbb3",
   "metadata": {
    "pycharm": {
     "name": "#%%\n"
    }
   },
   "outputs": [],
   "source": [
    "plt.bar([\"authors\", \"institution\", \"countries\", \"mag_field_of_study\", \"journal name\", \"type of publication\", \"tdidf\", \"topic\"],\n",
    "       [num_authors, num_instit, num_countries, num_field, num_jour, num_type, num_abs, num_topic])\n",
    "plt.xticks(rotation=\"vertical\");\n",
    "plt.yscale(\"log\")\n",
    "plt.title(\"Number of features by category\")"
   ]
  },
  {
   "cell_type": "markdown",
   "id": "367df477",
   "metadata": {
    "pycharm": {
     "name": "#%% md\n"
    }
   },
   "source": [
    "# Feature selection"
   ]
  },
  {
   "cell_type": "code",
   "execution_count": null,
   "id": "61f0b919",
   "metadata": {
    "pycharm": {
     "name": "#%%\n"
    }
   },
   "outputs": [],
   "source": [
    "from sklearn.model_selection import train_test_split\n",
    "import numpy as np\n",
    "\n",
    "from sklearn.pipeline import Pipeline\n",
    "from sklearn.feature_selection import SelectKBest, chi2, mutual_info_classif\n",
    "from sklearn.linear_model import LogisticRegression\n",
    "from sklearn.feature_selection import SelectFromModel\n",
    "from matplotlib import pyplot as plt\n"
   ]
  },
  {
   "cell_type": "markdown",
   "id": "512b7b4e",
   "metadata": {
    "pycharm": {
     "name": "#%% md\n"
    }
   },
   "source": [
    "### SelectKBest"
   ]
  },
  {
   "cell_type": "code",
   "execution_count": null,
   "id": "e8fef1d8",
   "metadata": {
    "pycharm": {
     "name": "#%%\n"
    }
   },
   "outputs": [],
   "source": [
    "Kselector = SelectKBest(chi2, k=5000)"
   ]
  },
  {
   "cell_type": "code",
   "execution_count": null,
   "id": "4676ccf8",
   "metadata": {
    "pycharm": {
     "name": "#%%\n"
    }
   },
   "outputs": [],
   "source": [
    "Kselector.fit(X_train, y_train)\n",
    "cols=Kselector.get_support(indices=True)\n",
    "X_train_new=X_train.iloc[:,cols]"
   ]
  },
  {
   "cell_type": "code",
   "execution_count": null,
   "id": "af76dc75",
   "metadata": {
    "pycharm": {
     "name": "#%%\n"
    }
   },
   "outputs": [],
   "source": [
    "X_train_new"
   ]
  },
  {
   "cell_type": "markdown",
   "id": "d1117787",
   "metadata": {
    "pycharm": {
     "name": "#%% md\n"
    }
   },
   "source": [
    "## Recursive feature elimination z logistic regression jako estymatorem"
   ]
  },
  {
   "cell_type": "code",
   "execution_count": null,
   "id": "d5824669",
   "metadata": {
    "pycharm": {
     "name": "#%%\n"
    }
   },
   "outputs": [],
   "source": [
    "from sklearn.feature_selection import RFE\n",
    "estimator = LogisticRegression() \n",
    "rfe_selector = RFE(estimator, n_features_to_select=1000, step=10, verbose=1)\n",
    "rfe_selector = rfe_selector.fit(X_train_new, y_train) "
   ]
  },
  {
   "cell_type": "code",
   "execution_count": null,
   "id": "25f670fc",
   "metadata": {
    "pycharm": {
     "name": "#%%\n"
    }
   },
   "outputs": [],
   "source": [
    "X_train_newer=X_train_new.iloc[:, rfe_selector.support_]\n",
    "rfe_selector = RFE(estimator, n_features_to_select=400, step=1, verbose=1)\n",
    "rfe_selector = rfe_selector.fit(X_train_newer, y_train)"
   ]
  },
  {
   "cell_type": "code",
   "execution_count": null,
   "id": "353f4820",
   "metadata": {
    "pycharm": {
     "name": "#%%\n"
    },
    "tags": []
   },
   "outputs": [],
   "source": [
    "X_train_final=X_train_newer.iloc[:, rfe_selector.support_]\n",
    "X_train_final"
   ]
  },
  {
   "cell_type": "code",
   "execution_count": null,
   "id": "5c8ed8b6",
   "metadata": {
    "pycharm": {
     "name": "#%%\n"
    },
    "tags": []
   },
   "outputs": [],
   "source": [
    "num_authors=len([col for col in X_train_final if col.startswith('authors')])\n",
    "num_instit=len([col for col in X_train_final if col.startswith('institutions')])\n",
    "num_countries=len([col for col in X_train_final if col.startswith('countries')])\n",
    "num_field=len([col for col in X_train_final if col.startswith('mag_')])\n",
    "num_jour=len([col for col in X_train_final if col.startswith('jour')])\n",
    "num_type=len([col for col in X_train_final if col.startswith('type_')])\n",
    "num_abs=len([col for col in X_train_final if col.startswith('abstract_')])\n",
    "num_topic=5"
   ]
  },
  {
   "cell_type": "code",
   "execution_count": null,
   "id": "5d5d96e5",
   "metadata": {
    "pycharm": {
     "name": "#%%\n"
    }
   },
   "outputs": [],
   "source": [
    "plt.bar([\"authors\", \"institution\", \"countries\", \"mag_field_of_study\", \"journal name\", \"type of publication\", \"tdidf\", \"topic\"],\n",
    "       [num_authors, num_instit, num_countries, num_field, num_jour, num_type, num_abs, num_topic])\n",
    "plt.xticks(rotation=\"vertical\");\n",
    "plt.title(\"Number of features by category after selection\")"
   ]
  },
  {
   "cell_type": "code",
   "execution_count": null,
   "id": "36d3c0a1",
   "metadata": {
    "pycharm": {
     "name": "#%%\n"
    },
    "tags": []
   },
   "outputs": [],
   "source": [
    "[print(i) for i in X_train_final.columns]"
   ]
  },
  {
   "cell_type": "code",
   "execution_count": null,
   "id": "a7452d46",
   "metadata": {
    "pycharm": {
     "name": "#%%\n"
    }
   },
   "outputs": [],
   "source": [
    "X_test_final=X_test[X_train_final.columns]"
   ]
  }
 ],
 "metadata": {
  "kernelspec": {
   "display_name": "Python 3 (ipykernel)",
   "language": "python",
   "name": "python3"
  },
  "language_info": {
   "codemirror_mode": {
    "name": "ipython",
    "version": 3
   },
   "file_extension": ".py",
   "mimetype": "text/x-python",
   "name": "python",
   "nbconvert_exporter": "python",
   "pygments_lexer": "ipython3",
   "version": "3.8.10"
  }
 },
 "nbformat": 4,
 "nbformat_minor": 5
}
