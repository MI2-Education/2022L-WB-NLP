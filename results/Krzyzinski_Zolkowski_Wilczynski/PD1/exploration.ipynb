{
  "cells": [
    {
      "cell_type": "markdown",
      "metadata": {
        "id": "P15bpZwqExdr"
      },
      "source": [
        "# WB-NLP-2022 PD1 - Preprocessing przykładowych danych, eksploracja\n",
        "**Mateusz Krzyziński, Piotr Wilczyński, Artur Żółkowski**\n",
        "\n",
        "Poniższy notebook jest rozwiązaniem pracy domowej numer 1 i dotyczy eksploracji zbioru Database of Parliamentary Speeches in Ireland, 1919-2013, zawierającego teksty przemówień parlamentarzystów irlandzkich. "
      ]
    },
    {
      "cell_type": "markdown",
      "metadata": {
        "id": "Ot3tfSb5E0Iv"
      },
      "source": [
        "#### Ładowanie danych i pakietów"
      ]
    },
    {
      "cell_type": "code",
      "source": [
        "! pip install swifter\n",
        "! pip install pandas\n",
        "! pip install textacy\n",
        "! pip install -U kaleido"
      ],
      "metadata": {
        "id": "iuaMNkgRqiUp"
      },
      "execution_count": null,
      "outputs": []
    },
    {
      "cell_type": "code",
      "source": [
        "!pip install spacy"
      ],
      "metadata": {
        "id": "bohDd_fesCsS"
      },
      "execution_count": null,
      "outputs": []
    },
    {
      "cell_type": "code",
      "source": [
        "!python -m spacy download en_core_web_sm"
      ],
      "metadata": {
        "id": "Cy9LyHxtsEQl"
      },
      "execution_count": null,
      "outputs": []
    },
    {
      "cell_type": "code",
      "execution_count": null,
      "metadata": {
        "id": "pVUxPD32LJSy"
      },
      "outputs": [],
      "source": [
        "import spacy\n",
        "import pandas as pd\n",
        "from tqdm.auto import tqdm \n",
        "import swifter\n",
        "import plotly.express as px\n",
        "from wordcloud import WordCloud\n",
        "from matplotlib import pyplot as plt\n",
        "import numpy as np\n",
        "import textacy\n",
        "from IPython.display import Image\n",
        "pd.options.plotting.backend = \"plotly\""
      ]
    },
    {
      "cell_type": "code",
      "execution_count": null,
      "metadata": {
        "id": "0MRsOCwTSEss"
      },
      "outputs": [],
      "source": [
        "!wget -O data.tar.gz \"https://dataverse.harvard.edu/api/access/datafile/:persistentId?persistentId=doi:10.7910/DVN/6MZN76/CRUNF0\"\n",
        "!wget -O Dail_debates_1937-2011_ministers.tab \"https://dataverse.harvard.edu/api/access/datafile/:persistentId?persistentId=doi:10.7910/DVN/6MZN76/BFFQKZ\""
      ]
    },
    {
      "cell_type": "code",
      "execution_count": null,
      "metadata": {
        "id": "DqjM-xbSSOJw"
      },
      "outputs": [],
      "source": [
        "!tar -xf data.tar.gz"
      ]
    },
    {
      "cell_type": "code",
      "execution_count": null,
      "metadata": {
        "id": "tLpPKYbDEyYD"
      },
      "outputs": [],
      "source": [
        "en = spacy.load(\"en_core_web_sm\")\n",
        "df = pd.read_table('Dail_debates_1919-2013.tab')"
      ]
    },
    {
      "cell_type": "code",
      "execution_count": null,
      "metadata": {
        "scrolled": true,
        "id": "wzk-ZHpoqL0O"
      },
      "outputs": [],
      "source": [
        "df.head(5)"
      ]
    },
    {
      "cell_type": "markdown",
      "metadata": {
        "id": "jB3gjh7rqL0Q"
      },
      "source": [
        "### Wstępne informacje\n",
        "\n",
        "Cała ramka danych zawiera 4 443 713 wierszy (przemówień) i 10 kolumn, w tym 6 kluczowych z punktu widzenia eksploracji danych:\n",
        "- tytuł przemówienia,\n",
        "- data przemówienia,\n",
        "- imię i nazwisko przemawiającego,\n",
        "- nazwa partii politycznej,\n",
        "- nazwa okręgu wyborczego, z którego był wybrany parlamentarzysta,\n",
        "- tekst przemówienia.\n",
        "\n",
        "Nie ma żadnych braków danych. "
      ]
    },
    {
      "cell_type": "code",
      "execution_count": null,
      "metadata": {
        "id": "JuByIjcYqL0S"
      },
      "outputs": [],
      "source": [
        "df.isnull().sum()"
      ]
    },
    {
      "cell_type": "code",
      "execution_count": null,
      "metadata": {
        "id": "h_hv6YmNqL0U"
      },
      "outputs": [],
      "source": [
        "df.date = pd.to_datetime(df.date)"
      ]
    },
    {
      "cell_type": "markdown",
      "metadata": {
        "id": "JeDFaG9hqL0V"
      },
      "source": [
        "### Krótka eksploracja danych pozatekstowych \n",
        "(niezbędne dla kontekstu dalszej eksploracji) "
      ]
    },
    {
      "cell_type": "markdown",
      "metadata": {
        "id": "Ao3-3wmiqL0W"
      },
      "source": [
        "Dane są za okres od 1919 do 2013 roku. W tym czasie swoje wystąpienia w parlamencie miało 1178 parlamentarzystów z 27 różnych partii. \n",
        "\n",
        "W irlandzkim parlamencie (dokładniej niższej jego izbie - Dáil Éireann) zasiada 160 parlamentarzystów. \n",
        "\n",
        "W zbiorze danych znajdują się przemówienia parlamentarzystów wybranych z 151 okręgów wyborczych (natomiat okręgi zmieniały się w czasie - obecnie jest ich 39). "
      ]
    },
    {
      "cell_type": "code",
      "execution_count": null,
      "metadata": {
        "id": "qVEBDz7-qL0X"
      },
      "outputs": [],
      "source": [
        "df.date.min(), df.date.max()"
      ]
    },
    {
      "cell_type": "code",
      "execution_count": null,
      "metadata": {
        "id": "y4skSzQyqL0Y"
      },
      "outputs": [],
      "source": [
        "df.constID.nunique(), df.partyID.nunique(), df.memberID.nunique()"
      ]
    },
    {
      "cell_type": "markdown",
      "metadata": {
        "id": "NzNDryk2qL0a"
      },
      "source": [
        "Wyraźnie widać, że najwięcej przemówień wygłosili przedstawiciele czterech partii (które miały też najwięcej parlamentarzystów w izbie w tym okresie). Warto przyjrzeć się krótko tym partiom. \n",
        "\n",
        "- **Fianna Fail - The Republican Party** (*Żołnierze Losu*) - założona w 1926, partia konserwatywna, chrześcijańsko-demokratyczna, wielokrotnie rządziła sama lub w koalicji, sprzeciwia się silnej integracji europejskiej \n",
        "- **Fine Gael** (*Rodzina Irlandczyków*) - założona w 1933, liberalno-konserwatywa, chrześcijańsko-demokratyczna, uważana za skłonną do kompromisów z Wielką Brytanią, zwolenniczka integracji europejskiej\n",
        "- **The Labour Party** - założona w 1912, partia centro-lewicowa, socjaldemokratyczna, proeuropejska, trzecia główna partia, rządząca w koalicjach z Fine Gael \n",
        "- **Sinn Féin** (*My Sami*) - założona w 1905 (w obecnej formie w 1970), partia lewicowo-nacjonalistyczna, republikańska,  jej głównym celem pozostaje zjednoczenie obu części Irlandii w jedną republikę"
      ]
    },
    {
      "cell_type": "code",
      "execution_count": null,
      "metadata": {
        "id": "ofWBCVtvqL0b"
      },
      "outputs": [],
      "source": [
        "fig = df.party_name.value_counts().plot(kind='bar')\n",
        "img_bytes = fig.to_image(format=\"png\", width=800, height=400, scale=2, engine='kaleido')"
      ]
    },
    {
      "cell_type": "code",
      "source": [
        "#w notatniku\n",
        "fig\n",
        "#do pdf \n",
        "Image(img_bytes)"
      ],
      "metadata": {
        "id": "g8BoKsjrVLZP"
      },
      "execution_count": null,
      "outputs": []
    },
    {
      "cell_type": "code",
      "execution_count": null,
      "metadata": {
        "id": "qFW6HlFBqL0c"
      },
      "outputs": [],
      "source": [
        "fig = df.groupby(\"party_name\").member_name.nunique().sort_values(ascending=False).plot(kind='bar')\n",
        "img_bytes = fig.to_image(format=\"png\", width=800, height=400, scale=2, engine='kaleido')\n",
        "Image(img_bytes)"
      ]
    },
    {
      "cell_type": "markdown",
      "metadata": {
        "id": "6_DARCJ4qL0d"
      },
      "source": [
        "Dla zmniejszenia rozmiaru danych ograniczamy się do przemów w parlamencie począwszy od 6 czerwca 2002 roku, kiedy miało miejsce zaprzysiężenie parlamentarzystów 29-tego Dáil Éireann (Zgromadzenia). Dane z tego okresu stanowią ponad 25% wszystkich danych. \n",
        "\n",
        "Ponadto dla tego okresu podział na partie wygląda podobnie, choć przewaga dwóch największych partii jest bardziej widoczna, a Sinn Fein straciło popularność wśród wyborców. "
      ]
    },
    {
      "cell_type": "code",
      "execution_count": null,
      "metadata": {
        "id": "Q4mNa0VoqL0e"
      },
      "outputs": [],
      "source": [
        "df2 = df[df.date >= np.datetime64('2002-06-06')]"
      ]
    },
    {
      "cell_type": "code",
      "execution_count": null,
      "metadata": {
        "id": "pvYJ4yTcqL0f"
      },
      "outputs": [],
      "source": [
        "len(df2)/len(df)"
      ]
    },
    {
      "cell_type": "code",
      "execution_count": null,
      "metadata": {
        "id": "RM-WgQAYqL0g"
      },
      "outputs": [],
      "source": [
        "fig = df2.party_name.value_counts().plot(kind='bar')\n",
        "img_bytes = fig.to_image(format=\"png\", width=800, height=400, scale=2, engine='kaleido')\n",
        "Image(img_bytes)"
      ]
    },
    {
      "cell_type": "code",
      "execution_count": null,
      "metadata": {
        "id": "uVtU86yhqL0h"
      },
      "outputs": [],
      "source": [
        "fig = df2.groupby(\"party_name\").member_name.nunique().sort_values(ascending=False).plot(kind='bar')\n",
        "img_bytes = fig.to_image(format=\"png\", width=800, height=400, scale=2, engine='kaleido')\n",
        "Image(img_bytes)"
      ]
    },
    {
      "cell_type": "code",
      "execution_count": null,
      "metadata": {
        "id": "kadw66UCWNwU"
      },
      "outputs": [],
      "source": [
        "df2.constID.nunique(), df2.partyID.nunique(), df2.memberID.nunique()"
      ]
    },
    {
      "cell_type": "markdown",
      "metadata": {
        "id": "z-wJq811E1sN"
      },
      "source": [
        "Ponadto z wybranego okresu bierzemy losowy sample przemówień. Ostatecznie będziemy pracować na około 23 tys. przemówień. "
      ]
    },
    {
      "cell_type": "code",
      "execution_count": null,
      "metadata": {
        "id": "AcDsTzSHXBmT"
      },
      "outputs": [],
      "source": [
        "df3 = df2.sample(frac=.02, random_state=42)\n",
        "len(df3)"
      ]
    },
    {
      "cell_type": "markdown",
      "metadata": {
        "id": "H3s6nSCqE3Oe"
      },
      "source": [
        "## Analiza ze względu na długość przemówień"
      ]
    },
    {
      "cell_type": "code",
      "execution_count": null,
      "metadata": {
        "id": "NbqWuuR7qL0l"
      },
      "outputs": [],
      "source": [
        "tqdm.pandas()\n",
        "docs = df3['speech'].swifter.apply(en)"
      ]
    },
    {
      "cell_type": "markdown",
      "metadata": {
        "id": "AKKnEwX9Fdmz"
      },
      "source": [
        "Rozkład długości wystąpień - najwięcej jest krótkich przemówień, do 1000 słów. Te powyżej 2000, a w szczególności 3000 tysięcy sprawiają wrażenie outlierów. Spróbujemy się coś o nich dowiedzieć. "
      ]
    },
    {
      "cell_type": "code",
      "execution_count": null,
      "metadata": {
        "id": "F7inkmrRLNDn"
      },
      "outputs": [],
      "source": [
        "doc_lens = docs.str.len()\n",
        "fig = doc_lens.hist(log_y=True) \n",
        "img_bytes = fig.to_image(format=\"png\", width=800, height=400, scale=2, engine='kaleido')\n",
        "Image(img_bytes)"
      ]
    },
    {
      "cell_type": "code",
      "execution_count": null,
      "metadata": {
        "id": "9ef55BXNqL0n"
      },
      "outputs": [],
      "source": [
        "ministers_df = pd.read_table(\"Dail_debates_1937-2011_ministers.tab\")\n",
        "ministers_df = ministers_df[~ministers_df.memberID.isna()]\n",
        "ministers_df[\"memberID\"] = ministers_df[\"memberID\"].astype(int)"
      ]
    },
    {
      "cell_type": "markdown",
      "metadata": {
        "id": "QKM50ZPCqL0p"
      },
      "source": [
        "Najdłuższa z wypowiedzi dotyczyła ustawy o napojach alkoholowych. Wygłosił ją w czerwcu 2003 roku Michael McDowell, który w ówczesnym rządzie pełnił funkcję Ministra Sprawiedliwości, Równości i Reform Prawnych. Widzimy również, że część z najdłuższych wystąpień jest powiązana ze sprawami budżetu, czysto finansowymi. Warto sprawdzić, jak często to właśnie ministrowie są \"odpowiedzialni\" za najdłuższe przemówienia."
      ]
    },
    {
      "cell_type": "code",
      "execution_count": null,
      "metadata": {
        "id": "-yHtmeQOqL0s"
      },
      "outputs": [],
      "source": [
        "df3.title[doc_lens[doc_lens > 3000].sort_values(ascending=False).index]"
      ]
    },
    {
      "cell_type": "code",
      "execution_count": null,
      "metadata": {
        "id": "j3PN1uFIqL0u"
      },
      "outputs": [],
      "source": [
        "df3.loc[3378357]"
      ]
    },
    {
      "cell_type": "code",
      "execution_count": null,
      "metadata": {
        "id": "HyD0y8OgqL0x"
      },
      "outputs": [],
      "source": [
        "ministers_df[ministers_df.memberID == 719]"
      ]
    },
    {
      "cell_type": "code",
      "execution_count": null,
      "metadata": {
        "id": "cben1ybBqL0y"
      },
      "outputs": [],
      "source": [
        "long_speeches_idx = doc_lens[doc_lens >= 2000].sort_values(ascending=False).index\n",
        "short_speeches_idx = doc_lens[doc_lens < 2000].sort_values(ascending=False).index"
      ]
    },
    {
      "cell_type": "code",
      "execution_count": null,
      "metadata": {
        "id": "wQwuQIcRqL0z"
      },
      "outputs": [],
      "source": [
        "ministers_ids = ministers_df.memberID.unique()"
      ]
    },
    {
      "cell_type": "code",
      "execution_count": null,
      "metadata": {
        "id": "98sDvcLzqL00"
      },
      "outputs": [],
      "source": [
        "ministers_ratio_long = np.mean(df3.loc[long_speeches_idx].memberID.isin(ministers_ids))\n",
        "ministers_ratio_short = np.mean(df3.loc[short_speeches_idx].memberID.isin(ministers_ids))\n",
        "ministers_ratio = np.mean(df3.memberID.isin(ministers_ids))\n",
        "\n",
        "ministers_ratio, ministers_ratio_short, ministers_ratio_long"
      ]
    },
    {
      "cell_type": "markdown",
      "metadata": {
        "id": "Y6ED1uE6qL01"
      },
      "source": [
        "Ta hipoteza się nie potwierdziła - nie tylko przemówienia ministrów są długie (dłuższe niż 2000 słów) szczególnie często. Jest wręcz odwrotnie - ich procentowy udział w dłuższych przemówieniach jest mniejszy aniżeli w ogóle i w krótszych. Natomiast widać wyraźną różnice pomiędzy poszczególnymi politykami, jeżeli chodzi o ich średnią długość, jak i ilość wystąpień. "
      ]
    },
    {
      "cell_type": "code",
      "execution_count": null,
      "metadata": {
        "id": "bK07PqITqL01"
      },
      "outputs": [],
      "source": [
        "df3[\"speech_length\"] = doc_lens"
      ]
    },
    {
      "cell_type": "code",
      "execution_count": null,
      "metadata": {
        "id": "GDoCdn4oqL02"
      },
      "outputs": [],
      "source": [
        "speakers = df3.groupby([\"memberID\", \"member_name\", \"party_name\"]).agg({'speech_length': ['mean', 'size']}).reset_index()"
      ]
    },
    {
      "cell_type": "code",
      "execution_count": null,
      "metadata": {
        "id": "0vPVcZ2FqL03"
      },
      "outputs": [],
      "source": [
        "longest_speaches = speakers.sort_values([('speech_length', 'mean')], ascending=False)\n",
        "longest_speaches"
      ]
    },
    {
      "cell_type": "code",
      "source": [
        "most_speaches = speakers.sort_values([('speech_length', 'size')], ascending=False)\n",
        "most_speaches"
      ],
      "metadata": {
        "id": "w4FkWx-jw7Dz"
      },
      "execution_count": null,
      "outputs": []
    },
    {
      "cell_type": "markdown",
      "source": [
        "Spośród 25 najczęściej wypowiadających się polityków tylko jeden nie był ministrem. Jest to Caoimhghín Ó Caoláin - polityk Sinn Féin obecny w każdej z analizowanych kadencji.  "
      ],
      "metadata": {
        "id": "8K2i3aY8xlRU"
      }
    },
    {
      "cell_type": "code",
      "source": [
        "most_speaches.memberID[:25].isin(ministers_ids)"
      ],
      "metadata": {
        "id": "mSOkFuFlxFMr"
      },
      "execution_count": null,
      "outputs": []
    },
    {
      "cell_type": "code",
      "source": [
        "most_speaches.loc[85]"
      ],
      "metadata": {
        "id": "ukZ_2ppGyLST"
      },
      "execution_count": null,
      "outputs": []
    },
    {
      "cell_type": "markdown",
      "source": [
        "Wyraźne są również dość wyraźne różnice pomiędzy długościami wypowiedzi przedstawicieli poszczególnych partii. "
      ],
      "metadata": {
        "id": "hl6AqEQg2Nrc"
      }
    },
    {
      "cell_type": "code",
      "source": [
        "fig = df3.groupby([\"party_name\"]).agg({'speech_length': 'mean'}).sort_values(\"speech_length\", ascending=False).plot(kind='bar')\n",
        "img_bytes = fig.to_image(format=\"png\", width=800, height=400, scale=2, engine='kaleido')\n",
        "Image(img_bytes)"
      ],
      "metadata": {
        "id": "tmkCtsnV1TB4"
      },
      "execution_count": null,
      "outputs": []
    },
    {
      "cell_type": "code",
      "source": [
        "df3.party_name.value_counts()"
      ],
      "metadata": {
        "id": "Pt59B3Zd12JQ"
      },
      "execution_count": null,
      "outputs": []
    },
    {
      "cell_type": "markdown",
      "metadata": {
        "id": "gVA7SMf7FOXI"
      },
      "source": [
        "## Analiza ze względu na treść przemówień"
      ]
    },
    {
      "cell_type": "code",
      "source": [
        "lemmas = docs.apply(lambda doc: [token.lemma_ for token in doc if not token.is_stop if not token.is_punct])"
      ],
      "metadata": {
        "id": "szPtQZeNywOs"
      },
      "execution_count": null,
      "outputs": []
    },
    {
      "cell_type": "code",
      "execution_count": null,
      "metadata": {
        "id": "9AnUdNLJFQtK"
      },
      "outputs": [],
      "source": [
        "from collections import Counter\n",
        "word_counts = Counter(lemmas.sum())"
      ]
    },
    {
      "cell_type": "markdown",
      "source": [
        "W chmurze słów dla wszystkich analizowanych przemówień pojawiają się słowa związane z politycznym dyskursem, np. powiązane z pozycjami/strukturami: Minister, Department, Government, Deputy, House. "
      ],
      "metadata": {
        "id": "m3hK1wJV5oV_"
      }
    },
    {
      "cell_type": "code",
      "execution_count": null,
      "metadata": {
        "id": "zU0WumQ3tWVx"
      },
      "outputs": [],
      "source": [
        "wc = WordCloud(width=800, height=600)\n",
        "wc.generate_from_frequencies(frequencies=word_counts)\n",
        "plt.figure(figsize=(16,12))\n",
        "plt.imshow(wc)\n",
        "plt.show()"
      ]
    },
    {
      "cell_type": "markdown",
      "source": [
        "Dokładniejszy insight w najczęściej używane słowa daje wykres słupkowy. Tutaj możemy dostrzec kilka ciekawych rzeczy, niezwiązanych już tylko z samym dyskursem. \n",
        "\n",
        "- Wśród najpopularniejszych słów są np. 'school' i 'child', co może wskazywać na to, że często poruszany był temat edukacji. \n",
        "- Dość zaskakujące jest też częstotliwość występowania '€' - z pozoru mogłoby się wydawać, że politycy rzadko w wystąpieniach operują konkretnymi kwotami pieniężnymi.   \n",
        "- Ciekawym jest też częste występowanie słowa 'person' będącego bardziej osobistym niż grupowe 'people'. Wartym uwagi pytaniem badawczym byłaby analiza, jak wyglądają zależności względem częstości użycia tych właśnie słów.  \n"
      ],
      "metadata": {
        "id": "5Ex7Pcbw6t-f"
      }
    },
    {
      "cell_type": "code",
      "execution_count": null,
      "metadata": {
        "id": "PUwvnbdwyqrF"
      },
      "outputs": [],
      "source": [
        "counts = pd.DataFrame(word_counts.most_common(30), columns=['word', 'count'])"
      ]
    },
    {
      "cell_type": "code",
      "execution_count": null,
      "metadata": {
        "id": "vANfvEb9yh-K"
      },
      "outputs": [],
      "source": [
        "fig = px.bar(counts,orientation='h', y='word', x='count')\n",
        "fig['layout']['yaxis']['autorange'] = \"reversed\"\n",
        "fig.update_layout(bargap=0.2, font={'size':10})\n",
        "img_bytes = fig.to_image(format=\"png\", width=800, height=600, scale=2, engine='kaleido')\n",
        "Image(img_bytes)"
      ]
    },
    {
      "cell_type": "code",
      "source": [
        "party_names = [\"Fianna Fáil\", \"Fine Gael\", \"The Labour Party\", \"Sinn Féin\"]     \n",
        "FF_indices = df3.index[df3.party_name == party_names[0]]\n",
        "FG_indices = df3.index[df3.party_name == party_names[1]]\n",
        "LP_indices = df3.index[df3.party_name == party_names[2]]\n",
        "SF_indices = df3.index[df3.party_name == party_names[3]]"
      ],
      "metadata": {
        "id": "d1KZlLsV4NXA"
      },
      "execution_count": null,
      "outputs": []
    },
    {
      "cell_type": "code",
      "source": [
        "FF_word_counts = Counter(lemmas[FF_indices].sum())\n",
        "FG_word_counts = Counter(lemmas[FG_indices].sum())"
      ],
      "metadata": {
        "id": "SsFe5k5t9Z8x"
      },
      "execution_count": null,
      "outputs": []
    },
    {
      "cell_type": "code",
      "source": [
        "LP_word_counts = Counter(lemmas[LP_indices].sum())\n",
        "SF_word_counts = Counter(lemmas[SF_indices].sum())"
      ],
      "metadata": {
        "id": "o-QdQ_Tz_FkZ"
      },
      "execution_count": null,
      "outputs": []
    },
    {
      "cell_type": "code",
      "source": [
        "FF_top_100_words = pd.DataFrame(FF_word_counts.most_common(100), columns=['word', 'count'])\n",
        "FG_top_100_words = pd.DataFrame(FG_word_counts.most_common(100), columns=['word', 'count'])\n",
        "LP_top_100_words = pd.DataFrame(LP_word_counts.most_common(100), columns=['word', 'count'])\n",
        "SF_top_100_words = pd.DataFrame(SF_word_counts.most_common(100), columns=['word', 'count'])"
      ],
      "metadata": {
        "id": "z0j2Bry0_P7x"
      },
      "execution_count": null,
      "outputs": []
    },
    {
      "cell_type": "code",
      "source": [
        "top_100_words_by_parties = pd.merge(FF_top_100_words, FG_top_100_words, on = 'word', how = 'outer').merge(LP_top_100_words, on = 'word', how = 'outer').merge(SF_top_100_words, on = 'word', how = 'outer')"
      ],
      "metadata": {
        "id": "VPnaleBOAAEn"
      },
      "execution_count": null,
      "outputs": []
    },
    {
      "cell_type": "code",
      "source": [
        "top_100_words_by_parties.columns = [\"word\"] + party_names\n",
        "top_100_words_by_parties.set_index(\"word\", inplace=True)\n",
        "top_100_words_by_parties = top_100_words_by_parties.fillna(0)"
      ],
      "metadata": {
        "id": "CXGoRh5YAFEh"
      },
      "execution_count": null,
      "outputs": []
    },
    {
      "cell_type": "code",
      "source": [
        "top_100_words_by_parties_ratios = top_100_words_by_parties.div(top_100_words_by_parties.sum(axis=0), axis=1)"
      ],
      "metadata": {
        "id": "PbOhj52eBWET"
      },
      "execution_count": null,
      "outputs": []
    },
    {
      "cell_type": "code",
      "source": [
        "top_100_wbp_plot = top_100_words_by_parties_ratios.loc[counts.word.to_list()].reset_index().melt(id_vars=\"word\", value_vars=party_names)"
      ],
      "metadata": {
        "id": "YftCpH0HEVh2"
      },
      "execution_count": null,
      "outputs": []
    },
    {
      "cell_type": "markdown",
      "source": [
        "Porównanie jaką część z sumy 100 najczęściej używanych słów przez każdą z 4 głównych partii stanowi 30 najpopularniejszych słów ogółem również dostarcza nam ciekawych informacji: \n",
        "- politcy Fianna Fail stosunkowo rzadziej mówią o ministrach i nie używają słowa 'ask', co jest powiązane z tym, że to politycy partii rządzącej przez większość analizowanego zakresu czasowego, a to politycy opozycyjni częściej zwracają się do ministrów rządu,\n",
        "- politycy Fianna Fail i Sinn Fein zdecydowanie rzadziej używają słowa 'matter' od pozostałych partii, \n",
        "- słowo 'statement' nie znalazło się w ogóle wśród 100 najpopularniejszych słów dla partii Fianna Fail,\n",
        "- politycy Sinn Fein zdecydowanie częściej używają określenia ogółu - 'people' aniżeli słowa 'person'; dla innych partii stosunek ten jest porównywalny,\n",
        "- tematem szkół zdecydowanie częściej zajmowali się w swoich przemówieniach politycy FF i The Labour Party,\n",
        "- zauważalne jest podobieństwo między częstością występowania danych słów (poruszania pewnych tematów?) przez polityków Fine Gael i The Labour Party, które wchodzą ze sobą w koalicje. "
      ],
      "metadata": {
        "id": "cDB_yri7GW0H"
      }
    },
    {
      "cell_type": "code",
      "source": [
        "import seaborn as sns\n",
        "sns.catplot(\n",
        "    data=top_100_wbp_plot, kind=\"bar\",\n",
        "    y=\"word\", x=\"value\", hue=\"variable\",\n",
        "    palette=\"dark\", alpha=.6, height=12, orientation=\"horizontal\"\n",
        ")\n",
        "plt.show()"
      ],
      "metadata": {
        "id": "HikKsy-zFTo9"
      },
      "execution_count": null,
      "outputs": []
    },
    {
      "cell_type": "code",
      "source": [
        "top_100_words_by_parties_ratios['sum'] = top_100_words_by_parties_ratios.sum(axis=1)"
      ],
      "metadata": {
        "id": "vMp_67boCFWo"
      },
      "execution_count": null,
      "outputs": []
    },
    {
      "cell_type": "markdown",
      "source": [
        "Okazuje się, że partia Fianna Fail stosunkowo częściej od innych mówi chociażby o UE (przypomnijmy, że jest przeciwna silnej integracji). W ich retoryce pojawia się też częściej zdrowie.\n",
        "\n",
        "Fine Gael często mówi o Gardzie - irlandzkiej policji. Pojawienie się słowa 'Affairs' może być związane z Department of Foreign Affairs. \n",
        "\n",
        "Sinn Fein mówi częściej o podatkach, gospodarce, bankach, pieniądzach, ale również o wspólnocie (przypomnijmy, że dążą do zjednoczenia z Irlandią Północną).\n",
        "\n",
        "Partia Pracy odróżnia się natomiast tym, że mówi o edukacji, sprawach socjalnych i zasiłkach.\n"
      ],
      "metadata": {
        "id": "OwvEPFCaKg7A"
      }
    },
    {
      "cell_type": "code",
      "source": [
        "party_specific_words = dict(zip(party_names, [[] for i in range(4)]))\n",
        "for party in party_names:\n",
        "  for word, row in top_100_words_by_parties_ratios.iterrows():\n",
        "    if row[party] >= row['sum'] - row[party]:\n",
        "      party_specific_words[party].append(word)\n",
        "party_specific_words\n"
      ],
      "metadata": {
        "id": "8_0DPmL1Cxrq"
      },
      "execution_count": null,
      "outputs": []
    },
    {
      "cell_type": "markdown",
      "source": [
        "Analiza bigramów i trigramów, które najczęściej pojawiają się w tekstach dostarcza kolejnych informacji o tym, co jest poruszane w przemówieniach parlamentarzystów. W tym przypadku bardziej widać zakresy tematyczne niż analizując pojedyncze słowa. Widzimy np. że ważnym tematem jest irlandzka policja, ale bardzo często pojawia się też temat zasiłków społecznych, a nawet praw człowieka. "
      ],
      "metadata": {
        "id": "CobuH1imU_20"
      }
    },
    {
      "cell_type": "code",
      "source": [
        "bigrams = docs.apply(lambda doc: [span.text for span in textacy.extract.ngrams(doc, n=(2,3), min_freq=2)])"
      ],
      "metadata": {
        "id": "m2xtdB0kOnQp"
      },
      "execution_count": null,
      "outputs": []
    },
    {
      "cell_type": "code",
      "source": [
        "bitrigrams_counts = Counter(bigrams.sum())"
      ],
      "metadata": {
        "id": "JG2CS9p1RAkF"
      },
      "execution_count": null,
      "outputs": []
    },
    {
      "cell_type": "code",
      "source": [
        "top_30_bitrigrams = pd.DataFrame(bitrigrams_counts.most_common(30), columns=['span', 'count'])"
      ],
      "metadata": {
        "id": "SJBp74BKRFYq"
      },
      "execution_count": null,
      "outputs": []
    },
    {
      "cell_type": "code",
      "source": [
        "fig = px.bar(top_30_bitrigrams,orientation='h', y='span', x='count')\n",
        "fig['layout']['yaxis']['autorange'] = \"reversed\"\n",
        "fig.update_layout(bargap=0.2, font={'size':10})\n",
        "img_bytes = fig.to_image(format=\"png\", width=800, height=600, scale=2, engine='kaleido')\n",
        "Image(img_bytes)"
      ],
      "metadata": {
        "id": "MLkM7es6ShUe"
      },
      "execution_count": null,
      "outputs": []
    },
    {
      "cell_type": "markdown",
      "source": [
        "## Analiza najważniejszych terminów w przemówieniach przedstawicieli danych ministerstw"
      ],
      "metadata": {
        "id": "B0Qbq9KHeuSO"
      }
    },
    {
      "cell_type": "code",
      "source": [
        "ministers_df.head()"
      ],
      "metadata": {
        "id": "0YFY__ggeyVg"
      },
      "execution_count": null,
      "outputs": []
    },
    {
      "cell_type": "code",
      "source": [
        "ministers_df[\"position\"].unique()"
      ],
      "metadata": {
        "id": "lSRsp6lKfAjr"
      },
      "execution_count": null,
      "outputs": []
    },
    {
      "cell_type": "code",
      "source": [
        "ministers_df[\"department\"].unique()"
      ],
      "metadata": {
        "id": "4f-CUPWlfBLy"
      },
      "execution_count": null,
      "outputs": []
    },
    {
      "cell_type": "markdown",
      "source": [
        "Usuwamy wiersze dotyczące premierów, wicepremierów i sekretarzy oraz zbędne kolumny. Zostawimy też dane o ministrach tylko od 6 czerwca 2002 roku tak jak w ramce danych dotyczącej przemówień."
      ],
      "metadata": {
        "id": "OFFjaFPdfFGR"
      }
    },
    {
      "cell_type": "code",
      "source": [
        "ministers_df_prepoc = ministers_df.loc[(ministers_df[\"department\"] != \"Taoiseach\") & (ministers_df[\"department\"] != \"Tánaiste\"),\n",
        "                                       [\"position\", \"department\", \"name\", \"memberID\", \"start_date\", \"end_date\"]]\n",
        "ministers_df_prepoc.start_date = pd.to_datetime(ministers_df_prepoc.start_date)\n",
        "ministers_df_prepoc.end_date = pd.to_datetime(ministers_df_prepoc.end_date)"
      ],
      "metadata": {
        "id": "AcjtzetKfGiZ"
      },
      "execution_count": null,
      "outputs": []
    },
    {
      "cell_type": "code",
      "source": [
        "ministers_df_prepoc.info()"
      ],
      "metadata": {
        "id": "Oo4ZTl-EfIJ8"
      },
      "execution_count": null,
      "outputs": []
    },
    {
      "cell_type": "code",
      "source": [
        "pd.isnull(ministers_df_prepoc[\"end_date\"])"
      ],
      "metadata": {
        "id": "Qolx9ig8f4sN"
      },
      "execution_count": null,
      "outputs": []
    },
    {
      "cell_type": "code",
      "source": [
        "ministers_df_prepoc.loc[pd.isnull(ministers_df_prepoc[\"end_date\"])].start_date.unique()"
      ],
      "metadata": {
        "id": "HmWFTOsbf7K8"
      },
      "execution_count": null,
      "outputs": []
    },
    {
      "cell_type": "markdown",
      "source": [
        "W ramce są braki danych. Nie ma wpisanej daty zakończenia piastowania stanowiska, jeżeli minister zaczął pełnić rolę 9 marca 2011. Będziemy zatem rozważali okres do 2011-03-09."
      ],
      "metadata": {
        "id": "SFTwlz2Rf_B4"
      }
    },
    {
      "cell_type": "code",
      "source": [
        "ministers_df_prepoc.loc[ministers_df_prepoc[\"start_date\"] != np.datetime64('2011-03-09')].info()"
      ],
      "metadata": {
        "id": "x9zcbRYAf9hU"
      },
      "execution_count": null,
      "outputs": []
    },
    {
      "cell_type": "code",
      "source": [
        "ministers_df_prepoc = ministers_df_prepoc.loc[(ministers_df_prepoc[\"end_date\"] != np.datetime64('2011-03-09')) & (ministers_df_prepoc[\"end_date\"] >= np.datetime64('2002-06-06'))]"
      ],
      "metadata": {
        "id": "_1aUZXU1gCxX"
      },
      "execution_count": null,
      "outputs": []
    },
    {
      "cell_type": "markdown",
      "source": [
        "Wyciągnijmy informacje o przemówieniach, które były prowadzone przez ministrów."
      ],
      "metadata": {
        "id": "yoVG0i6bgE35"
      }
    },
    {
      "cell_type": "code",
      "source": [
        "df4 = df3.copy()\n",
        "df4[\"department\"] = \"False\""
      ],
      "metadata": {
        "id": "KonWvY4GgC3A"
      },
      "execution_count": null,
      "outputs": []
    },
    {
      "cell_type": "code",
      "source": [
        "for index, row in df3.iterrows():\n",
        "    member_id = row[\"memberID\"]\n",
        "    speech_date = row[\"date\"]\n",
        "    temp_df = ministers_df_prepoc.loc[(ministers_df_prepoc[\"memberID\"] == member_id) &\\\n",
        "                                      (ministers_df_prepoc[\"start_date\"] <= speech_date) &\\\n",
        "                                      (ministers_df_prepoc[\"end_date\"] >= speech_date)]\n",
        "    if(len(temp_df)):\n",
        "      df4.at[index, \"department\"] = temp_df[\"department\"].iloc[0]\n",
        "df4.department.value_counts()"
      ],
      "metadata": {
        "id": "kZh3ql4ygDGD"
      },
      "execution_count": null,
      "outputs": []
    },
    {
      "cell_type": "code",
      "source": [
        "df4 = df4.loc[df4[\"department\"] != \"False\"]"
      ],
      "metadata": {
        "id": "SUBIHCy9gDm3"
      },
      "execution_count": null,
      "outputs": []
    },
    {
      "cell_type": "markdown",
      "source": [
        "Dla każdego przemówienia będziemy wyciągać 3 najważniejsze terminy. Następnie będziemy je zliczać, aby stwierdzić, które występują w największej liczbie przemówień."
      ],
      "metadata": {
        "id": "OILrZIcIgzz1"
      }
    },
    {
      "cell_type": "code",
      "source": [
        "department_keywords = {dep : np.array([]) for dep in df4.department.unique()}"
      ],
      "metadata": {
        "id": "y6iUSPWRg2Tt"
      },
      "execution_count": null,
      "outputs": []
    },
    {
      "cell_type": "code",
      "source": [
        "for index, row in df4.iterrows():\n",
        "    department_keywords[row[\"department\"]] = np.append(department_keywords[row[\"department\"]], [term[0] for term in textacy.extract.keyterms.textrank(docs[index])[0:3]])"
      ],
      "metadata": {
        "id": "lSnT_0bZg-ut"
      },
      "execution_count": null,
      "outputs": []
    },
    {
      "cell_type": "code",
      "source": [
        "df_keywords = pd.DataFrame(columns=['depatament', 'most_frequent', 'second_most_frequent', 'third_most_frquent'])\n",
        "for key in department_keywords:\n",
        "  unique, counts = np.unique(department_keywords[key], return_counts=True)\n",
        "  count_sort_idx = np.argsort(-counts)\n",
        "  df_keywords = df_keywords.append({'depatament' : key, 'most_frequent' : unique[count_sort_idx][0],'second_most_frequent' : unique[count_sort_idx][1],'third_most_frquent' : unique[count_sort_idx][2]}, ignore_index=True)"
      ],
      "metadata": {
        "id": "bocPevKKg-1P"
      },
      "execution_count": null,
      "outputs": []
    },
    {
      "cell_type": "code",
      "source": [
        "df_keywords\n"
      ],
      "metadata": {
        "id": "7chY5M8gg-9M"
      },
      "execution_count": null,
      "outputs": []
    },
    {
      "cell_type": "markdown",
      "source": [
        "Przykładowe wnioski:\n",
        " - Ministerstwo Agrokultury i Żywności zajmowało się 'Single Payment Scheme'. Jest to wsparcie finansowe wypłacane rolnikom. Otrzymują oni dopłatę za hektar ziemi wykorzystywanej pod uprawę.\n",
        " - Ministerstwo Edukacji zajmowało się głównie problemami szkół podstawowych.\n",
        " - Ministerstwo Sprawiedliwości i Równości częstwo odwoływało się do pozycji Komisarza ds. Wniosków Uchodźców.\n",
        " - Ministerstwo zdrowia poruszało temat usług socjalnych. Często odwoływało się do roli Kierownika służby zdrowia\n",
        " - Ministerstwo spraw zewnętrznych często wspominało o członkostwie w Unii Europejskiej.\n",
        " - Ministerstwo środowiska przemawiało na temat programu 'Water Services Investment Programme', czyli planu inwestycji w szeroko pojętą infrastrukturę wodną.\n"
      ],
      "metadata": {
        "id": "6Eufkj5rhFs1"
      }
    },
    {
      "cell_type": "code",
      "source": [
        ""
      ],
      "metadata": {
        "id": "DqWzjfn9ieLb"
      },
      "execution_count": null,
      "outputs": []
    }
  ],
  "metadata": {
    "colab": {
      "collapsed_sections": [],
      "name": "Kopia notatnika exploration.ipynb",
      "provenance": []
    },
    "kernelspec": {
      "display_name": "Python 3 (ipykernel)",
      "language": "python",
      "name": "python3"
    },
    "language_info": {
      "codemirror_mode": {
        "name": "ipython",
        "version": 3
      },
      "file_extension": ".py",
      "mimetype": "text/x-python",
      "name": "python",
      "nbconvert_exporter": "python",
      "pygments_lexer": "ipython3",
      "version": "3.9.6"
    }
  },
  "nbformat": 4,
  "nbformat_minor": 0
}