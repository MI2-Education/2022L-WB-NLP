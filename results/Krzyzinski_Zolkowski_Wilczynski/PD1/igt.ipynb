{
  "cells": [
    {
      "cell_type": "code",
      "execution_count": null,
      "metadata": {
        "colab": {
          "base_uri": "https://localhost:8080/",
          "height": 1000
        },
        "id": "PDlujvhHDCf1",
        "outputId": "c8b87542-b08c-4a66-9262-f2e1996ebbd5"
      },
      "outputs": [],
      "source": [
        "! pip install swifter\n",
        "! pip install pandas\n",
        "! pip install textacy\n",
        "! pip install spacy==2.1.0\n",
        "! pip install neuralcoref --no-binary neuralcoef"
      ]
    },
    {
      "cell_type": "code",
      "execution_count": null,
      "metadata": {
        "colab": {
          "base_uri": "https://localhost:8080/"
        },
        "id": "esANlfsKDCf5",
        "outputId": "778a8c0f-c481-4f9f-9d89-35a9444e101b"
      },
      "outputs": [],
      "source": [
        "! python -m spacy download en_core_web_sm"
      ]
    },
    {
      "cell_type": "code",
      "execution_count": null,
      "metadata": {
        "colab": {
          "base_uri": "https://localhost:8080/"
        },
        "id": "EmZoTgSdEeDw",
        "outputId": "76a152d0-d4ce-4dcf-b48e-9420aba2d2d7"
      },
      "outputs": [],
      "source": [
        "!wget -O data.tar.gz https://dataverse.harvard.edu/api/access/datafile/:persistentId?persistentId=doi:10.7910/DVN/6MZN76/CRUNF0\n",
        "!tar -xf data.tar.gz"
      ]
    },
    {
      "cell_type": "code",
      "execution_count": 3,
      "metadata": {
        "id": "9dhfQcfDDCf6"
      },
      "outputs": [],
      "source": [
        "import spacy\n",
        "import pandas as pd\n",
        "from tqdm.auto import tqdm\n",
        "\n",
        "pd.options.plotting.backend = \"plotly\""
      ]
    },
    {
      "cell_type": "code",
      "execution_count": 4,
      "metadata": {
        "id": "eK3TAv6TDCf6"
      },
      "outputs": [],
      "source": [
        "en = spacy.load(\"en_core_web_sm\") # loading spacy model"
      ]
    },
    {
      "cell_type": "code",
      "execution_count": null,
      "metadata": {
        "colab": {
          "base_uri": "https://localhost:8080/"
        },
        "id": "I6EzPwSYDCf7",
        "outputId": "05510240-97c3-49c4-f1ad-a959a018f31c"
      },
      "outputs": [],
      "source": [
        "import neuralcoref\n",
        "from spacy.tokens import Token\n",
        "\n",
        "Token.set_extension(\"corefs\", default=[])\n",
        "coref = neuralcoref.NeuralCoref(en.vocab)\n",
        "en.add_pipe(coref, name=\"neuralcoref\")"
      ]
    },
    {
      "cell_type": "code",
      "execution_count": 9,
      "metadata": {
        "id": "jfZTUKOcDCf7"
      },
      "outputs": [],
      "source": [
        "df = pd.read_table('Dail_debates_1919-2013.tab')\n"
      ]
    },
    {
      "cell_type": "code",
      "execution_count": 12,
      "metadata": {
        "id": "cg1IIp6tFIKH"
      },
      "outputs": [],
      "source": [
        "df.date = pd.to_datetime(df.date)\n",
        "df2 = df[df.date.dt.year>1999]\n",
        "df3 = df2.sample(frac=.002, random_state=123)\n",
        "docs = df3['speech'].apply(en)"
      ]
    },
    {
      "cell_type": "code",
      "execution_count": 14,
      "metadata": {
        "id": "0NzJtBGVDCf8"
      },
      "outputs": [],
      "source": [
        "DEONTIC_VERBS = [\"can\", \"could\", \"may\", \"might\", \"must\", \"shall\", \"should\"]"
      ]
    },
    {
      "cell_type": "code",
      "execution_count": 55,
      "metadata": {
        "id": "2_OA62L5DCf8"
      },
      "outputs": [],
      "source": [
        "def get_deontic(sent):\n",
        "  for token in sent:\n",
        "      if token.lemma_ in DEONTIC_VERBS:\n",
        "          return token\n",
        "  return None\n",
        "\n",
        "\n",
        "def get_verb(deontic):\n",
        "  return deontic.head if deontic is not None else \"\"\n",
        "\n",
        "\n",
        "def get_child_dep(verb, dep):\n",
        "  return [child for child in verb.children if child.dep_ == dep]\n",
        "\n",
        "\n",
        "def get_subjects_clausual(verb):\n",
        "  # [y for x in [a, b] for y in x]\n",
        "  return [ch for child in get_child_dep(verb, \"csubj\") for ch in get_child_dep(child, \"nsubj\")]\n",
        "\n",
        "def get_coref(token):\n",
        "  corefs = token._.corefs\n",
        "  if len(corefs) == 0 or token.pos_ != \"PRON\":\n",
        "      return \"\"\n",
        "  return corefs[0]"
      ]
    },
    {
      "cell_type": "code",
      "execution_count": 209,
      "metadata": {
        "id": "-dDNqs73DCf9"
      },
      "outputs": [],
      "source": [
        "def ig_sent_tag(sent):\n",
        "  deontic = get_deontic(sent)\n",
        "  attributes, objects, verbs = [], [], []\n",
        "  verb = get_verb(deontic)\n",
        "\n",
        "  while verb:\n",
        "    attr = verb\n",
        "    verbs.append(verb)\n",
        "    verb = None\n",
        "\n",
        "    subject = get_child_dep(attr, \"nsubj\")\n",
        "    passive_subject = get_child_dep(attr, \"nsubjpass\")\n",
        "\n",
        "    if len(subject) == len(passive_subject) == 0:\n",
        "        attributes = get_subjects_clausual(attr)\n",
        "    attributes.extend(subject)\n",
        "    objects.extend(passive_subject)\n",
        "    if attr.dep_ == \"conf\" and attr.pos_ == \"VERB\":\n",
        "      verb = attr.head\n",
        "    last_subj = None\n",
        "    for subj in attributes:\n",
        "      if last_subj == subj:\n",
        "        continue\n",
        "      if subj.dep_ == \"conj\":\n",
        "        attributes.append(subj)\n",
        "      attributes.extend(get_child_dep(subj, \"conj\"))\n",
        "      if subj.pos_ == \"PRON\":\n",
        "        subj.pos_ = get_coref(subj)\n",
        "      last_subj = subj\n",
        "    \n",
        "    for obj in objects:\n",
        "      objects.extend(get_child_dep(obj, \"conj\"))\n",
        "  return {\n",
        "    \"deontic\": deontic.lemma_ if deontic else \"\",\n",
        "    \"attributes\": attributes,\n",
        "    \"objects\": objects,\n",
        "    \"verbs\": verbs\n",
        "}"
      ]
    },
    {
      "cell_type": "code",
      "execution_count": 236,
      "metadata": {
        "id": "QhSmPgImDCf-"
      },
      "outputs": [],
      "source": [
        "def ig_tagging(docs):\n",
        "  return pd.DataFrame([{**ig_sent_tag(sent), **{\"doc_id\": i, \"party_name\": df3.loc[i].party_name}} for i, doc in docs.iteritems() for sent in list(doc.sents) if get_deontic(sent)])\n"
      ]
    },
    {
      "cell_type": "code",
      "execution_count": 237,
      "metadata": {
        "id": "brbYDy50DCf_"
      },
      "outputs": [],
      "source": [
        "igt = ig_tagging(docs.iloc[:500])"
      ]
    },
    {
      "cell_type": "code",
      "execution_count": null,
      "metadata": {
        "colab": {
          "base_uri": "https://localhost:8080/",
          "height": 424
        },
        "id": "rAiwe5TORQBd",
        "outputId": "e47502c4-d30e-4b3a-db81-a66d29607ffa"
      },
      "outputs": [],
      "source": [
        "igt"
      ]
    },
    {
      "cell_type": "code",
      "execution_count": 300,
      "metadata": {
        "id": "4NFoQnUUSpuz"
      },
      "outputs": [],
      "source": [
        "pivot = igt.pivot_table(index=['party_name'], columns='deontic', aggfunc='size', fill_value=0)"
      ]
    },
    {
      "cell_type": "code",
      "execution_count": 301,
      "metadata": {
        "id": "P-z1S9PORWVf"
      },
      "outputs": [],
      "source": [
        "col_names = list(pivot.columns)\n",
        "# sum deonties by parties\n",
        "pivot['sum'] = pivot[list(pivot.columns)].sum(axis=1)\n",
        "# sum deonties by type\n",
        "rows_sum = pivot.sum(axis=0)\n",
        "rows_sum.name = \"all parties\"\n",
        "pivot = pivot.append(rows_sum)"
      ]
    },
    {
      "cell_type": "code",
      "execution_count": null,
      "metadata": {
        "colab": {
          "base_uri": "https://localhost:8080/",
          "height": 456
        },
        "id": "WroOX1FhZpcH",
        "outputId": "cecb878f-a56d-42cc-f744-4b9849b34a82"
      },
      "outputs": [],
      "source": [
        "pivot"
      ]
    },
    {
      "cell_type": "code",
      "execution_count": 303,
      "metadata": {
        "id": "FrCeTnfjZ5MO"
      },
      "outputs": [],
      "source": [
        "# convert numbers to percentage\n",
        "for col_name in col_names:\n",
        "  pivot[col_name] = pivot[col_name]/pivot['sum']\n",
        "pivot = pivot.drop(\"sum\", axis=1)"
      ]
    },
    {
      "cell_type": "code",
      "execution_count": null,
      "metadata": {
        "colab": {
          "base_uri": "https://localhost:8080/",
          "height": 542
        },
        "id": "_jGLz_beWCO0",
        "outputId": "a17fbb28-2d5f-4953-f8e5-d3f88762dd3e"
      },
      "outputs": [],
      "source": [
        "pivot.plot(kind='bar')"
      ]
    }
  ],
  "metadata": {
    "colab": {
      "name": "igt.ipynb",
      "provenance": []
    },
    "interpreter": {
      "hash": "586cf0b04b0931d00dc6d9bc08daecfd77cd0eebdcc8bcedcadc53992df41ca9"
    },
    "kernelspec": {
      "display_name": "Python 3.9.0 64-bit",
      "language": "python",
      "name": "python3"
    },
    "language_info": {
      "codemirror_mode": {
        "name": "ipython",
        "version": 3
      },
      "file_extension": ".py",
      "mimetype": "text/x-python",
      "name": "python",
      "nbconvert_exporter": "python",
      "pygments_lexer": "ipython3",
      "version": "3.9.0"
    },
    "orig_nbformat": 4
  },
  "nbformat": 4,
  "nbformat_minor": 0
}
