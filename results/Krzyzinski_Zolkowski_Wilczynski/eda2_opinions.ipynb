{
  "cells": [
    {
      "cell_type": "markdown",
      "metadata": {
        "id": "r8WqzDEkDfuO"
      },
      "source": [
        "# Eksploracja danych z Have Your Say\n",
        "\n",
        "## Co wyniknęło z eksploracji? \n",
        "- Podział danych z HYS na państwa nie ma sensu - brak reprezentatywnej próbki. Sensowny jest natomiast podział na typy aktorów. \n",
        "- Odrzucono pliki dotyczące Europejskiego Paktu na rzecz Klimatu ze względu na brak możliwości połączenia PDF-ów z metadanymi w ramce. \n",
        "- Należy poprawić odczytywanie tekstów z PDF-ów związanych z konsultacjami odnośnie Planu w zakresie celów klimatycznych - problem z kodowaniem. Wiele spośród tych danych to również jedynie wykresy. \n",
        "- Najsensowniejszym źródłem danych okazały się opinie dot. Prawa o klimacie, których jest 931 (niemal 160 po angielsku) i stanowią odpowiednią próbkę w podziale na typy aktorów. "
      ]
    },
    {
      "cell_type": "markdown",
      "metadata": {
        "id": "nxEI6wZCAp6W"
      },
      "source": [
        "## Import"
      ]
    },
    {
      "cell_type": "code",
      "execution_count": null,
      "metadata": {
        "colab": {
          "base_uri": "https://localhost:8080/"
        },
        "id": "SuVhk-yuADvU",
        "outputId": "0dad44c8-8d95-407c-8954-d27795a23179"
      },
      "outputs": [],
      "source": [
        "from google.colab import drive\n",
        "drive.mount('/content/drive')"
      ]
    },
    {
      "cell_type": "code",
      "execution_count": null,
      "metadata": {
        "id": "nDdvh3aSA8CW"
      },
      "outputs": [],
      "source": [
        "import pandas as pd\n",
        "import numpy as np\n",
        "import spacy"
      ]
    },
    {
      "cell_type": "code",
      "execution_count": null,
      "metadata": {
        "id": "EJfOKHc_B2xX"
      },
      "outputs": [],
      "source": [
        "!python -m spacy download en_core_web_md\n",
        "# trzeba uruchomić ponownie środowisko wykonawcze po pobraniu"
      ]
    },
    {
      "cell_type": "code",
      "execution_count": null,
      "metadata": {
        "id": "XF1DSafbEoDq"
      },
      "outputs": [],
      "source": [
        "!pip install PyPDF2"
      ]
    },
    {
      "cell_type": "code",
      "execution_count": null,
      "metadata": {
        "id": "A6WduxilTw3R"
      },
      "outputs": [],
      "source": [
        "! pip install swifter\n",
        "! pip install matplotlib==3.1.3"
      ]
    },
    {
      "cell_type": "code",
      "execution_count": null,
      "metadata": {
        "id": "0MHbzdIUBa5w"
      },
      "outputs": [],
      "source": [
        "en = spacy.load(\"en_core_web_md\")"
      ]
    },
    {
      "cell_type": "code",
      "execution_count": null,
      "metadata": {
        "id": "jEU_o0UzD5ts"
      },
      "outputs": [],
      "source": [
        "from PyPDF2 import PdfFileReader\n",
        "import os\n",
        "import swifter\n",
        "import pickle\n",
        "from collections import Counter\n",
        "from tqdm import tqdm\n",
        "import seaborn as sns\n",
        "import matplotlib.pyplot as plt\n",
        "sns.set_theme(style=\"whitegrid\")"
      ]
    },
    {
      "cell_type": "code",
      "execution_count": null,
      "metadata": {
        "id": "fmMXI6BPJpW0"
      },
      "outputs": [],
      "source": [
        "DIR = '/content/drive/MyDrive/NLP-klimat/'"
      ]
    },
    {
      "cell_type": "markdown",
      "metadata": {
        "id": "S0Xkiv6yAfEc"
      },
      "source": [
        "## Dane z Have Your Say\n",
        "\n",
        "Wczytanie dokumentów załączonych do uwag otrzymanych w ramach konsultacji publicznych dotyczących trzech inicjatyw publicznych: \n",
        "- Europejski Pakt na rzecz Klimatu - `climate_pact`\n",
        "> Sposobem na promowanie powszechnej mobilizacji społecznej jest „pakt na rzecz klimatu”, który ma zjednoczyć obywateli, przedsiębiorców, społeczeństwo obywatelskie i organy publiczne.\n",
        "\n",
        "- Plan w zakresie celów klimatycznych na 2030 r. - `climate_plan`\n",
        "> Celem konsultacji jest zebranie opinii na temat pożądanego poziomu ambicji polityki w zakresie klimatu i energii, niezbędnych działań w różnych sektorach oraz konkretnych strategii politycznych służących zwiększeniu poziomu ambicji w dziedzinie klimatu do 2030 r. Konsultacje mają również na celu zebranie dalszych informacji, w tym planów działania, wytycznych politycznych i badań dotyczących dalszej redukcji emisji gazów cieplarnianych.\n",
        "\n",
        "- Europejskie prawo o klimacie - `climate_law`\n",
        "> Europejskie prawo o klimacie stanowi gwarant tego, że wszystkie polityki Unii Europejskiej, sektory gospodarki i grupy społeczne będą dążyć do realizacji celu Europejskiego Zielonego Ładu, ale też tego, że przejście na neutralność klimatyczną będzie nieodwracalne. \n",
        "\n",
        "\n",
        "\n",
        "Najpierw przystąpimy do analizy pierwszych dwóch dokumentów, gdyż dla nich dostępne są do pobrania wyniki konsultacji w formie pliku `.csv` i pdf-owych załączników."
      ]
    },
    {
      "cell_type": "markdown",
      "metadata": {
        "id": "NnNUxfa42auQ"
      },
      "source": [
        "#### Wczytanie danych"
      ]
    },
    {
      "cell_type": "code",
      "execution_count": null,
      "metadata": {
        "id": "b3CuaCWKDvH3"
      },
      "outputs": [],
      "source": [
        "climate_pact_files_list = os.listdir(DIR+'attachments-EuropeanClimatePact')\n",
        "climate_plan_files_list = os.listdir(DIR+'attachments-eu_climate_ambition_2030')"
      ]
    },
    {
      "cell_type": "code",
      "execution_count": null,
      "metadata": {
        "colab": {
          "base_uri": "https://localhost:8080/"
        },
        "id": "3j_9GDKaEEqq",
        "outputId": "4cd69989-ebe3-4b40-a2c6-a774a2ef2118"
      },
      "outputs": [],
      "source": [
        "climate_pact_consultation = []\n",
        "for file_name in tqdm(climate_pact_files_list):\n",
        "  file = open(DIR+'attachments-EuropeanClimatePact/'+file_name, 'rb')\n",
        "  fileReader = PdfFileReader(file)\n",
        "  num_pages = fileReader.numPages\n",
        "  count = 0\n",
        "  text = \"\"\n",
        "  #The while loop will read each page.\n",
        "  while count < num_pages:\n",
        "      pageObj = fileReader.getPage(count)\n",
        "      count +=1\n",
        "      text += pageObj.extractText()\n",
        "  climate_pact_consultation.append(text)\n"
      ]
    },
    {
      "cell_type": "code",
      "execution_count": null,
      "metadata": {
        "colab": {
          "base_uri": "https://localhost:8080/"
        },
        "id": "zRHIFfuDSR7C",
        "outputId": "206faffe-f89e-47a1-a1b4-56c928ac0aab"
      },
      "outputs": [],
      "source": [
        "climate_plan_consultation = []\n",
        "for file_name in tqdm(climate_plan_files_list):\n",
        "  file = open(DIR+'attachments-eu_climate_ambition_2030/'+file_name, 'rb')\n",
        "  fileReader = PdfFileReader(file)\n",
        "  num_pages = fileReader.numPages\n",
        "  count = 0\n",
        "  text = \"\"\n",
        "  #The while loop will read each page.\n",
        "  while count < num_pages:\n",
        "      pageObj = fileReader.getPage(count)\n",
        "      count +=1\n",
        "      text += pageObj.extractText()\n",
        "  climate_plan_consultation.append(text)\n"
      ]
    },
    {
      "cell_type": "code",
      "execution_count": null,
      "metadata": {
        "id": "NRfXUoIXEja4"
      },
      "outputs": [],
      "source": [
        "climate_pact_df = pd.DataFrame({\"filename\": climate_pact_files_list, \"text\": climate_pact_consultation})\n",
        "climate_plan_df = pd.DataFrame({\"filename\": climate_plan_files_list, \"text\": climate_plan_consultation})"
      ]
    },
    {
      "cell_type": "markdown",
      "metadata": {
        "id": "0voT_svn2yoZ"
      },
      "source": [
        "#### Analiza wstępna"
      ]
    },
    {
      "cell_type": "markdown",
      "metadata": {
        "id": "8vlnmkqmEdkG"
      },
      "source": [
        "##### Pakt\n",
        "Niestety w przypadku Paktu identyfikatory załączonych dokumentów (obecne w nazwach plików PDF) nie są zgodne z identyfikatorami z tabeli opisującej odpowiedzi ankietowanych biorących udział w konsultacjach, co uniemożliwia jednoznaczną identyfikację. "
      ]
    },
    {
      "cell_type": "code",
      "execution_count": null,
      "metadata": {
        "colab": {
          "base_uri": "https://localhost:8080/"
        },
        "id": "7R0RgSmXJD0n",
        "outputId": "81364ae6-70d5-4f00-ddc0-c37d3fe35f5e"
      },
      "outputs": [],
      "source": [
        "climate_pact_contributions = pd.read_csv(DIR+'contributions-EuropeanClimatePact.csv', sep=\";\", on_bad_lines='skip')\n",
        "climate_pact_contributions.Reference"
      ]
    },
    {
      "cell_type": "code",
      "execution_count": null,
      "metadata": {
        "colab": {
          "base_uri": "https://localhost:8080/"
        },
        "id": "KfPgTWrOFZHa",
        "outputId": "87557297-172c-4f57-e1f1-1a7ff9f4f591"
      },
      "outputs": [],
      "source": [
        "climate_pact_df.filename.str.partition(\"_\")[0]"
      ]
    },
    {
      "cell_type": "markdown",
      "metadata": {
        "id": "i4yCBSnn287D"
      },
      "source": [
        "##### Plan\n",
        "\n",
        "Dla Planu ID załączników są na szczęście odpowiednie, więc można połączyć załączniki z informacjami z tabeli. "
      ]
    },
    {
      "cell_type": "code",
      "execution_count": null,
      "metadata": {
        "id": "skTZ3UdHP_hP"
      },
      "outputs": [],
      "source": [
        "climate_plan_contributions = pd.read_csv(DIR+'contributions-eu_climate_ambition_2030.csv', sep=\";\", on_bad_lines='skip')"
      ]
    },
    {
      "cell_type": "code",
      "execution_count": null,
      "metadata": {
        "id": "iTfwkCVeW7ZC"
      },
      "outputs": [],
      "source": [
        "climate_plan_df[\"Reference\"] = climate_plan_df.filename.str.partition(\"-\")[0]\n",
        "climate_plan_df = climate_plan_df.set_index(\"Reference\").join(climate_plan_contributions.set_index(\"Reference\"), how='left').reset_index()"
      ]
    },
    {
      "cell_type": "code",
      "execution_count": null,
      "metadata": {
        "id": "4zmwrBoT5fLD"
      },
      "outputs": [],
      "source": [
        "climate_plan_df = pd.read_csv(DIR+\"climate_plan_df.csv\")"
      ]
    },
    {
      "cell_type": "code",
      "execution_count": null,
      "metadata": {
        "colab": {
          "base_uri": "https://localhost:8080/"
        },
        "id": "4ggAldR6AaXb",
        "outputId": "4b1f96f9-9ecd-4d8c-b370-ad32b093133a"
      },
      "outputs": [],
      "source": [
        "len(climate_plan_df)"
      ]
    },
    {
      "cell_type": "markdown",
      "metadata": {
        "id": "evlRmjIe-3xs"
      },
      "source": [
        "Mamy 359 załączników PDF połączonych z odpowiedziami w ankiecie.\n",
        "\n",
        "Niestety podział na kraje jest niemożliwy ze względu na niewielką liczność danych jeśli chodzi o załączone PDF, w szczególności po angielsku. Wykorzystamy więc podział na typy aktorów."
      ]
    },
    {
      "cell_type": "code",
      "execution_count": null,
      "metadata": {
        "colab": {
          "base_uri": "https://localhost:8080/",
          "height": 725
        },
        "id": "gTMfW4yE3yXV",
        "outputId": "eb95ae41-7ac2-4b12-87d7-a27a2b86321e"
      },
      "outputs": [],
      "source": [
        "fig, axs = plt.subplots(2, 2, figsize=(18, 10))\n",
        "i, j = 0, 0\n",
        "for var in [\"Language\", \"Country\", \"User type\", \"Organisation size\"]:\n",
        "  sns.countplot(ax=axs[i][j], y=var, data=climate_plan_df, \n",
        "                order=climate_plan_df[var].value_counts().iloc[:10].index,\n",
        "                color=\"grey\")\n",
        "  j += 1\n",
        "  if j > 1: \n",
        "    i+=1\n",
        "    j=0\n",
        "fig.tight_layout()\n",
        "plt.show()"
      ]
    },
    {
      "cell_type": "code",
      "execution_count": null,
      "metadata": {
        "colab": {
          "base_uri": "https://localhost:8080/",
          "height": 725
        },
        "id": "uAL9lYEQ-Xfg",
        "outputId": "cfe31dd9-6f6a-48c0-9262-5dfe857ac923"
      },
      "outputs": [],
      "source": [
        "fig, axs = plt.subplots(2, 2, figsize=(18, 10))\n",
        "i, j = 0, 0\n",
        "for var in [\"Language\", \"Country\", \"User type\", \"Organisation size\"]:\n",
        "  sns.countplot(ax=axs[i][j], y=var, data=climate_plan_df[climate_plan_df.Language == \"English\"], \n",
        "                order=climate_plan_df[var].value_counts().iloc[:10].index,\n",
        "                color=\"grey\")\n",
        "  j += 1\n",
        "  if j > 1: \n",
        "    i+=1\n",
        "    j=0\n",
        "fig.tight_layout()\n",
        "plt.show()"
      ]
    },
    {
      "cell_type": "markdown",
      "metadata": {
        "id": "obhJRLhqAziC"
      },
      "source": [
        "Podejrzany rozkład w przypadku Belgii sugeruje, by sprawdzić, czy wszystko jest w porządku. Po obejrzeniu danych dokładniej okazuje się, że do jednej odpowiedzi może być kilka załączników.  "
      ]
    },
    {
      "cell_type": "code",
      "execution_count": null,
      "metadata": {
        "colab": {
          "base_uri": "https://localhost:8080/"
        },
        "id": "glCFg72HJaRf",
        "outputId": "0ebe2255-5034-418e-efe7-9c5381957b5c"
      },
      "outputs": [],
      "source": [
        "climate_plan_df.Reference.value_counts()"
      ]
    },
    {
      "cell_type": "markdown",
      "metadata": {
        "id": "VmnuMeUAC0sh"
      },
      "source": [
        "##### Prawo"
      ]
    },
    {
      "cell_type": "code",
      "execution_count": null,
      "metadata": {
        "id": "l4uCwQVJCzoB"
      },
      "outputs": [],
      "source": [
        "climate_law_df = pd.read_csv(DIR+'climate_law_feedback.csv')"
      ]
    },
    {
      "cell_type": "code",
      "execution_count": null,
      "metadata": {
        "colab": {
          "base_uri": "https://localhost:8080/",
          "height": 725
        },
        "id": "-jyvCRDaCzzu",
        "outputId": "c406cad3-6ceb-4f8f-a819-5c928a0ffa25"
      },
      "outputs": [],
      "source": [
        "fig, axs = plt.subplots(2, 2, figsize=(18, 10))\n",
        "i, j = 0, 0\n",
        "for var in [\"language\", \"country\", \"userType\", \"companySize\"]:\n",
        "  sns.countplot(ax=axs[i][j], y=var, data=climate_law_df, \n",
        "                order=climate_law_df[var].value_counts().iloc[:10].index,\n",
        "                color=\"grey\")\n",
        "  j += 1\n",
        "  if j > 1: \n",
        "    i+=1\n",
        "    j=0\n",
        "fig.tight_layout()\n",
        "plt.show()"
      ]
    },
    {
      "cell_type": "code",
      "execution_count": null,
      "metadata": {
        "colab": {
          "base_uri": "https://localhost:8080/",
          "height": 725
        },
        "id": "ckaLJ71BLD2O",
        "outputId": "4aeafbb6-719b-4da3-da51-5af6a2d16c4a"
      },
      "outputs": [],
      "source": [
        "fig, axs = plt.subplots(2, 2, figsize=(18, 10))\n",
        "i, j = 0, 0\n",
        "for var in [\"language\", \"country\", \"userType\", \"companySize\"]:\n",
        "  sns.countplot(ax=axs[i][j], y=var, data=climate_law_df[climate_law_df.language ==\"EN\"], \n",
        "                order=climate_law_df[var].value_counts().iloc[:10].index,\n",
        "                color=\"grey\")\n",
        "  j += 1\n",
        "  if j > 1: \n",
        "    i+=1\n",
        "    j=0\n",
        "fig.tight_layout()\n",
        "plt.show()"
      ]
    },
    {
      "cell_type": "markdown",
      "metadata": {
        "id": "jubHX_xJEK6y"
      },
      "source": [
        "### Analiza tekstów"
      ]
    },
    {
      "cell_type": "markdown",
      "metadata": {
        "id": "_iZhjYdvLbF8"
      },
      "source": [
        "#### Analiza dla Prawa"
      ]
    },
    {
      "cell_type": "code",
      "execution_count": null,
      "metadata": {
        "id": "uDSEbCXfM-9B"
      },
      "outputs": [],
      "source": [
        "climate_law_df = climate_law_df[climate_law_df.language == \"EN\"]"
      ]
    },
    {
      "cell_type": "code",
      "execution_count": null,
      "metadata": {
        "colab": {
          "base_uri": "https://localhost:8080/",
          "height": 49,
          "referenced_widgets": [
            "122717072c2e4973a842924a95f67206",
            "2915fdfe793741a2b77c5e8e08dedbbb",
            "6949cf213bad4c9fa2586b1638cfe660",
            "d15d3c956936431eaf527c46530de34f",
            "3dff9cf048be421882b5c2dc9a52ab75",
            "a96642ae10524d2e934d55f1a2a4b455",
            "b6d0297368fe4379b1cf80057a27115d",
            "2898ed9b9ef541fbab3c8f724f1b8cd8",
            "74d4a2991d9545cbbc92694758a019b7",
            "71864b89ed2743dfb163d56ad148d500",
            "7ecdb83c96f04653b9b5d85d13f622f3"
          ]
        },
        "id": "buO6rmrXLWfa",
        "outputId": "868fc5af-d28c-4286-a11e-4c90723a3ee4"
      },
      "outputs": [],
      "source": [
        "tqdm.pandas()\n",
        "climate_law_docs = climate_law_df['feedback'].swifter.apply(en)"
      ]
    },
    {
      "cell_type": "code",
      "execution_count": null,
      "metadata": {
        "id": "lKF_g_GLLw2K"
      },
      "outputs": [],
      "source": [
        "# eksport przetworzonych dokumentów\n",
        "with open(DIR + 'climate_law_docs.pickle', 'wb') as f:\n",
        "  pickle.dump(climate_law_docs, f)"
      ]
    },
    {
      "cell_type": "code",
      "execution_count": null,
      "metadata": {
        "id": "_hMhA7kShjfs"
      },
      "outputs": [],
      "source": [
        "# eksport przetworzonych dokumentów\n",
        "with open(DIR + 'climate_law_docs.pickle', 'rb') as f:\n",
        "  climate_law_docs = pickle.load(f)"
      ]
    },
    {
      "cell_type": "code",
      "execution_count": null,
      "metadata": {
        "colab": {
          "base_uri": "https://localhost:8080/",
          "height": 377
        },
        "id": "Jqjun_6VL1Up",
        "outputId": "9531a2da-bbc6-4e33-8c1e-abf7459e0de9"
      },
      "outputs": [],
      "source": [
        "plt.figure(figsize=(15,6))\n",
        "climate_law_df[\"length\"] = climate_law_docs.str.len()\n",
        "climate_law_df[\"length\"].hist(bins = 50)\n",
        "plt.show()"
      ]
    },
    {
      "cell_type": "code",
      "execution_count": null,
      "metadata": {
        "id": "o0_QaczrUX3K"
      },
      "outputs": [],
      "source": [
        "def plot_counter(counter: Counter, orient: str = 'h', color: str='lightblue', figsize: tuple=(20,13)):\n",
        "  plt.figure(figsize=figsize)\n",
        "  keys = [k[0] for k in counter]\n",
        "  vals = [int(k[1]) for k in counter]\n",
        "  ax = sns.barplot(x=vals, y=keys, orient=orient, color=color)\n",
        "  return ax"
      ]
    },
    {
      "cell_type": "code",
      "execution_count": null,
      "metadata": {
        "id": "t7TjDYqEMn5X"
      },
      "outputs": [],
      "source": [
        "climate_law_df[\"lemmas\"] = climate_law_docs.apply(lambda doc: [token.lemma_ for token in doc if not token.is_stop if not token.is_punct if token.is_alpha])\n",
        "climate_law_counter = Counter(climate_law_df[\"lemmas\"].sum()).most_common(30)"
      ]
    },
    {
      "cell_type": "code",
      "execution_count": null,
      "metadata": {
        "colab": {
          "base_uri": "https://localhost:8080/",
          "height": 757
        },
        "id": "drS4_85FL9q6",
        "outputId": "36c5632c-92fa-4967-c361-b820ef47322c"
      },
      "outputs": [],
      "source": [
        "plot_counter(climate_law_counter)\n",
        "plt.show()"
      ]
    },
    {
      "cell_type": "code",
      "execution_count": null,
      "metadata": {
        "id": "k2Fun6m8rtkW"
      },
      "outputs": [],
      "source": [
        "from sklearn.feature_extraction.text import CountVectorizer"
      ]
    },
    {
      "cell_type": "code",
      "execution_count": null,
      "metadata": {
        "colab": {
          "base_uri": "https://localhost:8080/"
        },
        "id": "6ZhNFWM7rvmY",
        "outputId": "0c5658c5-8af5-447d-ef79-af990d6e3f13"
      },
      "outputs": [],
      "source": [
        "cv = CountVectorizer(stop_words = en.Defaults.stop_words, ngram_range=(2, 2))\n",
        "count_vector = cv.fit_transform(climate_law_df['feedback'].values)\n",
        "sum_ngram = count_vector.sum(axis=0)\n",
        "ngram_freq = [(ngram, sum_ngram[0, idx]) \n",
        "              for ngram, idx in cv.vocabulary_.items()]\n",
        "ngram_freq = sorted(ngram_freq, key = lambda x: x[1], reverse=True)"
      ]
    },
    {
      "cell_type": "code",
      "execution_count": null,
      "metadata": {
        "colab": {
          "base_uri": "https://localhost:8080/",
          "height": 757
        },
        "id": "NzAu9u1er_Bt",
        "outputId": "cb5fb104-daa5-4775-b0e8-f28a9f099dbb"
      },
      "outputs": [],
      "source": [
        "plot_counter(ngram_freq[:20])\n",
        "plt.show()"
      ]
    },
    {
      "cell_type": "code",
      "execution_count": null,
      "metadata": {
        "colab": {
          "base_uri": "https://localhost:8080/"
        },
        "id": "mjsQ0RZ_sXOM",
        "outputId": "3c577fa0-3533-4c13-81d6-153f3df5bb35"
      },
      "outputs": [],
      "source": [
        "cv3 = CountVectorizer(stop_words = en.Defaults.stop_words, ngram_range=(3, 3))\n",
        "count_vector3 = cv3.fit_transform(climate_law_df['feedback'].values)\n",
        "sum_ngram3 = count_vector3.sum(axis=0)\n",
        "ngram_freq3 = [(ngram, sum_ngram3[0, idx]) \n",
        "              for ngram, idx in cv3.vocabulary_.items()]\n",
        "ngram_freq3 = sorted(ngram_freq3, key = lambda x: x[1], reverse=True)"
      ]
    },
    {
      "cell_type": "code",
      "execution_count": null,
      "metadata": {
        "colab": {
          "base_uri": "https://localhost:8080/",
          "height": 757
        },
        "id": "YMR6zQPbsZKx",
        "outputId": "793ad1eb-b2c3-44cb-cc3b-bd0d156488dc"
      },
      "outputs": [],
      "source": [
        "plot_counter(ngram_freq3[:20])\n",
        "plt.show()"
      ]
    },
    {
      "cell_type": "markdown",
      "metadata": {
        "id": "2Gp7GiHbNjXd"
      },
      "source": [
        "#### Analiza dla Planu \n",
        "\n",
        "Niestety w przypadku odpowiedzi dotyczących Planu nie udało się poprawnie odczytać PDF-ów, wiele z nich jest po prostu pojedynczymi wykresami, więc ewentualna praca z tymi danymi wymaga jeszcze ręcznego przejrzenia dokumentów. "
      ]
    },
    {
      "cell_type": "code",
      "execution_count": null,
      "metadata": {
        "colab": {
          "base_uri": "https://localhost:8080/",
          "height": 49,
          "referenced_widgets": [
            "2e1b026edcf24bfe9ff9c65a001d6d1d",
            "4279ccd3873641b397a7eab717cd9a8a",
            "423cc5c34f604317887e80a2a12cfa28",
            "5e171cb84faf4e8db559c314e6e52dc6",
            "ff13c22614cd48ccad6b32dd3f56fec6",
            "ef7f2a0463864df5a55cb3ea6f4bda6e",
            "9e26f33958b34fda99aa3ea34a05fadb",
            "603407171fc644e88fa08ee885d5f3d3",
            "1c180e7f8a984b0386fe48e5e7160188",
            "9a5827c6fcbb40d2bc4b33ef0b519285",
            "cbd7a25db35d4095bda765b240220713"
          ]
        },
        "id": "XIz8ycz2BvUE",
        "outputId": "82bb6307-87ac-4778-9208-c9febff444f2"
      },
      "outputs": [],
      "source": [
        "tqdm.pandas()\n",
        "climate_plan_docs = climate_plan_df['text'].swifter.apply(en)"
      ]
    },
    {
      "cell_type": "code",
      "execution_count": null,
      "metadata": {
        "id": "HuU0_AmtDXfM"
      },
      "outputs": [],
      "source": [
        "# eksport przetworzonych dokumentów\n",
        "with open(DIR + 'climate_plan_docs.pickle', 'wb') as f:\n",
        "  pickle.dump(climate_plan_docs, f)"
      ]
    },
    {
      "cell_type": "code",
      "execution_count": null,
      "metadata": {
        "colab": {
          "base_uri": "https://localhost:8080/",
          "height": 377
        },
        "id": "bw6yy9TjNJ_p",
        "outputId": "6dc8b98a-3588-466a-8288-e802b7228990"
      },
      "outputs": [],
      "source": [
        "plt.figure(figsize=(15,6))\n",
        "climate_plan_df[\"length\"] = climate_plan_docs.str.len()\n",
        "climate_plan_df[\"length\"].hist(bins = 50)\n",
        "plt.show()"
      ]
    },
    {
      "cell_type": "code",
      "execution_count": null,
      "metadata": {
        "id": "pQbCjTx3fK8Y"
      },
      "outputs": [],
      "source": [
        "climate_plan_df[\"necp_lemmas\"] = climate_plan_docs.apply(lambda doc: [token.lemma_ for token in doc if not token.is_stop if not token.is_punct if token.is_alpha])\n",
        "climate_plan_counter = Counter(climate_plan_df[\"necp_lemmas\"].sum()).most_common(30)"
      ]
    },
    {
      "cell_type": "code",
      "execution_count": null,
      "metadata": {
        "colab": {
          "base_uri": "https://localhost:8080/",
          "height": 757
        },
        "id": "XeaXrhT3VBeS",
        "outputId": "8749c952-7c23-4476-fcc5-c22d2e735b53"
      },
      "outputs": [],
      "source": [
        "plot_counter(climate_plan_counter)\n",
        "plt.show()"
      ]
    },
    {
      "cell_type": "markdown",
      "metadata": {
        "id": "WvbPryijDUnd"
      },
      "source": [
        "Konieczne jest poprawienie wczytywania PDF. "
      ]
    },
    {
      "cell_type": "code",
      "execution_count": null,
      "metadata": {
        "id": "3tnYUkBoEWog"
      },
      "outputs": [],
      "source": []
    }
  ],
  "metadata": {
    "colab": {
      "collapsed_sections": [
        "NnNUxfa42auQ",
        "8vlnmkqmEdkG"
      ],
      "name": "eda2_opinions.ipynb",
      "provenance": [],
      "toc_visible": true
    },
    "kernelspec": {
      "display_name": "Python 3",
      "name": "python3"
    },
    "language_info": {
      "name": "python"
    },
    "widgets": {
      "application/vnd.jupyter.widget-state+json": {
        "122717072c2e4973a842924a95f67206": {
          "model_module": "@jupyter-widgets/controls",
          "model_module_version": "1.5.0",
          "model_name": "HBoxModel",
          "state": {
            "_dom_classes": [],
            "_model_module": "@jupyter-widgets/controls",
            "_model_module_version": "1.5.0",
            "_model_name": "HBoxModel",
            "_view_count": null,
            "_view_module": "@jupyter-widgets/controls",
            "_view_module_version": "1.5.0",
            "_view_name": "HBoxView",
            "box_style": "",
            "children": [
              "IPY_MODEL_2915fdfe793741a2b77c5e8e08dedbbb",
              "IPY_MODEL_6949cf213bad4c9fa2586b1638cfe660",
              "IPY_MODEL_d15d3c956936431eaf527c46530de34f"
            ],
            "layout": "IPY_MODEL_3dff9cf048be421882b5c2dc9a52ab75"
          }
        },
        "1c180e7f8a984b0386fe48e5e7160188": {
          "model_module": "@jupyter-widgets/controls",
          "model_module_version": "1.5.0",
          "model_name": "ProgressStyleModel",
          "state": {
            "_model_module": "@jupyter-widgets/controls",
            "_model_module_version": "1.5.0",
            "_model_name": "ProgressStyleModel",
            "_view_count": null,
            "_view_module": "@jupyter-widgets/base",
            "_view_module_version": "1.2.0",
            "_view_name": "StyleView",
            "bar_color": null,
            "description_width": ""
          }
        },
        "2898ed9b9ef541fbab3c8f724f1b8cd8": {
          "model_module": "@jupyter-widgets/base",
          "model_module_version": "1.2.0",
          "model_name": "LayoutModel",
          "state": {
            "_model_module": "@jupyter-widgets/base",
            "_model_module_version": "1.2.0",
            "_model_name": "LayoutModel",
            "_view_count": null,
            "_view_module": "@jupyter-widgets/base",
            "_view_module_version": "1.2.0",
            "_view_name": "LayoutView",
            "align_content": null,
            "align_items": null,
            "align_self": null,
            "border": null,
            "bottom": null,
            "display": null,
            "flex": null,
            "flex_flow": null,
            "grid_area": null,
            "grid_auto_columns": null,
            "grid_auto_flow": null,
            "grid_auto_rows": null,
            "grid_column": null,
            "grid_gap": null,
            "grid_row": null,
            "grid_template_areas": null,
            "grid_template_columns": null,
            "grid_template_rows": null,
            "height": null,
            "justify_content": null,
            "justify_items": null,
            "left": null,
            "margin": null,
            "max_height": null,
            "max_width": null,
            "min_height": null,
            "min_width": null,
            "object_fit": null,
            "object_position": null,
            "order": null,
            "overflow": null,
            "overflow_x": null,
            "overflow_y": null,
            "padding": null,
            "right": null,
            "top": null,
            "visibility": null,
            "width": null
          }
        },
        "2915fdfe793741a2b77c5e8e08dedbbb": {
          "model_module": "@jupyter-widgets/controls",
          "model_module_version": "1.5.0",
          "model_name": "HTMLModel",
          "state": {
            "_dom_classes": [],
            "_model_module": "@jupyter-widgets/controls",
            "_model_module_version": "1.5.0",
            "_model_name": "HTMLModel",
            "_view_count": null,
            "_view_module": "@jupyter-widgets/controls",
            "_view_module_version": "1.5.0",
            "_view_name": "HTMLView",
            "description": "",
            "description_tooltip": null,
            "layout": "IPY_MODEL_a96642ae10524d2e934d55f1a2a4b455",
            "placeholder": "​",
            "style": "IPY_MODEL_b6d0297368fe4379b1cf80057a27115d",
            "value": "Pandas Apply: 100%"
          }
        },
        "2e1b026edcf24bfe9ff9c65a001d6d1d": {
          "model_module": "@jupyter-widgets/controls",
          "model_module_version": "1.5.0",
          "model_name": "HBoxModel",
          "state": {
            "_dom_classes": [],
            "_model_module": "@jupyter-widgets/controls",
            "_model_module_version": "1.5.0",
            "_model_name": "HBoxModel",
            "_view_count": null,
            "_view_module": "@jupyter-widgets/controls",
            "_view_module_version": "1.5.0",
            "_view_name": "HBoxView",
            "box_style": "",
            "children": [
              "IPY_MODEL_4279ccd3873641b397a7eab717cd9a8a",
              "IPY_MODEL_423cc5c34f604317887e80a2a12cfa28",
              "IPY_MODEL_5e171cb84faf4e8db559c314e6e52dc6"
            ],
            "layout": "IPY_MODEL_ff13c22614cd48ccad6b32dd3f56fec6"
          }
        },
        "3dff9cf048be421882b5c2dc9a52ab75": {
          "model_module": "@jupyter-widgets/base",
          "model_module_version": "1.2.0",
          "model_name": "LayoutModel",
          "state": {
            "_model_module": "@jupyter-widgets/base",
            "_model_module_version": "1.2.0",
            "_model_name": "LayoutModel",
            "_view_count": null,
            "_view_module": "@jupyter-widgets/base",
            "_view_module_version": "1.2.0",
            "_view_name": "LayoutView",
            "align_content": null,
            "align_items": null,
            "align_self": null,
            "border": null,
            "bottom": null,
            "display": null,
            "flex": null,
            "flex_flow": null,
            "grid_area": null,
            "grid_auto_columns": null,
            "grid_auto_flow": null,
            "grid_auto_rows": null,
            "grid_column": null,
            "grid_gap": null,
            "grid_row": null,
            "grid_template_areas": null,
            "grid_template_columns": null,
            "grid_template_rows": null,
            "height": null,
            "justify_content": null,
            "justify_items": null,
            "left": null,
            "margin": null,
            "max_height": null,
            "max_width": null,
            "min_height": null,
            "min_width": null,
            "object_fit": null,
            "object_position": null,
            "order": null,
            "overflow": null,
            "overflow_x": null,
            "overflow_y": null,
            "padding": null,
            "right": null,
            "top": null,
            "visibility": null,
            "width": null
          }
        },
        "423cc5c34f604317887e80a2a12cfa28": {
          "model_module": "@jupyter-widgets/controls",
          "model_module_version": "1.5.0",
          "model_name": "FloatProgressModel",
          "state": {
            "_dom_classes": [],
            "_model_module": "@jupyter-widgets/controls",
            "_model_module_version": "1.5.0",
            "_model_name": "FloatProgressModel",
            "_view_count": null,
            "_view_module": "@jupyter-widgets/controls",
            "_view_module_version": "1.5.0",
            "_view_name": "ProgressView",
            "bar_style": "success",
            "description": "",
            "description_tooltip": null,
            "layout": "IPY_MODEL_603407171fc644e88fa08ee885d5f3d3",
            "max": 134,
            "min": 0,
            "orientation": "horizontal",
            "style": "IPY_MODEL_1c180e7f8a984b0386fe48e5e7160188",
            "value": 134
          }
        },
        "4279ccd3873641b397a7eab717cd9a8a": {
          "model_module": "@jupyter-widgets/controls",
          "model_module_version": "1.5.0",
          "model_name": "HTMLModel",
          "state": {
            "_dom_classes": [],
            "_model_module": "@jupyter-widgets/controls",
            "_model_module_version": "1.5.0",
            "_model_name": "HTMLModel",
            "_view_count": null,
            "_view_module": "@jupyter-widgets/controls",
            "_view_module_version": "1.5.0",
            "_view_name": "HTMLView",
            "description": "",
            "description_tooltip": null,
            "layout": "IPY_MODEL_ef7f2a0463864df5a55cb3ea6f4bda6e",
            "placeholder": "​",
            "style": "IPY_MODEL_9e26f33958b34fda99aa3ea34a05fadb",
            "value": "Pandas Apply: 100%"
          }
        },
        "5e171cb84faf4e8db559c314e6e52dc6": {
          "model_module": "@jupyter-widgets/controls",
          "model_module_version": "1.5.0",
          "model_name": "HTMLModel",
          "state": {
            "_dom_classes": [],
            "_model_module": "@jupyter-widgets/controls",
            "_model_module_version": "1.5.0",
            "_model_name": "HTMLModel",
            "_view_count": null,
            "_view_module": "@jupyter-widgets/controls",
            "_view_module_version": "1.5.0",
            "_view_name": "HTMLView",
            "description": "",
            "description_tooltip": null,
            "layout": "IPY_MODEL_9a5827c6fcbb40d2bc4b33ef0b519285",
            "placeholder": "​",
            "style": "IPY_MODEL_cbd7a25db35d4095bda765b240220713",
            "value": " 134/134 [04:18&lt;00:00,  1.04it/s]"
          }
        },
        "603407171fc644e88fa08ee885d5f3d3": {
          "model_module": "@jupyter-widgets/base",
          "model_module_version": "1.2.0",
          "model_name": "LayoutModel",
          "state": {
            "_model_module": "@jupyter-widgets/base",
            "_model_module_version": "1.2.0",
            "_model_name": "LayoutModel",
            "_view_count": null,
            "_view_module": "@jupyter-widgets/base",
            "_view_module_version": "1.2.0",
            "_view_name": "LayoutView",
            "align_content": null,
            "align_items": null,
            "align_self": null,
            "border": null,
            "bottom": null,
            "display": null,
            "flex": null,
            "flex_flow": null,
            "grid_area": null,
            "grid_auto_columns": null,
            "grid_auto_flow": null,
            "grid_auto_rows": null,
            "grid_column": null,
            "grid_gap": null,
            "grid_row": null,
            "grid_template_areas": null,
            "grid_template_columns": null,
            "grid_template_rows": null,
            "height": null,
            "justify_content": null,
            "justify_items": null,
            "left": null,
            "margin": null,
            "max_height": null,
            "max_width": null,
            "min_height": null,
            "min_width": null,
            "object_fit": null,
            "object_position": null,
            "order": null,
            "overflow": null,
            "overflow_x": null,
            "overflow_y": null,
            "padding": null,
            "right": null,
            "top": null,
            "visibility": null,
            "width": null
          }
        },
        "6949cf213bad4c9fa2586b1638cfe660": {
          "model_module": "@jupyter-widgets/controls",
          "model_module_version": "1.5.0",
          "model_name": "FloatProgressModel",
          "state": {
            "_dom_classes": [],
            "_model_module": "@jupyter-widgets/controls",
            "_model_module_version": "1.5.0",
            "_model_name": "FloatProgressModel",
            "_view_count": null,
            "_view_module": "@jupyter-widgets/controls",
            "_view_module_version": "1.5.0",
            "_view_name": "ProgressView",
            "bar_style": "success",
            "description": "",
            "description_tooltip": null,
            "layout": "IPY_MODEL_2898ed9b9ef541fbab3c8f724f1b8cd8",
            "max": 424,
            "min": 0,
            "orientation": "horizontal",
            "style": "IPY_MODEL_74d4a2991d9545cbbc92694758a019b7",
            "value": 424
          }
        },
        "71864b89ed2743dfb163d56ad148d500": {
          "model_module": "@jupyter-widgets/base",
          "model_module_version": "1.2.0",
          "model_name": "LayoutModel",
          "state": {
            "_model_module": "@jupyter-widgets/base",
            "_model_module_version": "1.2.0",
            "_model_name": "LayoutModel",
            "_view_count": null,
            "_view_module": "@jupyter-widgets/base",
            "_view_module_version": "1.2.0",
            "_view_name": "LayoutView",
            "align_content": null,
            "align_items": null,
            "align_self": null,
            "border": null,
            "bottom": null,
            "display": null,
            "flex": null,
            "flex_flow": null,
            "grid_area": null,
            "grid_auto_columns": null,
            "grid_auto_flow": null,
            "grid_auto_rows": null,
            "grid_column": null,
            "grid_gap": null,
            "grid_row": null,
            "grid_template_areas": null,
            "grid_template_columns": null,
            "grid_template_rows": null,
            "height": null,
            "justify_content": null,
            "justify_items": null,
            "left": null,
            "margin": null,
            "max_height": null,
            "max_width": null,
            "min_height": null,
            "min_width": null,
            "object_fit": null,
            "object_position": null,
            "order": null,
            "overflow": null,
            "overflow_x": null,
            "overflow_y": null,
            "padding": null,
            "right": null,
            "top": null,
            "visibility": null,
            "width": null
          }
        },
        "74d4a2991d9545cbbc92694758a019b7": {
          "model_module": "@jupyter-widgets/controls",
          "model_module_version": "1.5.0",
          "model_name": "ProgressStyleModel",
          "state": {
            "_model_module": "@jupyter-widgets/controls",
            "_model_module_version": "1.5.0",
            "_model_name": "ProgressStyleModel",
            "_view_count": null,
            "_view_module": "@jupyter-widgets/base",
            "_view_module_version": "1.2.0",
            "_view_name": "StyleView",
            "bar_color": null,
            "description_width": ""
          }
        },
        "7ecdb83c96f04653b9b5d85d13f622f3": {
          "model_module": "@jupyter-widgets/controls",
          "model_module_version": "1.5.0",
          "model_name": "DescriptionStyleModel",
          "state": {
            "_model_module": "@jupyter-widgets/controls",
            "_model_module_version": "1.5.0",
            "_model_name": "DescriptionStyleModel",
            "_view_count": null,
            "_view_module": "@jupyter-widgets/base",
            "_view_module_version": "1.2.0",
            "_view_name": "StyleView",
            "description_width": ""
          }
        },
        "9a5827c6fcbb40d2bc4b33ef0b519285": {
          "model_module": "@jupyter-widgets/base",
          "model_module_version": "1.2.0",
          "model_name": "LayoutModel",
          "state": {
            "_model_module": "@jupyter-widgets/base",
            "_model_module_version": "1.2.0",
            "_model_name": "LayoutModel",
            "_view_count": null,
            "_view_module": "@jupyter-widgets/base",
            "_view_module_version": "1.2.0",
            "_view_name": "LayoutView",
            "align_content": null,
            "align_items": null,
            "align_self": null,
            "border": null,
            "bottom": null,
            "display": null,
            "flex": null,
            "flex_flow": null,
            "grid_area": null,
            "grid_auto_columns": null,
            "grid_auto_flow": null,
            "grid_auto_rows": null,
            "grid_column": null,
            "grid_gap": null,
            "grid_row": null,
            "grid_template_areas": null,
            "grid_template_columns": null,
            "grid_template_rows": null,
            "height": null,
            "justify_content": null,
            "justify_items": null,
            "left": null,
            "margin": null,
            "max_height": null,
            "max_width": null,
            "min_height": null,
            "min_width": null,
            "object_fit": null,
            "object_position": null,
            "order": null,
            "overflow": null,
            "overflow_x": null,
            "overflow_y": null,
            "padding": null,
            "right": null,
            "top": null,
            "visibility": null,
            "width": null
          }
        },
        "9e26f33958b34fda99aa3ea34a05fadb": {
          "model_module": "@jupyter-widgets/controls",
          "model_module_version": "1.5.0",
          "model_name": "DescriptionStyleModel",
          "state": {
            "_model_module": "@jupyter-widgets/controls",
            "_model_module_version": "1.5.0",
            "_model_name": "DescriptionStyleModel",
            "_view_count": null,
            "_view_module": "@jupyter-widgets/base",
            "_view_module_version": "1.2.0",
            "_view_name": "StyleView",
            "description_width": ""
          }
        },
        "a96642ae10524d2e934d55f1a2a4b455": {
          "model_module": "@jupyter-widgets/base",
          "model_module_version": "1.2.0",
          "model_name": "LayoutModel",
          "state": {
            "_model_module": "@jupyter-widgets/base",
            "_model_module_version": "1.2.0",
            "_model_name": "LayoutModel",
            "_view_count": null,
            "_view_module": "@jupyter-widgets/base",
            "_view_module_version": "1.2.0",
            "_view_name": "LayoutView",
            "align_content": null,
            "align_items": null,
            "align_self": null,
            "border": null,
            "bottom": null,
            "display": null,
            "flex": null,
            "flex_flow": null,
            "grid_area": null,
            "grid_auto_columns": null,
            "grid_auto_flow": null,
            "grid_auto_rows": null,
            "grid_column": null,
            "grid_gap": null,
            "grid_row": null,
            "grid_template_areas": null,
            "grid_template_columns": null,
            "grid_template_rows": null,
            "height": null,
            "justify_content": null,
            "justify_items": null,
            "left": null,
            "margin": null,
            "max_height": null,
            "max_width": null,
            "min_height": null,
            "min_width": null,
            "object_fit": null,
            "object_position": null,
            "order": null,
            "overflow": null,
            "overflow_x": null,
            "overflow_y": null,
            "padding": null,
            "right": null,
            "top": null,
            "visibility": null,
            "width": null
          }
        },
        "b6d0297368fe4379b1cf80057a27115d": {
          "model_module": "@jupyter-widgets/controls",
          "model_module_version": "1.5.0",
          "model_name": "DescriptionStyleModel",
          "state": {
            "_model_module": "@jupyter-widgets/controls",
            "_model_module_version": "1.5.0",
            "_model_name": "DescriptionStyleModel",
            "_view_count": null,
            "_view_module": "@jupyter-widgets/base",
            "_view_module_version": "1.2.0",
            "_view_name": "StyleView",
            "description_width": ""
          }
        },
        "cbd7a25db35d4095bda765b240220713": {
          "model_module": "@jupyter-widgets/controls",
          "model_module_version": "1.5.0",
          "model_name": "DescriptionStyleModel",
          "state": {
            "_model_module": "@jupyter-widgets/controls",
            "_model_module_version": "1.5.0",
            "_model_name": "DescriptionStyleModel",
            "_view_count": null,
            "_view_module": "@jupyter-widgets/base",
            "_view_module_version": "1.2.0",
            "_view_name": "StyleView",
            "description_width": ""
          }
        },
        "d15d3c956936431eaf527c46530de34f": {
          "model_module": "@jupyter-widgets/controls",
          "model_module_version": "1.5.0",
          "model_name": "HTMLModel",
          "state": {
            "_dom_classes": [],
            "_model_module": "@jupyter-widgets/controls",
            "_model_module_version": "1.5.0",
            "_model_name": "HTMLModel",
            "_view_count": null,
            "_view_module": "@jupyter-widgets/controls",
            "_view_module_version": "1.5.0",
            "_view_name": "HTMLView",
            "description": "",
            "description_tooltip": null,
            "layout": "IPY_MODEL_71864b89ed2743dfb163d56ad148d500",
            "placeholder": "​",
            "style": "IPY_MODEL_7ecdb83c96f04653b9b5d85d13f622f3",
            "value": " 424/424 [00:26&lt;00:00, 29.05it/s]"
          }
        },
        "ef7f2a0463864df5a55cb3ea6f4bda6e": {
          "model_module": "@jupyter-widgets/base",
          "model_module_version": "1.2.0",
          "model_name": "LayoutModel",
          "state": {
            "_model_module": "@jupyter-widgets/base",
            "_model_module_version": "1.2.0",
            "_model_name": "LayoutModel",
            "_view_count": null,
            "_view_module": "@jupyter-widgets/base",
            "_view_module_version": "1.2.0",
            "_view_name": "LayoutView",
            "align_content": null,
            "align_items": null,
            "align_self": null,
            "border": null,
            "bottom": null,
            "display": null,
            "flex": null,
            "flex_flow": null,
            "grid_area": null,
            "grid_auto_columns": null,
            "grid_auto_flow": null,
            "grid_auto_rows": null,
            "grid_column": null,
            "grid_gap": null,
            "grid_row": null,
            "grid_template_areas": null,
            "grid_template_columns": null,
            "grid_template_rows": null,
            "height": null,
            "justify_content": null,
            "justify_items": null,
            "left": null,
            "margin": null,
            "max_height": null,
            "max_width": null,
            "min_height": null,
            "min_width": null,
            "object_fit": null,
            "object_position": null,
            "order": null,
            "overflow": null,
            "overflow_x": null,
            "overflow_y": null,
            "padding": null,
            "right": null,
            "top": null,
            "visibility": null,
            "width": null
          }
        },
        "ff13c22614cd48ccad6b32dd3f56fec6": {
          "model_module": "@jupyter-widgets/base",
          "model_module_version": "1.2.0",
          "model_name": "LayoutModel",
          "state": {
            "_model_module": "@jupyter-widgets/base",
            "_model_module_version": "1.2.0",
            "_model_name": "LayoutModel",
            "_view_count": null,
            "_view_module": "@jupyter-widgets/base",
            "_view_module_version": "1.2.0",
            "_view_name": "LayoutView",
            "align_content": null,
            "align_items": null,
            "align_self": null,
            "border": null,
            "bottom": null,
            "display": null,
            "flex": null,
            "flex_flow": null,
            "grid_area": null,
            "grid_auto_columns": null,
            "grid_auto_flow": null,
            "grid_auto_rows": null,
            "grid_column": null,
            "grid_gap": null,
            "grid_row": null,
            "grid_template_areas": null,
            "grid_template_columns": null,
            "grid_template_rows": null,
            "height": null,
            "justify_content": null,
            "justify_items": null,
            "left": null,
            "margin": null,
            "max_height": null,
            "max_width": null,
            "min_height": null,
            "min_width": null,
            "object_fit": null,
            "object_position": null,
            "order": null,
            "overflow": null,
            "overflow_x": null,
            "overflow_y": null,
            "padding": null,
            "right": null,
            "top": null,
            "visibility": null,
            "width": null
          }
        }
      }
    }
  },
  "nbformat": 4,
  "nbformat_minor": 0
}
