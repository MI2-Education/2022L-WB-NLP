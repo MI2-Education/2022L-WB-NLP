{
 "cells": [
  {
   "cell_type": "markdown",
   "metadata": {
    "id": "nxEI6wZCAp6W"
   },
   "source": [
    "# Eksploracja Krajowych planów na rzecz energii i klimatu\n",
    "\n",
    "## Co wyniknęło z eksploracji? \n",
    "- Głównym krokiem przed eksploracją było przetworzenie danych w odpowiedni sposób. Uwzględniona została przy tym zakładana struktura dokumentów. Okazało się, że rzeczywiście występują istotne różncie pomiędzy poszczególnymi sekcjami i wymiarami, zatem analiza w podziale na składowe dokumentu ma sens.\n",
    "- Okazało się również, że w danych widać różnice pomiędzy dokumentami poszczególnych państw, co także stanowi dobry znak dla dalszej pracy zakładającej dokładniejsze porównania między poszczególnymi członkami UE. \n",
    "- Pojawiły się kolejne pytania badawcze, np. dotyczące różnic w traktowaniu o transporcie w procesie dekarbonizacji. \n",
    "- Zidentyfikowano słowa, które należy rozważyć w kontekście uwzględnienia jako stop-słowa.\n",
    "- Wskazano dalsze kroki: próba poprawy odczytu tekstów z PDF (bez tabel, wykresów, numeracji stron)"
   ]
  },
  {
   "cell_type": "markdown",
   "metadata": {
    "id": "AJyYJpqXzbzy"
   },
   "source": [
    "## Importy"
   ]
  },
  {
   "cell_type": "code",
   "execution_count": null,
   "metadata": {
    "colab": {
     "base_uri": "https://localhost:8080/"
    },
    "id": "SuVhk-yuADvU",
    "outputId": "0da0c6af-8145-441d-93b0-201714b21940"
   },
   "outputs": [],
   "source": [
    "from google.colab import drive\n",
    "drive.mount('/content/drive')"
   ]
  },
  {
   "cell_type": "code",
   "execution_count": null,
   "metadata": {
    "colab": {
     "base_uri": "https://localhost:8080/",
     "height": 1000
    },
    "id": "A6WduxilTw3R",
    "outputId": "cf81e312-925f-4eb8-a67a-388a79d8e805"
   },
   "outputs": [],
   "source": [
    "! pip install swifter\n",
    "! pip install matplotlib==3.4.0\n",
    "! pip install textacy\n",
    "! pip install thinc\n",
    "! pip install gensim\n",
    "! pip install pyLDAvis"
   ]
  },
  {
   "cell_type": "code",
   "execution_count": null,
   "metadata": {
    "colab": {
     "base_uri": "https://localhost:8080/"
    },
    "id": "EJfOKHc_B2xX",
    "outputId": "da8cdb47-7407-4ce6-c3c9-d68b3418aa78"
   },
   "outputs": [],
   "source": [
    "!python -m spacy download en_core_web_lg\n",
    "# trzeba uruchomić ponownie środowisko wykonawcze po pobraniu"
   ]
  },
  {
   "cell_type": "code",
   "execution_count": null,
   "metadata": {
    "colab": {
     "base_uri": "https://localhost:8080/"
    },
    "id": "nDdvh3aSA8CW",
    "outputId": "92559f28-e3b5-493f-f36d-a17c28c1c7ff"
   },
   "outputs": [],
   "source": [
    "import pandas as pd\n",
    "import numpy as np\n",
    "import spacy\n",
    "from gensim.corpora.dictionary import Dictionary\n",
    "from gensim.models.ldamulticore import LdaMulticore\n",
    "\n",
    "import pyLDAvis.gensim_models\n",
    "pyLDAvis.enable_notebook()"
   ]
  },
  {
   "cell_type": "code",
   "execution_count": null,
   "metadata": {
    "id": "0MHbzdIUBa5w"
   },
   "outputs": [],
   "source": [
    "en = spacy.load(\"en_core_web_lg\")"
   ]
  },
  {
   "cell_type": "code",
   "execution_count": null,
   "metadata": {
    "id": "jEU_o0UzD5ts"
   },
   "outputs": [],
   "source": [
    "import os\n",
    "import pickle\n",
    "from collections import Counter\n",
    "from tqdm import tqdm\n",
    "import seaborn as sns\n",
    "import matplotlib.pyplot as plt\n",
    "sns.set_theme(style=\"whitegrid\")\n",
    "import plotly.express as px"
   ]
  },
  {
   "cell_type": "code",
   "execution_count": null,
   "metadata": {
    "id": "fmMXI6BPJpW0"
   },
   "outputs": [],
   "source": [
    "DIR = '/content/drive/MyDrive/NLP-klimat/'"
   ]
  },
  {
   "cell_type": "markdown",
   "metadata": {
    "id": "EDStKk8nzKZK"
   },
   "source": [
    "## Analiza"
   ]
  },
  {
   "cell_type": "markdown",
   "metadata": {
    "id": "oBzQAZ08ODi3"
   },
   "source": [
    "### Wczytanie danych \n",
    "Teksty zostały odczytane z PDF-ów na podstawie wcześniejszego otagowania  poszczególnych dokumentów. "
   ]
  },
  {
   "cell_type": "code",
   "execution_count": null,
   "metadata": {
    "id": "t7L8OQsmiYs8"
   },
   "outputs": [],
   "source": [
    "NECP_annotations = pd.read_csv(DIR+'NECP.txt')"
   ]
  },
  {
   "cell_type": "code",
   "execution_count": null,
   "metadata": {
    "id": "X558p4R0IEKO"
   },
   "outputs": [],
   "source": [
    "NECP_annotations = NECP_annotations.replace({\"None\": None})"
   ]
  },
  {
   "cell_type": "markdown",
   "metadata": {
    "id": "jCOWgzrcn_S1"
   },
   "source": [
    "#### Intro: czym jest NECP?\n",
    "\n",
    "**NECP** - National Energy and Climate Plan (Krajowy plan na rzecz energii i klimatu)\n",
    "\n",
    "Aby zrealizować ustanowione przez Unię Europejską cele w zakresie energii i klimatu na 2030 rok, państwa członkowskie zostały zobowiązane do ustanowienia 10-letniego planu na rzecz energii i klimatu na okres od 2021 do 2030 roku (NECP).\n",
    "\n",
    "**Struktura NECP**\n",
    "\n",
    "![](https://i.ibb.co/nD280yN/necp-structure.png)\n",
    "\n",
    "\n",
    "Zatem dla każdego z 27 państw członkowskich otrzymujemy sekcje:\n",
    "- Overview and Process for Establishing the Plan - Zarys ogólny i proces opracowywania planu\n",
    "- National Objectives and Targets - Krajowe założenia i cele\n",
    "- Policies and Measures - Polityki i działania\n",
    "- Current Situation and Reference Projections - Aktualna sytuacja i prognozy z obecną polityką klimatyczną\n",
    "- Impact Assessment of Planned Policies and Measures - Ocena wpływu planowanych działań na rzecz klimatu\n",
    "\n",
    "Według wzorcowej struktury sekcje 2-5 powinny byc podzielone na 5 wymiarów:\n",
    "- Decarbonisation - Obniżenie emisyjności\n",
    "- Energy efficiency - Efektywność energetyczna\n",
    "- Energy security - Bezpieczeństwo energetyczne\n",
    "- Internal market - Wewnętrzny rynek energii\n",
    "- R&I and Competitiveness - Badania naukowe, innowacje i konkurencyjność\n",
    "\n",
    "W rzeczywistości w większości planów w sekcji oceny wpływu planowanych działań na rzecz klimatu nie ma podziału na 5 wymiarów"
   ]
  },
  {
   "cell_type": "code",
   "execution_count": null,
   "metadata": {
    "id": "W8hix-_t3GbO"
   },
   "outputs": [],
   "source": [
    "necp_processed = pd.read_csv(DIR+'necp_processed.csv', index_col = 0)"
   ]
  },
  {
   "cell_type": "markdown",
   "metadata": {
    "id": "zZ6bMWaw5rz4"
   },
   "source": [
    "Kolumny zaimportowanej ramki danych."
   ]
  },
  {
   "cell_type": "code",
   "execution_count": null,
   "metadata": {
    "colab": {
     "base_uri": "https://localhost:8080/"
    },
    "id": "nrELraUQ5xw5",
    "outputId": "3b095e89-eb35-4151-cc93-91e05a437b5f"
   },
   "outputs": [],
   "source": [
    "necp_processed.columns"
   ]
  },
  {
   "cell_type": "code",
   "execution_count": null,
   "metadata": {
    "id": "pOOcAzpF6AJY"
   },
   "outputs": [],
   "source": [
    "necp_processed.drop(['start_page', 'end_page', 'start_text', 'end_text'], axis = 1, inplace = True)"
   ]
  },
  {
   "cell_type": "code",
   "execution_count": null,
   "metadata": {
    "id": "BYnaU9ntB-7P"
   },
   "outputs": [],
   "source": [
    "necp_processed.drop(necp_processed[necp_processed.isnull()[\"text\"]].index, axis = 0, inplace = True)"
   ]
  },
  {
   "cell_type": "code",
   "execution_count": null,
   "metadata": {
    "colab": {
     "base_uri": "https://localhost:8080/"
    },
    "id": "tk0pm-3aDdvE",
    "outputId": "2caeb4ad-7a7f-4739-e5e7-9cb2a1d0df5d"
   },
   "outputs": [],
   "source": [
    "len(necp_processed)"
   ]
  },
  {
   "cell_type": "markdown",
   "metadata": {
    "id": "8_9tx4dyDhZm"
   },
   "source": [
    "Zostało 453 części dokumentów."
   ]
  },
  {
   "cell_type": "markdown",
   "metadata": {
    "id": "vLE2GLf2PElQ"
   },
   "source": [
    "##### Przetworzenie tekstów"
   ]
  },
  {
   "cell_type": "code",
   "execution_count": null,
   "metadata": {
    "id": "JGZLXS3PgtV9"
   },
   "outputs": [],
   "source": [
    "import swifter\n",
    "import warnings\n",
    "warnings.filterwarnings(\"default\")"
   ]
  },
  {
   "cell_type": "code",
   "execution_count": null,
   "metadata": {
    "colab": {
     "base_uri": "https://localhost:8080/",
     "height": 49,
     "referenced_widgets": [
      "cb71d3fd50594e8fb3cd1ef17a1c2cf8",
      "b6f3b8cd4a554ea4a092121f2575eea9",
      "cab1393382114b09b170a5e6306d8a94",
      "618f12d9378847efaf466c237dd2af4f",
      "b92e698c2be74c3a92e5c897e4e1fc87",
      "4fdb269321ff4bba960e2dd00d9622f5",
      "2863e1b7450c4b1985c200d2147fc5f6",
      "860a19100c774342bc9b78544d3afb15",
      "c6f846910fe947d9a9ae46444357815a",
      "dec587b659804800a2dd26412c79271f",
      "a35cb1619e574d1fbe632fc53b7e20d8"
     ]
    },
    "id": "TIsMj7C_FVFK",
    "outputId": "8d90c1ec-062d-4d01-a0ee-148a05f6e830"
   },
   "outputs": [],
   "source": [
    "tqdm.pandas()\n",
    "necp_docs = necp_processed['text'].swifter.apply(en)"
   ]
  },
  {
   "cell_type": "code",
   "execution_count": null,
   "metadata": {
    "id": "g9WE5IqbH6zX"
   },
   "outputs": [],
   "source": [
    "# eksport przetworzonych dokumentów\n",
    "with open(DIR + 'necp_docs_lg.pickle', 'wb') as f:\n",
    "  pickle.dump(necp_docs, f)"
   ]
  },
  {
   "cell_type": "markdown",
   "metadata": {
    "id": "MdyHlzaqPK53"
   },
   "source": [
    "##### Wczytanie"
   ]
  },
  {
   "cell_type": "code",
   "execution_count": null,
   "metadata": {
    "id": "bEml1FzrLFcC"
   },
   "outputs": [],
   "source": [
    "# import przetworzonych dokumentów\n",
    "with open(DIR + 'necp_docs_lg.pickle', 'rb') as f:\n",
    "    necp_docs_2 = pickle.load(f)"
   ]
  },
  {
   "cell_type": "code",
   "execution_count": null,
   "metadata": {
    "colab": {
     "base_uri": "https://localhost:8080/",
     "height": 49,
     "referenced_widgets": [
      "12ef1654532542aaae433b1cda8bd9c2",
      "faff0723bf644c8280f75228ca177f13",
      "c1d6f0cc7d014548a4863f830bf4854d",
      "0d66f6918c5a4dae8041ad46672879b3",
      "f55210c5937045a781863c4927be400f",
      "42ff7684fd74469b80d09c667c2e414a",
      "a9c1d445ca814d2aaaf8e71600860c11",
      "16d57830a23946768209df06735c2b8e",
      "febeaae9ea684bc69256a3ef53eff154",
      "14481b0e8d60489e83dd00b51033b5d7",
      "350424ee92554ce3ae7387137f54ade5"
     ]
    },
    "id": "Bw2FBNtpXNnp",
    "outputId": "57c94201-6fa6-444c-cb2a-981ff97a1230"
   },
   "outputs": [],
   "source": [
    "countries_stop_words = ['Austria', 'Austrian', 'Belgium', 'Belgian', 'Bulgaria', 'Bulgarian', 'Czech', 'Cyprus', 'Cypriot', 'Germany', 'German',\n",
    "                      'Denmark', 'Danish', 'Estonia', 'Estonian', 'Croatia', 'Croatian', 'Finland', 'Finnish', 'France', 'French', 'Malta', 'Maltese',\n",
    "                      'Luxembourg', 'Lithuania', 'Lithuanian', 'Latvia', 'Latvian', 'Italy', 'Italian', 'Ireland', 'Irish', 'Hungary', 'Hungarian',\n",
    "                      'Greece', 'Greek', 'Spain', 'Spanish', 'Netherlands', 'Dutch', 'Poland', 'Polish', 'Portugal', 'Portuguese', 'Romania', 'Romanian',\n",
    "                      'Sweden', 'Swedish', 'Slovenia', 'Slovenian', 'Slovakia', 'Slovak']\n",
    "\n",
    "extra_stop_words =  ['energy', 'figure', 'table', 'plan', \"necp\", 'national', 'use', \"measure\", \"sector\", \"climate\",\n",
    "                     \"plan\", \"dimension\", \"integrated\", \"section\", \"republic\", \"measures\", \"policies\", \"target\", \"objective\", \"policy\",\n",
    "                     \"projection\", \"assessment\", \"federal\", \"government\"]\n",
    "\n",
    "necp_processed[\"necp_lemmas\"] = necp_docs.swifter.apply(lambda doc: [token.lemma_ for token in doc \n",
    "                                                             if not token.is_stop \n",
    "                                                             if not token.is_punct\n",
    "                                                             if not (token.lemma_ in countries_stop_words) \n",
    "                                                             if not (token.lemma_.lower() in extra_stop_words) \n",
    "                                                             if token.is_alpha])"
   ]
  },
  {
   "cell_type": "code",
   "execution_count": null,
   "metadata": {
    "colab": {
     "base_uri": "https://localhost:8080/"
    },
    "id": "ltoBgLeSPFVy",
    "outputId": "5d07b98a-6f4e-4654-8a01-2d8ffbdfc0c2"
   },
   "outputs": [],
   "source": [
    "from gensim.models import Phrases\n",
    "bigram = Phrases(necp_processed[\"necp_lemmas\"], min_count=20)\n",
    "for idx in necp_processed[\"necp_lemmas\"].index:\n",
    "    for token in bigram[necp_processed[\"necp_lemmas\"][idx]]:\n",
    "        if '_' in token:\n",
    "            necp_processed[\"necp_lemmas\"][idx].append(token)"
   ]
  },
  {
   "cell_type": "code",
   "execution_count": null,
   "metadata": {
    "id": "o0_QaczrUX3K"
   },
   "outputs": [],
   "source": [
    "def plot_counter(counter: Counter, orient: str = 'h', color: str='lightblue', figsize: tuple=(20,13)):\n",
    "  plt.figure(figsize=figsize)\n",
    "  keys = [k[0] for k in counter]\n",
    "  vals = [int(k[1]) for k in counter]\n",
    "  ax = sns.barplot(x=vals, y=keys, orient=orient, color=color)\n",
    "  ax.bar_label(ax.containers[0])\n",
    "  return ax"
   ]
  },
  {
   "cell_type": "code",
   "execution_count": null,
   "metadata": {
    "id": "gm1EZfc3sphB"
   },
   "outputs": [],
   "source": [
    "from gensim.models import CoherenceModel"
   ]
  },
  {
   "cell_type": "markdown",
   "metadata": {
    "id": "wTGEJLMTsqkw"
   },
   "source": [
    "### **Dimension**: Decarbonisation"
   ]
  },
  {
   "cell_type": "code",
   "execution_count": null,
   "metadata": {
    "colab": {
     "base_uri": "https://localhost:8080/",
     "height": 757
    },
    "id": "A5P-wvcIm45M",
    "outputId": "f201881a-835b-4119-a9ce-b331b7557560"
   },
   "outputs": [],
   "source": [
    "decarbonisation_docs = necp_processed[(necp_processed['energy_union_dimension'] == \"Decarbonisation\")][\"necp_lemmas\"]\n",
    "decarbonisation_counter = Counter(decarbonisation_docs.sum()).most_common(30)\n",
    "plot_counter(decarbonisation_counter)\n",
    "plt.show()"
   ]
  },
  {
   "cell_type": "code",
   "execution_count": null,
   "metadata": {
    "id": "y4NUDgEnwjYN"
   },
   "outputs": [],
   "source": [
    "decarbonisation_docs = decarbonisation_docs.apply(lambda doc: [lemma for lemma in doc if not (lemma in ['emission', 'renewable'])])"
   ]
  },
  {
   "cell_type": "code",
   "execution_count": null,
   "metadata": {
    "id": "puu85dbZq2KF"
   },
   "outputs": [],
   "source": [
    "decarbonisation_dictionary = Dictionary(decarbonisation_docs)\n",
    "decarbonisation_dictionary.filter_extremes(no_below=2, no_above=1.0)\n",
    "decarbonisation_encoded_docs = decarbonisation_docs.apply(decarbonisation_dictionary.doc2bow)"
   ]
  },
  {
   "cell_type": "code",
   "execution_count": null,
   "metadata": {
    "colab": {
     "base_uri": "https://localhost:8080/"
    },
    "id": "IEMRd5dIs3zf",
    "outputId": "1bcc3dcc-71b3-49f5-9f8a-a872c36ee58b"
   },
   "outputs": [],
   "source": [
    "decarbonisation_models = []\n",
    "for topics_number in tqdm(range(3, 13)):\n",
    "    lda = LdaMulticore(decarbonisation_encoded_docs, num_topics=topics_number, passes=8, iterations=100, random_state=123)\n",
    "    decarbonisation_models.append(lda)"
   ]
  },
  {
   "cell_type": "code",
   "execution_count": null,
   "metadata": {
    "colab": {
     "base_uri": "https://localhost:8080/"
    },
    "id": "buBqZXwutabC",
    "outputId": "cd80f91c-d8e6-43b6-d2bd-461814b50ce6"
   },
   "outputs": [],
   "source": [
    "decarbonisation_cvs = []\n",
    "for model in tqdm(decarbonisation_models):\n",
    "    cm = CoherenceModel(model,texts=decarbonisation_docs, dictionary=decarbonisation_dictionary)\n",
    "    c_v = cm.get_coherence()\n",
    "    decarbonisation_cvs.append(c_v)"
   ]
  },
  {
   "cell_type": "code",
   "execution_count": null,
   "metadata": {
    "colab": {
     "base_uri": "https://localhost:8080/",
     "height": 542
    },
    "id": "38rAD2UgtrD0",
    "outputId": "0b6ac696-e6c6-4feb-f5a6-5f7ac9410c9a"
   },
   "outputs": [],
   "source": [
    "px.line(x=range(3, 13), y=decarbonisation_cvs)"
   ]
  },
  {
   "cell_type": "code",
   "execution_count": null,
   "metadata": {
    "colab": {
     "base_uri": "https://localhost:8080/",
     "height": 929
    },
    "id": "pqf0Aytym4sx",
    "outputId": "e52c33c7-434b-45f6-9f3b-87af9360e2b3"
   },
   "outputs": [],
   "source": [
    "vis = pyLDAvis.gensim_models.prepare(decarbonisation_models[4], decarbonisation_encoded_docs, dictionary=decarbonisation_dictionary)\n",
    "vis"
   ]
  },
  {
   "cell_type": "code",
   "execution_count": null,
   "metadata": {
    "colab": {
     "base_uri": "https://localhost:8080/"
    },
    "id": "dCVWVNIcDBFV",
    "outputId": "51219e9d-cb7c-4cb0-b101-73e9dfe2f6c3"
   },
   "outputs": [],
   "source": [
    "for idx, topic in decarbonisation_models[4].show_topics(formatted=False, num_words=15):\n",
    "    print('Topic: {} \\nWords: {}'.format(idx, [decarbonisation_dictionary[int(w[0])] for w in topic]))"
   ]
  },
  {
   "cell_type": "markdown",
   "metadata": {
    "id": "bsIw_8c00sOR"
   },
   "source": [
    "- Topic 0: gas, source, support, fuel, forest land\n",
    "- Topic 1: renewable energy sources, development, new, power generation, electricity\n",
    "- Topic 2: share, increase, consumption, total, GHG, gross, decrease\n",
    "> 'The Commission envisions the EU as the global hub for developing next-generation renewable energies. It aims to make the EU the world leader in the sector through preparing markets and grids for a growing proportion of renewable energy, and investing in advanced, sustainable alternative fuels.'\n",
    "- Topic 3: electricity, transport, vehicle -- do wyrzucenia (0% tokenów)\n",
    "- Topic 4: transport, promote, support, public, system, vehicle, fuel, tax, mobility, encourage\n",
    "- Topic 5: Act, system, funding, expansion (grid expansion)\n",
    "- Topic 6: heat, waste, gas, district heating, biomass\n",
    "\n"
   ]
  },
  {
   "cell_type": "code",
   "execution_count": null,
   "metadata": {
    "colab": {
     "base_uri": "https://localhost:8080/",
     "height": 1000
    },
    "id": "bKQ-4P19APux",
    "outputId": "581de0e2-a82f-40f9-fb84-adc624b0c1c4"
   },
   "outputs": [],
   "source": [
    "from matplotlib import colors\n",
    "topics = decarbonisation_models[4].show_topics(formatted=False)\n",
    "counter = Counter(decarbonisation_docs.sum())\n",
    "\n",
    "out = []\n",
    "for i, topic in topics:\n",
    "    for word, weight in topic:\n",
    "        word = decarbonisation_dictionary[int(word)]\n",
    "        out.append([word, i , weight, counter[word]])\n",
    "\n",
    "df = pd.DataFrame(out, columns=['word', 'topic_id', 'importance', 'word_count'])        \n",
    "\n",
    "fig, axes = plt.subplots(3, 2, figsize=(14,14), sharey=True)\n",
    "cols = [color for name, color in colors.TABLEAU_COLORS.items()]\n",
    "for i, ax in enumerate(axes.flatten()):\n",
    "    if i>=3:\n",
    "      i+=1\n",
    "    ax.bar(x='word', height=\"word_count\", data=df.loc[df.topic_id==i, :], color=cols[i], width=0.5, alpha=0.3, label='Word Count')\n",
    "    ax_twin = ax.twinx()\n",
    "    ax_twin.bar(x='word', height=\"importance\", data=df.loc[df.topic_id==i, :], color=cols[i], width=0.2, label='Weights')\n",
    "    ax.set_ylabel('Word Count', color=cols[i])\n",
    "    ax_twin.set_ylim(0, 0.018); ax.set_ylim(0, 3000)\n",
    "    ax.set_title('Topic: ' + str(i), color=cols[i], fontsize=12)\n",
    "    ax.tick_params(axis='y', left=False)\n",
    "    ax.set_xticklabels(df.loc[df.topic_id==i, 'word'], rotation=30, horizontalalignment= 'right')\n",
    "    ax.legend(loc='upper left'); ax_twin.legend(loc='upper right')\n",
    "    ax.grid(False)\n",
    "    ax_twin.grid(False)\n",
    "fig.suptitle('Topics for dimension: Decarbonisation', fontsize=16)    \n",
    "fig.tight_layout()    \n",
    "plt.show()"
   ]
  },
  {
   "cell_type": "code",
   "execution_count": null,
   "metadata": {
    "id": "c3ghRLpUlM3o"
   },
   "outputs": [],
   "source": [
    "decarbonisation_corpus_model = decarbonisation_models[4][decarbonisation_encoded_docs]"
   ]
  },
  {
   "cell_type": "code",
   "execution_count": null,
   "metadata": {
    "id": "54i_7F1sNAo5"
   },
   "outputs": [],
   "source": [
    "decarbonisation_metainfo = necp_processed[(necp_processed['energy_union_dimension'] == \"Decarbonisation\")]\n",
    "res_len = len(decarbonisation_metainfo)\n",
    "res = np.zeros((res_len, 7))"
   ]
  },
  {
   "cell_type": "code",
   "execution_count": null,
   "metadata": {
    "id": "85y1qdqem4y2"
   },
   "outputs": [],
   "source": [
    "for i, doc in enumerate(decarbonisation_corpus_model):\n",
    "  for topic in doc:\n",
    "    res[i][topic[0]] = np.round(topic[1], 4)"
   ]
  },
  {
   "cell_type": "code",
   "execution_count": null,
   "metadata": {
    "id": "GFziwr6sm5Fr"
   },
   "outputs": [],
   "source": [
    "decarbonisation_modeling_results = pd.concat([decarbonisation_metainfo.reset_index(drop=True), pd.DataFrame(res)], axis=1)\n",
    "decarbonisation_topic_probs = decarbonisation_modeling_results.groupby(\"country\").mean().loc[:,[0, 1, 2, 4, 5, 6]]"
   ]
  },
  {
   "cell_type": "code",
   "execution_count": null,
   "metadata": {
    "colab": {
     "base_uri": "https://localhost:8080/",
     "height": 173
    },
    "id": "Xgpwck-0DjT7",
    "outputId": "5ac04947-d47a-437e-c84c-a7fb3673986d"
   },
   "outputs": [],
   "source": [
    "decarbonisation_modeling_results.groupby(\"subsection\").mean().loc[:,[0, 1, 2, 4, 5, 6]]"
   ]
  },
  {
   "cell_type": "code",
   "execution_count": null,
   "metadata": {
    "colab": {
     "base_uri": "https://localhost:8080/",
     "height": 917
    },
    "id": "n4quv5UKGypK",
    "outputId": "16ca538f-842b-4c0d-dcf7-0add4b4bad28"
   },
   "outputs": [],
   "source": [
    "decarbonisation_topic_probs"
   ]
  },
  {
   "cell_type": "code",
   "execution_count": null,
   "metadata": {
    "id": "j_dJbGQnxtU2"
   },
   "outputs": [],
   "source": [
    "import scipy.spatial as sp\n",
    "import scipy.cluster.hierarchy as hc\n",
    "linkage = hc.linkage(decarbonisation_topic_probs, method='average', metric='cosine')\n",
    "decarbonisation_similarities = sp.distance.squareform(sp.distance.pdist(decarbonisation_topic_probs.values, metric='cosine'))"
   ]
  },
  {
   "cell_type": "code",
   "execution_count": null,
   "metadata": {
    "colab": {
     "base_uri": "https://localhost:8080/",
     "height": 745
    },
    "id": "f7TKSQ6mk6DD",
    "outputId": "0fbbcaf4-2864-4cd3-b9cf-8b8c9551c210"
   },
   "outputs": [],
   "source": [
    "plt.figure(figsize=(12, 8))\n",
    "sns.clustermap(1-decarbonisation_similarities, \n",
    "            xticklabels=decarbonisation_topic_probs.index, \n",
    "            yticklabels=decarbonisation_topic_probs.index,\n",
    "             row_linkage=linkage, col_linkage=linkage)\n",
    "plt.show()"
   ]
  },
  {
   "cell_type": "code",
   "execution_count": null,
   "metadata": {
    "id": "85hLcCSq5Ynl"
   },
   "outputs": [],
   "source": [
    "decarbonisation_comparison = decarbonisation_modeling_results.groupby([\"country\", \"subsection\"]).mean().loc[:,0:6]"
   ]
  },
  {
   "cell_type": "code",
   "execution_count": null,
   "metadata": {
    "id": "4dEQYCYz7Ars"
   },
   "outputs": [],
   "source": [
    "countries = decarbonisation_modeling_results.country.unique()\n",
    "sections = [\"Policies and Measures\", \"National Objectives and Targets\"]"
   ]
  },
  {
   "cell_type": "code",
   "execution_count": null,
   "metadata": {
    "colab": {
     "base_uri": "https://localhost:8080/",
     "height": 855
    },
    "id": "qwSlmZ5w54zQ",
    "outputId": "6e96f10f-220f-4453-dee7-eb34f6bde1fc"
   },
   "outputs": [],
   "source": [
    "decarbonisation_change = {\"country\": [], \"similarity\": []}\n",
    "for country in countries:\n",
    "  pm = decarbonisation_modeling_results.loc[(decarbonisation_modeling_results[\"country\"] == country) &\n",
    "                                        (decarbonisation_modeling_results[\"subsection\"] == sections[0])].loc[:,0:6]\n",
    "  noat = decarbonisation_modeling_results.loc[(decarbonisation_modeling_results[\"country\"] == country) & \n",
    "                                        (decarbonisation_modeling_results[\"subsection\"] == sections[1])].loc[:,0:6]\n",
    "  if pm.shape[0]==1:\n",
    "    decarbonisation_change[\"country\"].append(country) \n",
    "    decarbonisation_change[\"similarity\"].append(1-sp.distance.cosine(pm, noat))\n",
    "pd.DataFrame(decarbonisation_change)"
   ]
  },
  {
   "cell_type": "markdown",
   "metadata": {
    "id": "xleGpXhmF0xL"
   },
   "source": [
    "### **Dimension:** Energy efficiency  "
   ]
  },
  {
   "cell_type": "code",
   "execution_count": null,
   "metadata": {
    "colab": {
     "base_uri": "https://localhost:8080/",
     "height": 757
    },
    "id": "lYKhUQrQF0xM",
    "outputId": "94d225df-fe0d-40e1-ef0d-4b581923258c"
   },
   "outputs": [],
   "source": [
    "energy_efficiency_docs = necp_processed[(necp_processed['energy_union_dimension'] == \"Energy efficiency\")][\"necp_lemmas\"]\n",
    "energy_efficiency_counter = Counter(energy_efficiency_docs.sum()).most_common(30)\n",
    "plot_counter(energy_efficiency_counter)\n",
    "plt.show()"
   ]
  },
  {
   "cell_type": "code",
   "execution_count": null,
   "metadata": {
    "id": "pPMBnrntSqvF"
   },
   "outputs": [],
   "source": [
    "energy_efficiency_docs = energy_efficiency_docs.apply(lambda doc: [lemma for lemma in doc if not (lemma in ['building', 'efficiency', 'consumption'])])"
   ]
  },
  {
   "cell_type": "code",
   "execution_count": null,
   "metadata": {
    "id": "N5oeaxsdSqvG"
   },
   "outputs": [],
   "source": [
    "energy_efficiency_dictionary = Dictionary(energy_efficiency_docs)\n",
    "energy_efficiency_dictionary.filter_extremes(no_below=2, no_above=1.0)\n",
    "energy_efficiency_encoded_docs = energy_efficiency_docs.apply(energy_efficiency_dictionary.doc2bow)"
   ]
  },
  {
   "cell_type": "code",
   "execution_count": null,
   "metadata": {
    "colab": {
     "base_uri": "https://localhost:8080/"
    },
    "id": "8uqchcdJSqvH",
    "outputId": "4ca13ae4-1e82-443a-96dd-8cfcaa2a2c21"
   },
   "outputs": [],
   "source": [
    "energy_efficiency_models = []\n",
    "for topics_number in tqdm(range(3, 13)):\n",
    "    lda = LdaMulticore(energy_efficiency_encoded_docs, num_topics=topics_number, passes=8, iterations=100, random_state=123)\n",
    "    energy_efficiency_models.append(lda)"
   ]
  },
  {
   "cell_type": "code",
   "execution_count": null,
   "metadata": {
    "colab": {
     "base_uri": "https://localhost:8080/"
    },
    "id": "0tYycGHSSqvJ",
    "outputId": "ca11276f-bba1-4ba8-ad56-2196d1100838"
   },
   "outputs": [],
   "source": [
    "energy_efficiency_cvs = []\n",
    "for model in tqdm(energy_efficiency_models):\n",
    "    cm = CoherenceModel(model,texts=energy_efficiency_docs, dictionary=energy_efficiency_dictionary)\n",
    "    c_v = cm.get_coherence()\n",
    "    energy_efficiency_cvs.append(c_v)"
   ]
  },
  {
   "cell_type": "code",
   "execution_count": null,
   "metadata": {
    "colab": {
     "base_uri": "https://localhost:8080/",
     "height": 542
    },
    "id": "nlCOwjKvSqvK",
    "outputId": "be008910-2937-45b4-da91-c72d3a7ad0ce"
   },
   "outputs": [],
   "source": [
    "px.line(x=range(3, 13), y=energy_efficiency_cvs)"
   ]
  },
  {
   "cell_type": "code",
   "execution_count": null,
   "metadata": {
    "colab": {
     "base_uri": "https://localhost:8080/",
     "height": 1000
    },
    "id": "RBcbGEWWSqvL",
    "outputId": "a6a02ba2-93d0-4554-8126-fd1ea477facf"
   },
   "outputs": [],
   "source": [
    "vis = pyLDAvis.gensim_models.prepare(energy_efficiency_models[8], energy_efficiency_encoded_docs, dictionary=energy_efficiency_dictionary)\n",
    "vis"
   ]
  },
  {
   "cell_type": "code",
   "execution_count": null,
   "metadata": {
    "colab": {
     "base_uri": "https://localhost:8080/"
    },
    "id": "8eV1h3zbSqvL",
    "outputId": "4071a4e2-f610-499d-e3e7-80b5e20645c4"
   },
   "outputs": [],
   "source": [
    "for idx, topic in energy_efficiency_models[8].show_topics(formatted=False, num_words=15, num_topics=11):\n",
    "    print('Topic: {} \\nWords: {}'.format(idx, [energy_efficiency_dictionary[int(w[0])] for w in topic]))"
   ]
  },
  {
   "cell_type": "markdown",
   "metadata": {
    "id": "JUL-NFkFSqvM"
   },
   "source": [
    "- Topic 0: final, final_consumption, primary, saving\n",
    "- Topic 1: Directive, saving, renovation, strategy, long\n",
    "- Topic 2: PPM, PPM scenario, power generation, scenario, final consumption\n",
    "- Topic 3: heating, heat, potential, final, requirement\n",
    "- Topic 4: public, saving, final -- do wyrzucenia (0% tokenów)\n",
    "- Topic 5: ktoe (kilotonne of oil equivalent), scenario, fuel, baseline\n",
    "- Topic 6: K, W, maximum, EEOS (Energy Efficiency Obligation Scheme)\n",
    "- Topic 7: TWh, coal, gas, oil, Consommation\n",
    "- Topic 8: public, implementation, system, instrument\n",
    "- Topic 9: public, vehicle, autonomous, autonomous community\n",
    "- Topic 10: renovation, support, work, founding\n",
    "\n"
   ]
  },
  {
   "cell_type": "code",
   "execution_count": null,
   "metadata": {
    "colab": {
     "base_uri": "https://localhost:8080/",
     "height": 1000
    },
    "id": "g2OW4BqL3Sip",
    "outputId": "fdb47ec4-3332-4aa1-eae1-935cfa03df7c"
   },
   "outputs": [],
   "source": [
    "from matplotlib import colors\n",
    "topics = energy_efficiency_models[8].show_topics(formatted=False, num_topics=11)\n",
    "counter = Counter(energy_efficiency_docs.sum())\n",
    "\n",
    "out = []\n",
    "for i, topic in topics:\n",
    "    for word, weight in topic:\n",
    "        word = energy_efficiency_dictionary[int(word)]\n",
    "        out.append([word, i , weight, counter[word]])\n",
    "\n",
    "df = pd.DataFrame(out, columns=['word', 'topic_id', 'importance', 'word_count'])        \n",
    "\n",
    "fig, axes = plt.subplots(5, 2, figsize=(14, 20), sharey=True)\n",
    "cols = [color for name, color in colors.TABLEAU_COLORS.items()]\n",
    "cols.append(cols[4])\n",
    "\n",
    "for i, ax in enumerate(axes.flatten()):\n",
    "    if i>=4:\n",
    "      i+=1\n",
    "    ax.bar(x='word', height=\"word_count\", data=df.loc[df.topic_id==i, :], color=cols[i], width=0.5, alpha=0.3, label='Word Count')\n",
    "    ax_twin = ax.twinx()\n",
    "    ax_twin.bar(x='word', height=\"importance\", data=df.loc[df.topic_id==i, :], color=cols[i], width=0.2, label='Weights')\n",
    "    ax.set_ylabel('Word Count', color=cols[i])\n",
    "    ax_twin.set_ylim(0, 0.045);\n",
    "    ax.set_ylim(0, 2500)\n",
    "    ax.set_title('Topic: ' + str(i), color=cols[i], fontsize=12)\n",
    "    ax.tick_params(axis='y', left=False)\n",
    "    ax.set_xticklabels(df.loc[df.topic_id==i, 'word'], rotation=30, horizontalalignment= 'right')\n",
    "    ax.legend(loc='upper left'); ax_twin.legend(loc='upper right')\n",
    "    ax.grid(False)\n",
    "    ax_twin.grid(False)\n",
    "fig.suptitle('Topics for dimension: Energy efficiency', fontsize=16)    \n",
    "fig.tight_layout()    \n",
    "plt.show()"
   ]
  },
  {
   "cell_type": "code",
   "execution_count": null,
   "metadata": {
    "id": "F-BzgyK7SqvN"
   },
   "outputs": [],
   "source": [
    "energy_efficiency_corpus_model = energy_efficiency_models[8][energy_efficiency_encoded_docs]"
   ]
  },
  {
   "cell_type": "code",
   "execution_count": null,
   "metadata": {
    "id": "9qy_HSfmSqvO"
   },
   "outputs": [],
   "source": [
    "energy_efficiency_metainfo = necp_processed[(necp_processed['energy_union_dimension'] == \"Energy efficiency\")]\n",
    "res_len = len(energy_efficiency_metainfo)\n",
    "res = np.zeros((res_len, 11))"
   ]
  },
  {
   "cell_type": "code",
   "execution_count": null,
   "metadata": {
    "id": "ORNUya06SqvO"
   },
   "outputs": [],
   "source": [
    "for i, doc in enumerate(energy_efficiency_corpus_model):\n",
    "  for topic in doc:\n",
    "    res[i][topic[0]] = np.round(topic[1], 4)"
   ]
  },
  {
   "cell_type": "code",
   "execution_count": null,
   "metadata": {
    "id": "dJkWVXsxSqvP"
   },
   "outputs": [],
   "source": [
    "energy_efficiency_modeling_results = pd.concat([energy_efficiency_metainfo.reset_index(drop=True), pd.DataFrame(res)], axis=1)\n",
    "energy_efficiency_topic_probs = energy_efficiency_modeling_results.groupby(\"country\").mean().loc[:,[0, 1, 2, 4, 5, 6, 7, 8, 9, 10]]"
   ]
  },
  {
   "cell_type": "code",
   "execution_count": null,
   "metadata": {
    "colab": {
     "base_uri": "https://localhost:8080/",
     "height": 928
    },
    "id": "fhJIN8UFSqvP",
    "outputId": "4fe65557-4232-4238-fb33-6ed26e1ad9ae"
   },
   "outputs": [],
   "source": [
    "energy_efficiency_topic_probs"
   ]
  },
  {
   "cell_type": "code",
   "execution_count": null,
   "metadata": {
    "id": "-p2btx8uSqvQ"
   },
   "outputs": [],
   "source": [
    "import scipy.spatial as sp\n",
    "import scipy.cluster.hierarchy as hc\n",
    "linkage = hc.linkage(energy_efficiency_topic_probs, method='average', metric='cosine')\n",
    "energy_efficiency_similarities = sp.distance.squareform(sp.distance.pdist(energy_efficiency_topic_probs.values, metric='cosine'))"
   ]
  },
  {
   "cell_type": "code",
   "execution_count": null,
   "metadata": {
    "colab": {
     "base_uri": "https://localhost:8080/",
     "height": 746
    },
    "id": "GqShhonaSqvQ",
    "outputId": "762c64eb-1f09-4699-f5ea-71902cc66881"
   },
   "outputs": [],
   "source": [
    "plt.figure(figsize=(12, 8))\n",
    "sns.clustermap(1-energy_efficiency_similarities, \n",
    "            xticklabels=energy_efficiency_topic_probs.index, \n",
    "            yticklabels=energy_efficiency_topic_probs.index,\n",
    "             row_linkage=linkage, col_linkage=linkage)\n",
    "plt.show()"
   ]
  },
  {
   "cell_type": "code",
   "execution_count": null,
   "metadata": {
    "id": "DOqWmTPrSqvR"
   },
   "outputs": [],
   "source": [
    "energy_efficiency_comparison = energy_efficiency_modeling_results.groupby([\"country\", \"subsection\"]).mean().loc[:,0:10]"
   ]
  },
  {
   "cell_type": "code",
   "execution_count": null,
   "metadata": {
    "id": "Zr3phT8PSqvR"
   },
   "outputs": [],
   "source": [
    "countries = energy_efficiency_modeling_results.country.unique()\n",
    "sections = [\"Policies and Measures\", \"National Objectives and Targets\"]"
   ]
  },
  {
   "cell_type": "code",
   "execution_count": null,
   "metadata": {
    "colab": {
     "base_uri": "https://localhost:8080/",
     "height": 896
    },
    "id": "oLM0CTj8SqvS",
    "outputId": "575bf975-4e94-431e-e185-1b3153c908dd"
   },
   "outputs": [],
   "source": [
    "energy_efficiency_change = {\"country\": [], \"similarity\": []}\n",
    "for country in countries:\n",
    "  pm = energy_efficiency_modeling_results.loc[(energy_efficiency_modeling_results[\"country\"] == country) &\n",
    "                                        (energy_efficiency_modeling_results[\"subsection\"] == sections[0])].loc[:,0:10]\n",
    "  noat = energy_efficiency_modeling_results.loc[(energy_efficiency_modeling_results[\"country\"] == country) & \n",
    "                                        (energy_efficiency_modeling_results[\"subsection\"] == sections[1])].loc[:,0:10]\n",
    "  if pm.shape[0]==1:\n",
    "    energy_efficiency_change[\"country\"].append(country) \n",
    "    energy_efficiency_change[\"similarity\"].append(1-sp.distance.cosine(pm, noat))\n",
    "pd.DataFrame(energy_efficiency_change)"
   ]
  },
  {
   "cell_type": "markdown",
   "metadata": {
    "id": "MzddBQwzWRBl"
   },
   "source": [
    "### **Dimension**: Energy security"
   ]
  },
  {
   "cell_type": "code",
   "execution_count": null,
   "metadata": {
    "colab": {
     "base_uri": "https://localhost:8080/",
     "height": 757
    },
    "id": "g9Xk5NofY3jV",
    "outputId": "003dd28f-08b1-4763-81ed-d5b1d1566aff"
   },
   "outputs": [],
   "source": [
    "energy_security_docs = necp_processed[(necp_processed['energy_union_dimension'] == \"Energy security\")][\"necp_lemmas\"]\n",
    "energy_security_counter = Counter(energy_security_docs.sum()).most_common(30)\n",
    "plot_counter(energy_security_counter)\n",
    "plt.show()"
   ]
  },
  {
   "cell_type": "code",
   "execution_count": null,
   "metadata": {
    "id": "LE2sJ7EQY3jX"
   },
   "outputs": [],
   "source": [
    "energy_security_docs = energy_security_docs.apply(lambda doc: [lemma for lemma in doc if not (lemma in ['gas', 'supply', 'electricity', 'system', 'security'])])"
   ]
  },
  {
   "cell_type": "code",
   "execution_count": null,
   "metadata": {
    "id": "aG04QP55Y3jX"
   },
   "outputs": [],
   "source": [
    "energy_security_dictionary = Dictionary(energy_security_docs)\n",
    "energy_security_dictionary.filter_extremes(no_below=2, no_above=1.0)\n",
    "energy_security_encoded_docs = energy_security_docs.apply(energy_security_dictionary.doc2bow)"
   ]
  },
  {
   "cell_type": "code",
   "execution_count": null,
   "metadata": {
    "colab": {
     "base_uri": "https://localhost:8080/"
    },
    "id": "vgoau-UhY3jY",
    "outputId": "3c9159d3-a675-432d-cabd-80c7488589fb"
   },
   "outputs": [],
   "source": [
    "energy_security_models = []\n",
    "for topics_number in tqdm(range(3, 13)):\n",
    "    lda = LdaMulticore(energy_security_encoded_docs, num_topics=topics_number, passes=8, iterations=100, random_state=123)\n",
    "    energy_security_models.append(lda)"
   ]
  },
  {
   "cell_type": "code",
   "execution_count": null,
   "metadata": {
    "colab": {
     "base_uri": "https://localhost:8080/"
    },
    "id": "DZoUFUk9Y3jY",
    "outputId": "54932fe8-ec92-493d-a858-27d839808f35"
   },
   "outputs": [],
   "source": [
    "energy_security_cvs = []\n",
    "for model in tqdm(energy_security_models):\n",
    "    cm = CoherenceModel(model,texts=energy_security_docs, dictionary=energy_security_dictionary)\n",
    "    c_v = cm.get_coherence()\n",
    "    energy_security_cvs.append(c_v)"
   ]
  },
  {
   "cell_type": "code",
   "execution_count": null,
   "metadata": {
    "colab": {
     "base_uri": "https://localhost:8080/",
     "height": 542
    },
    "id": "2-1p1CvXY3jZ",
    "outputId": "22b60521-97a2-4179-a857-b4313bf78ea9"
   },
   "outputs": [],
   "source": [
    "px.line(x=range(3, 13), y=energy_security_cvs)"
   ]
  },
  {
   "cell_type": "code",
   "execution_count": null,
   "metadata": {
    "colab": {
     "base_uri": "https://localhost:8080/",
     "height": 932
    },
    "id": "adpseXXBY3ja",
    "outputId": "21b1952a-f983-4845-f6b5-1b842dccfc6d"
   },
   "outputs": [],
   "source": [
    "vis = pyLDAvis.gensim_models.prepare(energy_security_models[7], energy_security_encoded_docs, dictionary=energy_security_dictionary)\n",
    "vis"
   ]
  },
  {
   "cell_type": "code",
   "execution_count": null,
   "metadata": {
    "colab": {
     "base_uri": "https://localhost:8080/"
    },
    "id": "Fs18OWxIY3jb",
    "outputId": "d8793aea-64e8-479b-fe3c-1f2d3f412b63"
   },
   "outputs": [],
   "source": [
    "for idx, topic in energy_security_models[7].show_topics(formatted=False, num_words=15):\n",
    "    print('Topic: {} \\nWords: {}'.format(idx, [energy_security_dictionary[int(w[0])] for w in topic]))"
   ]
  },
  {
   "cell_type": "markdown",
   "metadata": {
    "id": "EnycXoqlY3jc"
   },
   "source": [
    "- Topic 0: wood, forest, crop, power, natural, natural gas, nuclear, demand\n",
    "- Topic 1: Gas, source, import -- do wyrzucenia (0% tokenów)\n",
    "- Topic 2: natural_gas, natural, field, oil\n",
    "- Topic 3: fuel, import, production, share\n",
    "- Topic 4: increase, renewable, oil, demand\n",
    "- Topic 5: storage, capacity, emergency\n",
    "- Topic 6: increase, oil, heating, Agreement\n",
    "- Topic 7: import, natural, renewable, consumption\n",
    "- Topic 8: risk, ensure, regional\n",
    "- Topic 9: Act, Regulation, Security Act\n",
    "\n"
   ]
  },
  {
   "cell_type": "code",
   "execution_count": null,
   "metadata": {
    "colab": {
     "base_uri": "https://localhost:8080/",
     "height": 936
    },
    "id": "hR_Redc42eh4",
    "outputId": "0c9e1193-fdd6-4fe4-a527-950d7f747c87"
   },
   "outputs": [],
   "source": [
    "from matplotlib import colors\n",
    "topics = energy_security_models[7].show_topics(formatted=False)\n",
    "counter = Counter(energy_security_docs.sum())\n",
    "\n",
    "out = []\n",
    "for i, topic in topics:\n",
    "    for word, weight in topic:\n",
    "        word = energy_security_dictionary[int(word)]\n",
    "        out.append([word, i , weight, counter[word]])\n",
    "\n",
    "df = pd.DataFrame(out, columns=['word', 'topic_id', 'importance', 'word_count'])        \n",
    "\n",
    "fig, axes = plt.subplots(3, 3, figsize=(21,12), sharey=True)\n",
    "cols = [color for name, color in colors.TABLEAU_COLORS.items()]\n",
    "for i, ax in enumerate(axes.flatten()):\n",
    "    if i>=1:\n",
    "      i+=1\n",
    "    ax.bar(x='word', height=\"word_count\", data=df.loc[df.topic_id==i, :], color=cols[i], width=0.5, alpha=0.3, label='Word Count')\n",
    "    ax_twin = ax.twinx()\n",
    "    ax_twin.bar(x='word', height=\"importance\", data=df.loc[df.topic_id==i, :], color=cols[i], width=0.2, label='Weights')\n",
    "    ax.set_ylabel('Word Count', color=cols[i])\n",
    "    ax_twin.set_ylim(0, 0.025);\n",
    "    ax.set_ylim(0, 2500)\n",
    "    ax.set_title('Topic: ' + str(i), color=cols[i], fontsize=12)\n",
    "    ax.tick_params(axis='y', left=False)\n",
    "    ax.set_xticklabels(df.loc[df.topic_id==i, 'word'], rotation=30, horizontalalignment= 'right')\n",
    "    ax.legend(loc='upper left'); ax_twin.legend(loc='upper right')\n",
    "    ax.grid(False)\n",
    "    ax_twin.grid(False)\n",
    "fig.suptitle('Topics for dimension: Energy Security', fontsize=16)    \n",
    "fig.tight_layout()    \n",
    "plt.show()"
   ]
  },
  {
   "cell_type": "code",
   "execution_count": null,
   "metadata": {
    "id": "jIBxG8DzY3jc"
   },
   "outputs": [],
   "source": [
    "energy_security_corpus_model = energy_security_models[7][energy_security_encoded_docs]"
   ]
  },
  {
   "cell_type": "code",
   "execution_count": null,
   "metadata": {
    "id": "TMqiw2PJY3jd"
   },
   "outputs": [],
   "source": [
    "energy_security_metainfo = necp_processed[(necp_processed['energy_union_dimension'] == \"Energy security\")]\n",
    "res_len = len(energy_security_metainfo)\n",
    "res = np.zeros((res_len, 10))"
   ]
  },
  {
   "cell_type": "code",
   "execution_count": null,
   "metadata": {
    "id": "rRn5rGDsY3jd"
   },
   "outputs": [],
   "source": [
    "for i, doc in enumerate(energy_security_corpus_model):\n",
    "  for topic in doc:\n",
    "    res[i][topic[0]] = np.round(topic[1], 4)"
   ]
  },
  {
   "cell_type": "code",
   "execution_count": null,
   "metadata": {
    "id": "EHQahoF1Y3je"
   },
   "outputs": [],
   "source": [
    "energy_security_modeling_results = pd.concat([energy_security_metainfo.reset_index(drop=True), pd.DataFrame(res)], axis=1)\n",
    "energy_security_topic_probs = energy_security_modeling_results.groupby(\"country\").mean().loc[:,[0, 1, 2, 4, 5, 6, 7, 8, 9]]"
   ]
  },
  {
   "cell_type": "code",
   "execution_count": null,
   "metadata": {
    "colab": {
     "base_uri": "https://localhost:8080/",
     "height": 928
    },
    "id": "8APKjmblY3je",
    "outputId": "377ff2c7-933c-4cd8-f951-d0269511e15c"
   },
   "outputs": [],
   "source": [
    "energy_security_topic_probs"
   ]
  },
  {
   "cell_type": "code",
   "execution_count": null,
   "metadata": {
    "id": "VKf6xb39Y3je"
   },
   "outputs": [],
   "source": [
    "linkage = hc.linkage(energy_security_topic_probs, method='average', metric='cosine')\n",
    "energy_security_similarities = sp.distance.squareform(sp.distance.pdist(energy_security_topic_probs.values, metric='cosine'))"
   ]
  },
  {
   "cell_type": "code",
   "execution_count": null,
   "metadata": {
    "colab": {
     "base_uri": "https://localhost:8080/",
     "height": 746
    },
    "id": "wzlUWX6_Y3jf",
    "outputId": "fcfe3ed2-da75-43d5-d23e-96109ef05ec9"
   },
   "outputs": [],
   "source": [
    "plt.figure(figsize=(12, 8))\n",
    "sns.clustermap(1-energy_security_similarities, \n",
    "            xticklabels=energy_security_topic_probs.index, \n",
    "            yticklabels=energy_security_topic_probs.index,\n",
    "             row_linkage=linkage, col_linkage=linkage)\n",
    "plt.show()"
   ]
  },
  {
   "cell_type": "code",
   "execution_count": null,
   "metadata": {
    "id": "UmHlIjDDY3jf"
   },
   "outputs": [],
   "source": [
    "energy_security_comparison = energy_security_modeling_results.groupby([\"country\", \"subsection\"]).mean().loc[:,0:9]"
   ]
  },
  {
   "cell_type": "code",
   "execution_count": null,
   "metadata": {
    "id": "ni3FjOwJY3jf"
   },
   "outputs": [],
   "source": [
    "countries = energy_security_modeling_results.country.unique()\n",
    "sections = [\"Policies and Measures\", \"National Objectives and Targets\"]"
   ]
  },
  {
   "cell_type": "code",
   "execution_count": null,
   "metadata": {
    "colab": {
     "base_uri": "https://localhost:8080/",
     "height": 896
    },
    "id": "jx18M0NBY3jg",
    "outputId": "37b62697-5524-4631-c92e-6febf33e1529"
   },
   "outputs": [],
   "source": [
    "energy_security_change = {\"country\": [], \"similarity\": []}\n",
    "for country in countries:\n",
    "  pm = energy_security_modeling_results.loc[(energy_security_modeling_results[\"country\"] == country) &\n",
    "                                        (energy_security_modeling_results[\"subsection\"] == sections[0])].loc[:,0:9]\n",
    "  noat = energy_security_modeling_results.loc[(energy_security_modeling_results[\"country\"] == country) & \n",
    "                                        (energy_security_modeling_results[\"subsection\"] == sections[1])].loc[:,0:9]\n",
    "  if pm.shape[0]==1:\n",
    "    energy_security_change[\"country\"].append(country) \n",
    "    energy_security_change[\"similarity\"].append(1-sp.distance.cosine(pm, noat))\n",
    "pd.DataFrame(energy_security_change)"
   ]
  },
  {
   "cell_type": "markdown",
   "metadata": {
    "id": "Zz5pPfW-YwMS"
   },
   "source": [
    "### **Dimension**: Internal market"
   ]
  },
  {
   "cell_type": "code",
   "execution_count": null,
   "metadata": {
    "colab": {
     "base_uri": "https://localhost:8080/",
     "height": 757
    },
    "id": "pG_jscIya1LD",
    "outputId": "2669f616-7514-4ca7-db20-4cd2898182e6"
   },
   "outputs": [],
   "source": [
    "internal_market_docs = necp_processed[(necp_processed['energy_union_dimension'] == \"Internal market\")][\"necp_lemmas\"]\n",
    "internal_market_counter = Counter(internal_market_docs.sum()).most_common(30)\n",
    "plot_counter(internal_market_counter)\n",
    "plt.show()"
   ]
  },
  {
   "cell_type": "code",
   "execution_count": null,
   "metadata": {
    "id": "Q9Bp2bL8a1LG"
   },
   "outputs": [],
   "source": [
    "internal_market_docs = internal_market_docs.apply(lambda doc: [lemma for lemma in doc if not (lemma in ['electricity', 'market', 'gas', 'system'])])"
   ]
  },
  {
   "cell_type": "code",
   "execution_count": null,
   "metadata": {
    "id": "gdg5z4YPa1LG"
   },
   "outputs": [],
   "source": [
    "internal_market_dictionary = Dictionary(internal_market_docs)\n",
    "internal_market_dictionary.filter_extremes(no_below=2, no_above=1.0)\n",
    "internal_market_encoded_docs = internal_market_docs.apply(internal_market_dictionary.doc2bow)"
   ]
  },
  {
   "cell_type": "code",
   "execution_count": null,
   "metadata": {
    "colab": {
     "base_uri": "https://localhost:8080/"
    },
    "id": "7Gjy9OJBa1LI",
    "outputId": "593aa54e-0d60-479d-b5af-187baae42886"
   },
   "outputs": [],
   "source": [
    "internal_market_models = []\n",
    "for topics_number in tqdm(range(3, 13)):\n",
    "    lda = LdaMulticore(internal_market_encoded_docs, num_topics=topics_number, passes=8, iterations=100, random_state=123)\n",
    "    internal_market_models.append(lda)"
   ]
  },
  {
   "cell_type": "code",
   "execution_count": null,
   "metadata": {
    "colab": {
     "base_uri": "https://localhost:8080/"
    },
    "id": "VyVNsfn1a1LJ",
    "outputId": "f5049332-41cb-4b72-b746-2a8db9175e7b"
   },
   "outputs": [],
   "source": [
    "internal_market_cvs = []\n",
    "for model in tqdm(internal_market_models):\n",
    "    cm = CoherenceModel(model,texts=internal_market_docs, dictionary=internal_market_dictionary)\n",
    "    c_v = cm.get_coherence()\n",
    "    internal_market_cvs.append(c_v)"
   ]
  },
  {
   "cell_type": "code",
   "execution_count": null,
   "metadata": {
    "colab": {
     "base_uri": "https://localhost:8080/",
     "height": 542
    },
    "id": "71o1ufTRa1LK",
    "outputId": "4eccb8b9-f050-459c-cfe3-f17294350067"
   },
   "outputs": [],
   "source": [
    "px.line(x=range(3, 13), y=internal_market_cvs)"
   ]
  },
  {
   "cell_type": "code",
   "execution_count": null,
   "metadata": {
    "colab": {
     "base_uri": "https://localhost:8080/",
     "height": 932
    },
    "id": "ydz_0tvta1LL",
    "outputId": "71893e7b-1737-46e5-a1e9-b3170b6f54c5"
   },
   "outputs": [],
   "source": [
    "vis = pyLDAvis.gensim_models.prepare(internal_market_models[2], internal_market_encoded_docs, dictionary=internal_market_dictionary)\n",
    "vis"
   ]
  },
  {
   "cell_type": "code",
   "execution_count": null,
   "metadata": {
    "colab": {
     "base_uri": "https://localhost:8080/"
    },
    "id": "NcVi9GRNa1LL",
    "outputId": "d18837c1-4a2b-433a-e458-56efb48aa058"
   },
   "outputs": [],
   "source": [
    "for idx, topic in internal_market_models[2].show_topics(formatted=False, num_words=15):\n",
    "    print('Topic: {} \\nWords: {}'.format(idx, [internal_market_dictionary[int(w[0])] for w in topic]))"
   ]
  },
  {
   "cell_type": "markdown",
   "metadata": {
    "id": "Wdg0LUM4a1LM"
   },
   "source": [
    "- Topic 0: Act, grid, grid_expansion, Network Agency\n",
    "- Topic 1: development, new, renewable\n",
    "- Topic 2: band, consumption_band -- do wyrzucenia (0% tokenów)\n",
    "- Topic 3: transmission, network, interconnection\n",
    "- Topic 4: neutral, neutral gas, emission\n",
    "\n"
   ]
  },
  {
   "cell_type": "code",
   "execution_count": null,
   "metadata": {
    "colab": {
     "base_uri": "https://localhost:8080/",
     "height": 653
    },
    "id": "2ZTrCkMQysFq",
    "outputId": "c22b6d9a-801f-499e-a514-166b09357232"
   },
   "outputs": [],
   "source": [
    "from matplotlib import colors\n",
    "topics = internal_market_models[2].show_topics(formatted=False)\n",
    "counter = Counter(internal_market_docs.sum())\n",
    "\n",
    "out = []\n",
    "for i, topic in topics:\n",
    "    for word, weight in topic:\n",
    "        word = internal_market_dictionary[int(word)]\n",
    "        out.append([word, i , weight, counter[word]])\n",
    "\n",
    "df = pd.DataFrame(out, columns=['word', 'topic_id', 'importance', 'word_count'])        \n",
    "\n",
    "fig, axes = plt.subplots(2, 2, figsize=(14,8), sharey=True)\n",
    "cols = [color for name, color in colors.TABLEAU_COLORS.items()]\n",
    "for i, ax in enumerate(axes.flatten()):\n",
    "    if i>=2:\n",
    "      i+=1\n",
    "    ax.bar(x='word', height=\"word_count\", data=df.loc[df.topic_id==i, :], color=cols[i], width=0.5, alpha=0.3, label='Word Count')\n",
    "    ax_twin = ax.twinx()\n",
    "    ax_twin.bar(x='word', height=\"importance\", data=df.loc[df.topic_id==i, :], color=cols[i], width=0.2, label='Weights')\n",
    "    ax.set_ylabel('Word Count', color=cols[i])\n",
    "    ax_twin.set_ylim(0, 0.02);\n",
    "    ax.set_ylim(0, 2500)\n",
    "    ax.set_title('Topic: ' + str(i), color=cols[i], fontsize=12)\n",
    "    ax.tick_params(axis='y', left=False)\n",
    "    ax.set_xticklabels(df.loc[df.topic_id==i, 'word'], rotation=30, horizontalalignment= 'right')\n",
    "    ax.legend(loc='upper left'); ax_twin.legend(loc='upper right')\n",
    "    ax.grid(False)\n",
    "    ax_twin.grid(False)\n",
    "fig.suptitle('Topics for dimension: Internal market', fontsize=16)    \n",
    "fig.tight_layout()    \n",
    "plt.show()"
   ]
  },
  {
   "cell_type": "code",
   "execution_count": null,
   "metadata": {
    "id": "VDFdlCrCa1LN"
   },
   "outputs": [],
   "source": [
    "internal_market_corpus_model = internal_market_models[2][internal_market_encoded_docs]"
   ]
  },
  {
   "cell_type": "code",
   "execution_count": null,
   "metadata": {
    "id": "voDJz-xCa1LO"
   },
   "outputs": [],
   "source": [
    "internal_market_metainfo = necp_processed[(necp_processed['energy_union_dimension'] == \"Internal market\")]\n",
    "res_len = len(internal_market_metainfo)\n",
    "res = np.zeros((res_len, 5))"
   ]
  },
  {
   "cell_type": "code",
   "execution_count": null,
   "metadata": {
    "id": "Vvwsv8LEa1LP"
   },
   "outputs": [],
   "source": [
    "for i, doc in enumerate(internal_market_corpus_model):\n",
    "  for topic in doc:\n",
    "    res[i][topic[0]] = np.round(topic[1], 4)"
   ]
  },
  {
   "cell_type": "code",
   "execution_count": null,
   "metadata": {
    "id": "rgNyJG2Qa1LQ"
   },
   "outputs": [],
   "source": [
    "internal_market_modeling_results = pd.concat([internal_market_metainfo.reset_index(drop=True), pd.DataFrame(res)], axis=1)\n",
    "internal_market_topic_probs = internal_market_modeling_results.groupby(\"country\").mean().loc[:,[0, 1, 2, 4]]"
   ]
  },
  {
   "cell_type": "code",
   "execution_count": null,
   "metadata": {
    "colab": {
     "base_uri": "https://localhost:8080/",
     "height": 928
    },
    "id": "DD-wPVj0a1LQ",
    "outputId": "3f959dd8-47c0-4eae-df58-e5cccf56e3cc"
   },
   "outputs": [],
   "source": [
    "internal_market_topic_probs"
   ]
  },
  {
   "cell_type": "code",
   "execution_count": null,
   "metadata": {
    "id": "lJXhootRa1LR"
   },
   "outputs": [],
   "source": [
    "linkage = hc.linkage(internal_market_topic_probs, method='average', metric='cosine')\n",
    "internal_market_similarities = sp.distance.squareform(sp.distance.pdist(internal_market_topic_probs.values, metric='cosine'))"
   ]
  },
  {
   "cell_type": "code",
   "execution_count": null,
   "metadata": {
    "colab": {
     "base_uri": "https://localhost:8080/",
     "height": 746
    },
    "id": "IARkXe6aa1LR",
    "outputId": "fcf2529d-2fbf-47c7-8a2e-b29b4c39bffa"
   },
   "outputs": [],
   "source": [
    "plt.figure(figsize=(12, 8))\n",
    "sns.clustermap(1-internal_market_similarities, \n",
    "            xticklabels=internal_market_topic_probs.index, \n",
    "            yticklabels=internal_market_topic_probs.index,\n",
    "             row_linkage=linkage, col_linkage=linkage)\n",
    "plt.show()"
   ]
  },
  {
   "cell_type": "code",
   "execution_count": null,
   "metadata": {
    "id": "T_HXrWhsa1LR"
   },
   "outputs": [],
   "source": [
    "internal_market_comparison = internal_market_modeling_results.groupby([\"country\", \"subsection\"]).mean().loc[:,0:4]"
   ]
  },
  {
   "cell_type": "code",
   "execution_count": null,
   "metadata": {
    "id": "LWWmYmF8a1LS"
   },
   "outputs": [],
   "source": [
    "countries = internal_market_modeling_results.country.unique()\n",
    "sections = [\"Policies and Measures\", \"National Objectives and Targets\"]"
   ]
  },
  {
   "cell_type": "code",
   "execution_count": null,
   "metadata": {
    "colab": {
     "base_uri": "https://localhost:8080/",
     "height": 896
    },
    "id": "gCweBV-ka1LS",
    "outputId": "471b5f46-e8e3-421b-9a5f-178d7b1ecaf1"
   },
   "outputs": [],
   "source": [
    "internal_market_change = {\"country\": [], \"similarity\": []}\n",
    "for country in countries:\n",
    "  pm = internal_market_modeling_results.loc[(internal_market_modeling_results[\"country\"] == country) &\n",
    "                                        (internal_market_modeling_results[\"subsection\"] == sections[0])].loc[:,0:4]\n",
    "  noat = internal_market_modeling_results.loc[(internal_market_modeling_results[\"country\"] == country) & \n",
    "                                        (internal_market_modeling_results[\"subsection\"] == sections[1])].loc[:,0:4]\n",
    "  if pm.shape[0]==1:\n",
    "    internal_market_change[\"country\"].append(country) \n",
    "    internal_market_change[\"similarity\"].append(1-sp.distance.cosine(pm, noat))\n",
    "pd.DataFrame(internal_market_change)"
   ]
  },
  {
   "cell_type": "markdown",
   "metadata": {
    "id": "GgGX1MqAk6ex"
   },
   "source": [
    "### **Dimension:** R&I and Competitiveness"
   ]
  },
  {
   "cell_type": "code",
   "execution_count": null,
   "metadata": {
    "colab": {
     "base_uri": "https://localhost:8080/",
     "height": 757
    },
    "id": "xP5ypWBak6ey",
    "outputId": "0719b7a3-b0c8-4c35-b212-3c251ba9d0ea"
   },
   "outputs": [],
   "source": [
    "research_docs = necp_processed[(necp_processed['energy_union_dimension'] == \"R&I and Competitiveness\")][\"necp_lemmas\"]\n",
    "research_counter = Counter(research_docs.sum()).most_common(30)\n",
    "plot_counter(research_counter)\n",
    "plt.show()"
   ]
  },
  {
   "cell_type": "code",
   "execution_count": null,
   "metadata": {
    "id": "F8DkZDhjk6ez"
   },
   "outputs": [],
   "source": [
    "research_docs = research_docs.apply(lambda doc: [lemma for lemma in doc if not (lemma in ['research'])])"
   ]
  },
  {
   "cell_type": "code",
   "execution_count": null,
   "metadata": {
    "id": "NGbfYITck6e0"
   },
   "outputs": [],
   "source": [
    "research_dictionary = Dictionary(research_docs)\n",
    "research_dictionary.filter_extremes(no_below=2, no_above=1.0)\n",
    "research_encoded_docs = research_docs.apply(research_dictionary.doc2bow)"
   ]
  },
  {
   "cell_type": "code",
   "execution_count": null,
   "metadata": {
    "colab": {
     "base_uri": "https://localhost:8080/"
    },
    "id": "D7kY5a-9k6e1",
    "outputId": "6f1a3e8f-fe65-42bd-855f-33a3b794b35d"
   },
   "outputs": [],
   "source": [
    "research_models = []\n",
    "for topics_number in tqdm(range(3, 13)):\n",
    "    lda = LdaMulticore(research_encoded_docs, num_topics=topics_number, passes=10, iterations=80, random_state=42)\n",
    "    research_models.append(lda)"
   ]
  },
  {
   "cell_type": "code",
   "execution_count": null,
   "metadata": {
    "colab": {
     "base_uri": "https://localhost:8080/"
    },
    "id": "LNsP1Odzk6e2",
    "outputId": "ba7ef83b-8a7d-4d2b-b5af-ca81341d39d1"
   },
   "outputs": [],
   "source": [
    "research_cvs = []\n",
    "for model in tqdm(research_models):\n",
    "    cm = CoherenceModel(model,texts=research_docs, dictionary=research_dictionary)\n",
    "    c_v = cm.get_coherence()\n",
    "    research_cvs.append(c_v)"
   ]
  },
  {
   "cell_type": "code",
   "execution_count": null,
   "metadata": {
    "colab": {
     "base_uri": "https://localhost:8080/",
     "height": 542
    },
    "id": "-7tY1K5xk6e4",
    "outputId": "2c5d6002-efbf-47b8-ff6a-d622e2c47ad2"
   },
   "outputs": [],
   "source": [
    "px.line(x=range(3, 13), y=research_cvs)"
   ]
  },
  {
   "cell_type": "code",
   "execution_count": null,
   "metadata": {
    "colab": {
     "base_uri": "https://localhost:8080/",
     "height": 929
    },
    "id": "lhV9_yG_k6e5",
    "outputId": "6486edf1-e5ae-4f9f-ae3f-8370e1c187be"
   },
   "outputs": [],
   "source": [
    "vis = pyLDAvis.gensim_models.prepare(research_models[1], research_encoded_docs, dictionary=research_dictionary)\n",
    "vis"
   ]
  },
  {
   "cell_type": "code",
   "execution_count": null,
   "metadata": {
    "colab": {
     "base_uri": "https://localhost:8080/"
    },
    "id": "vZwgsC-dSs2O",
    "outputId": "630d8905-b56b-4beb-e6ee-ca661df0d21d"
   },
   "outputs": [],
   "source": [
    "for idx, topic in research_models[1].show_topics(formatted=False, num_words=15):\n",
    "    print('Topic: {} \\nWords: {}'.format(idx, [research_dictionary[int(w[0])] for w in topic]))"
   ]
  },
  {
   "cell_type": "markdown",
   "metadata": {
    "id": "7DSyMrhASs2b"
   },
   "source": [
    "- Topic 0: price, electricity, gas, fuel, source, tax, subsidy, expenditure, household \n",
    "- Topic 1: innovation, technology, power, nuclear power, water, renewable, emission\n",
    "- Topic 2: research innovation, technology, development, programme, cooperation, project, competitiveness\n",
    "- Topic 3: duty, Act, excise, law, charge"
   ]
  },
  {
   "cell_type": "code",
   "execution_count": null,
   "metadata": {
    "colab": {
     "base_uri": "https://localhost:8080/",
     "height": 650
    },
    "id": "AzuyvxA7qw1a",
    "outputId": "0814646d-8dba-409e-c508-ba9b52be078c"
   },
   "outputs": [],
   "source": [
    "from matplotlib import colors\n",
    "topics = research_models[1].show_topics(formatted=False)\n",
    "counter = Counter(research_docs.sum())\n",
    "\n",
    "out = []\n",
    "for i, topic in topics:\n",
    "    for word, weight in topic:\n",
    "        word = research_dictionary[int(word)]\n",
    "        out.append([word, i , weight, counter[word]])\n",
    "\n",
    "df = pd.DataFrame(out, columns=['word', 'topic_id', 'importance', 'word_count'])        \n",
    "\n",
    "fig, axes = plt.subplots(2, 2, figsize=(14,8), sharey=True)\n",
    "cols = [color for name, color in colors.TABLEAU_COLORS.items()]\n",
    "for i, ax in enumerate(axes.flatten()):\n",
    "    ax.bar(x='word', height=\"word_count\", data=df.loc[df.topic_id==i, :], color=cols[i], width=0.5, alpha=0.3, label='Word Count')\n",
    "    ax_twin = ax.twinx()\n",
    "    ax_twin.bar(x='word', height=\"importance\", data=df.loc[df.topic_id==i, :], color=cols[i], width=0.2, label='Weights')\n",
    "    ax.set_ylabel('Word Count', color=cols[i])\n",
    "    ax_twin.set_ylim(0, 0.02); ax.set_ylim(0, 2500)\n",
    "    ax.set_title('Topic: ' + str(i), color=cols[i], fontsize=12)\n",
    "    ax.tick_params(axis='y', left=False)\n",
    "    ax.set_xticklabels(df.loc[df.topic_id==i, 'word'], rotation=30, horizontalalignment= 'right')\n",
    "    ax.legend(loc='upper left'); ax_twin.legend(loc='upper right')\n",
    "    ax.grid(False)\n",
    "    ax_twin.grid(False)\n",
    "fig.suptitle('Topics for dimension: R&I and Competitiveness', fontsize=16)    \n",
    "fig.tight_layout()    \n",
    "plt.show()"
   ]
  },
  {
   "cell_type": "code",
   "execution_count": null,
   "metadata": {
    "id": "owjjI7tySs2f"
   },
   "outputs": [],
   "source": [
    "research_corpus_model = research_models[1][research_encoded_docs]"
   ]
  },
  {
   "cell_type": "code",
   "execution_count": null,
   "metadata": {
    "id": "w-SYljwmSs2g"
   },
   "outputs": [],
   "source": [
    "research_metainfo = necp_processed[(necp_processed['energy_union_dimension'] == \"R&I and Competitiveness\")]\n",
    "res_len = len(research_metainfo)\n",
    "res = np.zeros((res_len, 4))"
   ]
  },
  {
   "cell_type": "code",
   "execution_count": null,
   "metadata": {
    "id": "obbZpJQ-Ss2i"
   },
   "outputs": [],
   "source": [
    "for i, doc in enumerate(research_corpus_model):\n",
    "  for topic in doc:\n",
    "    res[i][topic[0]] = np.round(topic[1], 4)"
   ]
  },
  {
   "cell_type": "code",
   "execution_count": null,
   "metadata": {
    "id": "uFpwtBP5Ss2j"
   },
   "outputs": [],
   "source": [
    "research_modeling_results = pd.concat([research_metainfo.reset_index(drop=True), pd.DataFrame(res)], axis=1)\n",
    "research_topic_probs = research_modeling_results.groupby(\"country\").mean().loc[:,[0, 1, 2, 3]]"
   ]
  },
  {
   "cell_type": "code",
   "execution_count": null,
   "metadata": {
    "colab": {
     "base_uri": "https://localhost:8080/",
     "height": 917
    },
    "id": "uAmOED9sSs2j",
    "outputId": "143c3a81-2791-452a-dc04-9f1a1246b258"
   },
   "outputs": [],
   "source": [
    "research_topic_probs"
   ]
  },
  {
   "cell_type": "code",
   "execution_count": null,
   "metadata": {
    "id": "QlLhzoBTSs2k"
   },
   "outputs": [],
   "source": [
    "import scipy.spatial as sp\n",
    "import scipy.cluster.hierarchy as hc\n",
    "linkage = hc.linkage(research_topic_probs, method='average', metric='cosine')\n",
    "research_similarities = sp.distance.squareform(sp.distance.pdist(research_topic_probs.values, metric='cosine'))"
   ]
  },
  {
   "cell_type": "code",
   "execution_count": null,
   "metadata": {
    "colab": {
     "base_uri": "https://localhost:8080/",
     "height": 745
    },
    "id": "PHkFM2WNSs2l",
    "outputId": "28af740f-f966-4cea-a0b7-d8c5bfb8df59"
   },
   "outputs": [],
   "source": [
    "plt.figure(figsize=(12, 8))\n",
    "sns.clustermap(1-research_similarities, \n",
    "            xticklabels=research_topic_probs.index, \n",
    "            yticklabels=research_topic_probs.index,\n",
    "             row_linkage=linkage, col_linkage=linkage)\n",
    "plt.show()"
   ]
  },
  {
   "cell_type": "code",
   "execution_count": null,
   "metadata": {
    "id": "mem3bmMMSs2n"
   },
   "outputs": [],
   "source": [
    "research_comparison = research_modeling_results.groupby([\"country\", \"subsection\"]).mean().loc[:,0:3]"
   ]
  },
  {
   "cell_type": "code",
   "execution_count": null,
   "metadata": {
    "id": "-14Q708CSs2n"
   },
   "outputs": [],
   "source": [
    "countries = research_modeling_results.country.unique()\n",
    "sections = [\"Policies and Measures\", \"National Objectives and Targets\"]"
   ]
  },
  {
   "cell_type": "code",
   "execution_count": null,
   "metadata": {
    "colab": {
     "base_uri": "https://localhost:8080/",
     "height": 886
    },
    "id": "RT1ILLAPSs2o",
    "outputId": "9dc8dfac-2f03-4f98-f2f7-50d5474c4bee"
   },
   "outputs": [],
   "source": [
    "research_change = {\"country\": [], \"similarity\": []}\n",
    "for country in countries:\n",
    "  pm = research_modeling_results.loc[(research_modeling_results[\"country\"] == country) &\n",
    "                                        (research_modeling_results[\"subsection\"] == sections[0])].loc[:,0:3]\n",
    "  noat = research_modeling_results.loc[(research_modeling_results[\"country\"] == country) & \n",
    "                                        (research_modeling_results[\"subsection\"] == sections[1])].loc[:,0:3]\n",
    "  if pm.shape[0]==1:\n",
    "    research_change[\"country\"].append(country) \n",
    "    research_change[\"similarity\"].append(1-sp.distance.cosine(pm, noat))\n",
    "pd.DataFrame(research_change)"
   ]
  },
  {
   "cell_type": "code",
   "execution_count": null,
   "metadata": {
    "id": "QjJb5JOeGaqr"
   },
   "outputs": [],
   "source": []
  },
  {
   "cell_type": "markdown",
   "metadata": {
    "id": "BPYI4maQGa-f"
   },
   "source": [
    "### **subsection**: Overview and Process for Establishing the Plan"
   ]
  },
  {
   "cell_type": "code",
   "execution_count": null,
   "metadata": {
    "colab": {
     "base_uri": "https://localhost:8080/",
     "height": 757
    },
    "id": "217PoKPPGa-g",
    "outputId": "49376d6d-04fd-4a8f-d1fa-5fd4cedd102f"
   },
   "outputs": [],
   "source": [
    "overview_docs = necp_processed[(necp_processed['subsection'] == \"Overview and Process for Establishing the Plan\")][\"necp_lemmas\"]\n",
    "overview_counter = Counter(overview_docs.sum()).most_common(30)\n",
    "plot_counter(overview_counter)\n",
    "plt.show()"
   ]
  },
  {
   "cell_type": "code",
   "execution_count": null,
   "metadata": {
    "id": "T9AnQ5VUGa-h"
   },
   "outputs": [],
   "source": [
    "overview_docs = overview_docs.apply(lambda doc: [lemma for lemma in doc if not (lemma in ['emission', 'renewable'])])"
   ]
  },
  {
   "cell_type": "code",
   "execution_count": null,
   "metadata": {
    "id": "PD-G6UcOGa-h"
   },
   "outputs": [],
   "source": [
    "overview_dictionary = Dictionary(overview_docs)\n",
    "overview_dictionary.filter_extremes(no_below=2, no_above=1.0)\n",
    "overview_encoded_docs = overview_docs.apply(overview_dictionary.doc2bow)"
   ]
  },
  {
   "cell_type": "code",
   "execution_count": null,
   "metadata": {
    "colab": {
     "base_uri": "https://localhost:8080/"
    },
    "id": "rvYv98nVGa-h",
    "outputId": "ca5c8214-afe6-471f-baaa-54eadbce9022"
   },
   "outputs": [],
   "source": [
    "overview_models = []\n",
    "for topics_number in tqdm(range(3, 13)):\n",
    "    lda = LdaMulticore(overview_encoded_docs, num_topics=topics_number, passes=8, iterations=100, random_state=123)\n",
    "    overview_models.append(lda)"
   ]
  },
  {
   "cell_type": "code",
   "execution_count": null,
   "metadata": {
    "colab": {
     "base_uri": "https://localhost:8080/"
    },
    "id": "lfFp11LUGa-i",
    "outputId": "6930b32b-19f4-4715-c238-aa27deae580f"
   },
   "outputs": [],
   "source": [
    "overview_cvs = []\n",
    "for model in tqdm(overview_models):\n",
    "    cm = CoherenceModel(model,texts=overview_docs, dictionary=overview_dictionary)\n",
    "    c_v = cm.get_coherence()\n",
    "    overview_cvs.append(c_v)"
   ]
  },
  {
   "cell_type": "code",
   "execution_count": null,
   "metadata": {
    "colab": {
     "base_uri": "https://localhost:8080/",
     "height": 542
    },
    "id": "kYOvhBrYGa-i",
    "outputId": "33ad39ed-b06a-46f6-a3b0-1ce9dd34a08f"
   },
   "outputs": [],
   "source": [
    "px.line(x=range(3, 13), y=overview_cvs)"
   ]
  },
  {
   "cell_type": "code",
   "execution_count": null,
   "metadata": {
    "colab": {
     "base_uri": "https://localhost:8080/",
     "height": 930
    },
    "id": "CDYqtwl2Ga-j",
    "outputId": "12b61bc0-1d6e-440e-fc08-463c61c63aed"
   },
   "outputs": [],
   "source": [
    "vis = pyLDAvis.gensim_models.prepare(overview_models[0], overview_encoded_docs, dictionary=overview_dictionary)\n",
    "vis"
   ]
  },
  {
   "cell_type": "code",
   "execution_count": null,
   "metadata": {
    "colab": {
     "base_uri": "https://localhost:8080/"
    },
    "id": "crN-zZ5QGa-k",
    "outputId": "e5c45f02-397e-4a9c-bd1d-5d6e6918058b"
   },
   "outputs": [],
   "source": [
    "for idx, topic in overview_models[0].show_topics(formatted=False, num_words=15):\n",
    "    print('Topic: {} \\nWords: {}'.format(idx, [overview_dictionary[int(w[0])] for w in topic]))"
   ]
  },
  {
   "cell_type": "markdown",
   "metadata": {
    "id": "7bZNNr0vGa-l"
   },
   "source": [
    "- Topic 0: electricity, emission, renewable, system, country, regional\n",
    "- Topic 1: project, wind, cooperation, nordic\n",
    "- Topic 2: gas, market, efficiency, source, public, transport\n",
    "\n"
   ]
  },
  {
   "cell_type": "code",
   "execution_count": null,
   "metadata": {
    "id": "bVsArwZFGa-m"
   },
   "outputs": [],
   "source": [
    "overview_corpus_model = overview_models[0][overview_encoded_docs]"
   ]
  },
  {
   "cell_type": "code",
   "execution_count": null,
   "metadata": {
    "id": "x7PTGItGGa-m"
   },
   "outputs": [],
   "source": [
    "overview_metainfo = necp_processed[(necp_processed['subsection'] == \"Overview and Process for Establishing the Plan\")]\n",
    "res_len = len(overview_metainfo)\n",
    "res = np.zeros((res_len, 3))"
   ]
  },
  {
   "cell_type": "code",
   "execution_count": null,
   "metadata": {
    "id": "60LPMVd0Ga-m"
   },
   "outputs": [],
   "source": [
    "for i, doc in enumerate(overview_corpus_model):\n",
    "  for topic in doc:\n",
    "    res[i][topic[0]] = np.round(topic[1], 4)"
   ]
  },
  {
   "cell_type": "code",
   "execution_count": null,
   "metadata": {
    "id": "PE6mZBi3Ga-n"
   },
   "outputs": [],
   "source": [
    "overview_modeling_results = pd.concat([overview_metainfo.reset_index(drop=True), pd.DataFrame(res)], axis=1)\n",
    "overview_topic_probs = overview_modeling_results.groupby(\"country\").mean().loc[:,[0, 1, 2]]"
   ]
  },
  {
   "cell_type": "code",
   "execution_count": null,
   "metadata": {
    "colab": {
     "base_uri": "https://localhost:8080/",
     "height": 928
    },
    "id": "lHewDMrxGa-n",
    "outputId": "6c9894ef-88a0-488d-f938-4df6819aebc4"
   },
   "outputs": [],
   "source": [
    "overview_topic_probs"
   ]
  },
  {
   "cell_type": "code",
   "execution_count": null,
   "metadata": {
    "id": "uWx6BOcXGa-n"
   },
   "outputs": [],
   "source": [
    "import scipy.spatial as sp\n",
    "import scipy.cluster.hierarchy as hc\n",
    "linkage = hc.linkage(overview_topic_probs, method='average', metric='cosine')\n",
    "overview_similarities = sp.distance.squareform(sp.distance.pdist(overview_topic_probs.values, metric='cosine'))"
   ]
  },
  {
   "cell_type": "code",
   "execution_count": null,
   "metadata": {
    "colab": {
     "base_uri": "https://localhost:8080/",
     "height": 745
    },
    "id": "AXlgSMk6Ga-o",
    "outputId": "31f5e51a-8908-4201-c4c8-4a814e2d60f9"
   },
   "outputs": [],
   "source": [
    "plt.figure(figsize=(12, 8))\n",
    "sns.clustermap(1-overview_similarities, \n",
    "            xticklabels=overview_topic_probs.index, \n",
    "            yticklabels=overview_topic_probs.index,\n",
    "             row_linkage=linkage, col_linkage=linkage)\n",
    "plt.show()"
   ]
  },
  {
   "cell_type": "code",
   "execution_count": null,
   "metadata": {
    "colab": {
     "base_uri": "https://localhost:8080/",
     "height": 369
    },
    "id": "770BgIEHzl1c",
    "outputId": "3a91b9ec-32a8-408d-e584-ea399da25df3"
   },
   "outputs": [],
   "source": [
    "from matplotlib import colors\n",
    "topics = overview_models[0].show_topics(formatted=False)\n",
    "counter = Counter(overview_docs.sum())\n",
    "\n",
    "out = []\n",
    "for i, topic in topics:\n",
    "    for word, weight in topic:\n",
    "        word = overview_dictionary[int(word)]\n",
    "        out.append([word, i , weight, counter[word]])\n",
    "\n",
    "df = pd.DataFrame(out, columns=['word', 'topic_id', 'importance', 'word_count'])        \n",
    "\n",
    "fig, axes = plt.subplots(1, 3, figsize=(21, 4), sharey=True)\n",
    "cols = [color for name, color in colors.TABLEAU_COLORS.items()]\n",
    "\n",
    "for i, ax in enumerate(axes.flatten()):\n",
    "    ax.bar(x='word', height=\"word_count\", data=df.loc[df.topic_id==i, :], color=cols[i], width=0.5, alpha=0.3, label='Word Count')\n",
    "    ax_twin = ax.twinx()\n",
    "    ax_twin.bar(x='word', height=\"importance\", data=df.loc[df.topic_id==i, :], color=cols[i], width=0.2, label='Weights')\n",
    "    ax.set_ylabel('Word Count', color=cols[i])\n",
    "    ax_twin.set_ylim(0, 0.0125); ax.set_ylim(0, 1500)\n",
    "    ax.set_title('Topic: ' + str(i), color=cols[i], fontsize=12)\n",
    "    ax.tick_params(axis='y', left=False)\n",
    "    ax.set_xticklabels(df.loc[df.topic_id==i, 'word'], rotation=30, horizontalalignment= 'right')\n",
    "    ax.legend(loc='upper left'); ax_twin.legend(loc='upper right')\n",
    "    ax.grid(False)\n",
    "    ax_twin.grid(False)\n",
    "fig.suptitle('Topics for Overview and Process for Establishing the Plan', fontsize=16)    \n",
    "fig.tight_layout()    \n",
    "plt.show()"
   ]
  },
  {
   "cell_type": "markdown",
   "metadata": {
    "id": "cAYrYib5aRNP"
   },
   "source": [
    "### Overview and Process for Establishing the Plan with the removal of most common lemmas"
   ]
  },
  {
   "cell_type": "code",
   "execution_count": null,
   "metadata": {
    "id": "D3OECUYGWYVF"
   },
   "outputs": [],
   "source": [
    "overview_docs = overview_docs.apply(lambda doc: [lemma for lemma in doc if not (lemma in ['electricity', 'gas', 'renewable', 'emission'])])"
   ]
  },
  {
   "cell_type": "code",
   "execution_count": null,
   "metadata": {
    "id": "8h8gENb3WYVM"
   },
   "outputs": [],
   "source": [
    "overview_dictionary = Dictionary(overview_docs)\n",
    "overview_dictionary.filter_extremes(no_below=2, no_above=1.0)\n",
    "overview_encoded_docs = overview_docs.apply(overview_dictionary.doc2bow)"
   ]
  },
  {
   "cell_type": "code",
   "execution_count": null,
   "metadata": {
    "colab": {
     "base_uri": "https://localhost:8080/"
    },
    "id": "19FqTCawWYVM",
    "outputId": "a6ae8c6c-4bcd-43cc-fbf0-24ad22011b58"
   },
   "outputs": [],
   "source": [
    "overview_models = []\n",
    "for topics_number in tqdm(range(3, 13)):\n",
    "    lda = LdaMulticore(overview_encoded_docs, num_topics=topics_number, passes=8, iterations=100, random_state=123)\n",
    "    overview_models.append(lda)"
   ]
  },
  {
   "cell_type": "code",
   "execution_count": null,
   "metadata": {
    "colab": {
     "base_uri": "https://localhost:8080/"
    },
    "id": "GFs_UPdrWYVM",
    "outputId": "57f604c5-4ecb-4811-ea39-6848f8ed6c3d"
   },
   "outputs": [],
   "source": [
    "overview_cvs = []\n",
    "for model in tqdm(overview_models):\n",
    "    cm = CoherenceModel(model,texts=overview_docs, dictionary=overview_dictionary)\n",
    "    c_v = cm.get_coherence()\n",
    "    overview_cvs.append(c_v)"
   ]
  },
  {
   "cell_type": "code",
   "execution_count": null,
   "metadata": {
    "colab": {
     "base_uri": "https://localhost:8080/",
     "height": 542
    },
    "id": "5tTOPZemWYVN",
    "outputId": "2bc1b49e-ef14-443f-ae6b-41ae0154288b"
   },
   "outputs": [],
   "source": [
    "px.line(x=range(3, 13), y=overview_cvs)"
   ]
  },
  {
   "cell_type": "code",
   "execution_count": null,
   "metadata": {
    "colab": {
     "base_uri": "https://localhost:8080/",
     "height": 930
    },
    "id": "MyH5jUWNWYVN",
    "outputId": "07b0db2e-0140-40a2-807f-c7e1c4b870cb"
   },
   "outputs": [],
   "source": [
    "vis = pyLDAvis.gensim_models.prepare(overview_models[6], overview_encoded_docs, dictionary=overview_dictionary)\n",
    "vis"
   ]
  },
  {
   "cell_type": "code",
   "execution_count": null,
   "metadata": {
    "colab": {
     "base_uri": "https://localhost:8080/"
    },
    "id": "63b35L5TWYVN",
    "outputId": "88f22c03-6257-418e-eb8f-a441d2c41fe3"
   },
   "outputs": [],
   "source": [
    "for idx, topic in overview_models[6].show_topics(formatted=False, num_words=15):\n",
    "    print('Topic: {} \\nWords: {}'.format(idx, [overview_dictionary[int(w[0])] for w in topic]))"
   ]
  },
  {
   "cell_type": "markdown",
   "metadata": {
    "id": "sMWM2ibgWYVN"
   },
   "source": [
    "- Topic 0: Region, offshore, work, wind, seas\n",
    "- Topic 1: cooperation, market, building, nordic, north, wind\n",
    "- Topic 2: 0%\n",
    "- Topic 3: INECP, RES, development, market, system, EE\n",
    "- Topic 4: efficiency, increase, Resolution, approve\n",
    "- Topic 5: Baltic, development, officials\n",
    "- Topic 6: document, level, strategic, source\n",
    "- Topic 7: 0%\n",
    "- Topic 8: supply, increase, tax, province\n",
    "\n"
   ]
  },
  {
   "cell_type": "code",
   "execution_count": null,
   "metadata": {
    "id": "TQqe_1blWYVN"
   },
   "outputs": [],
   "source": [
    "overview_corpus_model = overview_models[6][overview_encoded_docs]"
   ]
  },
  {
   "cell_type": "code",
   "execution_count": null,
   "metadata": {
    "id": "UVMLYWpgWYVN"
   },
   "outputs": [],
   "source": [
    "overview_metainfo = necp_processed[(necp_processed['subsection'] == \"Overview and Process for Establishing the Plan\")]\n",
    "res_len = len(overview_metainfo)\n",
    "res = np.zeros((res_len, 10))"
   ]
  },
  {
   "cell_type": "code",
   "execution_count": null,
   "metadata": {
    "id": "MODXa_REWYVN"
   },
   "outputs": [],
   "source": [
    "for i, doc in enumerate(overview_corpus_model):\n",
    "  for topic in doc:\n",
    "    res[i][topic[0]] = np.round(topic[1], 4)"
   ]
  },
  {
   "cell_type": "code",
   "execution_count": null,
   "metadata": {
    "id": "NDwo34weWYVO"
   },
   "outputs": [],
   "source": [
    "overview_modeling_results = pd.concat([overview_metainfo.reset_index(drop=True), pd.DataFrame(res)], axis=1)\n",
    "overview_topic_probs = overview_modeling_results.groupby(\"country\").mean().loc[:,[0, 1, 2, 3, 4, 5, 6, 7, 8, 9]]"
   ]
  },
  {
   "cell_type": "code",
   "execution_count": null,
   "metadata": {
    "colab": {
     "base_uri": "https://localhost:8080/",
     "height": 928
    },
    "id": "qJjPT2-RWYVO",
    "outputId": "a11ab9c5-f98d-46b0-c815-a9e6dd729590"
   },
   "outputs": [],
   "source": [
    "overview_topic_probs"
   ]
  },
  {
   "cell_type": "code",
   "execution_count": null,
   "metadata": {
    "id": "NYzsHQu8WYVO"
   },
   "outputs": [],
   "source": [
    "import scipy.spatial as sp\n",
    "import scipy.cluster.hierarchy as hc\n",
    "linkage = hc.linkage(overview_topic_probs, method='average', metric='cosine')\n",
    "overview_similarities = sp.distance.squareform(sp.distance.pdist(overview_topic_probs.values, metric='cosine'))"
   ]
  },
  {
   "cell_type": "code",
   "execution_count": null,
   "metadata": {
    "colab": {
     "base_uri": "https://localhost:8080/",
     "height": 745
    },
    "id": "easHYG9aWYVO",
    "outputId": "9e17f843-bcaf-4aaf-d8f7-41406e772b2b"
   },
   "outputs": [],
   "source": [
    "plt.figure(figsize=(12, 8))\n",
    "sns.clustermap(1-overview_similarities, \n",
    "            xticklabels=overview_topic_probs.index, \n",
    "            yticklabels=overview_topic_probs.index,\n",
    "             row_linkage=linkage, col_linkage=linkage)\n",
    "plt.show()"
   ]
  },
  {
   "cell_type": "code",
   "execution_count": null,
   "metadata": {
    "colab": {
     "base_uri": "https://localhost:8080/",
     "height": 424
    },
    "id": "5DDJ5x3pn13I",
    "outputId": "760ae3ed-e12c-4be6-bbf1-9ef4d57fb774"
   },
   "outputs": [],
   "source": [
    "necp_processed"
   ]
  },
  {
   "cell_type": "markdown",
   "metadata": {
    "id": "akonC1oYn2NQ"
   },
   "source": [
    "### **subsection**: Impact Assessment of Planned Policies and Measures"
   ]
  },
  {
   "cell_type": "code",
   "execution_count": null,
   "metadata": {
    "colab": {
     "base_uri": "https://localhost:8080/",
     "height": 757
    },
    "id": "86VJEtS1n2NQ",
    "outputId": "7cc206ff-d2b5-43ab-c9a8-b338909688e3"
   },
   "outputs": [],
   "source": [
    "impact_docs = necp_processed[(necp_processed['subsection'] == \"Impact Assessment of Planned Policies and Measures\")][\"necp_lemmas\"]\n",
    "impact_counter = Counter(impact_docs.sum()).most_common(30)\n",
    "plot_counter(impact_counter)\n",
    "plt.show()"
   ]
  },
  {
   "cell_type": "code",
   "execution_count": null,
   "metadata": {
    "id": "vDuBRtkxn2NR"
   },
   "outputs": [],
   "source": [
    "impact_docs = impact_docs.apply(lambda doc: [lemma for lemma in doc if not (lemma in ['emission', 'scenario'])])"
   ]
  },
  {
   "cell_type": "code",
   "execution_count": null,
   "metadata": {
    "id": "Ys7y_uQAn2NR"
   },
   "outputs": [],
   "source": [
    "impact_dictionary = Dictionary(impact_docs)\n",
    "impact_dictionary.filter_extremes(no_below=2, no_above=1.0)\n",
    "impact_encoded_docs = impact_docs.apply(impact_dictionary.doc2bow)"
   ]
  },
  {
   "cell_type": "code",
   "execution_count": null,
   "metadata": {
    "colab": {
     "base_uri": "https://localhost:8080/"
    },
    "id": "4o-LtU1gn2NR",
    "outputId": "c711db21-bb63-4417-f707-66c34ffc5c28"
   },
   "outputs": [],
   "source": [
    "impact_models = []\n",
    "for topics_number in tqdm(range(3, 13)):\n",
    "    lda = LdaMulticore(impact_encoded_docs, num_topics=topics_number, passes=8, iterations=100, random_state=123)\n",
    "    impact_models.append(lda)"
   ]
  },
  {
   "cell_type": "code",
   "execution_count": null,
   "metadata": {
    "colab": {
     "base_uri": "https://localhost:8080/"
    },
    "id": "5XLKaZ6Mn2NR",
    "outputId": "9ae9f4df-c9ff-4d72-8b68-fcf6e1373f69"
   },
   "outputs": [],
   "source": [
    "impact_cvs = []\n",
    "for model in tqdm(impact_models):\n",
    "    cm = CoherenceModel(model,texts=impact_docs, dictionary=impact_dictionary)\n",
    "    c_v = cm.get_coherence()\n",
    "    impact_cvs.append(c_v)"
   ]
  },
  {
   "cell_type": "code",
   "execution_count": null,
   "metadata": {
    "colab": {
     "base_uri": "https://localhost:8080/",
     "height": 542
    },
    "id": "NE2XyfYvn2NR",
    "outputId": "e25d838f-ce49-402f-b2d7-bfb67315ef7a"
   },
   "outputs": [],
   "source": [
    "px.line(x=range(3, 13), y=impact_cvs)"
   ]
  },
  {
   "cell_type": "code",
   "execution_count": null,
   "metadata": {
    "colab": {
     "base_uri": "https://localhost:8080/",
     "height": 930
    },
    "id": "k426TxPtn2NR",
    "outputId": "506eac6a-adda-4dcb-c033-35a9b8469adb"
   },
   "outputs": [],
   "source": [
    "vis = pyLDAvis.gensim_models.prepare(impact_models[6], impact_encoded_docs, dictionary=impact_dictionary)\n",
    "vis"
   ]
  },
  {
   "cell_type": "code",
   "execution_count": null,
   "metadata": {
    "colab": {
     "base_uri": "https://localhost:8080/"
    },
    "id": "dMsvXjsqn2NS",
    "outputId": "fb10d416-d1ea-4c39-97bb-2701319c965f"
   },
   "outputs": [],
   "source": [
    "for idx, topic in impact_models[6].show_topics(formatted=False, num_words=15):\n",
    "    print('Topic: {} \\nWords: {}'.format(idx, [impact_dictionary[int(w[0])] for w in topic]))"
   ]
  },
  {
   "cell_type": "markdown",
   "metadata": {
    "id": "EAnQJEjhn2NS"
   },
   "source": [
    "- Topic 0: transport, renewable, consumption, GHG (Greenhouse Gases), biofuel\n",
    "- Topic 1: investment, efficiency, increase, impact, financing\n",
    "- Topic 2: project, expect, electricity, heat pump, pam\n",
    "- Topic 3: impact, reduce, increase, positive\n",
    "- Topic 4: investment, electricity, increase, WAM, gas, programme\n",
    "- Topic 5: consumption, increase, term, carbon, INECP (International Nonproliferation Export Control Program)\n",
    "- Topic 6: 0%\n",
    "- Topic 7: fuel, impact, source, REF (\n",
    "Renewable Energy Foundation), plant, Annex\n",
    "- Topic 8: cost, PPM, WEM, investment\n",
    "\n"
   ]
  },
  {
   "cell_type": "code",
   "execution_count": null,
   "metadata": {
    "id": "ORAeY3cCn2NS"
   },
   "outputs": [],
   "source": [
    "impact_corpus_model = impact_models[6][impact_encoded_docs]"
   ]
  },
  {
   "cell_type": "code",
   "execution_count": null,
   "metadata": {
    "id": "cDiqgi_1n2NS"
   },
   "outputs": [],
   "source": [
    "impact_metainfo = necp_processed[(necp_processed['subsection'] == \"Impact Assessment of Planned Policies and Measures\")]\n",
    "res_len = len(impact_metainfo)\n",
    "res = np.zeros((res_len, 9))"
   ]
  },
  {
   "cell_type": "code",
   "execution_count": null,
   "metadata": {
    "id": "Mv2q7LO6n2NS"
   },
   "outputs": [],
   "source": [
    "for i, doc in enumerate(impact_corpus_model):\n",
    "  for topic in doc:\n",
    "    res[i][topic[0]] = np.round(topic[1], 4)"
   ]
  },
  {
   "cell_type": "code",
   "execution_count": null,
   "metadata": {
    "id": "m1vDQEY5n2NS"
   },
   "outputs": [],
   "source": [
    "impact_modeling_results = pd.concat([impact_metainfo.reset_index(drop=True), pd.DataFrame(res)], axis=1)\n",
    "impact_topic_probs = impact_modeling_results.groupby(\"country\").mean().loc[:,[0, 1, 2, 3, 4, 5, 6, 7, 8]]"
   ]
  },
  {
   "cell_type": "code",
   "execution_count": null,
   "metadata": {
    "colab": {
     "base_uri": "https://localhost:8080/",
     "height": 928
    },
    "id": "imAZxrL6n2NS",
    "outputId": "d4ebbbfb-b86d-4522-d8ae-24b6ced5ef59"
   },
   "outputs": [],
   "source": [
    "impact_topic_probs"
   ]
  },
  {
   "cell_type": "code",
   "execution_count": null,
   "metadata": {
    "id": "MaQsF3e3n2NT"
   },
   "outputs": [],
   "source": [
    "import scipy.spatial as sp\n",
    "import scipy.cluster.hierarchy as hc\n",
    "linkage = hc.linkage(overview_topic_probs, method='average', metric='cosine')\n",
    "impact_similarities = sp.distance.squareform(sp.distance.pdist(overview_topic_probs.values, metric='cosine'))"
   ]
  },
  {
   "cell_type": "code",
   "execution_count": null,
   "metadata": {
    "colab": {
     "base_uri": "https://localhost:8080/",
     "height": 745
    },
    "id": "sEUz_vaYn2NT",
    "outputId": "fc5ebd46-c73b-4557-96e7-54d7c1ba5d08"
   },
   "outputs": [],
   "source": [
    "plt.figure(figsize=(12, 8))\n",
    "sns.clustermap(1-impact_similarities, \n",
    "            xticklabels=overview_topic_probs.index, \n",
    "            yticklabels=overview_topic_probs.index,\n",
    "             row_linkage=linkage, col_linkage=linkage)\n",
    "plt.show()"
   ]
  },
  {
   "cell_type": "code",
   "execution_count": null,
   "metadata": {
    "colab": {
     "base_uri": "https://localhost:8080/",
     "height": 934
    },
    "id": "f5exN7fRyYPX",
    "outputId": "c250ed70-240e-48a9-933e-ba191ca0ccf4"
   },
   "outputs": [],
   "source": [
    "from matplotlib import colors\n",
    "topics = impact_models[6].show_topics(formatted=False)\n",
    "counter = Counter(impact_docs.sum())\n",
    "\n",
    "out = []\n",
    "for i, topic in topics:\n",
    "    for word, weight in topic:\n",
    "        word = impact_dictionary[int(word)]\n",
    "        out.append([word, i , weight, counter[word]])\n",
    "\n",
    "df = pd.DataFrame(out, columns=['word', 'topic_id', 'importance', 'word_count'])        \n",
    "\n",
    "fig, axes = plt.subplots(3, 3, figsize=(21,12), sharey=True)\n",
    "cols = [color for name, color in colors.TABLEAU_COLORS.items()]\n",
    "\n",
    "for i, ax in enumerate(axes.flatten()):\n",
    "    ax.bar(x='word', height=\"word_count\", data=df.loc[df.topic_id==i, :], color=cols[i], width=0.5, alpha=0.3, label='Word Count')\n",
    "    ax_twin = ax.twinx()\n",
    "    ax_twin.bar(x='word', height=\"importance\", data=df.loc[df.topic_id==i, :], color=cols[i], width=0.2, label='Weights')\n",
    "    ax.set_ylabel('Word Count', color=cols[i])\n",
    "    ax_twin.set_ylim(0, 0.025); ax.set_ylim(0, 1500)\n",
    "    ax.set_title('Topic: ' + str(i), color=cols[i], fontsize=12)\n",
    "    ax.tick_params(axis='y', left=False)\n",
    "    ax.set_xticklabels(df.loc[df.topic_id==i, 'word'], rotation=30, horizontalalignment= 'right')\n",
    "    ax.legend(loc='upper left'); ax_twin.legend(loc='upper right')\n",
    "    ax.grid(False)\n",
    "    ax_twin.grid(False)\n",
    "fig.suptitle('Topics for Impact Assessment of Planned Policies and Measures', fontsize=16)    \n",
    "fig.tight_layout()    \n",
    "plt.show()"
   ]
  }
 ],
 "metadata": {
  "colab": {
   "collapsed_sections": [],
   "name": "milestone2.ipynb",
   "provenance": []
  },
  "kernelspec": {
   "display_name": "Python 3 (ipykernel)",
   "language": "python",
   "name": "python3"
  },
  "language_info": {
   "codemirror_mode": {
    "name": "ipython",
    "version": 3
   },
   "file_extension": ".py",
   "mimetype": "text/x-python",
   "name": "python",
   "nbconvert_exporter": "python",
   "pygments_lexer": "ipython3",
   "version": "3.9.12"
  },
  "widgets": {
   "application/vnd.jupyter.widget-state+json": {
    "0d66f6918c5a4dae8041ad46672879b3": {
     "model_module": "@jupyter-widgets/controls",
     "model_module_version": "1.5.0",
     "model_name": "HTMLModel",
     "state": {
      "_dom_classes": [],
      "_model_module": "@jupyter-widgets/controls",
      "_model_module_version": "1.5.0",
      "_model_name": "HTMLModel",
      "_view_count": null,
      "_view_module": "@jupyter-widgets/controls",
      "_view_module_version": "1.5.0",
      "_view_name": "HTMLView",
      "description": "",
      "description_tooltip": null,
      "layout": "IPY_MODEL_14481b0e8d60489e83dd00b51033b5d7",
      "placeholder": "​",
      "style": "IPY_MODEL_350424ee92554ce3ae7387137f54ade5",
      "value": " 453/453 [00:06&lt;00:00, 100.39it/s]"
     }
    },
    "12ef1654532542aaae433b1cda8bd9c2": {
     "model_module": "@jupyter-widgets/controls",
     "model_module_version": "1.5.0",
     "model_name": "HBoxModel",
     "state": {
      "_dom_classes": [],
      "_model_module": "@jupyter-widgets/controls",
      "_model_module_version": "1.5.0",
      "_model_name": "HBoxModel",
      "_view_count": null,
      "_view_module": "@jupyter-widgets/controls",
      "_view_module_version": "1.5.0",
      "_view_name": "HBoxView",
      "box_style": "",
      "children": [
       "IPY_MODEL_faff0723bf644c8280f75228ca177f13",
       "IPY_MODEL_c1d6f0cc7d014548a4863f830bf4854d",
       "IPY_MODEL_0d66f6918c5a4dae8041ad46672879b3"
      ],
      "layout": "IPY_MODEL_f55210c5937045a781863c4927be400f"
     }
    },
    "14481b0e8d60489e83dd00b51033b5d7": {
     "model_module": "@jupyter-widgets/base",
     "model_module_version": "1.2.0",
     "model_name": "LayoutModel",
     "state": {
      "_model_module": "@jupyter-widgets/base",
      "_model_module_version": "1.2.0",
      "_model_name": "LayoutModel",
      "_view_count": null,
      "_view_module": "@jupyter-widgets/base",
      "_view_module_version": "1.2.0",
      "_view_name": "LayoutView",
      "align_content": null,
      "align_items": null,
      "align_self": null,
      "border": null,
      "bottom": null,
      "display": null,
      "flex": null,
      "flex_flow": null,
      "grid_area": null,
      "grid_auto_columns": null,
      "grid_auto_flow": null,
      "grid_auto_rows": null,
      "grid_column": null,
      "grid_gap": null,
      "grid_row": null,
      "grid_template_areas": null,
      "grid_template_columns": null,
      "grid_template_rows": null,
      "height": null,
      "justify_content": null,
      "justify_items": null,
      "left": null,
      "margin": null,
      "max_height": null,
      "max_width": null,
      "min_height": null,
      "min_width": null,
      "object_fit": null,
      "object_position": null,
      "order": null,
      "overflow": null,
      "overflow_x": null,
      "overflow_y": null,
      "padding": null,
      "right": null,
      "top": null,
      "visibility": null,
      "width": null
     }
    },
    "16d57830a23946768209df06735c2b8e": {
     "model_module": "@jupyter-widgets/base",
     "model_module_version": "1.2.0",
     "model_name": "LayoutModel",
     "state": {
      "_model_module": "@jupyter-widgets/base",
      "_model_module_version": "1.2.0",
      "_model_name": "LayoutModel",
      "_view_count": null,
      "_view_module": "@jupyter-widgets/base",
      "_view_module_version": "1.2.0",
      "_view_name": "LayoutView",
      "align_content": null,
      "align_items": null,
      "align_self": null,
      "border": null,
      "bottom": null,
      "display": null,
      "flex": null,
      "flex_flow": null,
      "grid_area": null,
      "grid_auto_columns": null,
      "grid_auto_flow": null,
      "grid_auto_rows": null,
      "grid_column": null,
      "grid_gap": null,
      "grid_row": null,
      "grid_template_areas": null,
      "grid_template_columns": null,
      "grid_template_rows": null,
      "height": null,
      "justify_content": null,
      "justify_items": null,
      "left": null,
      "margin": null,
      "max_height": null,
      "max_width": null,
      "min_height": null,
      "min_width": null,
      "object_fit": null,
      "object_position": null,
      "order": null,
      "overflow": null,
      "overflow_x": null,
      "overflow_y": null,
      "padding": null,
      "right": null,
      "top": null,
      "visibility": null,
      "width": null
     }
    },
    "2863e1b7450c4b1985c200d2147fc5f6": {
     "model_module": "@jupyter-widgets/controls",
     "model_module_version": "1.5.0",
     "model_name": "DescriptionStyleModel",
     "state": {
      "_model_module": "@jupyter-widgets/controls",
      "_model_module_version": "1.5.0",
      "_model_name": "DescriptionStyleModel",
      "_view_count": null,
      "_view_module": "@jupyter-widgets/base",
      "_view_module_version": "1.2.0",
      "_view_name": "StyleView",
      "description_width": ""
     }
    },
    "350424ee92554ce3ae7387137f54ade5": {
     "model_module": "@jupyter-widgets/controls",
     "model_module_version": "1.5.0",
     "model_name": "DescriptionStyleModel",
     "state": {
      "_model_module": "@jupyter-widgets/controls",
      "_model_module_version": "1.5.0",
      "_model_name": "DescriptionStyleModel",
      "_view_count": null,
      "_view_module": "@jupyter-widgets/base",
      "_view_module_version": "1.2.0",
      "_view_name": "StyleView",
      "description_width": ""
     }
    },
    "42ff7684fd74469b80d09c667c2e414a": {
     "model_module": "@jupyter-widgets/base",
     "model_module_version": "1.2.0",
     "model_name": "LayoutModel",
     "state": {
      "_model_module": "@jupyter-widgets/base",
      "_model_module_version": "1.2.0",
      "_model_name": "LayoutModel",
      "_view_count": null,
      "_view_module": "@jupyter-widgets/base",
      "_view_module_version": "1.2.0",
      "_view_name": "LayoutView",
      "align_content": null,
      "align_items": null,
      "align_self": null,
      "border": null,
      "bottom": null,
      "display": null,
      "flex": null,
      "flex_flow": null,
      "grid_area": null,
      "grid_auto_columns": null,
      "grid_auto_flow": null,
      "grid_auto_rows": null,
      "grid_column": null,
      "grid_gap": null,
      "grid_row": null,
      "grid_template_areas": null,
      "grid_template_columns": null,
      "grid_template_rows": null,
      "height": null,
      "justify_content": null,
      "justify_items": null,
      "left": null,
      "margin": null,
      "max_height": null,
      "max_width": null,
      "min_height": null,
      "min_width": null,
      "object_fit": null,
      "object_position": null,
      "order": null,
      "overflow": null,
      "overflow_x": null,
      "overflow_y": null,
      "padding": null,
      "right": null,
      "top": null,
      "visibility": null,
      "width": null
     }
    },
    "4fdb269321ff4bba960e2dd00d9622f5": {
     "model_module": "@jupyter-widgets/base",
     "model_module_version": "1.2.0",
     "model_name": "LayoutModel",
     "state": {
      "_model_module": "@jupyter-widgets/base",
      "_model_module_version": "1.2.0",
      "_model_name": "LayoutModel",
      "_view_count": null,
      "_view_module": "@jupyter-widgets/base",
      "_view_module_version": "1.2.0",
      "_view_name": "LayoutView",
      "align_content": null,
      "align_items": null,
      "align_self": null,
      "border": null,
      "bottom": null,
      "display": null,
      "flex": null,
      "flex_flow": null,
      "grid_area": null,
      "grid_auto_columns": null,
      "grid_auto_flow": null,
      "grid_auto_rows": null,
      "grid_column": null,
      "grid_gap": null,
      "grid_row": null,
      "grid_template_areas": null,
      "grid_template_columns": null,
      "grid_template_rows": null,
      "height": null,
      "justify_content": null,
      "justify_items": null,
      "left": null,
      "margin": null,
      "max_height": null,
      "max_width": null,
      "min_height": null,
      "min_width": null,
      "object_fit": null,
      "object_position": null,
      "order": null,
      "overflow": null,
      "overflow_x": null,
      "overflow_y": null,
      "padding": null,
      "right": null,
      "top": null,
      "visibility": null,
      "width": null
     }
    },
    "618f12d9378847efaf466c237dd2af4f": {
     "model_module": "@jupyter-widgets/controls",
     "model_module_version": "1.5.0",
     "model_name": "HTMLModel",
     "state": {
      "_dom_classes": [],
      "_model_module": "@jupyter-widgets/controls",
      "_model_module_version": "1.5.0",
      "_model_name": "HTMLModel",
      "_view_count": null,
      "_view_module": "@jupyter-widgets/controls",
      "_view_module_version": "1.5.0",
      "_view_name": "HTMLView",
      "description": "",
      "description_tooltip": null,
      "layout": "IPY_MODEL_dec587b659804800a2dd26412c79271f",
      "placeholder": "​",
      "style": "IPY_MODEL_a35cb1619e574d1fbe632fc53b7e20d8",
      "value": " 453/453 [07:36&lt;00:00,  1.07it/s]"
     }
    },
    "860a19100c774342bc9b78544d3afb15": {
     "model_module": "@jupyter-widgets/base",
     "model_module_version": "1.2.0",
     "model_name": "LayoutModel",
     "state": {
      "_model_module": "@jupyter-widgets/base",
      "_model_module_version": "1.2.0",
      "_model_name": "LayoutModel",
      "_view_count": null,
      "_view_module": "@jupyter-widgets/base",
      "_view_module_version": "1.2.0",
      "_view_name": "LayoutView",
      "align_content": null,
      "align_items": null,
      "align_self": null,
      "border": null,
      "bottom": null,
      "display": null,
      "flex": null,
      "flex_flow": null,
      "grid_area": null,
      "grid_auto_columns": null,
      "grid_auto_flow": null,
      "grid_auto_rows": null,
      "grid_column": null,
      "grid_gap": null,
      "grid_row": null,
      "grid_template_areas": null,
      "grid_template_columns": null,
      "grid_template_rows": null,
      "height": null,
      "justify_content": null,
      "justify_items": null,
      "left": null,
      "margin": null,
      "max_height": null,
      "max_width": null,
      "min_height": null,
      "min_width": null,
      "object_fit": null,
      "object_position": null,
      "order": null,
      "overflow": null,
      "overflow_x": null,
      "overflow_y": null,
      "padding": null,
      "right": null,
      "top": null,
      "visibility": null,
      "width": null
     }
    },
    "a35cb1619e574d1fbe632fc53b7e20d8": {
     "model_module": "@jupyter-widgets/controls",
     "model_module_version": "1.5.0",
     "model_name": "DescriptionStyleModel",
     "state": {
      "_model_module": "@jupyter-widgets/controls",
      "_model_module_version": "1.5.0",
      "_model_name": "DescriptionStyleModel",
      "_view_count": null,
      "_view_module": "@jupyter-widgets/base",
      "_view_module_version": "1.2.0",
      "_view_name": "StyleView",
      "description_width": ""
     }
    },
    "a9c1d445ca814d2aaaf8e71600860c11": {
     "model_module": "@jupyter-widgets/controls",
     "model_module_version": "1.5.0",
     "model_name": "DescriptionStyleModel",
     "state": {
      "_model_module": "@jupyter-widgets/controls",
      "_model_module_version": "1.5.0",
      "_model_name": "DescriptionStyleModel",
      "_view_count": null,
      "_view_module": "@jupyter-widgets/base",
      "_view_module_version": "1.2.0",
      "_view_name": "StyleView",
      "description_width": ""
     }
    },
    "b6f3b8cd4a554ea4a092121f2575eea9": {
     "model_module": "@jupyter-widgets/controls",
     "model_module_version": "1.5.0",
     "model_name": "HTMLModel",
     "state": {
      "_dom_classes": [],
      "_model_module": "@jupyter-widgets/controls",
      "_model_module_version": "1.5.0",
      "_model_name": "HTMLModel",
      "_view_count": null,
      "_view_module": "@jupyter-widgets/controls",
      "_view_module_version": "1.5.0",
      "_view_name": "HTMLView",
      "description": "",
      "description_tooltip": null,
      "layout": "IPY_MODEL_4fdb269321ff4bba960e2dd00d9622f5",
      "placeholder": "​",
      "style": "IPY_MODEL_2863e1b7450c4b1985c200d2147fc5f6",
      "value": "Pandas Apply: 100%"
     }
    },
    "b92e698c2be74c3a92e5c897e4e1fc87": {
     "model_module": "@jupyter-widgets/base",
     "model_module_version": "1.2.0",
     "model_name": "LayoutModel",
     "state": {
      "_model_module": "@jupyter-widgets/base",
      "_model_module_version": "1.2.0",
      "_model_name": "LayoutModel",
      "_view_count": null,
      "_view_module": "@jupyter-widgets/base",
      "_view_module_version": "1.2.0",
      "_view_name": "LayoutView",
      "align_content": null,
      "align_items": null,
      "align_self": null,
      "border": null,
      "bottom": null,
      "display": null,
      "flex": null,
      "flex_flow": null,
      "grid_area": null,
      "grid_auto_columns": null,
      "grid_auto_flow": null,
      "grid_auto_rows": null,
      "grid_column": null,
      "grid_gap": null,
      "grid_row": null,
      "grid_template_areas": null,
      "grid_template_columns": null,
      "grid_template_rows": null,
      "height": null,
      "justify_content": null,
      "justify_items": null,
      "left": null,
      "margin": null,
      "max_height": null,
      "max_width": null,
      "min_height": null,
      "min_width": null,
      "object_fit": null,
      "object_position": null,
      "order": null,
      "overflow": null,
      "overflow_x": null,
      "overflow_y": null,
      "padding": null,
      "right": null,
      "top": null,
      "visibility": null,
      "width": null
     }
    },
    "c1d6f0cc7d014548a4863f830bf4854d": {
     "model_module": "@jupyter-widgets/controls",
     "model_module_version": "1.5.0",
     "model_name": "FloatProgressModel",
     "state": {
      "_dom_classes": [],
      "_model_module": "@jupyter-widgets/controls",
      "_model_module_version": "1.5.0",
      "_model_name": "FloatProgressModel",
      "_view_count": null,
      "_view_module": "@jupyter-widgets/controls",
      "_view_module_version": "1.5.0",
      "_view_name": "ProgressView",
      "bar_style": "success",
      "description": "",
      "description_tooltip": null,
      "layout": "IPY_MODEL_16d57830a23946768209df06735c2b8e",
      "max": 453,
      "min": 0,
      "orientation": "horizontal",
      "style": "IPY_MODEL_febeaae9ea684bc69256a3ef53eff154",
      "value": 453
     }
    },
    "c6f846910fe947d9a9ae46444357815a": {
     "model_module": "@jupyter-widgets/controls",
     "model_module_version": "1.5.0",
     "model_name": "ProgressStyleModel",
     "state": {
      "_model_module": "@jupyter-widgets/controls",
      "_model_module_version": "1.5.0",
      "_model_name": "ProgressStyleModel",
      "_view_count": null,
      "_view_module": "@jupyter-widgets/base",
      "_view_module_version": "1.2.0",
      "_view_name": "StyleView",
      "bar_color": null,
      "description_width": ""
     }
    },
    "cab1393382114b09b170a5e6306d8a94": {
     "model_module": "@jupyter-widgets/controls",
     "model_module_version": "1.5.0",
     "model_name": "FloatProgressModel",
     "state": {
      "_dom_classes": [],
      "_model_module": "@jupyter-widgets/controls",
      "_model_module_version": "1.5.0",
      "_model_name": "FloatProgressModel",
      "_view_count": null,
      "_view_module": "@jupyter-widgets/controls",
      "_view_module_version": "1.5.0",
      "_view_name": "ProgressView",
      "bar_style": "success",
      "description": "",
      "description_tooltip": null,
      "layout": "IPY_MODEL_860a19100c774342bc9b78544d3afb15",
      "max": 453,
      "min": 0,
      "orientation": "horizontal",
      "style": "IPY_MODEL_c6f846910fe947d9a9ae46444357815a",
      "value": 453
     }
    },
    "cb71d3fd50594e8fb3cd1ef17a1c2cf8": {
     "model_module": "@jupyter-widgets/controls",
     "model_module_version": "1.5.0",
     "model_name": "HBoxModel",
     "state": {
      "_dom_classes": [],
      "_model_module": "@jupyter-widgets/controls",
      "_model_module_version": "1.5.0",
      "_model_name": "HBoxModel",
      "_view_count": null,
      "_view_module": "@jupyter-widgets/controls",
      "_view_module_version": "1.5.0",
      "_view_name": "HBoxView",
      "box_style": "",
      "children": [
       "IPY_MODEL_b6f3b8cd4a554ea4a092121f2575eea9",
       "IPY_MODEL_cab1393382114b09b170a5e6306d8a94",
       "IPY_MODEL_618f12d9378847efaf466c237dd2af4f"
      ],
      "layout": "IPY_MODEL_b92e698c2be74c3a92e5c897e4e1fc87"
     }
    },
    "dec587b659804800a2dd26412c79271f": {
     "model_module": "@jupyter-widgets/base",
     "model_module_version": "1.2.0",
     "model_name": "LayoutModel",
     "state": {
      "_model_module": "@jupyter-widgets/base",
      "_model_module_version": "1.2.0",
      "_model_name": "LayoutModel",
      "_view_count": null,
      "_view_module": "@jupyter-widgets/base",
      "_view_module_version": "1.2.0",
      "_view_name": "LayoutView",
      "align_content": null,
      "align_items": null,
      "align_self": null,
      "border": null,
      "bottom": null,
      "display": null,
      "flex": null,
      "flex_flow": null,
      "grid_area": null,
      "grid_auto_columns": null,
      "grid_auto_flow": null,
      "grid_auto_rows": null,
      "grid_column": null,
      "grid_gap": null,
      "grid_row": null,
      "grid_template_areas": null,
      "grid_template_columns": null,
      "grid_template_rows": null,
      "height": null,
      "justify_content": null,
      "justify_items": null,
      "left": null,
      "margin": null,
      "max_height": null,
      "max_width": null,
      "min_height": null,
      "min_width": null,
      "object_fit": null,
      "object_position": null,
      "order": null,
      "overflow": null,
      "overflow_x": null,
      "overflow_y": null,
      "padding": null,
      "right": null,
      "top": null,
      "visibility": null,
      "width": null
     }
    },
    "f55210c5937045a781863c4927be400f": {
     "model_module": "@jupyter-widgets/base",
     "model_module_version": "1.2.0",
     "model_name": "LayoutModel",
     "state": {
      "_model_module": "@jupyter-widgets/base",
      "_model_module_version": "1.2.0",
      "_model_name": "LayoutModel",
      "_view_count": null,
      "_view_module": "@jupyter-widgets/base",
      "_view_module_version": "1.2.0",
      "_view_name": "LayoutView",
      "align_content": null,
      "align_items": null,
      "align_self": null,
      "border": null,
      "bottom": null,
      "display": null,
      "flex": null,
      "flex_flow": null,
      "grid_area": null,
      "grid_auto_columns": null,
      "grid_auto_flow": null,
      "grid_auto_rows": null,
      "grid_column": null,
      "grid_gap": null,
      "grid_row": null,
      "grid_template_areas": null,
      "grid_template_columns": null,
      "grid_template_rows": null,
      "height": null,
      "justify_content": null,
      "justify_items": null,
      "left": null,
      "margin": null,
      "max_height": null,
      "max_width": null,
      "min_height": null,
      "min_width": null,
      "object_fit": null,
      "object_position": null,
      "order": null,
      "overflow": null,
      "overflow_x": null,
      "overflow_y": null,
      "padding": null,
      "right": null,
      "top": null,
      "visibility": null,
      "width": null
     }
    },
    "faff0723bf644c8280f75228ca177f13": {
     "model_module": "@jupyter-widgets/controls",
     "model_module_version": "1.5.0",
     "model_name": "HTMLModel",
     "state": {
      "_dom_classes": [],
      "_model_module": "@jupyter-widgets/controls",
      "_model_module_version": "1.5.0",
      "_model_name": "HTMLModel",
      "_view_count": null,
      "_view_module": "@jupyter-widgets/controls",
      "_view_module_version": "1.5.0",
      "_view_name": "HTMLView",
      "description": "",
      "description_tooltip": null,
      "layout": "IPY_MODEL_42ff7684fd74469b80d09c667c2e414a",
      "placeholder": "​",
      "style": "IPY_MODEL_a9c1d445ca814d2aaaf8e71600860c11",
      "value": "Pandas Apply: 100%"
     }
    },
    "febeaae9ea684bc69256a3ef53eff154": {
     "model_module": "@jupyter-widgets/controls",
     "model_module_version": "1.5.0",
     "model_name": "ProgressStyleModel",
     "state": {
      "_model_module": "@jupyter-widgets/controls",
      "_model_module_version": "1.5.0",
      "_model_name": "ProgressStyleModel",
      "_view_count": null,
      "_view_module": "@jupyter-widgets/base",
      "_view_module_version": "1.2.0",
      "_view_name": "StyleView",
      "bar_color": null,
      "description_width": ""
     }
    }
   }
  }
 },
 "nbformat": 4,
 "nbformat_minor": 1
}
