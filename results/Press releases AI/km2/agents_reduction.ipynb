{
 "cells": [
  {
   "cell_type": "markdown",
   "id": "63f6ba78-8bf5-4110-bb91-b28c2980a7da",
   "metadata": {},
   "source": [
    "# Wybór największych agentów do modelowania"
   ]
  },
  {
   "cell_type": "code",
   "execution_count": 1,
   "id": "47980184-38c6-4ad7-ae5e-58149e03f8c9",
   "metadata": {},
   "outputs": [],
   "source": [
    "import pandas as pd\n",
    "import numpy as np"
   ]
  },
  {
   "cell_type": "code",
   "execution_count": 7,
   "id": "e9bc703a-99c5-4214-b433-fdafe49dd5f3",
   "metadata": {},
   "outputs": [
    {
     "data": {
      "text/html": [
       "<div>\n",
       "<style scoped>\n",
       "    .dataframe tbody tr th:only-of-type {\n",
       "        vertical-align: middle;\n",
       "    }\n",
       "\n",
       "    .dataframe tbody tr th {\n",
       "        vertical-align: top;\n",
       "    }\n",
       "\n",
       "    .dataframe thead th {\n",
       "        text-align: right;\n",
       "    }\n",
       "</style>\n",
       "<table border=\"1\" class=\"dataframe\">\n",
       "  <thead>\n",
       "    <tr style=\"text-align: right;\">\n",
       "      <th></th>\n",
       "      <th>title</th>\n",
       "      <th>text</th>\n",
       "      <th>organisation</th>\n",
       "      <th>date</th>\n",
       "      <th>category</th>\n",
       "      <th>year</th>\n",
       "      <th>month</th>\n",
       "    </tr>\n",
       "  </thead>\n",
       "  <tbody>\n",
       "    <tr>\n",
       "      <th>0</th>\n",
       "      <td>Interoperability of messaging services – a gam...</td>\n",
       "      <td>Interoperability of messaging services is one ...</td>\n",
       "      <td>S&amp;amp;D - Socialists &amp;amp; Democrats in the Eu...</td>\n",
       "      <td>2022-03-24 23:00:00+00:00</td>\n",
       "      <td>InfoSociety</td>\n",
       "      <td>2022</td>\n",
       "      <td>3</td>\n",
       "    </tr>\n",
       "    <tr>\n",
       "      <th>1</th>\n",
       "      <td>EU market adjusting to lack of sunflower oil f...</td>\n",
       "      <td>Brussels,  March  – A month after the invasion...</td>\n",
       "      <td>FEDIOL - The EU Vegetable Oil and Proteinmeal ...</td>\n",
       "      <td>2022-03-24 23:00:00+00:00</td>\n",
       "      <td>Agriculture &amp; Food</td>\n",
       "      <td>2022</td>\n",
       "      <td>3</td>\n",
       "    </tr>\n",
       "    <tr>\n",
       "      <th>2</th>\n",
       "      <td>S&amp;Ds welcome the use of cohesion funds in EU r...</td>\n",
       "      <td>The Socialists and Democrats in the European P...</td>\n",
       "      <td>S&amp;amp;D - Socialists &amp;amp; Democrats in the Eu...</td>\n",
       "      <td>2022-03-24 23:00:00+00:00</td>\n",
       "      <td>Euro &amp; Finance</td>\n",
       "      <td>2022</td>\n",
       "      <td>3</td>\n",
       "    </tr>\n",
       "  </tbody>\n",
       "</table>\n",
       "</div>"
      ],
      "text/plain": [
       "                                               title  \\\n",
       "0  Interoperability of messaging services – a gam...   \n",
       "1  EU market adjusting to lack of sunflower oil f...   \n",
       "2  S&Ds welcome the use of cohesion funds in EU r...   \n",
       "\n",
       "                                                text  \\\n",
       "0  Interoperability of messaging services is one ...   \n",
       "1  Brussels,  March  – A month after the invasion...   \n",
       "2  The Socialists and Democrats in the European P...   \n",
       "\n",
       "                                        organisation  \\\n",
       "0  S&amp;D - Socialists &amp; Democrats in the Eu...   \n",
       "1  FEDIOL - The EU Vegetable Oil and Proteinmeal ...   \n",
       "2  S&amp;D - Socialists &amp; Democrats in the Eu...   \n",
       "\n",
       "                        date            category  year  month  \n",
       "0  2022-03-24 23:00:00+00:00         InfoSociety  2022      3  \n",
       "1  2022-03-24 23:00:00+00:00  Agriculture & Food  2022      3  \n",
       "2  2022-03-24 23:00:00+00:00      Euro & Finance  2022      3  "
      ]
     },
     "execution_count": 7,
     "metadata": {},
     "output_type": "execute_result"
    }
   ],
   "source": [
    "df = pd.read_csv(\"../data/df_after_EDA.csv\", index_col=0)\n",
    "df.head(3)"
   ]
  },
  {
   "cell_type": "markdown",
   "id": "ad927f99-6d79-4633-a58b-2ffc7dbffe42",
   "metadata": {},
   "source": [
    "## Liczność artykułów dla każdej organizacji"
   ]
  },
  {
   "cell_type": "code",
   "execution_count": 10,
   "id": "5fe941d5-0d24-4b71-be1b-1ec446d300fc",
   "metadata": {},
   "outputs": [],
   "source": [
    "import seaborn as sns"
   ]
  },
  {
   "cell_type": "code",
   "execution_count": 15,
   "id": "7ef1160f-9cbb-4e1a-8263-62a2050902a4",
   "metadata": {},
   "outputs": [
    {
     "data": {
      "image/png": "[encoded data removed]",
      "text/plain": [
       "<Figure size 432x288 with 1 Axes>"
      ]
     },
     "metadata": {
      "needs_background": "light"
     },
     "output_type": "display_data"
    }
   ],
   "source": [
    "ax=sns.countplot(y='organisation', data=df,\n",
    "              order=df.organisation.value_counts().iloc[:25].index,\n",
    "             color='purple')"
   ]
  },
  {
   "cell_type": "code",
   "execution_count": 39,
   "id": "b56205dc-a66a-4431-9208-34f0f8cebfd6",
   "metadata": {},
   "outputs": [
    {
     "data": {
      "text/plain": [
       "S&amp;D - Socialists &amp; Democrats in the European Parliament                  1658\n",
       "ACCA                                                                              657\n",
       "EPP Group in the European Parliament                                              530\n",
       "GUE/NGL Group in the EP                                                           451\n",
       "THE GREENS/EUROPEAN FREE ALLIANCE                                                 359\n",
       "ALDE - Alliance of Liberals and Democrats for Europe                              284\n",
       "IRU - International Road Transport Union                                          218\n",
       "PES - Party of European Socialists                                                212\n",
       "CEEP - European Centre of Employers and Enterprises providing public services     187\n",
       "ETNO - European Telecommunications Network Operators\\' Association                177\n",
       "CEN and CENELEC                                                                   144\n",
       "WindEurope                                                                        136\n",
       "EHFG - European Health Forum Gastein                                              127\n",
       "ECR Group - European Conservative and Reformist Group                             124\n",
       "EuropaBio                                                                         116\n",
       "CLEPA                                                                             102\n",
       "Medicines for Europe                                                              101\n",
       "FoodDrinkEurope                                                                    99\n",
       "EURACTIV                                                                           96\n",
       "VDMA - Mechanical Engineering Industry                                             95\n",
       "COGEN Europe                                                                       90\n",
       "Caritas Europa                                                                     89\n",
       "European Aluminium                                                                 84\n",
       "ANEC - The European Consumer Voice in Standardisation                              80\n",
       "Copa-Cogeca                                                                        78\n",
       "Name: organisation, dtype: int64"
      ]
     },
     "execution_count": 39,
     "metadata": {},
     "output_type": "execute_result"
    }
   ],
   "source": [
    "df.organisation.value_counts().iloc[:25] "
   ]
  },
  {
   "cell_type": "markdown",
   "id": "2cdc2fa9-6f90-4f1f-a49b-2d96dae47cca",
   "metadata": {},
   "source": [
    "Dokumenty pochodzą z okresu 15 lat. Dobrze świadczyłoby o organizacji, gdyby opublikowała choć 1 artykuł na rok. Sprawdźmy ile jest takich organizacji."
   ]
  },
  {
   "cell_type": "code",
   "execution_count": 33,
   "id": "8523aefc-2e7c-499b-a703-dbd13397e10e",
   "metadata": {},
   "outputs": [
    {
     "data": {
      "text/plain": [
       "114"
      ]
     },
     "execution_count": 33,
     "metadata": {},
     "output_type": "execute_result"
    }
   ],
   "source": [
    "len(df.organisation.value_counts()[df.organisation.value_counts()>15])"
   ]
  },
  {
   "cell_type": "markdown",
   "id": "531288cc-5df4-4641-99e9-a7b592ad54ba",
   "metadata": {},
   "source": [
    "Nadal za dużo. Postawmy poprzeczkę wyżej - 1 artykuł / miesiąc."
   ]
  },
  {
   "cell_type": "code",
   "execution_count": 41,
   "id": "98c8a107-075b-4bca-968d-15f175adaaee",
   "metadata": {},
   "outputs": [
    {
     "data": {
      "text/plain": [
       "9"
      ]
     },
     "execution_count": 41,
     "metadata": {},
     "output_type": "execute_result"
    }
   ],
   "source": [
    "len(df.organisation.value_counts()[df.organisation.value_counts()>15*12])"
   ]
  },
  {
   "cell_type": "markdown",
   "id": "13872299-4268-4e03-93b4-fc3f983fd1c3",
   "metadata": {},
   "source": [
    "Za mało. Za duże wymagania. W takim razie wybierzmy organizacje, które opublikowały co najmniej 100 artykułów w ciągu 15 lat."
   ]
  },
  {
   "cell_type": "code",
   "execution_count": 42,
   "id": "a6333893-8d33-40bd-85ae-8d36765dd629",
   "metadata": {},
   "outputs": [
    {
     "data": {
      "text/plain": [
       "17"
      ]
     },
     "execution_count": 42,
     "metadata": {},
     "output_type": "execute_result"
    }
   ],
   "source": [
    "len(df.organisation.value_counts()[df.organisation.value_counts()>100])"
   ]
  },
  {
   "cell_type": "markdown",
   "id": "8ac8b5ab-e017-44a6-b38e-266a057ebc7b",
   "metadata": {},
   "source": [
    "Cudnie. Może być."
   ]
  },
  {
   "cell_type": "code",
   "execution_count": 55,
   "id": "2e29f9e2-86da-4c32-b2b6-694226ae8272",
   "metadata": {},
   "outputs": [
    {
     "data": {
      "text/plain": [
       "array(['S&amp;D - Socialists &amp; Democrats in the European Parliament',\n",
       "       'ACCA', 'EPP Group in the European Parliament',\n",
       "       'GUE/NGL Group in the EP', 'THE GREENS/EUROPEAN FREE ALLIANCE',\n",
       "       'ALDE - Alliance of Liberals and Democrats for Europe',\n",
       "       'IRU - International Road Transport Union',\n",
       "       'PES - Party of European Socialists',\n",
       "       'CEEP - European Centre of Employers and Enterprises providing public services',\n",
       "       \"ETNO - European Telecommunications Network Operators\\\\' Association\",\n",
       "       'CEN and CENELEC', 'WindEurope',\n",
       "       'EHFG - European Health Forum Gastein',\n",
       "       'ECR Group - European Conservative and Reformist Group',\n",
       "       'EuropaBio', 'CLEPA', 'Medicines for Europe'], dtype=object)"
      ]
     },
     "execution_count": 55,
     "metadata": {},
     "output_type": "execute_result"
    }
   ],
   "source": [
    "agents_indexes = df.organisation.value_counts()[df.organisation.value_counts()>100].index\n",
    "np.array(agents_indexes)"
   ]
  },
  {
   "cell_type": "code",
   "execution_count": 56,
   "id": "3a391c04-9be8-4735-8b06-fdbcb3da752f",
   "metadata": {},
   "outputs": [
    {
     "data": {
      "text/html": [
       "<div>\n",
       "<style scoped>\n",
       "    .dataframe tbody tr th:only-of-type {\n",
       "        vertical-align: middle;\n",
       "    }\n",
       "\n",
       "    .dataframe tbody tr th {\n",
       "        vertical-align: top;\n",
       "    }\n",
       "\n",
       "    .dataframe thead th {\n",
       "        text-align: right;\n",
       "    }\n",
       "</style>\n",
       "<table border=\"1\" class=\"dataframe\">\n",
       "  <thead>\n",
       "    <tr style=\"text-align: right;\">\n",
       "      <th></th>\n",
       "      <th>title</th>\n",
       "      <th>text</th>\n",
       "      <th>organisation</th>\n",
       "      <th>date</th>\n",
       "      <th>category</th>\n",
       "      <th>year</th>\n",
       "      <th>month</th>\n",
       "    </tr>\n",
       "  </thead>\n",
       "  <tbody>\n",
       "    <tr>\n",
       "      <th>0</th>\n",
       "      <td>Interoperability of messaging services – a gam...</td>\n",
       "      <td>Interoperability of messaging services is one ...</td>\n",
       "      <td>S&amp;amp;D - Socialists &amp;amp; Democrats in the Eu...</td>\n",
       "      <td>2022-03-24 23:00:00+00:00</td>\n",
       "      <td>InfoSociety</td>\n",
       "      <td>2022</td>\n",
       "      <td>3</td>\n",
       "    </tr>\n",
       "    <tr>\n",
       "      <th>1</th>\n",
       "      <td>S&amp;Ds welcome the use of cohesion funds in EU r...</td>\n",
       "      <td>The Socialists and Democrats in the European P...</td>\n",
       "      <td>S&amp;amp;D - Socialists &amp;amp; Democrats in the Eu...</td>\n",
       "      <td>2022-03-24 23:00:00+00:00</td>\n",
       "      <td>Euro &amp; Finance</td>\n",
       "      <td>2022</td>\n",
       "      <td>3</td>\n",
       "    </tr>\n",
       "    <tr>\n",
       "      <th>2</th>\n",
       "      <td>Roaming calls within the EU remain cheap and i...</td>\n",
       "      <td>The European Parliament has adopted the new ru...</td>\n",
       "      <td>S&amp;amp;D - Socialists &amp;amp; Democrats in the Eu...</td>\n",
       "      <td>2022-03-24 23:00:00+00:00</td>\n",
       "      <td>InfoSociety</td>\n",
       "      <td>2022</td>\n",
       "      <td>3</td>\n",
       "    </tr>\n",
       "    <tr>\n",
       "      <th>3</th>\n",
       "      <td>S&amp;Ds welcome the Strategic Compass as a big st...</td>\n",
       "      <td>One month ago, Vladimir Putin gave Russian tro...</td>\n",
       "      <td>S&amp;amp;D - Socialists &amp;amp; Democrats in the Eu...</td>\n",
       "      <td>2022-03-24 23:00:00+00:00</td>\n",
       "      <td>Security</td>\n",
       "      <td>2022</td>\n",
       "      <td>3</td>\n",
       "    </tr>\n",
       "    <tr>\n",
       "      <th>4</th>\n",
       "      <td>S&amp;Ds: Russia’s war on Ukraine shows we need a ...</td>\n",
       "      <td>Following the criminal Russian invasion agains...</td>\n",
       "      <td>S&amp;amp;D - Socialists &amp;amp; Democrats in the Eu...</td>\n",
       "      <td>2022-03-23 23:00:00+00:00</td>\n",
       "      <td>Agriculture &amp; Food</td>\n",
       "      <td>2022</td>\n",
       "      <td>3</td>\n",
       "    </tr>\n",
       "    <tr>\n",
       "      <th>...</th>\n",
       "      <td>...</td>\n",
       "      <td>...</td>\n",
       "      <td>...</td>\n",
       "      <td>...</td>\n",
       "      <td>...</td>\n",
       "      <td>...</td>\n",
       "      <td>...</td>\n",
       "    </tr>\n",
       "    <tr>\n",
       "      <th>5578</th>\n",
       "      <td>Commission policy strategy out of touch with p...</td>\n",
       "      <td>Responding to the Commission's statement outli...</td>\n",
       "      <td>GUE/NGL Group in the EP</td>\n",
       "      <td>2008-03-13 09:07:50+00:00</td>\n",
       "      <td>EU Priorities 2020</td>\n",
       "      <td>2008</td>\n",
       "      <td>3</td>\n",
       "    </tr>\n",
       "    <tr>\n",
       "      <th>5579</th>\n",
       "      <td>New energy and climate package for Europe: The...</td>\n",
       "      <td>It proposes a stable and flexible EU framework...</td>\n",
       "      <td>WindEurope</td>\n",
       "      <td>2008-03-04 15:20:33+00:00</td>\n",
       "      <td>NaN</td>\n",
       "      <td>2008</td>\n",
       "      <td>3</td>\n",
       "    </tr>\n",
       "    <tr>\n",
       "      <th>5580</th>\n",
       "      <td>European Parliament’s Hearing on the “Laval ca...</td>\n",
       "      <td>At the exchange of views yesterday between MEP...</td>\n",
       "      <td>CEEP - European Centre of Employers and Enterp...</td>\n",
       "      <td>2008-02-29 09:21:34+00:00</td>\n",
       "      <td>Social Europe &amp; Jobs</td>\n",
       "      <td>2008</td>\n",
       "      <td>2</td>\n",
       "    </tr>\n",
       "    <tr>\n",
       "      <th>5581</th>\n",
       "      <td>CEEP wants the mission for flexicurity to have...</td>\n",
       "      <td>After the announcement of the setting up of a ...</td>\n",
       "      <td>CEEP - European Centre of Employers and Enterp...</td>\n",
       "      <td>2008-02-14 15:47:51+00:00</td>\n",
       "      <td>Social Europe &amp; Jobs</td>\n",
       "      <td>2008</td>\n",
       "      <td>2</td>\n",
       "    </tr>\n",
       "    <tr>\n",
       "      <th>5582</th>\n",
       "      <td>Mobility: the panacea for the EU labour market...</td>\n",
       "      <td>Brussels,  January : CEEP participated with th...</td>\n",
       "      <td>CEEP - European Centre of Employers and Enterp...</td>\n",
       "      <td>2008-01-22 09:29:24+00:00</td>\n",
       "      <td>Social Europe &amp; Jobs</td>\n",
       "      <td>2008</td>\n",
       "      <td>1</td>\n",
       "    </tr>\n",
       "  </tbody>\n",
       "</table>\n",
       "<p>5583 rows × 7 columns</p>\n",
       "</div>"
      ],
      "text/plain": [
       "                                                  title  \\\n",
       "0     Interoperability of messaging services – a gam...   \n",
       "1     S&Ds welcome the use of cohesion funds in EU r...   \n",
       "2     Roaming calls within the EU remain cheap and i...   \n",
       "3     S&Ds welcome the Strategic Compass as a big st...   \n",
       "4     S&Ds: Russia’s war on Ukraine shows we need a ...   \n",
       "...                                                 ...   \n",
       "5578  Commission policy strategy out of touch with p...   \n",
       "5579  New energy and climate package for Europe: The...   \n",
       "5580  European Parliament’s Hearing on the “Laval ca...   \n",
       "5581  CEEP wants the mission for flexicurity to have...   \n",
       "5582  Mobility: the panacea for the EU labour market...   \n",
       "\n",
       "                                                   text  \\\n",
       "0     Interoperability of messaging services is one ...   \n",
       "1     The Socialists and Democrats in the European P...   \n",
       "2     The European Parliament has adopted the new ru...   \n",
       "3     One month ago, Vladimir Putin gave Russian tro...   \n",
       "4     Following the criminal Russian invasion agains...   \n",
       "...                                                 ...   \n",
       "5578  Responding to the Commission's statement outli...   \n",
       "5579  It proposes a stable and flexible EU framework...   \n",
       "5580  At the exchange of views yesterday between MEP...   \n",
       "5581  After the announcement of the setting up of a ...   \n",
       "5582  Brussels,  January : CEEP participated with th...   \n",
       "\n",
       "                                           organisation  \\\n",
       "0     S&amp;D - Socialists &amp; Democrats in the Eu...   \n",
       "1     S&amp;D - Socialists &amp; Democrats in the Eu...   \n",
       "2     S&amp;D - Socialists &amp; Democrats in the Eu...   \n",
       "3     S&amp;D - Socialists &amp; Democrats in the Eu...   \n",
       "4     S&amp;D - Socialists &amp; Democrats in the Eu...   \n",
       "...                                                 ...   \n",
       "5578                            GUE/NGL Group in the EP   \n",
       "5579                                         WindEurope   \n",
       "5580  CEEP - European Centre of Employers and Enterp...   \n",
       "5581  CEEP - European Centre of Employers and Enterp...   \n",
       "5582  CEEP - European Centre of Employers and Enterp...   \n",
       "\n",
       "                           date              category  year  month  \n",
       "0     2022-03-24 23:00:00+00:00           InfoSociety  2022      3  \n",
       "1     2022-03-24 23:00:00+00:00        Euro & Finance  2022      3  \n",
       "2     2022-03-24 23:00:00+00:00           InfoSociety  2022      3  \n",
       "3     2022-03-24 23:00:00+00:00              Security  2022      3  \n",
       "4     2022-03-23 23:00:00+00:00    Agriculture & Food  2022      3  \n",
       "...                         ...                   ...   ...    ...  \n",
       "5578  2008-03-13 09:07:50+00:00    EU Priorities 2020  2008      3  \n",
       "5579  2008-03-04 15:20:33+00:00                   NaN  2008      3  \n",
       "5580  2008-02-29 09:21:34+00:00  Social Europe & Jobs  2008      2  \n",
       "5581  2008-02-14 15:47:51+00:00  Social Europe & Jobs  2008      2  \n",
       "5582  2008-01-22 09:29:24+00:00  Social Europe & Jobs  2008      1  \n",
       "\n",
       "[5583 rows x 7 columns]"
      ]
     },
     "execution_count": 56,
     "metadata": {},
     "output_type": "execute_result"
    }
   ],
   "source": [
    "df_reduced = df[df.organisation.isin(np.array(agents_indexes))]\n",
    "df_reduced.reset_index(inplace=True, drop=True)\n",
    "df_reduced"
   ]
  },
  {
   "cell_type": "code",
   "execution_count": 57,
   "id": "94353d41-2c93-45ed-aeec-fcc094b1f397",
   "metadata": {},
   "outputs": [
    {
     "data": {
      "image/png": "[encoded data removed]",
      "text/plain": [
       "<Figure size 432x288 with 1 Axes>"
      ]
     },
     "metadata": {
      "needs_background": "light"
     },
     "output_type": "display_data"
    }
   ],
   "source": [
    "ax=sns.countplot(y='organisation', data=df_reduced,\n",
    "              order=df_reduced.organisation.value_counts().index,\n",
    "             color='purple')"
   ]
  },
  {
   "cell_type": "markdown",
   "id": "aad13cc1-6674-4e9b-883e-c999f7c4e4ab",
   "metadata": {},
   "source": [
    "Jednak wolę wykorzystać mniejszą liczbę, tj. 9."
   ]
  },
  {
   "cell_type": "code",
   "execution_count": 58,
   "id": "945f3dd7-c0a6-4dc7-9380-25226e223e07",
   "metadata": {},
   "outputs": [
    {
     "data": {
      "text/plain": [
       "array(['S&amp;D - Socialists &amp; Democrats in the European Parliament',\n",
       "       'ACCA', 'EPP Group in the European Parliament',\n",
       "       'GUE/NGL Group in the EP', 'THE GREENS/EUROPEAN FREE ALLIANCE',\n",
       "       'ALDE - Alliance of Liberals and Democrats for Europe',\n",
       "       'IRU - International Road Transport Union',\n",
       "       'PES - Party of European Socialists',\n",
       "       'CEEP - European Centre of Employers and Enterprises providing public services'],\n",
       "      dtype=object)"
      ]
     },
     "execution_count": 58,
     "metadata": {},
     "output_type": "execute_result"
    }
   ],
   "source": [
    "agents_indexes = df.organisation.value_counts()[df.organisation.value_counts()>15*12].index\n",
    "np.array(agents_indexes)"
   ]
  },
  {
   "cell_type": "code",
   "execution_count": 59,
   "id": "697a9ed5-d20f-4ec1-9d20-d01d6fdfb240",
   "metadata": {},
   "outputs": [
    {
     "data": {
      "text/html": [
       "<div>\n",
       "<style scoped>\n",
       "    .dataframe tbody tr th:only-of-type {\n",
       "        vertical-align: middle;\n",
       "    }\n",
       "\n",
       "    .dataframe tbody tr th {\n",
       "        vertical-align: top;\n",
       "    }\n",
       "\n",
       "    .dataframe thead th {\n",
       "        text-align: right;\n",
       "    }\n",
       "</style>\n",
       "<table border=\"1\" class=\"dataframe\">\n",
       "  <thead>\n",
       "    <tr style=\"text-align: right;\">\n",
       "      <th></th>\n",
       "      <th>title</th>\n",
       "      <th>text</th>\n",
       "      <th>organisation</th>\n",
       "      <th>date</th>\n",
       "      <th>category</th>\n",
       "      <th>year</th>\n",
       "      <th>month</th>\n",
       "    </tr>\n",
       "  </thead>\n",
       "  <tbody>\n",
       "    <tr>\n",
       "      <th>0</th>\n",
       "      <td>Interoperability of messaging services – a gam...</td>\n",
       "      <td>Interoperability of messaging services is one ...</td>\n",
       "      <td>S&amp;amp;D - Socialists &amp;amp; Democrats in the Eu...</td>\n",
       "      <td>2022-03-24 23:00:00+00:00</td>\n",
       "      <td>InfoSociety</td>\n",
       "      <td>2022</td>\n",
       "      <td>3</td>\n",
       "    </tr>\n",
       "    <tr>\n",
       "      <th>1</th>\n",
       "      <td>S&amp;Ds welcome the use of cohesion funds in EU r...</td>\n",
       "      <td>The Socialists and Democrats in the European P...</td>\n",
       "      <td>S&amp;amp;D - Socialists &amp;amp; Democrats in the Eu...</td>\n",
       "      <td>2022-03-24 23:00:00+00:00</td>\n",
       "      <td>Euro &amp; Finance</td>\n",
       "      <td>2022</td>\n",
       "      <td>3</td>\n",
       "    </tr>\n",
       "    <tr>\n",
       "      <th>2</th>\n",
       "      <td>Roaming calls within the EU remain cheap and i...</td>\n",
       "      <td>The European Parliament has adopted the new ru...</td>\n",
       "      <td>S&amp;amp;D - Socialists &amp;amp; Democrats in the Eu...</td>\n",
       "      <td>2022-03-24 23:00:00+00:00</td>\n",
       "      <td>InfoSociety</td>\n",
       "      <td>2022</td>\n",
       "      <td>3</td>\n",
       "    </tr>\n",
       "    <tr>\n",
       "      <th>3</th>\n",
       "      <td>S&amp;Ds welcome the Strategic Compass as a big st...</td>\n",
       "      <td>One month ago, Vladimir Putin gave Russian tro...</td>\n",
       "      <td>S&amp;amp;D - Socialists &amp;amp; Democrats in the Eu...</td>\n",
       "      <td>2022-03-24 23:00:00+00:00</td>\n",
       "      <td>Security</td>\n",
       "      <td>2022</td>\n",
       "      <td>3</td>\n",
       "    </tr>\n",
       "    <tr>\n",
       "      <th>4</th>\n",
       "      <td>S&amp;Ds: Russia’s war on Ukraine shows we need a ...</td>\n",
       "      <td>Following the criminal Russian invasion agains...</td>\n",
       "      <td>S&amp;amp;D - Socialists &amp;amp; Democrats in the Eu...</td>\n",
       "      <td>2022-03-23 23:00:00+00:00</td>\n",
       "      <td>Agriculture &amp; Food</td>\n",
       "      <td>2022</td>\n",
       "      <td>3</td>\n",
       "    </tr>\n",
       "    <tr>\n",
       "      <th>...</th>\n",
       "      <td>...</td>\n",
       "      <td>...</td>\n",
       "      <td>...</td>\n",
       "      <td>...</td>\n",
       "      <td>...</td>\n",
       "      <td>...</td>\n",
       "      <td>...</td>\n",
       "    </tr>\n",
       "    <tr>\n",
       "      <th>4551</th>\n",
       "      <td>Unanimous support for report on organ donation</td>\n",
       "      <td>A report by GUE/NGL MEP Adamos Adamou (Cyprus)...</td>\n",
       "      <td>GUE/NGL Group in the EP</td>\n",
       "      <td>2008-03-28 14:37:11+00:00</td>\n",
       "      <td>Health &amp; Consumers</td>\n",
       "      <td>2008</td>\n",
       "      <td>3</td>\n",
       "    </tr>\n",
       "    <tr>\n",
       "      <th>4552</th>\n",
       "      <td>Commission policy strategy out of touch with p...</td>\n",
       "      <td>Responding to the Commission's statement outli...</td>\n",
       "      <td>GUE/NGL Group in the EP</td>\n",
       "      <td>2008-03-13 09:07:50+00:00</td>\n",
       "      <td>EU Priorities 2020</td>\n",
       "      <td>2008</td>\n",
       "      <td>3</td>\n",
       "    </tr>\n",
       "    <tr>\n",
       "      <th>4553</th>\n",
       "      <td>European Parliament’s Hearing on the “Laval ca...</td>\n",
       "      <td>At the exchange of views yesterday between MEP...</td>\n",
       "      <td>CEEP - European Centre of Employers and Enterp...</td>\n",
       "      <td>2008-02-29 09:21:34+00:00</td>\n",
       "      <td>Social Europe &amp; Jobs</td>\n",
       "      <td>2008</td>\n",
       "      <td>2</td>\n",
       "    </tr>\n",
       "    <tr>\n",
       "      <th>4554</th>\n",
       "      <td>CEEP wants the mission for flexicurity to have...</td>\n",
       "      <td>After the announcement of the setting up of a ...</td>\n",
       "      <td>CEEP - European Centre of Employers and Enterp...</td>\n",
       "      <td>2008-02-14 15:47:51+00:00</td>\n",
       "      <td>Social Europe &amp; Jobs</td>\n",
       "      <td>2008</td>\n",
       "      <td>2</td>\n",
       "    </tr>\n",
       "    <tr>\n",
       "      <th>4555</th>\n",
       "      <td>Mobility: the panacea for the EU labour market...</td>\n",
       "      <td>Brussels,  January : CEEP participated with th...</td>\n",
       "      <td>CEEP - European Centre of Employers and Enterp...</td>\n",
       "      <td>2008-01-22 09:29:24+00:00</td>\n",
       "      <td>Social Europe &amp; Jobs</td>\n",
       "      <td>2008</td>\n",
       "      <td>1</td>\n",
       "    </tr>\n",
       "  </tbody>\n",
       "</table>\n",
       "<p>4556 rows × 7 columns</p>\n",
       "</div>"
      ],
      "text/plain": [
       "                                                  title  \\\n",
       "0     Interoperability of messaging services – a gam...   \n",
       "1     S&Ds welcome the use of cohesion funds in EU r...   \n",
       "2     Roaming calls within the EU remain cheap and i...   \n",
       "3     S&Ds welcome the Strategic Compass as a big st...   \n",
       "4     S&Ds: Russia’s war on Ukraine shows we need a ...   \n",
       "...                                                 ...   \n",
       "4551     Unanimous support for report on organ donation   \n",
       "4552  Commission policy strategy out of touch with p...   \n",
       "4553  European Parliament’s Hearing on the “Laval ca...   \n",
       "4554  CEEP wants the mission for flexicurity to have...   \n",
       "4555  Mobility: the panacea for the EU labour market...   \n",
       "\n",
       "                                                   text  \\\n",
       "0     Interoperability of messaging services is one ...   \n",
       "1     The Socialists and Democrats in the European P...   \n",
       "2     The European Parliament has adopted the new ru...   \n",
       "3     One month ago, Vladimir Putin gave Russian tro...   \n",
       "4     Following the criminal Russian invasion agains...   \n",
       "...                                                 ...   \n",
       "4551  A report by GUE/NGL MEP Adamos Adamou (Cyprus)...   \n",
       "4552  Responding to the Commission's statement outli...   \n",
       "4553  At the exchange of views yesterday between MEP...   \n",
       "4554  After the announcement of the setting up of a ...   \n",
       "4555  Brussels,  January : CEEP participated with th...   \n",
       "\n",
       "                                           organisation  \\\n",
       "0     S&amp;D - Socialists &amp; Democrats in the Eu...   \n",
       "1     S&amp;D - Socialists &amp; Democrats in the Eu...   \n",
       "2     S&amp;D - Socialists &amp; Democrats in the Eu...   \n",
       "3     S&amp;D - Socialists &amp; Democrats in the Eu...   \n",
       "4     S&amp;D - Socialists &amp; Democrats in the Eu...   \n",
       "...                                                 ...   \n",
       "4551                            GUE/NGL Group in the EP   \n",
       "4552                            GUE/NGL Group in the EP   \n",
       "4553  CEEP - European Centre of Employers and Enterp...   \n",
       "4554  CEEP - European Centre of Employers and Enterp...   \n",
       "4555  CEEP - European Centre of Employers and Enterp...   \n",
       "\n",
       "                           date              category  year  month  \n",
       "0     2022-03-24 23:00:00+00:00           InfoSociety  2022      3  \n",
       "1     2022-03-24 23:00:00+00:00        Euro & Finance  2022      3  \n",
       "2     2022-03-24 23:00:00+00:00           InfoSociety  2022      3  \n",
       "3     2022-03-24 23:00:00+00:00              Security  2022      3  \n",
       "4     2022-03-23 23:00:00+00:00    Agriculture & Food  2022      3  \n",
       "...                         ...                   ...   ...    ...  \n",
       "4551  2008-03-28 14:37:11+00:00    Health & Consumers  2008      3  \n",
       "4552  2008-03-13 09:07:50+00:00    EU Priorities 2020  2008      3  \n",
       "4553  2008-02-29 09:21:34+00:00  Social Europe & Jobs  2008      2  \n",
       "4554  2008-02-14 15:47:51+00:00  Social Europe & Jobs  2008      2  \n",
       "4555  2008-01-22 09:29:24+00:00  Social Europe & Jobs  2008      1  \n",
       "\n",
       "[4556 rows x 7 columns]"
      ]
     },
     "execution_count": 59,
     "metadata": {},
     "output_type": "execute_result"
    }
   ],
   "source": [
    "df_reduced = df[df.organisation.isin(np.array(agents_indexes))]\n",
    "df_reduced.reset_index(inplace=True, drop=True)\n",
    "df_reduced"
   ]
  },
  {
   "cell_type": "code",
   "execution_count": 60,
   "id": "b77df0a7-0ad3-4f50-b9f9-6b55f1e34d85",
   "metadata": {},
   "outputs": [
    {
     "data": {
      "image/png": "[encoded data removed]",
      "text/plain": [
       "<Figure size 432x288 with 1 Axes>"
      ]
     },
     "metadata": {
      "needs_background": "light"
     },
     "output_type": "display_data"
    }
   ],
   "source": [
    "ax=sns.countplot(y='organisation', data=df_reduced,\n",
    "              order=df_reduced.organisation.value_counts().index,\n",
    "             color='purple')"
   ]
  },
  {
   "cell_type": "markdown",
   "id": "51365265-c737-48ee-8e4d-4eb07b02e8d2",
   "metadata": {},
   "source": [
    "## Zapisanie do pliku"
   ]
  },
  {
   "cell_type": "code",
   "execution_count": 63,
   "id": "290c05dd-645e-41b9-9d05-686157476fed",
   "metadata": {},
   "outputs": [],
   "source": [
    "df_reduced.to_csv('../data/df_after_EDA_with_agents_reduction.csv')"
   ]
  }
 ],
 "metadata": {
  "kernelspec": {
   "display_name": "koh_venv",
   "language": "python",
   "name": "koh_venv"
  },
  "language_info": {
   "codemirror_mode": {
    "name": "ipython",
    "version": 3
   },
   "file_extension": ".py",
   "mimetype": "text/x-python",
   "name": "python",
   "nbconvert_exporter": "python",
   "pygments_lexer": "ipython3",
   "version": "3.8.10"
  }
 },
 "nbformat": 4,
 "nbformat_minor": 5
}
